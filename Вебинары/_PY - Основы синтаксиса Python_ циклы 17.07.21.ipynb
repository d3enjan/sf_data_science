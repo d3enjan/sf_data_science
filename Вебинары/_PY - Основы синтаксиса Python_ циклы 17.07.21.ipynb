{
  "nbformat": 4,
  "nbformat_minor": 0,
  "metadata": {
    "colab": {
      "name": "sf_cycles_17_07_21.ipynb",
      "provenance": [],
      "collapsed_sections": []
    },
    "kernelspec": {
      "display_name": "Python 3",
      "language": "python",
      "name": "python3"
    },
    "language_info": {
      "codemirror_mode": {
        "name": "ipython",
        "version": 3
      },
      "file_extension": ".py",
      "mimetype": "text/x-python",
      "name": "python",
      "nbconvert_exporter": "python",
      "pygments_lexer": "ipython3",
      "version": "3.8.5"
    }
  },
  "cells": [
    {
      "cell_type": "markdown",
      "metadata": {
        "id": "E1ZR1FHYMsJh"
      },
      "source": [
        "# Циклы "
      ]
    },
    {
      "cell_type": "markdown",
      "metadata": {
        "id": "8ONOFUcIEeYK"
      },
      "source": [
        "Булыгин Олег  \n",
        "\n",
        "* [LinkedIn](linkedin.com/in/obulygin)  \n",
        "* [Telegram](https://t.me/obulygin91)  \n",
        "* [facebook](fb.com/obulygin91)  \n",
        "* [Vk](vk.com/obulygin91)  \n",
        "* email: obulygin91@ya.ru  \n",
        "\n",
        "[Сообщество по Python](https://yandex.ru/q/loves/python_dev/) на Кью  \n",
        "[Сообщество по Data Science и анализу данных](https://yandex.ru/q/loves/ds_da/) на Кью  "
      ]
    },
    {
      "cell_type": "markdown",
      "metadata": {
        "id": "Vw4ia5wCEeYL"
      },
      "source": [
        "## План\n",
        "- цикл while\n",
        "- цикл for  \n",
        "- операторы break и continue\n",
        "- функции range и enumerate\n",
        "- вложенные циклы "
      ]
    },
    {
      "cell_type": "markdown",
      "metadata": {
        "id": "WZzWmXOwEeYM"
      },
      "source": [
        "## Визуализатор кода"
      ]
    },
    {
      "cell_type": "markdown",
      "metadata": {
        "id": "JFI9RttgMsJr"
      },
      "source": [
        "http://pythontutor.com/visualize.html#mode=edit\n",
        "\n",
        "Данный инструмент может очень сильно помочь на начальном этапе изчения Python, когда вы пишите свои собственные программы, но ещё не понимаете как именно работает ваш код. Самые частые ошибки новичков – это непонимание границ выполнения ключевых этапов работы программы. Порой очень хороший код не будет работать из-за одной маленькой ошибки. "
      ]
    },
    {
      "cell_type": "markdown",
      "metadata": {
        "id": "gtvqs_lDEeYN"
      },
      "source": [
        "## Проблематика"
      ]
    },
    {
      "cell_type": "markdown",
      "metadata": {
        "id": "VihyvrwKMXCo"
      },
      "source": [
        "У нас есть 5 долларов. Мы идем в магазин и начинаем делать в нем покупки, по 1 доллар за каждый товар. Нам нужно как то записать в коде, что после каждой покупки у нас становится на 1 доллар меньше, и предупреждать нас об этом. "
      ]
    },
    {
      "cell_type": "code",
      "metadata": {
        "colab": {
          "base_uri": "https://localhost:8080/"
        },
        "id": "kOzqj5xOOKUn",
        "outputId": "2708878d-67ba-4cbc-a90d-f86891e9aa87"
      },
      "source": [
        "money = 5\n",
        "print(\"Денег осталось: \", money)\n",
        "money -= 1\n",
        "print(\"Денег осталось: \", money)\n",
        "money -= 1\n",
        "print(\"Денег осталось: \", money)\n",
        "money -= 1\n",
        "print(\"Денег осталось: \", money)\n",
        "money -= 1\n",
        "print(\"Денег осталось: \", money)\n",
        "money -= 1\n",
        "print(\"Денег осталось: \", money)"
      ],
      "execution_count": null,
      "outputs": [
        {
          "output_type": "stream",
          "text": [
            "Денег осталось:  5\n",
            "Денег осталось:  4\n",
            "Денег осталось:  3\n",
            "Денег осталось:  2\n",
            "Денег осталось:  1\n",
            "Денег осталось:  0\n"
          ],
          "name": "stdout"
        }
      ]
    },
    {
      "cell_type": "markdown",
      "metadata": {
        "id": "TO6qJiIUPdTy"
      },
      "source": [
        "Уже довольно неудобно, не находите? А что если бы у нас было не 5 долларов, а 50 или 50 тысяч? Тогда на помощь могут прийти циклы, которые позволяют организовать повторение выполнения участков кода. В Python существует два типа циклов: цикл **while** и цикл **for**.\n"
      ]
    },
    {
      "cell_type": "markdown",
      "metadata": {
        "id": "aG3CDp4cEeYP"
      },
      "source": [
        "## Цикл while"
      ]
    },
    {
      "cell_type": "markdown",
      "metadata": {
        "id": "gOerjvEAMsJp"
      },
      "source": [
        "Позволяет выполнить одну и ту же последовательность действий, пока проверяемое условие истинно. Как правило, цикл while используется, когда невозможно заранее определить точное значение количества проходов исполнения цикла.\n"
      ]
    },
    {
      "cell_type": "code",
      "metadata": {
        "id": "niZlbfI5MsJt",
        "scrolled": false,
        "colab": {
          "base_uri": "https://localhost:8080/"
        },
        "outputId": "bfd7cd1c-6004-416b-93eb-5db1b26b0035"
      },
      "source": [
        "money = 5 # создаем переменную money и присваиваем ей значение 5\n",
        "while money >= 0: # запускаем цикл (\"пока денег больше нуля\")\n",
        "    print('Денег осталось: ', money) # пишем тело цикла: код, который будет исполняться, пока условие истино\n",
        "    money -= 1 # уменьшаем на один переменную money\n",
        "    \n",
        "print('Денег больше нет') # печатаем сообщение (уже вне цикла)"
      ],
      "execution_count": null,
      "outputs": [
        {
          "output_type": "stream",
          "text": [
            "Денег осталось:  4\n",
            "Денег осталось:  3\n",
            "Денег осталось:  2\n",
            "Денег осталось:  1\n",
            "Денег осталось:  0\n",
            "Денег больше нет\n"
          ],
          "name": "stdout"
        }
      ]
    },
    {
      "cell_type": "markdown",
      "metadata": {
        "id": "pc1MUfRFEeYQ"
      },
      "source": [
        "Внутри цикла могут быть любые другие конструкции языка"
      ]
    },
    {
      "cell_type": "code",
      "metadata": {
        "colab": {
          "base_uri": "https://localhost:8080/"
        },
        "id": "pkcJr-eSEeYR",
        "outputId": "04a31c1b-afb0-4d67-aba8-41924d4b4916"
      },
      "source": [
        "x = 6\n",
        "while x != 0:\n",
        "    if x % 2 == 0:\n",
        "        print(x, '- четное число')\n",
        "    else:\n",
        "        print(x, '- нечетное число')\n",
        "    x -= 1"
      ],
      "execution_count": null,
      "outputs": [
        {
          "output_type": "stream",
          "text": [
            "6 - четное число\n",
            "5 - нечетное число\n",
            "4 - четное число\n",
            "3 - нечетное число\n",
            "2 - четное число\n",
            "1 - нечетное число\n"
          ],
          "name": "stdout"
        }
      ]
    },
    {
      "cell_type": "markdown",
      "metadata": {
        "id": "4qe61Hx5EeYR"
      },
      "source": [
        "А что будет, если мы сделаем так?"
      ]
    },
    {
      "cell_type": "code",
      "metadata": {
        "id": "NI56bvRXEeYR"
      },
      "source": [
        "# x = 7\n",
        "# while x != 0:\n",
        "#     if x % 2 == 0:\n",
        "#         print(x, '- четное число')\n",
        "#     else:\n",
        "#         print(x, '- нечетное число')"
      ],
      "execution_count": null,
      "outputs": []
    },
    {
      "cell_type": "code",
      "metadata": {
        "id": "UXIGIs_pprCX"
      },
      "source": [
        "while True:\n",
        "    ...\n",
        "    ..."
      ],
      "execution_count": null,
      "outputs": []
    },
    {
      "cell_type": "markdown",
      "metadata": {
        "id": "HMobHtPeEeYS"
      },
      "source": [
        "**Практика**. Напишите программу, которая будет запрашивать целые числа у пользователя до тех пор, пока не будет введен 0. После чего выводится сумма всех введеных ранее чисел"
      ]
    },
    {
      "cell_type": "code",
      "metadata": {
        "id": "sDAY0nM5EeYS",
        "colab": {
          "base_uri": "https://localhost:8080/"
        },
        "outputId": "522c3e52-96fc-4bfb-aae3-d18f9203e87b"
      },
      "source": [
        "summ = 0\n",
        "x = 1\n",
        "while x != 0:\n",
        "  x = int(input(\"Введите целое число: \"))\n",
        "  summ += x\n",
        "print(summ)"
      ],
      "execution_count": null,
      "outputs": [
        {
          "output_type": "stream",
          "text": [
            "Введите целое число: 5\n",
            "Введите целое число: 4\n",
            "Введите целое число: 6\n",
            "Введите целое число: 0\n",
            "15\n"
          ],
          "name": "stdout"
        }
      ]
    },
    {
      "cell_type": "code",
      "metadata": {
        "colab": {
          "base_uri": "https://localhost:8080/"
        },
        "id": "kbFRVFcArRBz",
        "outputId": "8bab1be2-81f2-47d2-a804-565c3d771063"
      },
      "source": [
        "x = int(input())\n",
        "sum = 0\n",
        "while x != 0:\n",
        "  sum += x\n",
        "  x = int(input())\n",
        "print(sum)"
      ],
      "execution_count": null,
      "outputs": [
        {
          "output_type": "stream",
          "text": [
            "6\n",
            "5\n",
            "4\n",
            "0\n",
            "15\n"
          ],
          "name": "stdout"
        }
      ]
    },
    {
      "cell_type": "code",
      "metadata": {
        "colab": {
          "base_uri": "https://localhost:8080/"
        },
        "id": "8wDUTk6JruDF",
        "outputId": "0696635f-6670-409a-9d2e-7e6284716196"
      },
      "source": [
        "array = []\n",
        "while True: \n",
        "    x = int(input('введите....'))\n",
        "    if x:\n",
        "      array.append(x)\n",
        "    else:\n",
        "      print(sum(array))\n",
        "      break\n"
      ],
      "execution_count": null,
      "outputs": [
        {
          "output_type": "stream",
          "text": [
            "введите....6\n",
            "введите....5\n",
            "введите....4\n",
            "введите....0\n",
            "15\n"
          ],
          "name": "stdout"
        }
      ]
    },
    {
      "cell_type": "markdown",
      "metadata": {
        "id": "mTox4sr2MsKs"
      },
      "source": [
        "## Цикл **for**\n",
        "\n",
        "Цикл for проходится по элементам любого итерируемого объекта (строки, списка и т.д.) и во время каждого прохода выполняет заданную последовательность действий."
      ]
    },
    {
      "cell_type": "code",
      "metadata": {
        "id": "kwPNp-WzEeYT",
        "colab": {
          "base_uri": "https://localhost:8080/"
        },
        "outputId": "126536b0-0f37-418b-845f-e59bd3cd1a51"
      },
      "source": [
        "# итерация по строкам\n",
        "company_name = 'SkillFactory'\n",
        "# мы сами задаем имя переменной в которую будут последовательно помещаться каждый элемент нашего объекта\n",
        "for letter in company_name: \n",
        "    letter = letter.upper()\n",
        "    print('*', letter, '*', sep='', end='')"
      ],
      "execution_count": null,
      "outputs": [
        {
          "output_type": "stream",
          "text": [
            "*S**K**I**L**L**F**A**C**T**O**R**Y*"
          ],
          "name": "stdout"
        }
      ]
    },
    {
      "cell_type": "markdown",
      "metadata": {
        "id": "7aMMFJfPEeYV"
      },
      "source": [
        "## Операторы break и continue\n",
        "break – прерывает исполнение цикла  \n",
        "continue – прерывает только текущую итерацию и сразу переходит к следующей  \n",
        "Работают и с **while**, и с **for**"
      ]
    },
    {
      "cell_type": "code",
      "metadata": {
        "id": "cZ6fnaCREeYW"
      },
      "source": [
        "phrase = '640Кб должно хватить для любых задач. Билл Гейтс (по легенде)'"
      ],
      "execution_count": null,
      "outputs": []
    },
    {
      "cell_type": "code",
      "metadata": {
        "id": "cN40gvIvEeYW",
        "colab": {
          "base_uri": "https://localhost:8080/"
        },
        "outputId": "7c5fdee2-8755-4261-cc0c-73e376d62eeb"
      },
      "source": [
        "for letter in phrase:\n",
        "    if letter == ' ':\n",
        "        break\n",
        "    print(letter, end='')"
      ],
      "execution_count": null,
      "outputs": [
        {
          "output_type": "stream",
          "text": [
            "640Кб"
          ],
          "name": "stdout"
        }
      ]
    },
    {
      "cell_type": "code",
      "metadata": {
        "id": "aZ2Qg_r7EeYW",
        "colab": {
          "base_uri": "https://localhost:8080/"
        },
        "outputId": "67ef87c0-6b42-4197-c32f-006c26d82c9a"
      },
      "source": [
        "for letter in phrase:\n",
        "    if letter == ' ':\n",
        "        continue\n",
        "    print(letter, end='')"
      ],
      "execution_count": null,
      "outputs": [
        {
          "output_type": "stream",
          "text": [
            "640Кбдолжнохватитьдлялюбыхзадач.БиллГейтс(полегенде)"
          ],
          "name": "stdout"
        }
      ]
    },
    {
      "cell_type": "code",
      "metadata": {
        "id": "a-IUc6vvEeYX",
        "colab": {
          "base_uri": "https://localhost:8080/"
        },
        "outputId": "06b47325-c087-4fbc-bb2b-d8b1148463da"
      },
      "source": [
        "while True:\n",
        "    user_input = input('Введите команду')\n",
        "    if user_input == 'do':\n",
        "        pass\n",
        "    elif user_input == 'do2':\n",
        "        ...\n",
        "    elif user_input == 'quit':\n",
        "        print('Выход из программы. До свидания!')\n",
        "        break"
      ],
      "execution_count": null,
      "outputs": [
        {
          "output_type": "stream",
          "text": [
            "Введите командуdo\n",
            "Введите командуquit\n",
            "Выход из программы. До свидания!\n"
          ],
          "name": "stdout"
        }
      ]
    },
    {
      "cell_type": "markdown",
      "metadata": {
        "id": "HF5S9wzCEeYX"
      },
      "source": [
        "## Игра \"Угадай число\""
      ]
    },
    {
      "cell_type": "code",
      "metadata": {
        "id": "S1azgiYQEeYX",
        "colab": {
          "base_uri": "https://localhost:8080/"
        },
        "outputId": "1d7a2aef-0c13-4fe0-eea5-43d2beac093c"
      },
      "source": [
        "import random\n",
        "\n",
        "number = random.randint(0, 100)\n",
        "print(number)\n",
        "max_tries = 4\n",
        "tries = 0\n",
        "\n",
        "while tries < max_tries:\n",
        "    guess = int(input('Назови свой вариант'))\n",
        "    if guess < number:\n",
        "        print('Загаданное число больше')\n",
        "    elif guess > number:\n",
        "        print('Загаданное число меньше')\n",
        "    else:\n",
        "        print('Ты угадал!')\n",
        "        break\n",
        "    tries += 1\n",
        "\n",
        "if tries >= max_tries:\n",
        "    print('Вы проиграли')"
      ],
      "execution_count": null,
      "outputs": [
        {
          "output_type": "stream",
          "text": [
            "100\n",
            "Назови свой вариант50\n",
            "Загаданное число больше\n",
            "Назови свой вариант75\n",
            "Загаданное число больше\n",
            "Назови свой вариант83\n",
            "Загаданное число больше\n",
            "Назови свой вариант100\n",
            "Ты угадал!\n"
          ],
          "name": "stdout"
        }
      ]
    },
    {
      "cell_type": "markdown",
      "metadata": {
        "id": "--QuaPXYEeYY"
      },
      "source": [
        "## Гипотеза Сиракуз"
      ]
    },
    {
      "cell_type": "markdown",
      "metadata": {
        "id": "rLyLP81sEeYY"
      },
      "source": [
        "Гипотеза Сиракуз гласит, что любое натуральное число сводится к единице при следующих действиях над ним: \n",
        "\n",
        "а) если число четное, то разделить его пополам, \n",
        "\n",
        "б) если число нечетное, то умножить его на 3, прибавить 1 и результат разделить на 2. \n",
        "\n",
        "Над вновь полученным числом вновь повторить действия a) или б) в зависимости от четности числа. Рано или поздно число станет равным 1.\n",
        "\n",
        "Напишем программу, проверяющую гипотезу Сиракуз. Пусть пользователь вводит любое натуральное число. Будем выполнять в цикле над ним вышеуказанные действия, пока оно не станет равным 1. Если гипотеза верна, то рано или поздно цикл закончится, а если нет - то произойдет зацикливание программы."
      ]
    },
    {
      "cell_type": "code",
      "metadata": {
        "id": "fNPueODdEeYY",
        "colab": {
          "base_uri": "https://localhost:8080/"
        },
        "outputId": "4b39b703-0c2b-42e4-c5ed-6ce3a613270f"
      },
      "source": [
        "n = int(input())\n",
        "counter = 0\n",
        "while n != 1:\n",
        "    counter += 1\n",
        "    if counter == 1000:\n",
        "        break\n",
        "    if n % 2 == 0:\n",
        "        n = n / 2\n",
        "    else:\n",
        "        n = (n * 3 + 1) / 2\n",
        "print(n, counter)"
      ],
      "execution_count": null,
      "outputs": [
        {
          "output_type": "stream",
          "text": [
            "97659508760860986098098760986\n",
            "1.0 301\n"
          ],
          "name": "stdout"
        }
      ]
    },
    {
      "cell_type": "markdown",
      "metadata": {
        "id": "sHhdgs0DEeYY"
      },
      "source": [
        "## Функция range"
      ]
    },
    {
      "cell_type": "markdown",
      "metadata": {
        "id": "zCZIEde1QeDD"
      },
      "source": [
        "range() позволяет генерировать ряд чисел в рамках заданного диапазона.\n",
        "В зависимости от того, как много аргументов вы передаете в функцию, вы можете решить, где этот ряд чисел начнется и закончится, а также сможете определить шаг последовательности."
      ]
    },
    {
      "cell_type": "markdown",
      "metadata": {
        "id": "lNvezEpOMsNV"
      },
      "source": [
        "Есть три способа вызова range():\n",
        "\n",
        "- range(стоп) берет один аргумент\n",
        "- range(старт, стоп) берет два аргумента\n",
        "- range(старт, стоп, шаг) берет три аргумента"
      ]
    },
    {
      "cell_type": "code",
      "metadata": {
        "id": "U-_X698REeYZ",
        "colab": {
          "base_uri": "https://localhost:8080/"
        },
        "outputId": "494d1bff-779d-4cdd-f68f-37e700669c30"
      },
      "source": [
        "range(10)"
      ],
      "execution_count": null,
      "outputs": [
        {
          "output_type": "execute_result",
          "data": {
            "text/plain": [
              "range(0, 10)"
            ]
          },
          "metadata": {
            "tags": []
          },
          "execution_count": 19
        }
      ]
    },
    {
      "cell_type": "code",
      "metadata": {
        "id": "Z96EkFKaEeYZ",
        "colab": {
          "base_uri": "https://localhost:8080/"
        },
        "outputId": "56d469a1-7c71-4579-ef7e-1af7d1cfe09e"
      },
      "source": [
        "for i in range(10):\n",
        "    print(i)"
      ],
      "execution_count": null,
      "outputs": [
        {
          "output_type": "stream",
          "text": [
            "0\n",
            "1\n",
            "2\n",
            "3\n",
            "4\n",
            "5\n",
            "6\n",
            "7\n",
            "8\n",
            "9\n"
          ],
          "name": "stdout"
        }
      ]
    },
    {
      "cell_type": "code",
      "metadata": {
        "id": "imfdGkRXEeYa",
        "colab": {
          "base_uri": "https://localhost:8080/"
        },
        "outputId": "644c446c-ea07-4dc6-e3e9-db44d8efa489"
      },
      "source": [
        "# с указанием левой и правой границы\n",
        "for i in range(3, 20):\n",
        "    print(i)"
      ],
      "execution_count": null,
      "outputs": [
        {
          "output_type": "stream",
          "text": [
            "3\n",
            "4\n",
            "5\n",
            "6\n",
            "7\n",
            "8\n",
            "9\n",
            "10\n",
            "11\n",
            "12\n",
            "13\n",
            "14\n",
            "15\n",
            "16\n",
            "17\n",
            "18\n",
            "19\n"
          ],
          "name": "stdout"
        }
      ]
    },
    {
      "cell_type": "code",
      "metadata": {
        "id": "Q5FJVw6iEeYa",
        "colab": {
          "base_uri": "https://localhost:8080/"
        },
        "outputId": "81ac97e5-e719-4fe5-e7d3-ba351ef7cd68"
      },
      "source": [
        "# третий аргумент - шаг\n",
        "for i in range(3, 20, 5):\n",
        "    print(i)"
      ],
      "execution_count": null,
      "outputs": [
        {
          "output_type": "stream",
          "text": [
            "3\n",
            "8\n",
            "13\n",
            "18\n"
          ],
          "name": "stdout"
        }
      ]
    },
    {
      "cell_type": "markdown",
      "metadata": {
        "id": "Bz8pKr5nEeYa"
      },
      "source": [
        "Напишем программу, котрая считает сумму квадратов n натуральных чисел. n запрашиваем у пользователя"
      ]
    },
    {
      "cell_type": "code",
      "metadata": {
        "id": "ln0fLulzEeYa",
        "colab": {
          "base_uri": "https://localhost:8080/"
        },
        "outputId": "73977830-8c4e-4ec1-ad1b-fe901a26dede"
      },
      "source": [
        "n = int(input('Введите число'))\n",
        "sum_ = 0\n",
        "for num in range(1, n + 1):\n",
        "    sum_ += num ** 2\n",
        "    print('Сумма на шаге', num, ':', sum_)\n",
        "print(sum_)"
      ],
      "execution_count": null,
      "outputs": [
        {
          "output_type": "stream",
          "text": [
            "Введите число78\n",
            "Сумма на шаге 1 : 1\n",
            "Сумма на шаге 2 : 5\n",
            "Сумма на шаге 3 : 14\n",
            "Сумма на шаге 4 : 30\n",
            "Сумма на шаге 5 : 55\n",
            "Сумма на шаге 6 : 91\n",
            "Сумма на шаге 7 : 140\n",
            "Сумма на шаге 8 : 204\n",
            "Сумма на шаге 9 : 285\n",
            "Сумма на шаге 10 : 385\n",
            "Сумма на шаге 11 : 506\n",
            "Сумма на шаге 12 : 650\n",
            "Сумма на шаге 13 : 819\n",
            "Сумма на шаге 14 : 1015\n",
            "Сумма на шаге 15 : 1240\n",
            "Сумма на шаге 16 : 1496\n",
            "Сумма на шаге 17 : 1785\n",
            "Сумма на шаге 18 : 2109\n",
            "Сумма на шаге 19 : 2470\n",
            "Сумма на шаге 20 : 2870\n",
            "Сумма на шаге 21 : 3311\n",
            "Сумма на шаге 22 : 3795\n",
            "Сумма на шаге 23 : 4324\n",
            "Сумма на шаге 24 : 4900\n",
            "Сумма на шаге 25 : 5525\n",
            "Сумма на шаге 26 : 6201\n",
            "Сумма на шаге 27 : 6930\n",
            "Сумма на шаге 28 : 7714\n",
            "Сумма на шаге 29 : 8555\n",
            "Сумма на шаге 30 : 9455\n",
            "Сумма на шаге 31 : 10416\n",
            "Сумма на шаге 32 : 11440\n",
            "Сумма на шаге 33 : 12529\n",
            "Сумма на шаге 34 : 13685\n",
            "Сумма на шаге 35 : 14910\n",
            "Сумма на шаге 36 : 16206\n",
            "Сумма на шаге 37 : 17575\n",
            "Сумма на шаге 38 : 19019\n",
            "Сумма на шаге 39 : 20540\n",
            "Сумма на шаге 40 : 22140\n",
            "Сумма на шаге 41 : 23821\n",
            "Сумма на шаге 42 : 25585\n",
            "Сумма на шаге 43 : 27434\n",
            "Сумма на шаге 44 : 29370\n",
            "Сумма на шаге 45 : 31395\n",
            "Сумма на шаге 46 : 33511\n",
            "Сумма на шаге 47 : 35720\n",
            "Сумма на шаге 48 : 38024\n",
            "Сумма на шаге 49 : 40425\n",
            "Сумма на шаге 50 : 42925\n",
            "Сумма на шаге 51 : 45526\n",
            "Сумма на шаге 52 : 48230\n",
            "Сумма на шаге 53 : 51039\n",
            "Сумма на шаге 54 : 53955\n",
            "Сумма на шаге 55 : 56980\n",
            "Сумма на шаге 56 : 60116\n",
            "Сумма на шаге 57 : 63365\n",
            "Сумма на шаге 58 : 66729\n",
            "Сумма на шаге 59 : 70210\n",
            "Сумма на шаге 60 : 73810\n",
            "Сумма на шаге 61 : 77531\n",
            "Сумма на шаге 62 : 81375\n",
            "Сумма на шаге 63 : 85344\n",
            "Сумма на шаге 64 : 89440\n",
            "Сумма на шаге 65 : 93665\n",
            "Сумма на шаге 66 : 98021\n",
            "Сумма на шаге 67 : 102510\n",
            "Сумма на шаге 68 : 107134\n",
            "Сумма на шаге 69 : 111895\n",
            "Сумма на шаге 70 : 116795\n",
            "Сумма на шаге 71 : 121836\n",
            "Сумма на шаге 72 : 127020\n",
            "Сумма на шаге 73 : 132349\n",
            "Сумма на шаге 74 : 137825\n",
            "Сумма на шаге 75 : 143450\n",
            "Сумма на шаге 76 : 149226\n",
            "Сумма на шаге 77 : 155155\n",
            "Сумма на шаге 78 : 161239\n",
            "161239\n"
          ],
          "name": "stdout"
        }
      ]
    },
    {
      "cell_type": "markdown",
      "metadata": {
        "id": "iJAkazM1EeYb"
      },
      "source": [
        "**Практика**. Напишите программу, которая рассчитаем факториал числа n. n запрашиваем у пользователя"
      ]
    },
    {
      "cell_type": "code",
      "metadata": {
        "id": "ye-ou4hnEeYb",
        "colab": {
          "base_uri": "https://localhost:8080/"
        },
        "outputId": "440ffb02-a963-43e0-b9f1-a2acb8216855"
      },
      "source": [
        "n = int(input('Введите число: '))\n",
        "faktorial = 1\n",
        "for n in range(1, n + 1):\n",
        "    faktorial *= n\n",
        "print('Факториал', n, ':', faktorial)"
      ],
      "execution_count": null,
      "outputs": [
        {
          "output_type": "stream",
          "text": [
            "Введите число: 5\n",
            "Факториал 5 : 120\n"
          ],
          "name": "stdout"
        }
      ]
    },
    {
      "cell_type": "code",
      "metadata": {
        "colab": {
          "base_uri": "https://localhost:8080/"
        },
        "id": "08HMADM0xgUe",
        "outputId": "4d4675b0-e2b9-494b-ef06-d09acb10ca44"
      },
      "source": [
        "n = int(input('Введите число'))\n",
        "fact_ = 1\n",
        "for num in range(1, n + 1):\n",
        "    fact_ = fact_ * num \n",
        "print('факториал числа ', n, ' = ', fact_)\n"
      ],
      "execution_count": null,
      "outputs": [
        {
          "output_type": "stream",
          "text": [
            "Введите число5\n",
            "факториал числа  5  =  120\n"
          ],
          "name": "stdout"
        }
      ]
    },
    {
      "cell_type": "code",
      "metadata": {
        "colab": {
          "base_uri": "https://localhost:8080/"
        },
        "id": "x7mrEVPPxwT5",
        "outputId": "e9819c3d-773c-40ab-e705-d57f990c3d66"
      },
      "source": [
        "n = int(input('Введите число'))\n",
        "for number in range(1, n):\n",
        "    n *= number\n",
        "print(n)"
      ],
      "execution_count": null,
      "outputs": [
        {
          "output_type": "stream",
          "text": [
            "Введите число5\n",
            "120\n"
          ],
          "name": "stdout"
        }
      ]
    },
    {
      "cell_type": "markdown",
      "metadata": {
        "id": "QNfWgqNZEeYb"
      },
      "source": [
        "Напишем программу для проверки логина и пароля\n",
        "\n",
        "1) логин и пароль пользователя хранится в переменной\n",
        "\n",
        "2) будем давать пользователю k попыток на ввод логина и пароля\n",
        "\n",
        "3) если после трех попыток вверного ввода не было, то заблокируем вход - вывести на экран сообщение \"Вход заблокирован\"\n",
        "\n",
        "4) если пароль и логин были введены верно, то вывести на экран сообщение \"Добро пожаловать!\""
      ]
    },
    {
      "cell_type": "code",
      "metadata": {
        "id": "WPYGThD8EeYb",
        "colab": {
          "base_uri": "https://localhost:8080/",
          "height": 531
        },
        "outputId": "d42668b0-41fa-4272-f8d0-4bcb4d2bbe29"
      },
      "source": [
        "login_correct = 'admin'\n",
        "pswd_correct = 'admin'\n",
        "k = 3\n",
        "for i in range(0, k):\n",
        "    login = input('Ввелите логин')\n",
        "    pswd = input('Введите пароль')\n",
        "    if login != login_correct or pswd != pswd_correct:\n",
        "        k -= 1\n",
        "        print(f'Осталось {k} попытки')\n",
        "    else:\n",
        "        print('Добро пожаловать!')\n",
        "        break\n",
        "if k == 0:\n",
        "    print('Вход заблокирован')"
      ],
      "execution_count": null,
      "outputs": [
        {
          "output_type": "error",
          "ename": "KeyboardInterrupt",
          "evalue": "ignored",
          "traceback": [
            "\u001b[0;31m---------------------------------------------------------------------------\u001b[0m",
            "\u001b[0;31mKeyboardInterrupt\u001b[0m                         Traceback (most recent call last)",
            "\u001b[0;32m/usr/local/lib/python3.7/dist-packages/ipykernel/kernelbase.py\u001b[0m in \u001b[0;36m_input_request\u001b[0;34m(self, prompt, ident, parent, password)\u001b[0m\n\u001b[1;32m    728\u001b[0m             \u001b[0;32mtry\u001b[0m\u001b[0;34m:\u001b[0m\u001b[0;34m\u001b[0m\u001b[0;34m\u001b[0m\u001b[0m\n\u001b[0;32m--> 729\u001b[0;31m                 \u001b[0mident\u001b[0m\u001b[0;34m,\u001b[0m \u001b[0mreply\u001b[0m \u001b[0;34m=\u001b[0m \u001b[0mself\u001b[0m\u001b[0;34m.\u001b[0m\u001b[0msession\u001b[0m\u001b[0;34m.\u001b[0m\u001b[0mrecv\u001b[0m\u001b[0;34m(\u001b[0m\u001b[0mself\u001b[0m\u001b[0;34m.\u001b[0m\u001b[0mstdin_socket\u001b[0m\u001b[0;34m,\u001b[0m \u001b[0;36m0\u001b[0m\u001b[0;34m)\u001b[0m\u001b[0;34m\u001b[0m\u001b[0;34m\u001b[0m\u001b[0m\n\u001b[0m\u001b[1;32m    730\u001b[0m             \u001b[0;32mexcept\u001b[0m \u001b[0mException\u001b[0m\u001b[0;34m:\u001b[0m\u001b[0;34m\u001b[0m\u001b[0;34m\u001b[0m\u001b[0m\n",
            "\u001b[0;32m/usr/local/lib/python3.7/dist-packages/jupyter_client/session.py\u001b[0m in \u001b[0;36mrecv\u001b[0;34m(self, socket, mode, content, copy)\u001b[0m\n\u001b[1;32m    802\u001b[0m         \u001b[0;32mtry\u001b[0m\u001b[0;34m:\u001b[0m\u001b[0;34m\u001b[0m\u001b[0;34m\u001b[0m\u001b[0m\n\u001b[0;32m--> 803\u001b[0;31m             \u001b[0mmsg_list\u001b[0m \u001b[0;34m=\u001b[0m \u001b[0msocket\u001b[0m\u001b[0;34m.\u001b[0m\u001b[0mrecv_multipart\u001b[0m\u001b[0;34m(\u001b[0m\u001b[0mmode\u001b[0m\u001b[0;34m,\u001b[0m \u001b[0mcopy\u001b[0m\u001b[0;34m=\u001b[0m\u001b[0mcopy\u001b[0m\u001b[0;34m)\u001b[0m\u001b[0;34m\u001b[0m\u001b[0;34m\u001b[0m\u001b[0m\n\u001b[0m\u001b[1;32m    804\u001b[0m         \u001b[0;32mexcept\u001b[0m \u001b[0mzmq\u001b[0m\u001b[0;34m.\u001b[0m\u001b[0mZMQError\u001b[0m \u001b[0;32mas\u001b[0m \u001b[0me\u001b[0m\u001b[0;34m:\u001b[0m\u001b[0;34m\u001b[0m\u001b[0;34m\u001b[0m\u001b[0m\n",
            "\u001b[0;32m/usr/local/lib/python3.7/dist-packages/zmq/sugar/socket.py\u001b[0m in \u001b[0;36mrecv_multipart\u001b[0;34m(self, flags, copy, track)\u001b[0m\n\u001b[1;32m    582\u001b[0m         \"\"\"\n\u001b[0;32m--> 583\u001b[0;31m         \u001b[0mparts\u001b[0m \u001b[0;34m=\u001b[0m \u001b[0;34m[\u001b[0m\u001b[0mself\u001b[0m\u001b[0;34m.\u001b[0m\u001b[0mrecv\u001b[0m\u001b[0;34m(\u001b[0m\u001b[0mflags\u001b[0m\u001b[0;34m,\u001b[0m \u001b[0mcopy\u001b[0m\u001b[0;34m=\u001b[0m\u001b[0mcopy\u001b[0m\u001b[0;34m,\u001b[0m \u001b[0mtrack\u001b[0m\u001b[0;34m=\u001b[0m\u001b[0mtrack\u001b[0m\u001b[0;34m)\u001b[0m\u001b[0;34m]\u001b[0m\u001b[0;34m\u001b[0m\u001b[0;34m\u001b[0m\u001b[0m\n\u001b[0m\u001b[1;32m    584\u001b[0m         \u001b[0;31m# have first part already, only loop while more to receive\u001b[0m\u001b[0;34m\u001b[0m\u001b[0;34m\u001b[0m\u001b[0;34m\u001b[0m\u001b[0m\n",
            "\u001b[0;32mzmq/backend/cython/socket.pyx\u001b[0m in \u001b[0;36mzmq.backend.cython.socket.Socket.recv\u001b[0;34m()\u001b[0m\n",
            "\u001b[0;32mzmq/backend/cython/socket.pyx\u001b[0m in \u001b[0;36mzmq.backend.cython.socket.Socket.recv\u001b[0;34m()\u001b[0m\n",
            "\u001b[0;32mzmq/backend/cython/socket.pyx\u001b[0m in \u001b[0;36mzmq.backend.cython.socket._recv_copy\u001b[0;34m()\u001b[0m\n",
            "\u001b[0;32m/usr/local/lib/python3.7/dist-packages/zmq/backend/cython/checkrc.pxd\u001b[0m in \u001b[0;36mzmq.backend.cython.checkrc._check_rc\u001b[0;34m()\u001b[0m\n",
            "\u001b[0;31mKeyboardInterrupt\u001b[0m: ",
            "\nDuring handling of the above exception, another exception occurred:\n",
            "\u001b[0;31mKeyboardInterrupt\u001b[0m                         Traceback (most recent call last)",
            "\u001b[0;32m<ipython-input-30-caa97e84ece6>\u001b[0m in \u001b[0;36m<module>\u001b[0;34m()\u001b[0m\n\u001b[1;32m      3\u001b[0m \u001b[0mk\u001b[0m \u001b[0;34m=\u001b[0m \u001b[0;36m3\u001b[0m\u001b[0;34m\u001b[0m\u001b[0;34m\u001b[0m\u001b[0m\n\u001b[1;32m      4\u001b[0m \u001b[0;32mfor\u001b[0m \u001b[0mi\u001b[0m \u001b[0;32min\u001b[0m \u001b[0mrange\u001b[0m\u001b[0;34m(\u001b[0m\u001b[0;36m0\u001b[0m\u001b[0;34m,\u001b[0m \u001b[0mk\u001b[0m\u001b[0;34m)\u001b[0m\u001b[0;34m:\u001b[0m\u001b[0;34m\u001b[0m\u001b[0;34m\u001b[0m\u001b[0m\n\u001b[0;32m----> 5\u001b[0;31m     \u001b[0mlogin\u001b[0m \u001b[0;34m=\u001b[0m \u001b[0minput\u001b[0m\u001b[0;34m(\u001b[0m\u001b[0;34m'Ввелите логин'\u001b[0m\u001b[0;34m)\u001b[0m\u001b[0;34m\u001b[0m\u001b[0;34m\u001b[0m\u001b[0m\n\u001b[0m\u001b[1;32m      6\u001b[0m     \u001b[0mpswd\u001b[0m \u001b[0;34m=\u001b[0m \u001b[0minput\u001b[0m\u001b[0;34m(\u001b[0m\u001b[0;34m'Введите пароль'\u001b[0m\u001b[0;34m)\u001b[0m\u001b[0;34m\u001b[0m\u001b[0;34m\u001b[0m\u001b[0m\n\u001b[1;32m      7\u001b[0m     \u001b[0;32mif\u001b[0m \u001b[0mlogin\u001b[0m \u001b[0;34m!=\u001b[0m \u001b[0mlogin_correct\u001b[0m \u001b[0;32mor\u001b[0m \u001b[0mpswd\u001b[0m \u001b[0;34m!=\u001b[0m \u001b[0mpswd_correct\u001b[0m\u001b[0;34m:\u001b[0m\u001b[0;34m\u001b[0m\u001b[0;34m\u001b[0m\u001b[0m\n",
            "\u001b[0;32m/usr/local/lib/python3.7/dist-packages/ipykernel/kernelbase.py\u001b[0m in \u001b[0;36mraw_input\u001b[0;34m(self, prompt)\u001b[0m\n\u001b[1;32m    702\u001b[0m             \u001b[0mself\u001b[0m\u001b[0;34m.\u001b[0m\u001b[0m_parent_ident\u001b[0m\u001b[0;34m,\u001b[0m\u001b[0;34m\u001b[0m\u001b[0;34m\u001b[0m\u001b[0m\n\u001b[1;32m    703\u001b[0m             \u001b[0mself\u001b[0m\u001b[0;34m.\u001b[0m\u001b[0m_parent_header\u001b[0m\u001b[0;34m,\u001b[0m\u001b[0;34m\u001b[0m\u001b[0;34m\u001b[0m\u001b[0m\n\u001b[0;32m--> 704\u001b[0;31m             \u001b[0mpassword\u001b[0m\u001b[0;34m=\u001b[0m\u001b[0;32mFalse\u001b[0m\u001b[0;34m,\u001b[0m\u001b[0;34m\u001b[0m\u001b[0;34m\u001b[0m\u001b[0m\n\u001b[0m\u001b[1;32m    705\u001b[0m         )\n\u001b[1;32m    706\u001b[0m \u001b[0;34m\u001b[0m\u001b[0m\n",
            "\u001b[0;32m/usr/local/lib/python3.7/dist-packages/ipykernel/kernelbase.py\u001b[0m in \u001b[0;36m_input_request\u001b[0;34m(self, prompt, ident, parent, password)\u001b[0m\n\u001b[1;32m    732\u001b[0m             \u001b[0;32mexcept\u001b[0m \u001b[0mKeyboardInterrupt\u001b[0m\u001b[0;34m:\u001b[0m\u001b[0;34m\u001b[0m\u001b[0;34m\u001b[0m\u001b[0m\n\u001b[1;32m    733\u001b[0m                 \u001b[0;31m# re-raise KeyboardInterrupt, to truncate traceback\u001b[0m\u001b[0;34m\u001b[0m\u001b[0;34m\u001b[0m\u001b[0;34m\u001b[0m\u001b[0m\n\u001b[0;32m--> 734\u001b[0;31m                 \u001b[0;32mraise\u001b[0m \u001b[0mKeyboardInterrupt\u001b[0m\u001b[0;34m\u001b[0m\u001b[0;34m\u001b[0m\u001b[0m\n\u001b[0m\u001b[1;32m    735\u001b[0m             \u001b[0;32melse\u001b[0m\u001b[0;34m:\u001b[0m\u001b[0;34m\u001b[0m\u001b[0;34m\u001b[0m\u001b[0m\n\u001b[1;32m    736\u001b[0m                 \u001b[0;32mbreak\u001b[0m\u001b[0;34m\u001b[0m\u001b[0;34m\u001b[0m\u001b[0m\n",
            "\u001b[0;31mKeyboardInterrupt\u001b[0m: "
          ]
        }
      ]
    },
    {
      "cell_type": "markdown",
      "metadata": {
        "id": "nRL8nM6hEeYc"
      },
      "source": [
        "## Функция enumerate"
      ]
    },
    {
      "cell_type": "markdown",
      "metadata": {
        "id": "QMuWrheREeYc"
      },
      "source": [
        "enumerate позволяет получать индекс каждого элемента в объекте"
      ]
    },
    {
      "cell_type": "code",
      "metadata": {
        "id": "iZl9-joHEeYc",
        "colab": {
          "base_uri": "https://localhost:8080/"
        },
        "outputId": "d608efdc-040d-4337-a940-865e3fe32045"
      },
      "source": [
        "enumerate('1,2,3,4,5')"
      ],
      "execution_count": null,
      "outputs": [
        {
          "output_type": "execute_result",
          "data": {
            "text/plain": [
              "<enumerate at 0x7fa4e88ebd70>"
            ]
          },
          "metadata": {
            "tags": []
          },
          "execution_count": 31
        }
      ]
    },
    {
      "cell_type": "code",
      "metadata": {
        "id": "G18OpLgqEeYc",
        "colab": {
          "base_uri": "https://localhost:8080/"
        },
        "outputId": "89e937da-d8f7-4eb8-8868-c1ac0ad0614d"
      },
      "source": [
        "for i, el in enumerate('1,2,3,4,5'):  # в цикле можем сразу перебирать индексы и сами элементы\n",
        "    print(i, el)"
      ],
      "execution_count": null,
      "outputs": [
        {
          "output_type": "stream",
          "text": [
            "0 1\n",
            "1 ,\n",
            "2 2\n",
            "3 ,\n",
            "4 3\n",
            "5 ,\n",
            "6 4\n",
            "7 ,\n",
            "8 5\n"
          ],
          "name": "stdout"
        }
      ]
    },
    {
      "cell_type": "code",
      "metadata": {
        "colab": {
          "base_uri": "https://localhost:8080/"
        },
        "id": "8J99ptof0EEw",
        "outputId": "541400ab-fe5a-4952-d783-7bbd95f2e5f7"
      },
      "source": [
        "# list(enumerate('1,2,3,4,5'))"
      ],
      "execution_count": null,
      "outputs": [
        {
          "output_type": "execute_result",
          "data": {
            "text/plain": [
              "[(0, '1'),\n",
              " (1, ','),\n",
              " (2, '2'),\n",
              " (3, ','),\n",
              " (4, '3'),\n",
              " (5, ','),\n",
              " (6, '4'),\n",
              " (7, ','),\n",
              " (8, '5')]"
            ]
          },
          "metadata": {
            "tags": []
          },
          "execution_count": 34
        }
      ]
    },
    {
      "cell_type": "code",
      "metadata": {
        "colab": {
          "base_uri": "https://localhost:8080/",
          "height": 233
        },
        "id": "oHj1Mrp_0WCj",
        "outputId": "8a6221ca-4204-4a31-8061-2db1fa56d357"
      },
      "source": [
        "my_list = [[1, 2, 3], [4, 5, 6], [7, 8, 9]]\n",
        "for n_1, n_2, n_3 in my_list:\n",
        "    print(n_1, n_2, n_3)"
      ],
      "execution_count": null,
      "outputs": [
        {
          "output_type": "stream",
          "text": [
            "1 2 3\n",
            "4 5 6\n"
          ],
          "name": "stdout"
        },
        {
          "output_type": "error",
          "ename": "ValueError",
          "evalue": "ignored",
          "traceback": [
            "\u001b[0;31m---------------------------------------------------------------------------\u001b[0m",
            "\u001b[0;31mValueError\u001b[0m                                Traceback (most recent call last)",
            "\u001b[0;32m<ipython-input-42-f31a9af2fdc2>\u001b[0m in \u001b[0;36m<module>\u001b[0;34m()\u001b[0m\n\u001b[1;32m      1\u001b[0m \u001b[0mmy_list\u001b[0m \u001b[0;34m=\u001b[0m \u001b[0;34m[\u001b[0m\u001b[0;34m[\u001b[0m\u001b[0;36m1\u001b[0m\u001b[0;34m,\u001b[0m \u001b[0;36m2\u001b[0m\u001b[0;34m,\u001b[0m \u001b[0;36m3\u001b[0m\u001b[0;34m]\u001b[0m\u001b[0;34m,\u001b[0m \u001b[0;34m[\u001b[0m\u001b[0;36m4\u001b[0m\u001b[0;34m,\u001b[0m \u001b[0;36m5\u001b[0m\u001b[0;34m,\u001b[0m \u001b[0;36m6\u001b[0m\u001b[0;34m]\u001b[0m\u001b[0;34m,\u001b[0m \u001b[0;34m[\u001b[0m\u001b[0;36m7\u001b[0m\u001b[0;34m,\u001b[0m \u001b[0;36m8\u001b[0m\u001b[0;34m]\u001b[0m\u001b[0;34m]\u001b[0m\u001b[0;34m\u001b[0m\u001b[0;34m\u001b[0m\u001b[0m\n\u001b[0;32m----> 2\u001b[0;31m \u001b[0;32mfor\u001b[0m \u001b[0mn_1\u001b[0m\u001b[0;34m,\u001b[0m \u001b[0mn_2\u001b[0m\u001b[0;34m,\u001b[0m \u001b[0mn_3\u001b[0m \u001b[0;32min\u001b[0m \u001b[0mmy_list\u001b[0m\u001b[0;34m:\u001b[0m\u001b[0;34m\u001b[0m\u001b[0;34m\u001b[0m\u001b[0m\n\u001b[0m\u001b[1;32m      3\u001b[0m     \u001b[0mprint\u001b[0m\u001b[0;34m(\u001b[0m\u001b[0mn_1\u001b[0m\u001b[0;34m,\u001b[0m \u001b[0mn_2\u001b[0m\u001b[0;34m,\u001b[0m \u001b[0mn_3\u001b[0m\u001b[0;34m)\u001b[0m\u001b[0;34m\u001b[0m\u001b[0;34m\u001b[0m\u001b[0m\n",
            "\u001b[0;31mValueError\u001b[0m: not enough values to unpack (expected 3, got 2)"
          ]
        }
      ]
    },
    {
      "cell_type": "code",
      "metadata": {
        "id": "fjmqpJKxEeYc",
        "colab": {
          "base_uri": "https://localhost:8080/"
        },
        "outputId": "4a6485ce-5195-4f17-86bd-9a32e778cbca"
      },
      "source": [
        "company_name = 'SkillFactory'\n",
        "for i, letter in enumerate(company_name):  \n",
        "    print(f'Позиция символа \"{letter}\" - {i}')"
      ],
      "execution_count": null,
      "outputs": [
        {
          "output_type": "stream",
          "text": [
            "Позиция символа \"S\" - 0\n",
            "Позиция символа \"k\" - 1\n",
            "Позиция символа \"i\" - 2\n",
            "Позиция символа \"l\" - 3\n",
            "Позиция символа \"l\" - 4\n",
            "Позиция символа \"F\" - 5\n",
            "Позиция символа \"a\" - 6\n",
            "Позиция символа \"c\" - 7\n",
            "Позиция символа \"t\" - 8\n",
            "Позиция символа \"o\" - 9\n",
            "Позиция символа \"r\" - 10\n",
            "Позиция символа \"y\" - 11\n"
          ],
          "name": "stdout"
        }
      ]
    },
    {
      "cell_type": "markdown",
      "metadata": {
        "id": "UBfqWckSEeYd"
      },
      "source": [
        "## Вложенные циклы\n",
        "\n",
        "Вас не должно смущать, что циклы могут находится внутри других циклов. Все элементы языка можно комбинировать друг с другом, как захотим"
      ]
    },
    {
      "cell_type": "code",
      "metadata": {
        "id": "fhsRQJetEeYd",
        "colab": {
          "base_uri": "https://localhost:8080/"
        },
        "outputId": "214669cb-df5b-4c28-e842-dd5d218224cf"
      },
      "source": [
        "# Изучаем синтаксис и пытаемся понять логику работы цикла\n",
        "for number in range(1, 6):\n",
        "    print(f'Это внешний цикл, number = {number}')\n",
        "    for i in range(3):\n",
        "        print('\\t Ха-ха-ха!')\n",
        "    print()"
      ],
      "execution_count": null,
      "outputs": [
        {
          "output_type": "stream",
          "text": [
            "Это внешний цикл, number = 1\n",
            "\t Ха-ха-ха!\n",
            "\t Ха-ха-ха!\n",
            "\t Ха-ха-ха!\n",
            "\n",
            "Это внешний цикл, number = 2\n",
            "\t Ха-ха-ха!\n",
            "\t Ха-ха-ха!\n",
            "\t Ха-ха-ха!\n",
            "\n",
            "Это внешний цикл, number = 3\n",
            "\t Ха-ха-ха!\n",
            "\t Ха-ха-ха!\n",
            "\t Ха-ха-ха!\n",
            "\n",
            "Это внешний цикл, number = 4\n",
            "\t Ха-ха-ха!\n",
            "\t Ха-ха-ха!\n",
            "\t Ха-ха-ха!\n",
            "\n",
            "Это внешний цикл, number = 5\n",
            "\t Ха-ха-ха!\n",
            "\t Ха-ха-ха!\n",
            "\t Ха-ха-ха!\n",
            "\n"
          ],
          "name": "stdout"
        }
      ]
    },
    {
      "cell_type": "markdown",
      "metadata": {
        "id": "okpjD-qSEeYd"
      },
      "source": [
        "Нарисуем представленный шаблон\n",
        "\n",
        "1                                                                                                             \n",
        "22                                                                                                            \n",
        "333                                                                                                           \n",
        "4444                                                                                                          \n",
        "55555                                                                                                         \n",
        "666666                                                                                                        \n",
        "7777777                                                                                                       \n",
        "88888888                                                                                                      \n",
        "999999999  "
      ]
    },
    {
      "cell_type": "code",
      "metadata": {
        "id": "OsRjZFi0EeYe",
        "colab": {
          "base_uri": "https://localhost:8080/"
        },
        "outputId": "b2be8a0c-54b7-4c96-a488-10e625d064b2"
      },
      "source": [
        "# с вложенным циклом\n",
        "\n",
        "for i in range(1, 10):  \n",
        "    for j in range(i):\n",
        "        print(i, end='')\n",
        "    print()"
      ],
      "execution_count": null,
      "outputs": [
        {
          "output_type": "stream",
          "text": [
            "1\n",
            "22\n",
            "333\n",
            "4444\n",
            "55555\n",
            "666666\n",
            "7777777\n",
            "88888888\n",
            "999999999\n"
          ],
          "name": "stdout"
        }
      ]
    },
    {
      "cell_type": "code",
      "metadata": {
        "id": "COh99bfcEeYf",
        "colab": {
          "base_uri": "https://localhost:8080/"
        },
        "outputId": "c17ef9aa-2995-43e6-e818-a5b22352664e"
      },
      "source": [
        "# можно и без вложенного цикла\n",
        "for i in range(1, 10):  \n",
        "    print(str(i) * i)"
      ],
      "execution_count": null,
      "outputs": [
        {
          "output_type": "stream",
          "text": [
            "1\n",
            "22\n",
            "333\n",
            "4444\n",
            "55555\n",
            "666666\n",
            "7777777\n",
            "88888888\n",
            "999999999\n"
          ],
          "name": "stdout"
        }
      ]
    },
    {
      "cell_type": "markdown",
      "metadata": {
        "id": "ceNE2LFpEeYf"
      },
      "source": [
        "**Практика**. Напишем программу, которая выведет на экран таблицу умножения (Таблица Пифагора)"
      ]
    },
    {
      "cell_type": "code",
      "metadata": {
        "scrolled": true,
        "id": "7U4WCKDFEeYf",
        "colab": {
          "base_uri": "https://localhost:8080/"
        },
        "outputId": "7d0e3880-3b2c-475c-afef-7d731615097c"
      },
      "source": [
        "for i in range(1, 10):  \n",
        "    for j in range(1, 10):\n",
        "        print(i * j, end='\\t')\n",
        "    print()"
      ],
      "execution_count": null,
      "outputs": [
        {
          "output_type": "stream",
          "text": [
            "1\t2\t3\t4\t5\t6\t7\t8\t9\t\n",
            "2\t4\t6\t8\t10\t12\t14\t16\t18\t\n",
            "3\t6\t9\t12\t15\t18\t21\t24\t27\t\n",
            "4\t8\t12\t16\t20\t24\t28\t32\t36\t\n",
            "5\t10\t15\t20\t25\t30\t35\t40\t45\t\n",
            "6\t12\t18\t24\t30\t36\t42\t48\t54\t\n",
            "7\t14\t21\t28\t35\t42\t49\t56\t63\t\n",
            "8\t16\t24\t32\t40\t48\t56\t64\t72\t\n",
            "9\t18\t27\t36\t45\t54\t63\t72\t81\t\n"
          ],
          "name": "stdout"
        }
      ]
    },
    {
      "cell_type": "code",
      "metadata": {
        "colab": {
          "base_uri": "https://localhost:8080/"
        },
        "id": "JctRpNGn2YGk",
        "outputId": "f6e2b3be-1666-4aa7-f1f2-76daf6ce85b3"
      },
      "source": [
        "for i in range(1, 10):  \n",
        "    for j in range(1, 10):\n",
        "        print(i*j, end='\\t')\n",
        "    print()\n"
      ],
      "execution_count": null,
      "outputs": [
        {
          "output_type": "stream",
          "text": [
            "1\t2\t3\t4\t5\t6\t7\t8\t9\t\n",
            "2\t4\t6\t8\t10\t12\t14\t16\t18\t\n",
            "3\t6\t9\t12\t15\t18\t21\t24\t27\t\n",
            "4\t8\t12\t16\t20\t24\t28\t32\t36\t\n",
            "5\t10\t15\t20\t25\t30\t35\t40\t45\t\n",
            "6\t12\t18\t24\t30\t36\t42\t48\t54\t\n",
            "7\t14\t21\t28\t35\t42\t49\t56\t63\t\n",
            "8\t16\t24\t32\t40\t48\t56\t64\t72\t\n",
            "9\t18\t27\t36\t45\t54\t63\t72\t81\t\n"
          ],
          "name": "stdout"
        }
      ]
    },
    {
      "cell_type": "markdown",
      "metadata": {
        "id": "JsmoNJ7VEeYf"
      },
      "source": [
        "Аналогично циклы вы активно будете применять ко всем более сложным структурам данным, с которыми познакомитесь далее"
      ]
    },
    {
      "cell_type": "code",
      "metadata": {
        "colab": {
          "base_uri": "https://localhost:8080/"
        },
        "id": "gra2kW0u3RrZ",
        "outputId": "96d1fc52-c751-4066-ed68-fbecad9b7b41"
      },
      "source": [
        "import this"
      ],
      "execution_count": null,
      "outputs": [
        {
          "output_type": "stream",
          "text": [
            "The Zen of Python, by Tim Peters\n",
            "\n",
            "Beautiful is better than ugly.\n",
            "Explicit is better than implicit.\n",
            "Simple is better than complex.\n",
            "Complex is better than complicated.\n",
            "Flat is better than nested.\n",
            "Sparse is better than dense.\n",
            "Readability counts.\n",
            "Special cases aren't special enough to break the rules.\n",
            "Although practicality beats purity.\n",
            "Errors should never pass silently.\n",
            "Unless explicitly silenced.\n",
            "In the face of ambiguity, refuse the temptation to guess.\n",
            "There should be one-- and preferably only one --obvious way to do it.\n",
            "Although that way may not be obvious at first unless you're Dutch.\n",
            "Now is better than never.\n",
            "Although never is often better than *right* now.\n",
            "If the implementation is hard to explain, it's a bad idea.\n",
            "If the implementation is easy to explain, it may be a good idea.\n",
            "Namespaces are one honking great idea -- let's do more of those!\n"
          ],
          "name": "stdout"
        }
      ]
    },
    {
      "cell_type": "code",
      "metadata": {
        "id": "xEOgS43U4MA0"
      },
      "source": [
        ""
      ],
      "execution_count": null,
      "outputs": []
    },
    {
      "cell_type": "markdown",
      "metadata": {
        "id": "28As4JUxWkVm"
      },
      "source": [
        "### Спасибо за внимание буду рад ответить на ваши вопросы!\n",
        "Ссылка на форму ОС:\n",
        "https://forms.gle/y8xaFwJqtbFSjUeG8"
      ]
    },
    {
      "cell_type": "code",
      "metadata": {
        "id": "cRgDuQT-EeYg"
      },
      "source": [
        ""
      ],
      "execution_count": null,
      "outputs": []
    }
  ]
}