{
  "nbformat": 4,
  "nbformat_minor": 0,
  "metadata": {
    "colab": {
      "name": "sf_functions_12_03_22.ipynb",
      "provenance": [],
      "collapsed_sections": []
    },
    "kernelspec": {
      "display_name": "Python 3",
      "language": "python",
      "name": "python3"
    },
    "language_info": {
      "codemirror_mode": {
        "name": "ipython",
        "version": 3
      },
      "file_extension": ".py",
      "mimetype": "text/x-python",
      "name": "python",
      "nbconvert_exporter": "python",
      "pygments_lexer": "ipython3",
      "version": "3.8.5"
    }
  },
  "cells": [
    {
      "cell_type": "markdown",
      "metadata": {
        "id": "djL0UFMoIgyt"
      },
      "source": [
        "# Функции\n",
        "\n",
        "Булыгин Олег  \n",
        "\n",
        "* [LinkedIn](linkedin.com/in/obulygin)  \n",
        "* [Telegram](https://t.me/obulygin91)  \n",
        "* [facebook](fb.com/obulygin91)  \n",
        "* [Vk](vk.com/obulygin91)  \n",
        "* email: obulygin91@ya.ru  \n",
        "\n",
        "[Сообщество по Python](https://yandex.ru/q/loves/pythontalk/) на Кью  \n",
        "[Сообщество по Data Science и анализу данных](https://yandex.ru/q/loves/datatalk/) на Кью  \n"
      ]
    },
    {
      "cell_type": "markdown",
      "metadata": {
        "id": "-uLwA64gd7PQ"
      },
      "source": [
        "## План\n",
        "- основы;  \n",
        "- return;  \n",
        "- области видимости; \n",
        "- параметры функций; \n",
        "- составной пример;\n",
        "- lambda, map, filter;\n",
        "- цикл, рекурсия, reduce.\n",
        "\n"
      ]
    },
    {
      "cell_type": "markdown",
      "metadata": {
        "id": "pc8i9xaId7PQ"
      },
      "source": [
        "Функции – это обособленный участок кода, который можно вызывать, обратившись к нему по имени, которым он был назван (подпрограмма).\n",
        "Это объект, принимающий аргументы и возвращающий значение."
      ]
    },
    {
      "cell_type": "markdown",
      "metadata": {
        "id": "P04F-7Ntd7PR"
      },
      "source": [
        "Функции помогают избежать дублирования кода, улучшить его структурированность и читаемость."
      ]
    },
    {
      "cell_type": "markdown",
      "metadata": {
        "id": "veWjkUwNIgzL"
      },
      "source": [
        "### Объявление функции\n",
        "\n",
        "Существуют некоторые правила для создания функций в Python:\n",
        "\n",
        "+ Блок функции начинается с ключевого слова def, после которого следуют название функции и круглые скобки ()\n",
        "\n",
        "+ Любые аргументы, которые принимает функция должны находиться внутри этих скобок.\n",
        "\n",
        "+ После скобок идет двоеточие ( : ) и с новой строки с отступом начинается тело функции.\n"
      ]
    },
    {
      "cell_type": "code",
      "metadata": {
        "id": "RWlt-EMpIgzN",
        "colab": {
          "base_uri": "https://localhost:8080/"
        },
        "outputId": "5f40f06d-fcf7-48ac-8ae1-7d31fb71ccfd"
      },
      "source": [
        "def my_function():\n",
        "    print('Эта наша первая функция')\n",
        "    \n",
        "    \n",
        "my_function()"
      ],
      "execution_count": null,
      "outputs": [
        {
          "output_type": "stream",
          "name": "stdout",
          "text": [
            "Эта наша первая функция\n"
          ]
        }
      ]
    },
    {
      "cell_type": "markdown",
      "metadata": {
        "id": "ahaklUj0Nw3u"
      },
      "source": [
        "Когда запустится строка 'Это наша первая функция'?"
      ]
    },
    {
      "cell_type": "code",
      "metadata": {
        "id": "Gtr_IAjRNmPs",
        "colab": {
          "base_uri": "https://localhost:8080/"
        },
        "outputId": "36d8f501-c6c2-4866-b2b1-e65158fbad30"
      },
      "source": [
        "print('Раз')\n",
        "\n",
        "def your_function():\n",
        "    print('Это наша первая функция')\n",
        "\n",
        "\n",
        "print('Два')\n",
        "your_function()"
      ],
      "execution_count": null,
      "outputs": [
        {
          "output_type": "stream",
          "name": "stdout",
          "text": [
            "Раз\n",
            "Два\n",
            "Это наша первая функция\n"
          ]
        }
      ]
    },
    {
      "cell_type": "markdown",
      "metadata": {
        "id": "9UmnsAJTN5be"
      },
      "source": [
        "Есть **объявление** и **вызов** функции. Это разные процессы"
      ]
    },
    {
      "cell_type": "markdown",
      "metadata": {
        "id": "yQlxKfmHIgz6"
      },
      "source": [
        "### Функции придают программе структуру"
      ]
    },
    {
      "cell_type": "markdown",
      "metadata": {
        "id": "1FTFp8paIgz-"
      },
      "source": [
        "Польза функций не только в возможности многократного вызова одного и того же кода из разных мест программы. Не менее важно, что благодаря им программа обретает четкую структуру. Функции как бы разделяют ее на обособленные части, каждая из которых выполняет свою конкретную задачу.\n",
        "\n",
        "Пусть надо написать программу, вычисляющую площади разных фигур. Пользователь указывает, площадь какой фигуры он хочет вычислить. После этого вводит исходные данные. Например, длину и ширину в случае прямоугольника. Чтобы разделить поток выполнения на несколько ветвей, следует использовать оператор if-elif-else:"
      ]
    },
    {
      "cell_type": "code",
      "metadata": {
        "id": "dKIiW8aSIg0A",
        "colab": {
          "base_uri": "https://localhost:8080/"
        },
        "outputId": "4a550482-42ca-4e28-a1d0-ca17bdf4c816"
      },
      "source": [
        "figure = input('1-прямоугольник, 2-треугольник, 3-круг: ')\n",
        " \n",
        "if figure == '1':\n",
        "    a = float(input('Ширина: '))\n",
        "    b = float(input('Высота: '))\n",
        "    print(f'Площадь: {a*b}')\n",
        "elif figure == '2':\n",
        "    a = float(input('Основание: '))\n",
        "    h = float(input('Высота: '))\n",
        "    print(f'Площадь: {0.5 * a * h}')\n",
        "elif figure == '3':\n",
        "    r = float(input('Радиус: '))\n",
        "    print(f'Площадь: {3.14 * r**2}')\n",
        "else:\n",
        "    print('Ошибка ввода')"
      ],
      "execution_count": null,
      "outputs": [
        {
          "output_type": "stream",
          "name": "stdout",
          "text": [
            "1-прямоугольник, 2-треугольник, 3-круг: 3\n",
            "Радиус: 2\n",
            "Площадь: 12.56\n"
          ]
        }
      ]
    },
    {
      "cell_type": "code",
      "metadata": {
        "id": "X4eLEHn6Ig0G",
        "colab": {
          "base_uri": "https://localhost:8080/"
        },
        "outputId": "7e257d40-4c87-4c84-8279-ed17dce0f30b"
      },
      "source": [
        "def rectangle():\n",
        "    a = float(input('Ширина: '))\n",
        "    b = float(input('Высота: '))\n",
        "    print(f'Площадь: {a*b}')\n",
        "    \n",
        "def triangle():\n",
        "    a = float(input('Основание: '))\n",
        "    h = float(input('Высота: '))\n",
        "    print(f'Площадь: {0.5 * a * h}')\n",
        "\n",
        "def circle():\n",
        "    r = float(input('Радиус: '))\n",
        "    print(f'Площадь: {3.14 * r**2}')\n",
        "    \n",
        "def main():\n",
        "    figure = input('1-прямоугольник, 2-треугольник, 3-круг: ')\n",
        "    if figure == '1':\n",
        "        rectangle()\n",
        "    elif figure == '2':\n",
        "        triangle()\n",
        "    elif figure == '3':\n",
        "        circle()\n",
        "    else:\n",
        "        print('Ошибка ввода')\n",
        "        \n",
        "main()"
      ],
      "execution_count": null,
      "outputs": [
        {
          "output_type": "stream",
          "name": "stdout",
          "text": [
            "1-прямоугольник, 2-треугольник, 3-круг: 1\n",
            "Ширина: 123\n",
            "Высота: 1\n",
            "Площадь: 123.0\n"
          ]
        }
      ]
    },
    {
      "cell_type": "markdown",
      "metadata": {
        "id": "v4Xh1dEWIg0e"
      },
      "source": [
        "Из общей логики программы как бы убраны и обособлены инструкции для нахождения площадей. Программа теперь состоит из отдельных 'кирпичиков Лего'. В основной ветке мы можем комбинировать их как угодно. Она играет роль управляющего механизма.\n",
        "\n",
        "Если нам когда-нибудь захочется вычислять площадь треугольника по формуле Герона, а не через высоту, то не придется искать код во всей программе (представьте, что она состоит из тысяч строк кода как реальные программы). Мы пойдем к месту определения функций и изменим тело одной из них.\n",
        "\n",
        "Если понадобиться использовать эти функции в какой-нибудь другой программе, то мы сможем импортировать их туда, сославшись на данный файл с кодом."
      ]
    },
    {
      "cell_type": "markdown",
      "metadata": {
        "id": "4oBO1B9jIgzh"
      },
      "source": [
        "### Ключевое слово return\n",
        "\n",
        "* Выражение return прекращает выполнение функции и возвращает указанное после выражения значение. \n",
        "\n",
        "* Выражение return без аргументов это то же самое, что и выражение return None. \n",
        "\n",
        "* То, что функция возвращает можно присваивать какой-либо переменной."
      ]
    },
    {
      "cell_type": "code",
      "source": [
        "result = print('dfdf')\n",
        "print(result)"
      ],
      "metadata": {
        "colab": {
          "base_uri": "https://localhost:8080/"
        },
        "id": "pjCzVgJD1zC7",
        "outputId": "29d43587-9595-4475-8427-6dcd59388936"
      },
      "execution_count": null,
      "outputs": [
        {
          "output_type": "stream",
          "name": "stdout",
          "text": [
            "dfdf\n",
            "None\n"
          ]
        }
      ]
    },
    {
      "cell_type": "code",
      "metadata": {
        "id": "n_ohL5N9ONTL",
        "colab": {
          "base_uri": "https://localhost:8080/"
        },
        "outputId": "c2914517-f849-4104-90da-df349ab98f6b"
      },
      "source": [
        "def square():\n",
        "    user_input = int(input('Введите число'))\n",
        "    result = user_input ** 2\n",
        "    return result\n",
        "\n",
        "res = square()\n",
        "print(res) \n",
        "# когда вызываем функцию внутри print на экран выводится то, что она возвращает. В jupyter можно и без print\n",
        "print(square())"
      ],
      "execution_count": null,
      "outputs": [
        {
          "output_type": "stream",
          "name": "stdout",
          "text": [
            "Введите число5\n",
            "25\n",
            "Введите число4\n",
            "16\n"
          ]
        }
      ]
    },
    {
      "cell_type": "code",
      "metadata": {
        "id": "9TE7U_m8d7PW",
        "colab": {
          "base_uri": "https://localhost:8080/"
        },
        "outputId": "d609b409-1d69-4e41-a6b7-1bb542f97d35"
      },
      "source": [
        "# как думаете, что получим сейчас?\n",
        "def square():\n",
        "    user_input = int(input('Введите число'))\n",
        "    result = user_input ** 2\n",
        "    print(result)\n",
        "    \n",
        "print(square())"
      ],
      "execution_count": null,
      "outputs": [
        {
          "output_type": "stream",
          "name": "stdout",
          "text": [
            "Введите число5\n",
            "25\n",
            "None\n"
          ]
        }
      ]
    },
    {
      "cell_type": "markdown",
      "metadata": {
        "id": "9aIvBMyoIn8H"
      },
      "source": [
        "#### Практика. Напишите функцию, которая определяет является ли слово палиндромом"
      ]
    },
    {
      "cell_type": "code",
      "metadata": {
        "id": "_Pox8hcbd7PW",
        "colab": {
          "base_uri": "https://localhost:8080/"
        },
        "outputId": "b3835c8a-ef0a-4b2e-b376-9109c3abb938"
      },
      "source": [
        "def is_palindrom(): \n",
        "    string = input('Введите слово: ').lower()\n",
        "    return string == string[::-1]\n",
        "\n",
        "is_palindrom()"
      ],
      "execution_count": null,
      "outputs": [
        {
          "name": "stdout",
          "output_type": "stream",
          "text": [
            "Введите слово: Радар\n"
          ]
        },
        {
          "output_type": "execute_result",
          "data": {
            "text/plain": [
              "True"
            ]
          },
          "metadata": {},
          "execution_count": 9
        }
      ]
    },
    {
      "cell_type": "code",
      "metadata": {
        "id": "c7zqOO7nd7PX"
      },
      "source": [
        ""
      ],
      "execution_count": null,
      "outputs": []
    },
    {
      "cell_type": "markdown",
      "metadata": {
        "id": "fPPXAGPHIg1Y"
      },
      "source": [
        "### Области видимости\n",
        "\n",
        "Область видимости (scope) определяет контекст объекта, в рамках которого его можно использовать.\n",
        "\n",
        "Рассмотрим 2 типа области видимости:\n",
        "\n",
        "* Локальная область видимости\n",
        "* Глобальная область видимости\n",
        "\n",
        "Глобальная область видимости подразумевает, что переменная является глобальной, она определена вне любой из функций и доступна любой функции в программе.\n",
        "\n",
        "В отличие от глобальных переменных локальная переменная определяется внутри функции и доступна только из этой функции, то есть имеет локальную область видимости."
      ]
    },
    {
      "cell_type": "code",
      "metadata": {
        "id": "JoUGUs04Ig1a",
        "colab": {
          "base_uri": "https://localhost:8080/"
        },
        "outputId": "e871551b-aa17-461a-b454-eb2582ffb566"
      },
      "source": [
        "# глобальные переменные\n",
        "salary = 1000\n",
        "bonus = 600\n",
        "\n",
        "def info():\n",
        "    print(salary + bonus) \n",
        "\n",
        "def info_2():\n",
        "    bonus = 50\n",
        "    print(salary + bonus) \n",
        "\n",
        "def local_info():\n",
        "    salary = 500 \n",
        "    # global bonus\n",
        "    bonus = 200\n",
        "    some_number = 1\n",
        "    print(salary + bonus)\n",
        "    \n",
        "\n",
        "# info()\n",
        "# info_2()\n",
        "# print(bonus)\n",
        "# local_info()\n",
        "# print(bonus)\n",
        "\n",
        "# print(salary)\n",
        "# print(bonus)\n",
        "# print(some_number)"
      ],
      "execution_count": null,
      "outputs": [
        {
          "output_type": "stream",
          "name": "stdout",
          "text": [
            "600\n",
            "700\n",
            "200\n"
          ]
        }
      ]
    },
    {
      "cell_type": "markdown",
      "metadata": {
        "id": "aBdoesrjd7Pb"
      },
      "source": [
        "### Параметры функции"
      ]
    },
    {
      "cell_type": "markdown",
      "metadata": {
        "id": "BhY7_uxqd7Pb"
      },
      "source": [
        "Функция может принимать более 1 параметра (а может не принимать параметры вообще).\n",
        "\n",
        "Для всех параметров функций можно указывать значения по-умолчанию, это дает возможность вызвать функцию с меньшим числом параметров.\n",
        "\n"
      ]
    },
    {
      "cell_type": "markdown",
      "metadata": {
        "id": "G6_adbf2O_hF"
      },
      "source": [
        "Переменные в скобках – это параметры функции, которые мы указываем при объявлении функции. Когда мы её вызываем мы передаем в вызов аргументы. В нашем случае это будут числа. "
      ]
    },
    {
      "cell_type": "code",
      "metadata": {
        "id": "EHK_kqH3Igzj",
        "colab": {
          "base_uri": "https://localhost:8080/"
        },
        "outputId": "222323da-ee2b-462d-c845-900b45b3f276"
      },
      "source": [
        "def bigger(a, b):\n",
        "    '''Эта функция сравнивает числа и выдает большее'''\n",
        "    if a > b:\n",
        "        return a\n",
        "    return b \n",
        " \n",
        "# присваиваем результат функции bigger переменной num\n",
        "num = bigger(26, 24)\n",
        "print(num)"
      ],
      "execution_count": null,
      "outputs": [
        {
          "output_type": "stream",
          "name": "stdout",
          "text": [
            "26\n"
          ]
        }
      ]
    },
    {
      "cell_type": "code",
      "metadata": {
        "id": "g-mCORRUd7Pc",
        "colab": {
          "base_uri": "https://localhost:8080/"
        },
        "outputId": "fcf578ab-eb27-4f05-d428-c012f864c9dc"
      },
      "source": [
        "# функция с параметром по умолчанию\n",
        "# они всегда должны следовать параметрам без значения по умолчанию\n",
        "def power(number, number_2=2):\n",
        "    result = number ** number_2\n",
        "    return result\n",
        "print(power(10))"
      ],
      "execution_count": null,
      "outputs": [
        {
          "output_type": "stream",
          "name": "stdout",
          "text": [
            "100\n"
          ]
        }
      ]
    },
    {
      "cell_type": "markdown",
      "metadata": {
        "id": "Eoxt12iBd7Pc"
      },
      "source": [
        "Если при создании функции мы указали количество передаваемых ей аргументов и их порядок, \n",
        "то и вызывать ее мы должны с тем же количеством аргументов, заданных в нужном порядке. \n",
        "\n",
        "Если при вызове мы будем явно указывать имена аргументов, то их можно передавать в любом порядке"
      ]
    },
    {
      "cell_type": "code",
      "metadata": {
        "id": "glTwlsqed7Pc",
        "colab": {
          "base_uri": "https://localhost:8080/",
          "height": 169
        },
        "outputId": "d3393f09-f0a1-475b-db22-f1ec45e8f22f"
      },
      "source": [
        "print(power(2, 3, 1))"
      ],
      "execution_count": null,
      "outputs": [
        {
          "output_type": "error",
          "ename": "TypeError",
          "evalue": "ignored",
          "traceback": [
            "\u001b[0;31m---------------------------------------------------------------------------\u001b[0m",
            "\u001b[0;31mTypeError\u001b[0m                                 Traceback (most recent call last)",
            "\u001b[0;32m<ipython-input-25-0128783ae8c6>\u001b[0m in \u001b[0;36m<module>\u001b[0;34m()\u001b[0m\n\u001b[0;32m----> 1\u001b[0;31m \u001b[0mprint\u001b[0m\u001b[0;34m(\u001b[0m\u001b[0mpower\u001b[0m\u001b[0;34m(\u001b[0m\u001b[0;36m2\u001b[0m\u001b[0;34m,\u001b[0m \u001b[0;36m3\u001b[0m\u001b[0;34m,\u001b[0m \u001b[0;36m1\u001b[0m\u001b[0;34m)\u001b[0m\u001b[0;34m)\u001b[0m\u001b[0;34m\u001b[0m\u001b[0;34m\u001b[0m\u001b[0m\n\u001b[0m",
            "\u001b[0;31mTypeError\u001b[0m: power() takes from 1 to 2 positional arguments but 3 were given"
          ]
        }
      ]
    },
    {
      "cell_type": "code",
      "metadata": {
        "id": "DuIz2T3pd7Pd",
        "colab": {
          "base_uri": "https://localhost:8080/",
          "height": 169
        },
        "outputId": "894cfdf3-30f0-4a15-e2f0-6f5ab965f087"
      },
      "source": [
        "print(power())"
      ],
      "execution_count": null,
      "outputs": [
        {
          "output_type": "error",
          "ename": "TypeError",
          "evalue": "ignored",
          "traceback": [
            "\u001b[0;31m---------------------------------------------------------------------------\u001b[0m",
            "\u001b[0;31mTypeError\u001b[0m                                 Traceback (most recent call last)",
            "\u001b[0;32m<ipython-input-26-58ddcb7b1228>\u001b[0m in \u001b[0;36m<module>\u001b[0;34m()\u001b[0m\n\u001b[0;32m----> 1\u001b[0;31m \u001b[0mprint\u001b[0m\u001b[0;34m(\u001b[0m\u001b[0mpower\u001b[0m\u001b[0;34m(\u001b[0m\u001b[0;34m)\u001b[0m\u001b[0;34m)\u001b[0m\u001b[0;34m\u001b[0m\u001b[0;34m\u001b[0m\u001b[0m\n\u001b[0m",
            "\u001b[0;31mTypeError\u001b[0m: power() missing 1 required positional argument: 'number'"
          ]
        }
      ]
    },
    {
      "cell_type": "code",
      "metadata": {
        "id": "9WzJnXYBd7Pd",
        "colab": {
          "base_uri": "https://localhost:8080/"
        },
        "outputId": "ef56d01a-55bd-4574-bb89-8219eaff7603"
      },
      "source": [
        "# если передавать аргументы не в том порядке, в каком они были описаны при объявлении\n",
        "print(power(number_2=3, number=2))"
      ],
      "execution_count": null,
      "outputs": [
        {
          "output_type": "stream",
          "name": "stdout",
          "text": [
            "8\n"
          ]
        }
      ]
    },
    {
      "cell_type": "markdown",
      "metadata": {
        "id": "BF7EhPbcSVBV"
      },
      "source": [
        "Иногда возникает ситуация, когда вы заранее не знаете, какое количество аргументов будет необходимо принять функции. В этом случае следует использовать аргументы произвольной длины ([args и kwargs](https://habr.com/ru/company/ruvds/blog/482464/)). Они задаются произвольным именем переменной, перед которой ставится звездочка (args) или две здездочки (kwargs)."
      ]
    },
    {
      "cell_type": "code",
      "metadata": {
        "id": "ilXaysWUawBT",
        "colab": {
          "base_uri": "https://localhost:8080/"
        },
        "outputId": "51960468-8aee-41a9-8c7d-87a1ed97dbaa"
      },
      "source": [
        "# Сумму всех позиционных аргументов вычисляем с помощью sum\n",
        "# *args упаковывает все позиционные аргументы в кортеж\n",
        "# **kwargs упаковывает все именованные аргументы в словарь, из которого получаем значение по ключу\n",
        "\n",
        "def sum_division(*args, **kwargs):\n",
        "    print(args)\n",
        "    print(kwargs)\n",
        "    return round(sum(args) / kwargs['divisor'], kwargs['accuracy'])\n",
        "\n",
        "print(sum_division(1, 2, 3465, 6, 7, 8, 9, 10, divisor=2, accuracy=3))"
      ],
      "execution_count": null,
      "outputs": [
        {
          "output_type": "stream",
          "name": "stdout",
          "text": [
            "(1, 2, 3465, 6, 7, 8, 9, 10)\n",
            "{'divisor': 2, 'accuracy': 3}\n",
            "1754.0\n"
          ]
        }
      ]
    },
    {
      "cell_type": "code",
      "metadata": {
        "id": "9XSfxweRawBT",
        "colab": {
          "base_uri": "https://localhost:8080/"
        },
        "outputId": "10685c17-41a1-4f97-9179-3857eabb44f3"
      },
      "source": [
        "# распаковка позволяет отделить создание списка аргументов от их передачи в функцию\n",
        "numbers = [1, 2, 3, 4, 5, 6, 7, 8, 9, 10]\n",
        "params = {'divisor': 7,'accuracy': 2}\n",
        "\n",
        "print(sum_division(*numbers, **params))"
      ],
      "execution_count": null,
      "outputs": [
        {
          "output_type": "stream",
          "name": "stdout",
          "text": [
            "(1, 2, 3, 4, 5, 6, 7, 8, 9, 10)\n",
            "{'divisor': 7, 'accuracy': 2}\n",
            "7.86\n"
          ]
        }
      ]
    },
    {
      "cell_type": "markdown",
      "metadata": {
        "id": "6GGM5SzuRYl3"
      },
      "source": [
        "#### Практика. Напишем функцию, которая будет находить среднюю цену за квартиры по всем районам города"
      ]
    },
    {
      "cell_type": "code",
      "metadata": {
        "id": "CRljX_0tRexA"
      },
      "source": [
        "district_1 = {'flat_1': 10500, 'flat_2': 11000}\n",
        "district_2 = {'flat_3': 15000}\n",
        "district_3 = {'flat_4': 6500, 'flat_5': 7000, 'flat_6': 6000}   "
      ],
      "execution_count": null,
      "outputs": []
    },
    {
      "cell_type": "code",
      "metadata": {
        "id": "2SGGQbgGRnpC",
        "colab": {
          "base_uri": "https://localhost:8080/"
        },
        "outputId": "bf3b9415-bb79-4f95-e82d-edf2fe5a6c13"
      },
      "source": [
        "def med_price(*args): \n",
        "    price = 0 \n",
        "    count = 0 \n",
        "    for i in args: \n",
        "        price += sum(i.values()) \n",
        "        count += len(i.values()) \n",
        "    result = price / count \n",
        "    return result \n",
        "\n",
        "print(med_price(district_1, district_2, district_3))"
      ],
      "execution_count": null,
      "outputs": [
        {
          "output_type": "stream",
          "name": "stdout",
          "text": [
            "9333.333333333334\n"
          ]
        }
      ]
    },
    {
      "cell_type": "code",
      "source": [
        "def mean_price(*districts): \n",
        "    result = length = 0 \n",
        "    for arg in districts:\n",
        "         result += sum(arg.values()) \n",
        "         length += len(arg) \n",
        "    return round(result / length, 2) "
      ],
      "metadata": {
        "id": "EOdPEaWp_yN4"
      },
      "execution_count": null,
      "outputs": []
    },
    {
      "cell_type": "markdown",
      "metadata": {
        "id": "ZpbWF9Spd7Pj"
      },
      "source": [
        "### Комплексный пример"
      ]
    },
    {
      "cell_type": "code",
      "metadata": {
        "id": "Gvct0-t8d7Pk"
      },
      "source": [
        "students_list = [\n",
        "    {'name': 'Василий', 'surname': 'Теркин', 'gender': 'м', 'program_exp': True, 'grade': [8, 8, 9, 10, 9], 'exam': 8},\n",
        "    {'name': 'Мария', 'surname': 'Павлова', 'gender': 'ж', 'program_exp': True, 'grade': [7, 8, 9, 7, 9], 'exam': 9},\n",
        "    {'name': 'Ирина', 'surname': 'Андреева', 'gender': 'ж', 'program_exp': False, 'grade': [10, 9, 8, 10, 10], 'exam': 7},\n",
        "    {'name': 'Татьяна', 'surname': 'Сидорова', 'gender': 'ж', 'program_exp': False, 'grade': [7, 8, 8, 9, 8],'exam': 10},\n",
        "    {'name': 'Иван', 'surname': 'Васильев', 'gender': 'м', 'program_exp': True, 'grade': [9, 8, 9, 6, 9], 'exam': 5},\n",
        "    {'name': 'Роман', 'surname': 'Золотарев', 'gender': 'м', 'program_exp': False, 'grade': [8, 9, 9, 6, 9], 'exam': 6}\n",
        "]"
      ],
      "execution_count": null,
      "outputs": []
    },
    {
      "cell_type": "code",
      "metadata": {
        "id": "inDWLm42d7Pk"
      },
      "source": [
        "# посчитаем среднюю оценку за экзамен по всей группе\n",
        "def get_avg_exam_grade(students):\n",
        "    sum_ex = 0\n",
        "    for student in students:\n",
        "        sum_ex += student['exam']\n",
        "    return round(sum_ex / len(students), 2)"
      ],
      "execution_count": null,
      "outputs": []
    },
    {
      "cell_type": "code",
      "metadata": {
        "id": "jmKOpwBLd7Pk",
        "colab": {
          "base_uri": "https://localhost:8080/"
        },
        "outputId": "b9e68216-4e49-44bf-bac5-a67f94b07e27"
      },
      "source": [
        "print(get_avg_exam_grade(students_list))"
      ],
      "execution_count": null,
      "outputs": [
        {
          "output_type": "stream",
          "name": "stdout",
          "text": [
            "7.5\n"
          ]
        }
      ]
    },
    {
      "cell_type": "code",
      "metadata": {
        "id": "WyefFkS9d7Pk"
      },
      "source": [
        "# посчитаем среднюю оценку за ДЗ по всей группе\n",
        "def get_avg_hw_grade(students):\n",
        "    sum_hw = 0\n",
        "    for student in students:\n",
        "        sum_hw += sum(student['grade']) / len(student['grade'])\n",
        "    return round(sum_hw / len(students), 2)"
      ],
      "execution_count": null,
      "outputs": []
    },
    {
      "cell_type": "code",
      "metadata": {
        "id": "sOu7e4TNd7Pl",
        "colab": {
          "base_uri": "https://localhost:8080/"
        },
        "outputId": "4e0d682f-df6f-4708-c1ac-0165c669286e"
      },
      "source": [
        "print(get_avg_hw_grade(students_list))"
      ],
      "execution_count": null,
      "outputs": [
        {
          "output_type": "stream",
          "name": "stdout",
          "text": [
            "8.43\n"
          ]
        }
      ]
    },
    {
      "cell_type": "code",
      "metadata": {
        "id": "mywPAD-cd7Pl"
      },
      "source": [
        "# добавим фильтр по опыту для расчетов\n",
        "def get_avg_exam_grade(students, exp=False):\n",
        "    sum_ex = 0\n",
        "    counter = 0\n",
        "    for student in students:\n",
        "        if student['program_exp'] == exp:\n",
        "            sum_ex += student['exam']\n",
        "            counter += 1\n",
        "    return round(sum_ex / counter, 2)"
      ],
      "execution_count": null,
      "outputs": []
    },
    {
      "cell_type": "code",
      "metadata": {
        "id": "e4BQ7zpod7Pl",
        "colab": {
          "base_uri": "https://localhost:8080/"
        },
        "outputId": "5a584887-f97b-4c99-d25e-f4bdb2a4c07d"
      },
      "source": [
        "print(get_avg_exam_grade(students_list))"
      ],
      "execution_count": null,
      "outputs": [
        {
          "output_type": "stream",
          "name": "stdout",
          "text": [
            "7.67\n"
          ]
        }
      ]
    },
    {
      "cell_type": "code",
      "metadata": {
        "id": "iCvb2aood7Pl",
        "colab": {
          "base_uri": "https://localhost:8080/"
        },
        "outputId": "9b9c1838-a0b5-4448-bcf8-63630ba7f00a"
      },
      "source": [
        "print(get_avg_exam_grade(students_list, True))"
      ],
      "execution_count": null,
      "outputs": [
        {
          "output_type": "stream",
          "name": "stdout",
          "text": [
            "7.33\n"
          ]
        }
      ]
    },
    {
      "cell_type": "code",
      "metadata": {
        "id": "-1WNvfI6d7Pl"
      },
      "source": [
        "# а как же теперь сделать расчет по всей группе?\n",
        "def get_avg_exam_grade(students, exp=None):\n",
        "    sum_ex = 0\n",
        "    counter = 0\n",
        "    for student in students:\n",
        "        if exp is None or student['program_exp'] == exp:\n",
        "            sum_ex += student['exam']\n",
        "            counter += 1\n",
        "    return round(sum_ex / counter, 2)"
      ],
      "execution_count": null,
      "outputs": []
    },
    {
      "cell_type": "code",
      "metadata": {
        "id": "-DAu3HeId7Pm",
        "colab": {
          "base_uri": "https://localhost:8080/"
        },
        "outputId": "704ec1ed-9412-4fda-fba3-2e98199200d2"
      },
      "source": [
        "print(get_avg_exam_grade(students_list))"
      ],
      "execution_count": null,
      "outputs": [
        {
          "output_type": "stream",
          "name": "stdout",
          "text": [
            "7.5\n"
          ]
        }
      ]
    },
    {
      "cell_type": "code",
      "metadata": {
        "id": "tM2vk2qUd7Pm",
        "colab": {
          "base_uri": "https://localhost:8080/"
        },
        "outputId": "262a6b71-cf6a-4bee-e5f9-156a429abb95"
      },
      "source": [
        "print(get_avg_exam_grade(students_list, True))"
      ],
      "execution_count": null,
      "outputs": [
        {
          "output_type": "stream",
          "name": "stdout",
          "text": [
            "7.33\n"
          ]
        }
      ]
    },
    {
      "cell_type": "code",
      "metadata": {
        "id": "Fxy87mVSd7Pm",
        "colab": {
          "base_uri": "https://localhost:8080/"
        },
        "outputId": "3cb0c69d-f83f-4d99-980f-0f96ab795c0f"
      },
      "source": [
        "print(get_avg_exam_grade(students_list, False))"
      ],
      "execution_count": null,
      "outputs": [
        {
          "output_type": "stream",
          "name": "stdout",
          "text": [
            "7.67\n"
          ]
        }
      ]
    },
    {
      "cell_type": "code",
      "metadata": {
        "id": "hSCyngvhd7Pm"
      },
      "source": [
        "# реализуем фильтр по полу\n",
        "def get_avg_exam_grade(students, gender=None):\n",
        "    sum_ex = 0\n",
        "    counter = 0\n",
        "    for student in students:\n",
        "        if gender is None or student['gender'] == gender:\n",
        "            sum_ex += student['exam']\n",
        "            counter += 1\n",
        "    return round(sum_ex / counter, 2)"
      ],
      "execution_count": null,
      "outputs": []
    },
    {
      "cell_type": "code",
      "metadata": {
        "id": "QgEtU5J9d7Pn",
        "colab": {
          "base_uri": "https://localhost:8080/"
        },
        "outputId": "0164b151-6b0b-45f2-d6a6-de5aa05596e2"
      },
      "source": [
        "print(get_avg_exam_grade(students_list))"
      ],
      "execution_count": null,
      "outputs": [
        {
          "output_type": "stream",
          "name": "stdout",
          "text": [
            "7.5\n"
          ]
        }
      ]
    },
    {
      "cell_type": "code",
      "metadata": {
        "id": "5oA1FTOad7Pn",
        "colab": {
          "base_uri": "https://localhost:8080/"
        },
        "outputId": "a0588613-2e8f-4448-c6e6-bf007c6e7e85"
      },
      "source": [
        "print(get_avg_exam_grade(students_list, 'м'))"
      ],
      "execution_count": null,
      "outputs": [
        {
          "output_type": "stream",
          "name": "stdout",
          "text": [
            "6.33\n"
          ]
        }
      ]
    },
    {
      "cell_type": "code",
      "metadata": {
        "id": "YwoH9uf9d7Pn",
        "colab": {
          "base_uri": "https://localhost:8080/"
        },
        "outputId": "b6d36d22-56dd-48b6-c27f-77188469b4c0"
      },
      "source": [
        "print(get_avg_exam_grade(students_list, 'ж'))"
      ],
      "execution_count": null,
      "outputs": [
        {
          "output_type": "stream",
          "name": "stdout",
          "text": [
            "8.67\n"
          ]
        }
      ]
    },
    {
      "cell_type": "code",
      "metadata": {
        "id": "easef3gLd7Pn"
      },
      "source": [
        "# реализуем сразу оба фильтра\n",
        "def get_avg_exam_grade(students, gender=None, exp=None):\n",
        "    '''\n",
        "    this is my function\n",
        "    '''\n",
        "    sum_ex = 0\n",
        "    counter = 0\n",
        "    for student in students:\n",
        "        if (gender is None or student['gender'] == gender) and (exp is None or student['program_exp'] == exp):\n",
        "            sum_ex += student['exam']\n",
        "            counter += 1\n",
        "    return round(sum_ex / counter, 2)"
      ],
      "execution_count": null,
      "outputs": []
    },
    {
      "cell_type": "code",
      "source": [
        "help(get_avg_exam_grade)"
      ],
      "metadata": {
        "colab": {
          "base_uri": "https://localhost:8080/"
        },
        "id": "A_fCqGC2FtNf",
        "outputId": "0e2c11b4-3434-48cc-ff12-d89234498b55"
      },
      "execution_count": null,
      "outputs": [
        {
          "output_type": "stream",
          "name": "stdout",
          "text": [
            "Help on function get_avg_exam_grade in module __main__:\n",
            "\n",
            "get_avg_exam_grade(students, gender=None, exp=None)\n",
            "    this is my function\n",
            "\n"
          ]
        }
      ]
    },
    {
      "cell_type": "code",
      "metadata": {
        "id": "_0kY9yFUd7Pn",
        "colab": {
          "base_uri": "https://localhost:8080/"
        },
        "outputId": "2f57d261-fe24-44c7-8490-0c394e9de9cc"
      },
      "source": [
        "print(get_avg_exam_grade(students_list))"
      ],
      "execution_count": null,
      "outputs": [
        {
          "output_type": "stream",
          "name": "stdout",
          "text": [
            "7.5\n"
          ]
        }
      ]
    },
    {
      "cell_type": "code",
      "metadata": {
        "id": "Um_5zla4d7Po",
        "colab": {
          "base_uri": "https://localhost:8080/"
        },
        "outputId": "4600748f-948d-4ee7-a9bf-d76300771828"
      },
      "source": [
        "print(get_avg_exam_grade(students_list, 'м'))"
      ],
      "execution_count": null,
      "outputs": [
        {
          "output_type": "stream",
          "name": "stdout",
          "text": [
            "6.33\n"
          ]
        }
      ]
    },
    {
      "cell_type": "code",
      "metadata": {
        "id": "Z3Exo-Xud7Po",
        "colab": {
          "base_uri": "https://localhost:8080/"
        },
        "outputId": "d1ea572e-d7c4-4a56-99f9-da62a44fa109"
      },
      "source": [
        "print(get_avg_exam_grade(students_list, exp=True))"
      ],
      "execution_count": null,
      "outputs": [
        {
          "output_type": "stream",
          "name": "stdout",
          "text": [
            "7.33\n"
          ]
        }
      ]
    },
    {
      "cell_type": "code",
      "metadata": {
        "id": "Z1YPNpfcd7Po",
        "colab": {
          "base_uri": "https://localhost:8080/"
        },
        "outputId": "9f322846-47f4-4e56-bbb2-f33d03d1be7f"
      },
      "source": [
        "print(get_avg_exam_grade(students_list, exp=False))"
      ],
      "execution_count": null,
      "outputs": [
        {
          "output_type": "stream",
          "name": "stdout",
          "text": [
            "7.67\n"
          ]
        }
      ]
    },
    {
      "cell_type": "code",
      "metadata": {
        "id": "3YK0M9mgd7Po",
        "colab": {
          "base_uri": "https://localhost:8080/"
        },
        "outputId": "7d1802cc-7d26-491a-fb6b-0c0182771c0a"
      },
      "source": [
        "print(get_avg_exam_grade(students_list, 'ж', True))"
      ],
      "execution_count": null,
      "outputs": [
        {
          "output_type": "stream",
          "name": "stdout",
          "text": [
            "9.0\n"
          ]
        }
      ]
    },
    {
      "cell_type": "code",
      "metadata": {
        "id": "m5TQxK5Pd7Po"
      },
      "source": [
        "# расчет оценок за ДЗ\n",
        "def get_avg_hw_grade(students, gender=None, exp=None):\n",
        "    sum_hw = 0\n",
        "    counter = 0\n",
        "    for student in students:\n",
        "        if (gender is None or student['gender'] == gender) and (exp is None or student['program_exp'] == exp):\n",
        "            sum_hw += sum(student['grade']) / len(student['grade'])\n",
        "            counter += 1\n",
        "    return round(sum_hw / counter, 2)"
      ],
      "execution_count": null,
      "outputs": []
    },
    {
      "cell_type": "code",
      "metadata": {
        "id": "YWSwTNs-d7Pp"
      },
      "source": [
        "# пишем пользовательский интефейс\n",
        "def main(students):\n",
        "    while True:\n",
        "        user_input = input('Введите команду')\n",
        "        if user_input == '1':\n",
        "            print(f'Средняя оценка за экзамен по группе: {get_avg_exam_grade(students)}')\n",
        "        elif user_input == '2':\n",
        "            print(f'Средняя оценка за ДЗ по группе: {get_avg_hw_grade(students)}')\n",
        "        elif user_input =='3':\n",
        "            print(f'Средняя оценка за экзамен у студентов без бэкграунда: {get_avg_exam_grade(students, exp=False)}')\n",
        "        elif user_input == 'q':\n",
        "            print('До свидания!')\n",
        "            break"
      ],
      "execution_count": null,
      "outputs": []
    },
    {
      "cell_type": "code",
      "metadata": {
        "id": "49d_puS7d7Pp",
        "colab": {
          "base_uri": "https://localhost:8080/"
        },
        "outputId": "dad2e081-6809-40f5-d229-2c974a5fb322"
      },
      "source": [
        "main(students_list)"
      ],
      "execution_count": null,
      "outputs": [
        {
          "output_type": "stream",
          "name": "stdout",
          "text": [
            "Введите команду1\n",
            "Средняя оценка за экзамен по группе: 7.5\n",
            "Введите команду2\n",
            "Средняя оценка за ДЗ по группе: 8.43\n",
            "Введите команду3\n",
            "Средняя оценка за экзамен у студентов без бэкграунда: 7.67\n",
            "Введите команду1\n",
            "Средняя оценка за экзамен по группе: 7.5\n",
            "Введите команду2\n",
            "Средняя оценка за ДЗ по группе: 8.43\n",
            "Введите командуq\n",
            "До свидания!\n"
          ]
        }
      ]
    },
    {
      "cell_type": "markdown",
      "metadata": {
        "id": "mgMjftejd7Ph"
      },
      "source": [
        "### Анонимные функции, функции map и filter"
      ]
    },
    {
      "cell_type": "markdown",
      "metadata": {
        "id": "johkgSPXd7Ph"
      },
      "source": [
        "[Анонимные функции](https://habr.com/ru/post/507642/) создаются при помощи инструкции lambda и используются для более краткой записи функций с одним выражением. Выполняются быстрее обычных и не требуют инструкции return."
      ]
    },
    {
      "cell_type": "code",
      "metadata": {
        "id": "go0gAu5Qd7Ph",
        "colab": {
          "base_uri": "https://localhost:8080/"
        },
        "outputId": "0a5c4fe6-d492-4bb4-a5f6-ded6fc0f1134"
      },
      "source": [
        "func = lambda x, y: x + y\n",
        "print(func(1, 8))"
      ],
      "execution_count": null,
      "outputs": [
        {
          "output_type": "stream",
          "name": "stdout",
          "text": [
            "9\n"
          ]
        }
      ]
    },
    {
      "cell_type": "code",
      "metadata": {
        "id": "RQqB-oQ8d7Ph",
        "colab": {
          "base_uri": "https://localhost:8080/"
        },
        "outputId": "76cb94f0-c0a4-4917-fdf6-48bc23e3074b"
      },
      "source": [
        "sqrt = lambda x: (x**0.5, x**2)\n",
        "print(sqrt(9))"
      ],
      "execution_count": null,
      "outputs": [
        {
          "output_type": "stream",
          "name": "stdout",
          "text": [
            "(3.0, 81)\n"
          ]
        }
      ]
    },
    {
      "cell_type": "markdown",
      "metadata": {
        "id": "Y-BEeoayd7Ph"
      },
      "source": [
        "### lambda + map"
      ]
    },
    {
      "cell_type": "markdown",
      "metadata": {
        "id": "vQikb7snd7Pi"
      },
      "source": [
        "В Python функция map принимает два аргумента: функцию и итерируемый объект, например, список. map применяет к каждому элементу объекта переданного в функцию."
      ]
    },
    {
      "cell_type": "markdown",
      "metadata": {
        "id": "KfsvVpu-d7Pi"
      },
      "source": [
        "Пишем программу, которая создает список, содержащий квадраты натуральных чисел от 1 до 9"
      ]
    },
    {
      "cell_type": "code",
      "metadata": {
        "id": "z1T6oKmvd7Pi",
        "colab": {
          "base_uri": "https://localhost:8080/"
        },
        "outputId": "48912ab1-2f8c-4408-8bd9-c4ec8a41275c"
      },
      "source": [
        "# Традиционным способом\n",
        "my_list = []\n",
        "for i in range(1, 10):\n",
        "    my_list.append(i ** 2)\n",
        "print(my_list)"
      ],
      "execution_count": null,
      "outputs": [
        {
          "output_type": "stream",
          "name": "stdout",
          "text": [
            "[1, 4, 9, 16, 25, 36, 49, 64, 81]\n"
          ]
        }
      ]
    },
    {
      "cell_type": "code",
      "metadata": {
        "id": "lAVF34Fed7Pi",
        "colab": {
          "base_uri": "https://localhost:8080/"
        },
        "outputId": "f3d0eefe-f1e8-4662-e4b6-89d735e87a36"
      },
      "source": [
        "# С помощью map+lambda\n",
        "print(list(map(lambda x: x**2, range(1,10))))"
      ],
      "execution_count": null,
      "outputs": [
        {
          "output_type": "stream",
          "name": "stdout",
          "text": [
            "[1, 4, 9, 16, 25, 36, 49, 64, 81]\n"
          ]
        }
      ]
    },
    {
      "cell_type": "code",
      "metadata": {
        "id": "FLqx6pfXIg3j",
        "scrolled": true,
        "colab": {
          "base_uri": "https://localhost:8080/"
        },
        "outputId": "22c2149a-b0dd-4c09-e370-eee6ec6538ba"
      },
      "source": [
        "def miles_to_kilometers(num_miles):\n",
        "    return num_miles * 1.6\n",
        " \n",
        "mile_distances = [1.0, 6.5, 17.4, 2.4, 9]\n",
        "kilometer_distances = list(map(miles_to_kilometers, mile_distances))\n",
        "print(kilometer_distances)"
      ],
      "execution_count": null,
      "outputs": [
        {
          "output_type": "stream",
          "name": "stdout",
          "text": [
            "[1.6, 10.4, 27.84, 3.84, 14.4]\n"
          ]
        }
      ]
    },
    {
      "cell_type": "code",
      "metadata": {
        "id": "tz099Zb1Ig3n",
        "scrolled": true,
        "colab": {
          "base_uri": "https://localhost:8080/"
        },
        "outputId": "993d6a96-2b56-4f2f-d482-2b52d6fbf3fe"
      },
      "source": [
        "mile_distances = [1.0, 6.5, 17.4, 2.4, 9]\n",
        "kilometer_distances = list(map(lambda x: x * 1.6, mile_distances))\n",
        "print(kilometer_distances)"
      ],
      "execution_count": null,
      "outputs": [
        {
          "output_type": "stream",
          "name": "stdout",
          "text": [
            "[1.6, 10.4, 27.84, 3.84, 14.4]\n"
          ]
        }
      ]
    },
    {
      "cell_type": "markdown",
      "metadata": {
        "id": "vUJMJrW7d7Pj"
      },
      "source": [
        "#### Практика. Напишите функцию, которая будет находить среднюю цену на товары в каждой категории по отдельности."
      ]
    },
    {
      "cell_type": "code",
      "metadata": {
        "id": "Up5GPORUIg0o"
      },
      "source": [
        "prices = [[100, 200, 400, 600], [200, 500], [100, 200, 100, 100], [800, 900]]"
      ],
      "execution_count": null,
      "outputs": []
    },
    {
      "cell_type": "code",
      "metadata": {
        "id": "Mev3JY5PFoXD",
        "colab": {
          "base_uri": "https://localhost:8080/"
        },
        "outputId": "64009908-4f77-458f-db39-3bbc22dc1bf2"
      },
      "source": [
        "list(map(lambda x: sum(x)/len(x), prices)) "
      ],
      "execution_count": null,
      "outputs": [
        {
          "output_type": "execute_result",
          "data": {
            "text/plain": [
              "[325.0, 350.0, 125.0, 850.0]"
            ]
          },
          "metadata": {},
          "execution_count": 77
        }
      ]
    },
    {
      "cell_type": "markdown",
      "metadata": {
        "id": "p_Z4uw73j8Xx"
      },
      "source": [
        "### lambda + filter"
      ]
    },
    {
      "cell_type": "code",
      "metadata": {
        "id": "EBLHeZpvQnFZ"
      },
      "source": [
        "geo_logs = [\n",
        "    {'visit1': ['Москва', 'Россия']},\n",
        "    {'visit2': ['Дели', 'Индия']},\n",
        "    {'visit3': ['Владимир', 'Россия']},\n",
        "    {'visit4': ['Лиссабон', 'Португалия']},\n",
        "    {'visit5': ['Париж', 'Франция']},\n",
        "    {'visit7': ['Тула', 'Россия']},\n",
        "    {'visit9': ['Курск', 'Россия']},\n",
        "    {'visit10': ['Архангельск', 'Россия']}\n",
        "]"
      ],
      "execution_count": null,
      "outputs": []
    },
    {
      "cell_type": "code",
      "metadata": {
        "id": "DaRAQ3R1QsP1",
        "colab": {
          "base_uri": "https://localhost:8080/"
        },
        "outputId": "2d08e995-3052-46aa-ea55-bc1b74fabeda"
      },
      "source": [
        "# раньше мы бы сделали так\n",
        "result = []\n",
        "for log in geo_logs:\n",
        "    if 'Россия' == list(log.values())[0][1]:\n",
        "        result.append(log)\n",
        "        \n",
        "print(result)"
      ],
      "execution_count": null,
      "outputs": [
        {
          "output_type": "stream",
          "name": "stdout",
          "text": [
            "[{'visit1': ['Москва', 'Россия']}, {'visit3': ['Владимир', 'Россия']}, {'visit7': ['Тула', 'Россия']}, {'visit9': ['Курск', 'Россия']}, {'visit10': ['Архангельск', 'Россия']}]\n"
          ]
        }
      ]
    },
    {
      "cell_type": "code",
      "metadata": {
        "id": "69ru-aTZQu8j",
        "colab": {
          "base_uri": "https://localhost:8080/"
        },
        "outputId": "324ead54-13f2-473b-c30d-d3bea96bb4dc"
      },
      "source": [
        "# а теперь можем так\n",
        "print(list(filter(lambda log: 'Россия' == list(log.values())[0][1], geo_logs)))"
      ],
      "execution_count": null,
      "outputs": [
        {
          "output_type": "stream",
          "name": "stdout",
          "text": [
            "[{'visit2': ['Дели', 'Индия']}, {'visit4': ['Лиссабон', 'Португалия']}, {'visit5': ['Париж', 'Франция']}]\n"
          ]
        }
      ]
    },
    {
      "cell_type": "markdown",
      "metadata": {
        "id": "ONpdieq_fpaF"
      },
      "source": [
        "### Цикл / рекурсия / reduce ?\n",
        "\n",
        "Напишем функцию, преобразующую произвольный список вида `['2018-01-01', 'yandex', 'cpc', 100]` (он может быть любой длины) в словарь `{'2018-01-01': {'yandex': {'cpc': 100}}}`"
      ]
    },
    {
      "cell_type": "code",
      "metadata": {
        "id": "GEn97dBdfxx_"
      },
      "source": [
        "crazy_list = ['2018-01-01', 'yandex', 'cpc', 100]"
      ],
      "execution_count": null,
      "outputs": []
    },
    {
      "cell_type": "code",
      "metadata": {
        "id": "tpi4nSM-gLOh",
        "colab": {
          "base_uri": "https://localhost:8080/"
        },
        "outputId": "55f10573-93b5-458b-a1aa-5f36fa71552a"
      },
      "source": [
        "def get_crazy_nested_dict(some_list):\n",
        "    res = some_list[-1]            \n",
        "    for el in reversed(some_list[:-1]):      \n",
        "      res = {el: res}\n",
        "    return res\n",
        "    \n",
        "print(get_crazy_nested_dict(crazy_list))"
      ],
      "execution_count": null,
      "outputs": [
        {
          "output_type": "stream",
          "name": "stdout",
          "text": [
            "{'2018-01-01': {'yandex': {'cpc': 100}}}\n"
          ]
        }
      ]
    },
    {
      "cell_type": "code",
      "metadata": {
        "id": "IUQ7BAaVgVnt"
      },
      "source": [
        "# реализация с рекурсией \n",
        "def get_crazy_nested_dict(some_list):\n",
        "    if len(some_list) == 1:\n",
        "        return some_list[0]\n",
        "    return {some_list[0]:get_crazy_nested_dict(some_list[1:])}\n",
        "\n",
        "print(get_crazy_nested_dict(crazy_list))"
      ],
      "execution_count": null,
      "outputs": []
    },
    {
      "cell_type": "code",
      "source": [
        "# reduce последовательно применяет функцию-аргумент к элементам списка, возвращает единичное значение. \n",
        "\n",
        "from functools import reduce\n",
        "res = reduce(lambda a, b: a + b, [1, 5, 7, 9])\n",
        "res"
      ],
      "metadata": {
        "id": "0Ymw-OkYuNyC",
        "colab": {
          "base_uri": "https://localhost:8080/"
        },
        "outputId": "e359052d-15d6-43d2-e448-63acdf7557b4"
      },
      "execution_count": null,
      "outputs": [
        {
          "output_type": "execute_result",
          "data": {
            "text/plain": [
              "22"
            ]
          },
          "metadata": {},
          "execution_count": 89
        }
      ]
    },
    {
      "cell_type": "code",
      "source": [
        "# реализация через reuce\n",
        "\n",
        "from functools import reduce\n",
        "print(reduce(lambda key, value: {value: key}, reversed(crazy_list)))"
      ],
      "metadata": {
        "id": "IhiHZlnluQxN",
        "colab": {
          "base_uri": "https://localhost:8080/"
        },
        "outputId": "fc20bcce-7ff0-49e9-a8b3-82df0ea52630"
      },
      "execution_count": null,
      "outputs": [
        {
          "output_type": "stream",
          "name": "stdout",
          "text": [
            "{'2018-01-01': {'yandex': {'cpc': 100}}}\n"
          ]
        }
      ]
    },
    {
      "cell_type": "markdown",
      "metadata": {
        "id": "OgFcwZp-Z-ck"
      },
      "source": [
        "### Спасибо за внимание буду рад ответить на ваши вопросы!\n",
        "Ссылка на форму ОС:\n",
        "https://forms.gle/y8xaFwJqtbFSjUeG8\n"
      ]
    }
  ]
}