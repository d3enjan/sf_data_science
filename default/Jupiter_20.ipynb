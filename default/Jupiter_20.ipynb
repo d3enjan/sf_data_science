{
 "cells": [
  {
   "cell_type": "code",
   "execution_count": 3,
   "metadata": {},
   "outputs": [
    {
     "name": "stdout",
     "output_type": "stream",
     "text": [
      "Компьютер угадал число за 2 попыток. Это число 76\n"
     ]
    },
    {
     "data": {
      "text/plain": [
       "2"
      ]
     },
     "execution_count": 3,
     "metadata": {},
     "output_type": "execute_result"
    }
   ],
   "source": [
    "def optimal_predict(number: int = 1) -> int:\n",
    "    '''Игра компьютер угадает число меньше чем за 20 попыток'''\n",
    "\n",
    "    import numpy as np\n",
    "\n",
    "    min = 1\n",
    "    max = 101\n",
    "\n",
    "    number = np.random.randint(min, max)\n",
    "\n",
    "    count = 0\n",
    "\n",
    "    while True:\n",
    "        count+=1\n",
    "        mid = (min+max) // 2\n",
    "    \n",
    "        if mid > number:\n",
    "            max = mid\n",
    "    \n",
    "        elif mid < number:\n",
    "            min = mid\n",
    "\n",
    "        else:\n",
    "            print(f\"Компьютер угадал число за {count} попыток. Это число {number}\")\n",
    "            break #конец игры выход из цикла\n",
    "    return count\n",
    "optimal_predict()"
   ]
  },
  {
   "cell_type": "code",
   "execution_count": null,
   "metadata": {},
   "outputs": [],
   "source": []
  }
 ],
 "metadata": {
  "interpreter": {
   "hash": "71eded3e21535385c70289f2bd5a8f1b7d1988946ade5d80a0803a092df95cf4"
  },
  "kernelspec": {
   "display_name": "Python 3.9.10 64-bit",
   "language": "python",
   "name": "python3"
  },
  "language_info": {
   "codemirror_mode": {
    "name": "ipython",
    "version": 3
   },
   "file_extension": ".py",
   "mimetype": "text/x-python",
   "name": "python",
   "nbconvert_exporter": "python",
   "pygments_lexer": "ipython3",
   "version": "3.9.10"
  },
  "orig_nbformat": 4
 },
 "nbformat": 4,
 "nbformat_minor": 2
}
