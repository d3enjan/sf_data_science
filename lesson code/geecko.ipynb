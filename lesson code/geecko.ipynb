{
 "cells": [
  {
   "cell_type": "code",
   "execution_count": 1,
   "metadata": {},
   "outputs": [
    {
     "name": "stdout",
     "output_type": "stream",
     "text": [
      "3\n"
     ]
    }
   ],
   "source": [
    "# Функция возвращает колличество слов, у которых 4 буквы.\n",
    "names = \"Tror Gvigris Deriana Nori Noasasri Nori\"\n",
    "def four_letters(names):\n",
    "    lst = names.split(' ')   \n",
    "    new_lst =[] \n",
    "    for i in  lst:\n",
    "        if len(i)== 4:\n",
    "            new_lst.append(i)\n",
    "        else:\n",
    "             continue\n",
    "    return len(new_lst)\n",
    "            \n",
    "        \n",
    "        \n",
    "        \n",
    "print(four_letters(names)) \n"
   ]
  },
  {
   "cell_type": "code",
   "execution_count": 11,
   "metadata": {},
   "outputs": [
    {
     "name": "stdout",
     "output_type": "stream",
     "text": [
      "3\n"
     ]
    }
   ],
   "source": [
    "def find_outlier(numbers):\n",
    "    lsta = []\n",
    "    lstb = []\n",
    "    for i in numbers:        \n",
    "        if i % 2 == 0:\n",
    "            lsta.append(i)  \n",
    "        if i %2 != 0:\n",
    "            lstb.append(i)\n",
    "    if  len(lsta)>len(lstb):\n",
    "        print(int(''.join(map(str, lstb))))\n",
    "    else:\n",
    "        print(int(''.join(map(str, lsta))))\n",
    "numbers1 = [3, 6, 7, 11, 13, 1]            \n",
    "numbers = [80, 20, 4, 40, 76, 78, 2, 3, 70, 60]\n",
    "\n",
    "find_outlier(numbers) "
   ]
  },
  {
   "cell_type": "code",
   "execution_count": 13,
   "metadata": {},
   "outputs": [
    {
     "name": "stdout",
     "output_type": "stream",
     "text": [
      "8\n"
     ]
    }
   ],
   "source": [
    "find_outlier([1,3,45,1, 8])"
   ]
  },
  {
   "cell_type": "code",
   "execution_count": 28,
   "metadata": {},
   "outputs": [
    {
     "name": "stdout",
     "output_type": "stream",
     "text": [
      "[12, 8, 6, 5, 0]\n"
     ]
    }
   ],
   "source": [
    "numbers  = [[4, 2, 1, 5], [2, 1, 5], [1, 5], [5], [0]]\n",
    "\n",
    "def get_sums(lst):\n",
    "    end = list(map(sum, lst))\n",
    "    print(end)\n",
    "get_sums(numbers)\n",
    "    "
   ]
  },
  {
   "cell_type": "code",
   "execution_count": 30,
   "metadata": {},
   "outputs": [
    {
     "data": {
      "text/plain": [
       "[12, 5, 34]"
      ]
     },
     "execution_count": 30,
     "metadata": {},
     "output_type": "execute_result"
    }
   ],
   "source": [
    "data = [[3,7,2],[1,4],[9,8,7,10]]\n",
    "list(map(sum, data))\n",
    "[12, 5, 34]"
   ]
  },
  {
   "cell_type": "code",
   "execution_count": 34,
   "metadata": {},
   "outputs": [
    {
     "name": "stdout",
     "output_type": "stream",
     "text": [
      "[12, 53, 6, 5, 0]\n"
     ]
    }
   ],
   "source": [
    "# numbers  = [[4, 2, 1, 5], [2, 1, 50], [1, 5], [5], [0]]\n",
    "def get_sums(lst):\n",
    "    end = list(map(sum, lst))\n",
    "    print(end)\n",
    "get_sums(numbers)"
   ]
  },
  {
   "cell_type": "code",
   "execution_count": 50,
   "metadata": {},
   "outputs": [
    {
     "data": {
      "text/plain": [
       "[20, 20, 19, 16, 10, 0]"
      ]
     },
     "execution_count": 50,
     "metadata": {},
     "output_type": "execute_result"
    }
   ],
   "source": [
    "ls = [0, 1, 3, 6, 10]\n",
    "ls = [1, 3, 6, 10]\n",
    "ls = [3, 6, 10]\n",
    "ls = [6, 10]\n",
    "ls = [10]\n",
    "ls = []\n",
    "def parts_sums(ls):\n",
    "    cop = list(ls)\n",
    "    top = sum(ls)\n",
    "    sums = 0\n",
    "    parts = []\n",
    "    for i in range(len(ls)):\n",
    "        if len(parts) == 0:\n",
    "            parts.append(top)\n",
    "        else:\n",
    "            parts.append(top - sums)\n",
    "        sums += cop[i]\n",
    "    parts.append(0)\n",
    "    return parts\n",
    "parts_sums([0, 1, 3, 6, 10])"
   ]
  },
  {
   "cell_type": "code",
   "execution_count": 48,
   "metadata": {},
   "outputs": [
    {
     "data": {
      "text/plain": [
       "[57, 53, 51, 50, 0]"
      ]
     },
     "execution_count": 48,
     "metadata": {},
     "output_type": "execute_result"
    }
   ],
   "source": [
    "numbers = [4, 2, 1, 5]\n",
    "numbers = [2, 1, 5]\n",
    "numbers = [1, 5]\n",
    "numbers = [5]\n",
    "numbers = []\n",
    "def parts_sumsa(ls):\n",
    "    sums = [sum(ls)]\n",
    "    for i in ls:\n",
    "        sums.append(sums[-1]-i)\n",
    "    return sums\n",
    "parts_sumsa([4, 2, 1, 50])\n"
   ]
  },
  {
   "cell_type": "code",
   "execution_count": 84,
   "metadata": {},
   "outputs": [
    {
     "data": {
      "text/plain": [
       "5"
      ]
     },
     "execution_count": 84,
     "metadata": {},
     "output_type": "execute_result"
    }
   ],
   "source": [
    "# Функция оставляет НЕ парное значение в списке\n",
    "socks = [2, 3, 5, 3, 1, 2, 1] \n",
    "def get_result (socks):\n",
    "    lst=[]\n",
    "    not_dbl = []\n",
    "    for i in socks:\n",
    "        if i  not in lst:\n",
    "            lst.append(i)          \n",
    "        else:\n",
    "            not_dbl.append(i)\n",
    "        for q in lst:\n",
    "            if (q in not_dbl):\n",
    "                lst.remove(q)\n",
    "                # print(lst)\n",
    "    return (int(''.join(map(str, lst))))\n",
    "get_result(socks)"
   ]
  },
  {
   "cell_type": "code",
   "execution_count": 42,
   "metadata": {},
   "outputs": [
    {
     "data": {
      "text/plain": [
       "['    *    ', '   ***   ', '  *****  ', ' ******* ', '*********']"
      ]
     },
     "execution_count": 42,
     "metadata": {},
     "output_type": "execute_result"
    }
   ],
   "source": [
    "# Функция печатает елочку, в виде списка.\n",
    "def build_tower(n):\n",
    "    a = (n*2) - 1\n",
    "    lst = []\n",
    "    for i in range(1,2*n, 2):        \n",
    "        stars = i*'*'\n",
    "        line = stars.center(a)\n",
    "        lst.append(line)\n",
    "    return lst\n",
    "\n",
    "# def build_tower(n):\n",
    "#     return [('*' * i).center(n * 2 - 1) for i in range(1, 2 * n + 1, 2)]\n",
    "        \n",
    "        \n",
    "build_tower(5)"
   ]
  },
  {
   "cell_type": "code",
   "execution_count": 2,
   "metadata": {},
   "outputs": [
    {
     "data": {
      "text/plain": [
       "[20, 12, 60, 15]"
      ]
     },
     "execution_count": 2,
     "metadata": {},
     "output_type": "execute_result"
    }
   ],
   "source": [
    "# Функция возвращает список, из произведения всех элементво другово списка, кроме того, на место какого элемента встает полученый элемент\n",
    "def productExceptSelf( nums):\n",
    "        curr, res = 1, []\n",
    "        for i in range(len(nums)):\n",
    "            res.append(curr)\n",
    "            curr *= nums[i]\n",
    "\n",
    "        curr = 1\n",
    "        for i in range(len(nums) - 1, -1, -1):\n",
    "            res[i] *= curr\n",
    "            curr *= nums[i]\n",
    "\n",
    "        return res\n",
    "\n",
    "nums1 = [3, 5, 1, 4]\n",
    "productExceptSelf(nums1)"
   ]
  },
  {
   "cell_type": "code",
   "execution_count": 6,
   "metadata": {},
   "outputs": [
    {
     "data": {
      "text/plain": [
       "4"
      ]
     },
     "execution_count": 6,
     "metadata": {},
     "output_type": "execute_result"
    }
   ],
   "source": [
    "def majority_element(arr):\n",
    "    counter, possible_element = 0, None\n",
    "    for i in arr:\n",
    "        if counter == 0:\n",
    "            possible_element, counter = i, 1\n",
    "        elif i == possible_element:\n",
    "            counter += 1\n",
    "        else:\n",
    "            counter -= 1\n",
    "\n",
    "    return possible_element\n",
    "nums = [3,1,4,4,4,5]\n",
    "majority_element(nums) "
   ]
  },
  {
   "cell_type": "code",
   "execution_count": null,
   "metadata": {},
   "outputs": [],
   "source": []
  }
 ],
 "metadata": {
  "interpreter": {
   "hash": "71eded3e21535385c70289f2bd5a8f1b7d1988946ade5d80a0803a092df95cf4"
  },
  "kernelspec": {
   "display_name": "Python 3.9.10 64-bit",
   "language": "python",
   "name": "python3"
  },
  "language_info": {
   "codemirror_mode": {
    "name": "ipython",
    "version": 3
   },
   "file_extension": ".py",
   "mimetype": "text/x-python",
   "name": "python",
   "nbconvert_exporter": "python",
   "pygments_lexer": "ipython3",
   "version": "3.9.10"
  },
  "orig_nbformat": 4
 },
 "nbformat": 4,
 "nbformat_minor": 2
}
