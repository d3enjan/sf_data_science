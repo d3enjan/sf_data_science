{
 "cells": [
  {
   "cell_type": "code",
   "execution_count": 17,
   "metadata": {},
   "outputs": [
    {
     "name": "stdout",
     "output_type": "stream",
     "text": [
      "6\n",
      "0\n"
     ]
    }
   ],
   "source": [
    "number = [1, 2, 3] # Возвращает сумму, если пустой список то 0\n",
    "nul = []\n",
    "def find_average(numbers):\n",
    "    if numbers is None:\n",
    "        return 0\n",
    "    else:\n",
    "        return sum(numbers)     \n",
    "        \n",
    "print(find_average(number)) \n",
    "print(find_average(nul))   "
   ]
  },
  {
   "cell_type": "code",
   "execution_count": 28,
   "metadata": {},
   "outputs": [
    {
     "data": {
      "text/plain": [
       "36"
      ]
     },
     "execution_count": 28,
     "metadata": {},
     "output_type": "execute_result"
    }
   ],
   "source": [
    "def summation(num): # Возвращает сумму всех элементов списка\n",
    "    result = 0\n",
    "    for i in range(1,num+1):\n",
    "        result += i\n",
    "    return result\n",
    "summation(8)\n",
    "\n",
    "# def summation(num):\n",
    "#     return sum(range(num + 1))\n",
    "# summation(8)"
   ]
  },
  {
   "cell_type": "code",
   "execution_count": 81,
   "metadata": {},
   "outputs": [
    {
     "data": {
      "text/plain": [
       "45"
      ]
     },
     "metadata": {},
     "output_type": "display_data"
    },
    {
     "data": {
      "text/plain": [
       "5"
      ]
     },
     "metadata": {},
     "output_type": "display_data"
    },
    {
     "data": {
      "text/plain": [
       "0"
      ]
     },
     "metadata": {},
     "output_type": "display_data"
    },
    {
     "data": {
      "text/plain": [
       "0"
      ]
     },
     "metadata": {},
     "output_type": "display_data"
    }
   ],
   "source": [
    "# Сумма чисел, кроме большего и меньшего, даже если их много\n",
    "# Если вместо массива задано пустое значение ( null, None, Nothing и т.д.), \n",
    "# или заданный массив является пустым списком или списком, \n",
    "# содержащим только 1 элемент, возвращается 0.\n",
    "def sum_array(arr): \n",
    "    if arr == [] or arr == None:\n",
    "        return 0\n",
    "    if len(arr)==1:\n",
    "        return 0\n",
    "    mi = min(arr)\n",
    "    ma = max(arr)\n",
    "    result = []\n",
    "    maxi = []\n",
    "    mini = []\n",
    "   \n",
    "    for i in arr:\n",
    "        if i == mi:\n",
    "            mini.append(i)\n",
    "        if i == ma:\n",
    "            maxi.append(i)\n",
    "        if i != mi and i !=ma:\n",
    "            result.append(i)\n",
    "    \n",
    "    maxi.pop(0)\n",
    "    mini.pop(0)\n",
    "    return sum(result)+sum(maxi)+sum(mini)\n",
    "    \n",
    "number = [6, 2, 1, 8, 10,10,10, 9]\n",
    "numb = [17, 3, 5]\n",
    "nn = None\n",
    "na = [5]  \n",
    "display(sum_array(number)) \n",
    "display(sum_array(numb))\n",
    "display(sum_array(nn))\n",
    "display(sum_array(na))\n",
    "\n",
    "# def sum_array(arr):\n",
    "#     if arr == None or len(arr) < 3:\n",
    "#         return 0\n",
    "#     return sum(arr) - max(arr) - min(arr)"
   ]
  }
 ],
 "metadata": {
  "interpreter": {
   "hash": "aef7f665a0694191b93f381ff9bf3fa49787cf0440ec035fed5813d2b4b57be1"
  },
  "kernelspec": {
   "display_name": "Python 3.9.10 64-bit",
   "language": "python",
   "name": "python3"
  },
  "language_info": {
   "codemirror_mode": {
    "name": "ipython",
    "version": 3
   },
   "file_extension": ".py",
   "mimetype": "text/x-python",
   "name": "python",
   "nbconvert_exporter": "python",
   "pygments_lexer": "ipython3",
   "version": "3.9.10"
  },
  "orig_nbformat": 4
 },
 "nbformat": 4,
 "nbformat_minor": 2
}
