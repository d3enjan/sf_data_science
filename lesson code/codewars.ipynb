{
 "cells": [
  {
   "cell_type": "code",
   "execution_count": 17,
   "metadata": {},
   "outputs": [
    {
     "name": "stdout",
     "output_type": "stream",
     "text": [
      "6\n",
      "0\n"
     ]
    }
   ],
   "source": [
    "number = [1, 2, 3] # Возвращает сумму, если пустой список то 0\n",
    "nul = []\n",
    "def find_average(numbers):\n",
    "    if numbers is None:\n",
    "        return 0\n",
    "    else:\n",
    "        return sum(numbers)     \n",
    "        \n",
    "print(find_average(number)) \n",
    "print(find_average(nul))   "
   ]
  },
  {
   "cell_type": "code",
   "execution_count": 28,
   "metadata": {},
   "outputs": [
    {
     "data": {
      "text/plain": [
       "36"
      ]
     },
     "execution_count": 28,
     "metadata": {},
     "output_type": "execute_result"
    }
   ],
   "source": [
    "def summation(num): # Возвращает сумму всех элементов списка\n",
    "    result = 0\n",
    "    for i in range(1,num+1):\n",
    "        result += i\n",
    "    return result\n",
    "summation(8)\n",
    "\n",
    "# def summation(num):\n",
    "#     return sum(range(num + 1))\n",
    "# summation(8)"
   ]
  },
  {
   "cell_type": "code",
   "execution_count": 81,
   "metadata": {},
   "outputs": [
    {
     "data": {
      "text/plain": [
       "45"
      ]
     },
     "metadata": {},
     "output_type": "display_data"
    },
    {
     "data": {
      "text/plain": [
       "5"
      ]
     },
     "metadata": {},
     "output_type": "display_data"
    },
    {
     "data": {
      "text/plain": [
       "0"
      ]
     },
     "metadata": {},
     "output_type": "display_data"
    },
    {
     "data": {
      "text/plain": [
       "0"
      ]
     },
     "metadata": {},
     "output_type": "display_data"
    }
   ],
   "source": [
    "# Сумма чисел, кроме большего и меньшего, даже если их много\n",
    "# Если вместо массива задано пустое значение ( null, None, Nothing и т.д.), \n",
    "# или заданный массив является пустым списком или списком, \n",
    "# содержащим только 1 элемент, возвращается 0.\n",
    "def sum_array(arr): \n",
    "    if arr == [] or arr == None:\n",
    "        return 0\n",
    "    if len(arr)==1:\n",
    "        return 0\n",
    "    mi = min(arr)\n",
    "    ma = max(arr)\n",
    "    result = []\n",
    "    maxi = []\n",
    "    mini = []\n",
    "   \n",
    "    for i in arr:\n",
    "        if i == mi:\n",
    "            mini.append(i)\n",
    "        if i == ma:\n",
    "            maxi.append(i)\n",
    "        if i != mi and i !=ma:\n",
    "            result.append(i)\n",
    "    \n",
    "    maxi.pop(0)\n",
    "    mini.pop(0)\n",
    "    return sum(result)+sum(maxi)+sum(mini)\n",
    "    \n",
    "number = [6, 2, 1, 8, 10,10,10, 9]\n",
    "numb = [17, 3, 5]\n",
    "nn = None\n",
    "na = [5]  \n",
    "display(sum_array(number)) \n",
    "display(sum_array(numb))\n",
    "display(sum_array(nn))\n",
    "display(sum_array(na))\n",
    "\n",
    "# def sum_array(arr):\n",
    "#     if arr == None or len(arr) < 3:\n",
    "#         return 0\n",
    "#     return sum(arr) - max(arr) - min(arr)"
   ]
  },
  {
   "cell_type": "code",
   "execution_count": 11,
   "metadata": {},
   "outputs": [
    {
     "name": "stdout",
     "output_type": "stream",
     "text": [
      "[1, 3, 3, 2, 5, 7, 7, 2, 7, 4]\n"
     ]
    }
   ],
   "source": [
    "# Возвращает список, где четные на своем месте, не четные по возрастанию\n",
    "original_list = [1,5,3,2,7,7,3,2,7,4]\n",
    " \n",
    "def sort_odds(lst):\n",
    "    sorted_odds = sorted([n for n in lst if n%2])\n",
    "    new_list = []\n",
    "    for n in lst:\n",
    "        if n%2:\n",
    "            new_list.append(sorted_odds.pop(0))\n",
    "        else:\n",
    "            new_list.append(n)\n",
    "    return list(new_list)\n",
    "print(sort_odds(original_list))"
   ]
  },
  {
   "cell_type": "code",
   "execution_count": 14,
   "metadata": {},
   "outputs": [
    {
     "name": "stdout",
     "output_type": "stream",
     "text": [
      "17\n"
     ]
    }
   ],
   "source": [
    "#Подсчитать количество определеных элементов в списке\n",
    "lst = [True,  True,  True,  False,\n",
    "  True,  True,  True,  True ,\n",
    "  True,  False, True,  False,\n",
    "  True,  False, False, True ,\n",
    "  True,  True,  True,  True ,\n",
    "  False, False, True,  True]\n",
    "\n",
    "def count_sheeps(sheep):\n",
    "    lst_t = []\n",
    "    for i in sheep:\n",
    "        if i == True:\n",
    "            lst_t.append(i)\n",
    "    return len(lst_t)\n",
    "print(count_sheeps(lst))       \n",
    "\n",
    "def count_sheeps(x):\n",
    "  return x.count(True)\n",
    "\n",
    "    "
   ]
  },
  {
   "cell_type": "code",
   "execution_count": 38,
   "metadata": {},
   "outputs": [
    {
     "data": {
      "text/plain": [
       "['23582357']"
      ]
     },
     "execution_count": 38,
     "metadata": {},
     "output_type": "execute_result"
    }
   ],
   "source": [
    "x = ('23582357')\n",
    "a = x.split('')\n",
    "a "
   ]
  },
  {
   "cell_type": "code",
   "execution_count": 40,
   "metadata": {},
   "outputs": [
    {
     "data": {
      "text/plain": [
       "[7, 5, 3, 2, 8, 5, 3, 2]"
      ]
     },
     "execution_count": 40,
     "metadata": {},
     "output_type": "execute_result"
    }
   ],
   "source": [
    "# Число в список наоборот\n",
    "x = 23582357\n",
    "def digitize(n):\n",
    "    a = [int(s) for s in str(n)][::-1]\n",
    "    return a \n",
    "digitize(x)\n"
   ]
  },
  {
   "cell_type": "code",
   "execution_count": 61,
   "metadata": {},
   "outputs": [
    {
     "name": "stdout",
     "output_type": "stream",
     "text": [
      "[7, 5, 3, 2, 8, 5, 3, 2]\n"
     ]
    }
   ],
   "source": [
    "x = 23582357\n",
    "def digitize(n):\n",
    "    lst = []\n",
    "    for i in str(n)[::-1]:\n",
    "        lst.append(int(i))\n",
    "    return lst\n",
    "print(digitize(x))"
   ]
  },
  {
   "cell_type": "code",
   "execution_count": null,
   "metadata": {},
   "outputs": [],
   "source": []
  }
 ],
 "metadata": {
  "interpreter": {
   "hash": "aef7f665a0694191b93f381ff9bf3fa49787cf0440ec035fed5813d2b4b57be1"
  },
  "kernelspec": {
   "display_name": "Python 3.9.10 64-bit",
   "language": "python",
   "name": "python3"
  },
  "language_info": {
   "codemirror_mode": {
    "name": "ipython",
    "version": 3
   },
   "file_extension": ".py",
   "mimetype": "text/x-python",
   "name": "python",
   "nbconvert_exporter": "python",
   "pygments_lexer": "ipython3",
   "version": "3.9.10"
  },
  "orig_nbformat": 4
 },
 "nbformat": 4,
 "nbformat_minor": 2
}
