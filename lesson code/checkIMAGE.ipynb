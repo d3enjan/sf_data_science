{
 "cells": [
  {
   "cell_type": "code",
   "execution_count": 1,
   "metadata": {},
   "outputs": [],
   "source": [
    "import pandas as pd\n",
    "import numpy as np\n",
    "import matplotlib.pyplot as plt\n",
    "import seaborn as sns\n",
    "import plotly.express as px"
   ]
  },
  {
   "cell_type": "code",
   "execution_count": 2,
   "metadata": {},
   "outputs": [],
   "source": [
    "hh_data = pd.read_csv('data/dst-3.0_16_1_hh_database.csv', sep=';')"
   ]
  },
  {
   "cell_type": "code",
   "execution_count": 6,
   "metadata": {},
   "outputs": [
    {
     "data": {
      "text/html": [
       "<div>\n",
       "<style scoped>\n",
       "    .dataframe tbody tr th:only-of-type {\n",
       "        vertical-align: middle;\n",
       "    }\n",
       "\n",
       "    .dataframe tbody tr th {\n",
       "        vertical-align: top;\n",
       "    }\n",
       "\n",
       "    .dataframe thead th {\n",
       "        text-align: right;\n",
       "    }\n",
       "</style>\n",
       "<table border=\"1\" class=\"dataframe\">\n",
       "  <thead>\n",
       "    <tr style=\"text-align: right;\">\n",
       "      <th></th>\n",
       "      <th>Пол, возраст</th>\n",
       "      <th>ЗП</th>\n",
       "      <th>Ищет работу на должность:</th>\n",
       "      <th>Город, переезд, командировки</th>\n",
       "      <th>Занятость</th>\n",
       "      <th>График</th>\n",
       "      <th>Опыт работы</th>\n",
       "      <th>Последнее/нынешнее место работы</th>\n",
       "      <th>Последняя/нынешняя должность</th>\n",
       "      <th>Образование и ВУЗ</th>\n",
       "      <th>Обновление резюме</th>\n",
       "      <th>Авто</th>\n",
       "    </tr>\n",
       "  </thead>\n",
       "  <tbody>\n",
       "    <tr>\n",
       "      <th>0</th>\n",
       "      <td>Мужчина ,  39 лет , родился 27 ноября 1979</td>\n",
       "      <td>29000 руб.</td>\n",
       "      <td>Системный администратор</td>\n",
       "      <td>Советск (Калининградская область) , не готов к...</td>\n",
       "      <td>частичная занятость, проектная работа, полная ...</td>\n",
       "      <td>гибкий график, полный день, сменный график, ва...</td>\n",
       "      <td>Опыт работы 16 лет 10 месяцев  Август 2010 — п...</td>\n",
       "      <td>МАОУ \"СОШ № 1 г.Немана\"</td>\n",
       "      <td>Системный администратор</td>\n",
       "      <td>Неоконченное высшее образование 2000  Балтийск...</td>\n",
       "      <td>16.04.2019 15:59</td>\n",
       "      <td>Имеется собственный автомобиль</td>\n",
       "    </tr>\n",
       "  </tbody>\n",
       "</table>\n",
       "</div>"
      ],
      "text/plain": [
       "                                 Пол, возраст          ЗП  \\\n",
       "0  Мужчина ,  39 лет , родился 27 ноября 1979  29000 руб.   \n",
       "\n",
       "  Ищет работу на должность:  \\\n",
       "0   Системный администратор   \n",
       "\n",
       "                        Город, переезд, командировки  \\\n",
       "0  Советск (Калининградская область) , не готов к...   \n",
       "\n",
       "                                           Занятость  \\\n",
       "0  частичная занятость, проектная работа, полная ...   \n",
       "\n",
       "                                              График  \\\n",
       "0  гибкий график, полный день, сменный график, ва...   \n",
       "\n",
       "                                         Опыт работы  \\\n",
       "0  Опыт работы 16 лет 10 месяцев  Август 2010 — п...   \n",
       "\n",
       "  Последнее/нынешнее место работы Последняя/нынешняя должность  \\\n",
       "0         МАОУ \"СОШ № 1 г.Немана\"      Системный администратор   \n",
       "\n",
       "                                   Образование и ВУЗ Обновление резюме  \\\n",
       "0  Неоконченное высшее образование 2000  Балтийск...  16.04.2019 15:59   \n",
       "\n",
       "                             Авто  \n",
       "0  Имеется собственный автомобиль  "
      ]
     },
     "execution_count": 6,
     "metadata": {},
     "output_type": "execute_result"
    }
   ],
   "source": [
    "hh_data.head(1)"
   ]
  },
  {
   "cell_type": "code",
   "execution_count": 7,
   "metadata": {},
   "outputs": [],
   "source": [
    "fig = px.histogram(hh_data,\n",
    "                   x= 'ЗП'\n",
    "                  )\n",
    "fig.update_layout(\n",
    "    title_text='Гистограмма распределение признака «Возраст»',\n",
    "    yaxis_title_text='Соискатели', \n",
    "    bargap=0.05, \n",
    "    bargroupgap=0.1 \n",
    ")\n",
    "fig.write_image(\"plotly/summ.png\")\n",
    "#fig.show()\n",
    "fig  = px.box(data_frame = hh_data ,\n",
    "             x='ЗП',\n",
    "             title = 'Коробчатая диаграмма распределение признака возраст.',\n",
    "             width= 1000\n",
    "             )\n",
    "fig.write_image(\"plotly/summ1.png\")\n",
    "#fig.show()\n"
   ]
  },
  {
   "cell_type": "markdown",
   "metadata": {},
   "source": [
    "![title](plotly/summ.png)\n",
    "![title](plotly/summ1.png)"
   ]
  },
  {
   "cell_type": "code",
   "execution_count": null,
   "metadata": {},
   "outputs": [],
   "source": []
  }
 ],
 "metadata": {
  "interpreter": {
   "hash": "71eded3e21535385c70289f2bd5a8f1b7d1988946ade5d80a0803a092df95cf4"
  },
  "kernelspec": {
   "display_name": "Python 3.9.10 64-bit",
   "language": "python",
   "name": "python3"
  },
  "language_info": {
   "codemirror_mode": {
    "name": "ipython",
    "version": 3
   },
   "file_extension": ".py",
   "mimetype": "text/x-python",
   "name": "python",
   "nbconvert_exporter": "python",
   "pygments_lexer": "ipython3",
   "version": "3.9.10"
  },
  "orig_nbformat": 4
 },
 "nbformat": 4,
 "nbformat_minor": 2
}
