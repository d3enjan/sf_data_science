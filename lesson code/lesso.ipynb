{
 "cells": [
  {
   "cell_type": "code",
   "execution_count": 6,
   "metadata": {},
   "outputs": [],
   "source": [
    "import matplotlib.pyplot as plt\n",
    "import seaborn as sns\n",
    "import pandas as pd\n",
    "import numpy as np\n",
    "\n"
   ]
  },
  {
   "cell_type": "code",
   "execution_count": 4,
   "metadata": {},
   "outputs": [],
   "source": [
    "# solar = pd.read_csv('solarpower.csv', sep=',') \n",
    "\n",
    "# for i, row in enumerate(solar['cum_power']):\n",
    "#     if row < 0:\n",
    "#         print(solar.loc[i, row]) #= (solar.loc[i+1, 'cum_power'] + solar.loc[i-1, 'cum_power'])/2  \n",
    "# #         print('Nice')\n",
    "# # #         solar.iloc[i]['cum_power'] = solar.iloc[i]['cum_power'] is  444 # = 500 #.ap(solar.iloc[i]['cum_power'] + solar.iloc[i+1]['cum_power'])/2\n",
    "# #     # if solar.iloc[i]== -1:\n",
    "# #     #     print(solar['cum_power'])#(solar[i][row])# = (solar.iloc[i-1]['cum_power'] + solar.iloc[i+1]['cum_power'])/2\n",
    "# #         # print(solar.iloc[i-1]['cum_power'])\n",
    "        \n",
    "# #     # print(i, row['cum_power'])\n",
    "# #     # if row['cum_power'] == -1:\n",
    "# #     #     solar.iloc[i, 'cum_power']  =  (solar.iloc[i-1, 'cum_power'] + solar.iloc[i+1, 'cum_power'])/2\n",
    "# # # print(solar.loc[i, 'cum_power'])\n",
    "# solar.iloc[44:47]\n",
    "        "
   ]
  },
  {
   "cell_type": "code",
   "execution_count": 7,
   "metadata": {},
   "outputs": [],
   "source": [
    "solar = pd.read_csv('solarpower.csv', sep=',') "
   ]
  },
  {
   "cell_type": "code",
   "execution_count": 8,
   "metadata": {},
   "outputs": [
    {
     "name": "stdout",
     "output_type": "stream",
     "text": [
      "647\n"
     ]
    },
    {
     "data": {
      "text/html": [
       "<div>\n",
       "<style scoped>\n",
       "    .dataframe tbody tr th:only-of-type {\n",
       "        vertical-align: middle;\n",
       "    }\n",
       "\n",
       "    .dataframe tbody tr th {\n",
       "        vertical-align: top;\n",
       "    }\n",
       "\n",
       "    .dataframe thead th {\n",
       "        text-align: right;\n",
       "    }\n",
       "</style>\n",
       "<table border=\"1\" class=\"dataframe\">\n",
       "  <thead>\n",
       "    <tr style=\"text-align: right;\">\n",
       "      <th></th>\n",
       "      <th>date</th>\n",
       "      <th>cum_power</th>\n",
       "    </tr>\n",
       "  </thead>\n",
       "  <tbody>\n",
       "    <tr>\n",
       "      <th>44</th>\n",
       "      <td>2017-02-14</td>\n",
       "      <td>20248.0</td>\n",
       "    </tr>\n",
       "    <tr>\n",
       "      <th>45</th>\n",
       "      <td>2017-02-15</td>\n",
       "      <td>20255.0</td>\n",
       "    </tr>\n",
       "    <tr>\n",
       "      <th>46</th>\n",
       "      <td>2017-02-16</td>\n",
       "      <td>20262.0</td>\n",
       "    </tr>\n",
       "  </tbody>\n",
       "</table>\n",
       "</div>"
      ],
      "text/plain": [
       "          date  cum_power\n",
       "44  2017-02-14    20248.0\n",
       "45  2017-02-15    20255.0\n",
       "46  2017-02-16    20262.0"
      ]
     },
     "execution_count": 8,
     "metadata": {},
     "output_type": "execute_result"
    }
   ],
   "source": [
    "# Задание из аттесатции. Нужно значения, где -1(меньше 0), заменить средним значением соседних ячеек.\n",
    "mask = solar['cum_power']<0\n",
    "list_minus = solar.index[mask].tolist()# создаем список индессов по условию\n",
    "for i in list_minus: #цикл по индексам\n",
    "        solar.loc[i, 'cum_power'] = (solar.loc[i-1, 'cum_power'] + solar.loc[i+1, 'cum_power'])/2 # Заменяем значение в ячейке нп среднее.\n",
    "print(i)\n",
    "    \n",
    "        # print('Nice')\n",
    "solar.iloc[44:47]"
   ]
  },
  {
   "cell_type": "code",
   "execution_count": 9,
   "metadata": {},
   "outputs": [
    {
     "data": {
      "text/plain": [
       "23848.246987951807"
      ]
     },
     "execution_count": 9,
     "metadata": {},
     "output_type": "execute_result"
    }
   ],
   "source": [
    "solar['cum_power'].sum()/solar.shape[0] # среднее арифметическое столбца"
   ]
  },
  {
   "cell_type": "code",
   "execution_count": null,
   "metadata": {},
   "outputs": [
    {
     "data": {
      "text/html": [
       "<div>\n",
       "<style scoped>\n",
       "    .dataframe tbody tr th:only-of-type {\n",
       "        vertical-align: middle;\n",
       "    }\n",
       "\n",
       "    .dataframe tbody tr th {\n",
       "        vertical-align: top;\n",
       "    }\n",
       "\n",
       "    .dataframe thead th {\n",
       "        text-align: right;\n",
       "    }\n",
       "</style>\n",
       "<table border=\"1\" class=\"dataframe\">\n",
       "  <thead>\n",
       "    <tr style=\"text-align: right;\">\n",
       "      <th></th>\n",
       "      <th>date</th>\n",
       "      <th>cum_power</th>\n",
       "    </tr>\n",
       "  </thead>\n",
       "  <tbody>\n",
       "    <tr>\n",
       "      <th>0</th>\n",
       "      <td>2017-01-01</td>\n",
       "      <td>20111.0</td>\n",
       "    </tr>\n",
       "    <tr>\n",
       "      <th>1</th>\n",
       "      <td>2017-01-02</td>\n",
       "      <td>20112.0</td>\n",
       "    </tr>\n",
       "    <tr>\n",
       "      <th>2</th>\n",
       "      <td>2017-01-03</td>\n",
       "      <td>20115.0</td>\n",
       "    </tr>\n",
       "    <tr>\n",
       "      <th>3</th>\n",
       "      <td>2017-01-04</td>\n",
       "      <td>20117.0</td>\n",
       "    </tr>\n",
       "    <tr>\n",
       "      <th>4</th>\n",
       "      <td>2017-01-05</td>\n",
       "      <td>20119.0</td>\n",
       "    </tr>\n",
       "    <tr>\n",
       "      <th>...</th>\n",
       "      <td>...</td>\n",
       "      <td>...</td>\n",
       "    </tr>\n",
       "    <tr>\n",
       "      <th>659</th>\n",
       "      <td>2018-10-22</td>\n",
       "      <td>28101.0</td>\n",
       "    </tr>\n",
       "    <tr>\n",
       "      <th>660</th>\n",
       "      <td>2018-10-23</td>\n",
       "      <td>28109.0</td>\n",
       "    </tr>\n",
       "    <tr>\n",
       "      <th>661</th>\n",
       "      <td>2018-10-24</td>\n",
       "      <td>28115.0</td>\n",
       "    </tr>\n",
       "    <tr>\n",
       "      <th>662</th>\n",
       "      <td>2018-10-25</td>\n",
       "      <td>28117.0</td>\n",
       "    </tr>\n",
       "    <tr>\n",
       "      <th>663</th>\n",
       "      <td>2018-10-26</td>\n",
       "      <td>28120.0</td>\n",
       "    </tr>\n",
       "  </tbody>\n",
       "</table>\n",
       "<p>664 rows × 2 columns</p>\n",
       "</div>"
      ],
      "text/plain": [
       "           date  cum_power\n",
       "0    2017-01-01    20111.0\n",
       "1    2017-01-02    20112.0\n",
       "2    2017-01-03    20115.0\n",
       "3    2017-01-04    20117.0\n",
       "4    2017-01-05    20119.0\n",
       "..          ...        ...\n",
       "659  2018-10-22    28101.0\n",
       "660  2018-10-23    28109.0\n",
       "661  2018-10-24    28115.0\n",
       "662  2018-10-25    28117.0\n",
       "663  2018-10-26    28120.0\n",
       "\n",
       "[664 rows x 2 columns]"
      ]
     },
     "execution_count": 35,
     "metadata": {},
     "output_type": "execute_result"
    }
   ],
   "source": [
    "solar#.iloc[44:47]"
   ]
  },
  {
   "cell_type": "code",
   "execution_count": null,
   "metadata": {},
   "outputs": [],
   "source": [
    "for i,row in solar.iterrows():\n",
    "    if row['cum_power'] == -1:\n",
    "        solar.iloc[i]['cum_power']  =  ((solar.iloc[i-1], ['cum_power']) + (solar.iloc[i+1], ['cum_power']))/2"
   ]
  },
  {
   "cell_type": "code",
   "execution_count": null,
   "metadata": {},
   "outputs": [
    {
     "data": {
      "text/plain": [
       "44    False\n",
       "45    False\n",
       "46    False\n",
       "Name: cum_power, dtype: bool"
      ]
     },
     "execution_count": 37,
     "metadata": {},
     "output_type": "execute_result"
    }
   ],
   "source": [
    "mask = solar['cum_power'] == -1\n",
    "mask[44:47]"
   ]
  },
  {
   "cell_type": "code",
   "execution_count": null,
   "metadata": {},
   "outputs": [
    {
     "data": {
      "text/html": [
       "<div>\n",
       "<style scoped>\n",
       "    .dataframe tbody tr th:only-of-type {\n",
       "        vertical-align: middle;\n",
       "    }\n",
       "\n",
       "    .dataframe tbody tr th {\n",
       "        vertical-align: top;\n",
       "    }\n",
       "\n",
       "    .dataframe thead th {\n",
       "        text-align: right;\n",
       "    }\n",
       "</style>\n",
       "<table border=\"1\" class=\"dataframe\">\n",
       "  <thead>\n",
       "    <tr style=\"text-align: right;\">\n",
       "      <th></th>\n",
       "      <th>date</th>\n",
       "      <th>cum_power</th>\n",
       "    </tr>\n",
       "  </thead>\n",
       "  <tbody>\n",
       "    <tr>\n",
       "      <th>44</th>\n",
       "      <td>2017-02-14</td>\n",
       "      <td>20248.0</td>\n",
       "    </tr>\n",
       "    <tr>\n",
       "      <th>45</th>\n",
       "      <td>2017-02-15</td>\n",
       "      <td>20255.0</td>\n",
       "    </tr>\n",
       "    <tr>\n",
       "      <th>46</th>\n",
       "      <td>2017-02-16</td>\n",
       "      <td>20262.0</td>\n",
       "    </tr>\n",
       "  </tbody>\n",
       "</table>\n",
       "</div>"
      ],
      "text/plain": [
       "          date  cum_power\n",
       "44  2017-02-14    20248.0\n",
       "45  2017-02-15    20255.0\n",
       "46  2017-02-16    20262.0"
      ]
     },
     "execution_count": 38,
     "metadata": {},
     "output_type": "execute_result"
    }
   ],
   "source": [
    "\n",
    "mask = solar['cum_power']<0\n",
    "list_minus = solar.index[mask].tolist()\n",
    "for i in list_minus:\n",
    "    if i in solar.index:\n",
    "        solar['cum_power'] = 24444441 #((solar.iloc[i-1], ['cum_power']) + (solar.iloc[i+1], ['cum_power']))/2\n",
    "    \n",
    "        # print('Nice')\n",
    "solar.iloc[44:47]"
   ]
  }
 ],
 "metadata": {
  "interpreter": {
   "hash": "71eded3e21535385c70289f2bd5a8f1b7d1988946ade5d80a0803a092df95cf4"
  },
  "kernelspec": {
   "display_name": "Python 3.9.10 64-bit",
   "language": "python",
   "name": "python3"
  },
  "language_info": {
   "codemirror_mode": {
    "name": "ipython",
    "version": 3
   },
   "file_extension": ".py",
   "mimetype": "text/x-python",
   "name": "python",
   "nbconvert_exporter": "python",
   "pygments_lexer": "ipython3",
   "version": "3.9.10"
  },
  "orig_nbformat": 4
 },
 "nbformat": 4,
 "nbformat_minor": 2
}
