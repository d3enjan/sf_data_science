{
 "cells": [
  {
   "cell_type": "code",
   "execution_count": 9,
   "metadata": {},
   "outputs": [
    {
     "data": {
      "text/html": [
       "<div>\n",
       "<style scoped>\n",
       "    .dataframe tbody tr th:only-of-type {\n",
       "        vertical-align: middle;\n",
       "    }\n",
       "\n",
       "    .dataframe tbody tr th {\n",
       "        vertical-align: top;\n",
       "    }\n",
       "\n",
       "    .dataframe thead th {\n",
       "        text-align: right;\n",
       "    }\n",
       "</style>\n",
       "<table border=\"1\" class=\"dataframe\">\n",
       "  <thead>\n",
       "    <tr style=\"text-align: right;\">\n",
       "      <th></th>\n",
       "      <th>Month</th>\n",
       "      <th>Year</th>\n",
       "      <th>Waist</th>\n",
       "      <th>Hips</th>\n",
       "      <th>Height</th>\n",
       "      <th>Weight</th>\n",
       "      <th>BMI</th>\n",
       "      <th>Waist/Hip</th>\n",
       "    </tr>\n",
       "  </thead>\n",
       "  <tbody>\n",
       "    <tr>\n",
       "      <th>0</th>\n",
       "      <td>December</td>\n",
       "      <td>1953</td>\n",
       "      <td>24.000000</td>\n",
       "      <td>36.000000</td>\n",
       "      <td>65.000000</td>\n",
       "      <td>118.000000</td>\n",
       "      <td>19.630000</td>\n",
       "      <td>0.670000</td>\n",
       "    </tr>\n",
       "    <tr>\n",
       "      <th>1</th>\n",
       "      <td>January</td>\n",
       "      <td>1954</td>\n",
       "      <td>23.433172</td>\n",
       "      <td>34.698708</td>\n",
       "      <td>66.057258</td>\n",
       "      <td>114.936066</td>\n",
       "      <td>18.232168</td>\n",
       "      <td>0.677916</td>\n",
       "    </tr>\n",
       "    <tr>\n",
       "      <th>2</th>\n",
       "      <td>February</td>\n",
       "      <td>1954</td>\n",
       "      <td>23.433172</td>\n",
       "      <td>34.698708</td>\n",
       "      <td>66.057258</td>\n",
       "      <td>114.936066</td>\n",
       "      <td>18.232168</td>\n",
       "      <td>0.677916</td>\n",
       "    </tr>\n",
       "    <tr>\n",
       "      <th>3</th>\n",
       "      <td>March</td>\n",
       "      <td>1954</td>\n",
       "      <td>24.000000</td>\n",
       "      <td>35.000000</td>\n",
       "      <td>66.000000</td>\n",
       "      <td>118.000000</td>\n",
       "      <td>19.040000</td>\n",
       "      <td>0.690000</td>\n",
       "    </tr>\n",
       "    <tr>\n",
       "      <th>4</th>\n",
       "      <td>April</td>\n",
       "      <td>1954</td>\n",
       "      <td>23.433172</td>\n",
       "      <td>34.698708</td>\n",
       "      <td>66.057258</td>\n",
       "      <td>114.936066</td>\n",
       "      <td>18.232168</td>\n",
       "      <td>0.677916</td>\n",
       "    </tr>\n",
       "  </tbody>\n",
       "</table>\n",
       "</div>"
      ],
      "text/plain": [
       "      Month  Year      Waist       Hips     Height      Weight        BMI  \\\n",
       "0  December  1953  24.000000  36.000000  65.000000  118.000000  19.630000   \n",
       "1   January  1954  23.433172  34.698708  66.057258  114.936066  18.232168   \n",
       "2  February  1954  23.433172  34.698708  66.057258  114.936066  18.232168   \n",
       "3     March  1954  24.000000  35.000000  66.000000  118.000000  19.040000   \n",
       "4     April  1954  23.433172  34.698708  66.057258  114.936066  18.232168   \n",
       "\n",
       "   Waist/Hip  \n",
       "0   0.670000  \n",
       "1   0.677916  \n",
       "2   0.677916  \n",
       "3   0.690000  \n",
       "4   0.677916  "
      ]
     },
     "execution_count": 9,
     "metadata": {},
     "output_type": "execute_result"
    }
   ],
   "source": [
    "import pandas as pd \n",
    "import numbers as np\n",
    "hh_data = pd.read_csv('C:/Users/d3en/OneDrive/Рабочий стол/dataScience/IDE/skillfactory/EDA-2. Математическая статистика в контексте EDA/model.csv')\n",
    "hh_data.head()"
   ]
  },
  {
   "cell_type": "markdown",
   "metadata": {},
   "source": [
    "![alt](./image/%D0%A1%D0%BD%D0%B8%D0%BC%D0%BE%D0%BA%20%D1%8D%D0%BA%D1%80%D0%B0%D0%BD%D0%B0%20(9).png)   "
   ]
  },
  {
   "cell_type": "markdown",
   "metadata": {},
   "source": []
  },
  {
   "cell_type": "markdown",
   "metadata": {},
   "source": [
    "![alt](https://lms.skillfactory.ru/assets/courseware/v1/b9f53df630dc3d3181ed5426b77dcc20/asset-v1:SkillFactory+DSPR-2.0+14JULY2021+type@asset+block/dst-eda-2-17.png)"
   ]
  }
 ],
 "metadata": {
  "kernelspec": {
   "display_name": "Python 3.9.10 64-bit",
   "language": "python",
   "name": "python3"
  },
  "language_info": {
   "codemirror_mode": {
    "name": "ipython",
    "version": 3
   },
   "file_extension": ".py",
   "mimetype": "text/x-python",
   "name": "python",
   "nbconvert_exporter": "python",
   "pygments_lexer": "ipython3",
   "version": "3.9.10"
  },
  "orig_nbformat": 4,
  "vscode": {
   "interpreter": {
    "hash": "aef7f665a0694191b93f381ff9bf3fa49787cf0440ec035fed5813d2b4b57be1"
   }
  }
 },
 "nbformat": 4,
 "nbformat_minor": 2
}
