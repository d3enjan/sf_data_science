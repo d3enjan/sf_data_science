{
 "cells": [
  {
   "cell_type": "markdown",
   "id": "c353de9a",
   "metadata": {},
   "source": [
    "# Проект: классификация"
   ]
  },
  {
   "cell_type": "code",
   "execution_count": 1,
   "id": "4a6e54dc",
   "metadata": {},
   "outputs": [],
   "source": [
    "import pandas as pd\n",
    "import numpy as np\n",
    "import matplotlib.pyplot as plt\n",
    "import seaborn as sns\n",
    "from  sklearn.ensemble import IsolationForest\n",
    "import warnings\n",
    "warnings.filterwarnings('ignore')\n",
    "from sklearn.preprocessing  import LabelEncoder\n",
    "from sklearn import linear_model \n",
    "from sklearn import tree \n",
    "from sklearn import ensemble \n",
    "from sklearn import metrics \n",
    "from sklearn import preprocessing \n",
    "from sklearn.model_selection import train_test_split \n",
    "from sklearn.feature_selection import SelectKBest, f_classif"
   ]
  },
  {
   "cell_type": "markdown",
   "id": "71559b60",
   "metadata": {},
   "source": [
    "## Часть 1. Знакомство с данными, обработка пропусков и выбросов"
   ]
  },
  {
   "cell_type": "markdown",
   "id": "7c5e31b2",
   "metadata": {},
   "source": [
    "### Задание 1"
   ]
  },
  {
   "cell_type": "code",
   "execution_count": 2,
   "id": "20730cd7",
   "metadata": {},
   "outputs": [
    {
     "data": {
      "text/html": [
       "<div>\n",
       "<style scoped>\n",
       "    .dataframe tbody tr th:only-of-type {\n",
       "        vertical-align: middle;\n",
       "    }\n",
       "\n",
       "    .dataframe tbody tr th {\n",
       "        vertical-align: top;\n",
       "    }\n",
       "\n",
       "    .dataframe thead th {\n",
       "        text-align: right;\n",
       "    }\n",
       "</style>\n",
       "<table border=\"1\" class=\"dataframe\">\n",
       "  <thead>\n",
       "    <tr style=\"text-align: right;\">\n",
       "      <th></th>\n",
       "      <th>age</th>\n",
       "      <th>job</th>\n",
       "      <th>marital</th>\n",
       "      <th>education</th>\n",
       "      <th>default</th>\n",
       "      <th>balance</th>\n",
       "      <th>housing</th>\n",
       "      <th>loan</th>\n",
       "      <th>contact</th>\n",
       "      <th>day</th>\n",
       "      <th>month</th>\n",
       "      <th>duration</th>\n",
       "      <th>campaign</th>\n",
       "      <th>pdays</th>\n",
       "      <th>previous</th>\n",
       "      <th>poutcome</th>\n",
       "      <th>deposit</th>\n",
       "    </tr>\n",
       "  </thead>\n",
       "  <tbody>\n",
       "    <tr>\n",
       "      <th>0</th>\n",
       "      <td>59</td>\n",
       "      <td>admin.</td>\n",
       "      <td>married</td>\n",
       "      <td>secondary</td>\n",
       "      <td>no</td>\n",
       "      <td>2 343,00 $</td>\n",
       "      <td>yes</td>\n",
       "      <td>no</td>\n",
       "      <td>unknown</td>\n",
       "      <td>5</td>\n",
       "      <td>may</td>\n",
       "      <td>1042</td>\n",
       "      <td>1</td>\n",
       "      <td>-1</td>\n",
       "      <td>0</td>\n",
       "      <td>unknown</td>\n",
       "      <td>yes</td>\n",
       "    </tr>\n",
       "    <tr>\n",
       "      <th>1</th>\n",
       "      <td>56</td>\n",
       "      <td>admin.</td>\n",
       "      <td>married</td>\n",
       "      <td>secondary</td>\n",
       "      <td>no</td>\n",
       "      <td>45,00 $</td>\n",
       "      <td>no</td>\n",
       "      <td>no</td>\n",
       "      <td>unknown</td>\n",
       "      <td>5</td>\n",
       "      <td>may</td>\n",
       "      <td>1467</td>\n",
       "      <td>1</td>\n",
       "      <td>-1</td>\n",
       "      <td>0</td>\n",
       "      <td>unknown</td>\n",
       "      <td>yes</td>\n",
       "    </tr>\n",
       "    <tr>\n",
       "      <th>2</th>\n",
       "      <td>41</td>\n",
       "      <td>technician</td>\n",
       "      <td>married</td>\n",
       "      <td>secondary</td>\n",
       "      <td>no</td>\n",
       "      <td>1 270,00 $</td>\n",
       "      <td>yes</td>\n",
       "      <td>no</td>\n",
       "      <td>unknown</td>\n",
       "      <td>5</td>\n",
       "      <td>may</td>\n",
       "      <td>1389</td>\n",
       "      <td>1</td>\n",
       "      <td>-1</td>\n",
       "      <td>0</td>\n",
       "      <td>unknown</td>\n",
       "      <td>yes</td>\n",
       "    </tr>\n",
       "    <tr>\n",
       "      <th>3</th>\n",
       "      <td>55</td>\n",
       "      <td>services</td>\n",
       "      <td>married</td>\n",
       "      <td>secondary</td>\n",
       "      <td>no</td>\n",
       "      <td>2 476,00 $</td>\n",
       "      <td>yes</td>\n",
       "      <td>no</td>\n",
       "      <td>unknown</td>\n",
       "      <td>5</td>\n",
       "      <td>may</td>\n",
       "      <td>579</td>\n",
       "      <td>1</td>\n",
       "      <td>-1</td>\n",
       "      <td>0</td>\n",
       "      <td>unknown</td>\n",
       "      <td>yes</td>\n",
       "    </tr>\n",
       "    <tr>\n",
       "      <th>4</th>\n",
       "      <td>54</td>\n",
       "      <td>admin.</td>\n",
       "      <td>married</td>\n",
       "      <td>tertiary</td>\n",
       "      <td>no</td>\n",
       "      <td>184,00 $</td>\n",
       "      <td>no</td>\n",
       "      <td>no</td>\n",
       "      <td>unknown</td>\n",
       "      <td>5</td>\n",
       "      <td>may</td>\n",
       "      <td>673</td>\n",
       "      <td>2</td>\n",
       "      <td>-1</td>\n",
       "      <td>0</td>\n",
       "      <td>unknown</td>\n",
       "      <td>yes</td>\n",
       "    </tr>\n",
       "    <tr>\n",
       "      <th>...</th>\n",
       "      <td>...</td>\n",
       "      <td>...</td>\n",
       "      <td>...</td>\n",
       "      <td>...</td>\n",
       "      <td>...</td>\n",
       "      <td>...</td>\n",
       "      <td>...</td>\n",
       "      <td>...</td>\n",
       "      <td>...</td>\n",
       "      <td>...</td>\n",
       "      <td>...</td>\n",
       "      <td>...</td>\n",
       "      <td>...</td>\n",
       "      <td>...</td>\n",
       "      <td>...</td>\n",
       "      <td>...</td>\n",
       "      <td>...</td>\n",
       "    </tr>\n",
       "    <tr>\n",
       "      <th>11157</th>\n",
       "      <td>33</td>\n",
       "      <td>blue-collar</td>\n",
       "      <td>single</td>\n",
       "      <td>primary</td>\n",
       "      <td>no</td>\n",
       "      <td>1,00 $</td>\n",
       "      <td>yes</td>\n",
       "      <td>no</td>\n",
       "      <td>cellular</td>\n",
       "      <td>20</td>\n",
       "      <td>apr</td>\n",
       "      <td>257</td>\n",
       "      <td>1</td>\n",
       "      <td>-1</td>\n",
       "      <td>0</td>\n",
       "      <td>unknown</td>\n",
       "      <td>no</td>\n",
       "    </tr>\n",
       "    <tr>\n",
       "      <th>11158</th>\n",
       "      <td>39</td>\n",
       "      <td>services</td>\n",
       "      <td>married</td>\n",
       "      <td>secondary</td>\n",
       "      <td>no</td>\n",
       "      <td>733,00 $</td>\n",
       "      <td>no</td>\n",
       "      <td>no</td>\n",
       "      <td>unknown</td>\n",
       "      <td>16</td>\n",
       "      <td>jun</td>\n",
       "      <td>83</td>\n",
       "      <td>4</td>\n",
       "      <td>-1</td>\n",
       "      <td>0</td>\n",
       "      <td>unknown</td>\n",
       "      <td>no</td>\n",
       "    </tr>\n",
       "    <tr>\n",
       "      <th>11159</th>\n",
       "      <td>32</td>\n",
       "      <td>technician</td>\n",
       "      <td>single</td>\n",
       "      <td>secondary</td>\n",
       "      <td>no</td>\n",
       "      <td>29,00 $</td>\n",
       "      <td>no</td>\n",
       "      <td>no</td>\n",
       "      <td>cellular</td>\n",
       "      <td>19</td>\n",
       "      <td>aug</td>\n",
       "      <td>156</td>\n",
       "      <td>2</td>\n",
       "      <td>-1</td>\n",
       "      <td>0</td>\n",
       "      <td>unknown</td>\n",
       "      <td>no</td>\n",
       "    </tr>\n",
       "    <tr>\n",
       "      <th>11160</th>\n",
       "      <td>43</td>\n",
       "      <td>technician</td>\n",
       "      <td>married</td>\n",
       "      <td>secondary</td>\n",
       "      <td>no</td>\n",
       "      <td>0  $</td>\n",
       "      <td>no</td>\n",
       "      <td>yes</td>\n",
       "      <td>cellular</td>\n",
       "      <td>8</td>\n",
       "      <td>may</td>\n",
       "      <td>9</td>\n",
       "      <td>2</td>\n",
       "      <td>172</td>\n",
       "      <td>5</td>\n",
       "      <td>failure</td>\n",
       "      <td>no</td>\n",
       "    </tr>\n",
       "    <tr>\n",
       "      <th>11161</th>\n",
       "      <td>34</td>\n",
       "      <td>technician</td>\n",
       "      <td>married</td>\n",
       "      <td>secondary</td>\n",
       "      <td>no</td>\n",
       "      <td>0  $</td>\n",
       "      <td>no</td>\n",
       "      <td>no</td>\n",
       "      <td>cellular</td>\n",
       "      <td>9</td>\n",
       "      <td>jul</td>\n",
       "      <td>628</td>\n",
       "      <td>1</td>\n",
       "      <td>-1</td>\n",
       "      <td>0</td>\n",
       "      <td>unknown</td>\n",
       "      <td>no</td>\n",
       "    </tr>\n",
       "  </tbody>\n",
       "</table>\n",
       "<p>11162 rows × 17 columns</p>\n",
       "</div>"
      ],
      "text/plain": [
       "       age          job  marital  education default       balance housing  \\\n",
       "0       59       admin.  married  secondary      no   2 343,00 $      yes   \n",
       "1       56       admin.  married  secondary      no      45,00 $       no   \n",
       "2       41   technician  married  secondary      no   1 270,00 $      yes   \n",
       "3       55     services  married  secondary      no   2 476,00 $      yes   \n",
       "4       54       admin.  married   tertiary      no     184,00 $       no   \n",
       "...    ...          ...      ...        ...     ...           ...     ...   \n",
       "11157   33  blue-collar   single    primary      no       1,00 $      yes   \n",
       "11158   39     services  married  secondary      no     733,00 $       no   \n",
       "11159   32   technician   single  secondary      no      29,00 $       no   \n",
       "11160   43   technician  married  secondary      no         0  $       no   \n",
       "11161   34   technician  married  secondary      no         0  $       no   \n",
       "\n",
       "      loan   contact  day month  duration  campaign  pdays  previous poutcome  \\\n",
       "0       no   unknown    5   may      1042         1     -1         0  unknown   \n",
       "1       no   unknown    5   may      1467         1     -1         0  unknown   \n",
       "2       no   unknown    5   may      1389         1     -1         0  unknown   \n",
       "3       no   unknown    5   may       579         1     -1         0  unknown   \n",
       "4       no   unknown    5   may       673         2     -1         0  unknown   \n",
       "...    ...       ...  ...   ...       ...       ...    ...       ...      ...   \n",
       "11157   no  cellular   20   apr       257         1     -1         0  unknown   \n",
       "11158   no   unknown   16   jun        83         4     -1         0  unknown   \n",
       "11159   no  cellular   19   aug       156         2     -1         0  unknown   \n",
       "11160  yes  cellular    8   may         9         2    172         5  failure   \n",
       "11161   no  cellular    9   jul       628         1     -1         0  unknown   \n",
       "\n",
       "      deposit  \n",
       "0         yes  \n",
       "1         yes  \n",
       "2         yes  \n",
       "3         yes  \n",
       "4         yes  \n",
       "...       ...  \n",
       "11157      no  \n",
       "11158      no  \n",
       "11159      no  \n",
       "11160      no  \n",
       "11161      no  \n",
       "\n",
       "[11162 rows x 17 columns]"
      ]
     },
     "execution_count": 2,
     "metadata": {},
     "output_type": "execute_result"
    }
   ],
   "source": [
    "df = pd.read_csv('data/bank_fin.csv', sep = ';')\n",
    "df"
   ]
  },
  {
   "cell_type": "code",
   "execution_count": 3,
   "id": "ba11dc67",
   "metadata": {},
   "outputs": [
    {
     "name": "stdout",
     "output_type": "stream",
     "text": [
      "<class 'pandas.core.frame.DataFrame'>\n",
      "RangeIndex: 11162 entries, 0 to 11161\n",
      "Data columns (total 17 columns):\n",
      " #   Column     Non-Null Count  Dtype \n",
      "---  ------     --------------  ----- \n",
      " 0   age        11162 non-null  int64 \n",
      " 1   job        11162 non-null  object\n",
      " 2   marital    11162 non-null  object\n",
      " 3   education  11162 non-null  object\n",
      " 4   default    11162 non-null  object\n",
      " 5   balance    11137 non-null  object\n",
      " 6   housing    11162 non-null  object\n",
      " 7   loan       11162 non-null  object\n",
      " 8   contact    11162 non-null  object\n",
      " 9   day        11162 non-null  int64 \n",
      " 10  month      11162 non-null  object\n",
      " 11  duration   11162 non-null  int64 \n",
      " 12  campaign   11162 non-null  int64 \n",
      " 13  pdays      11162 non-null  int64 \n",
      " 14  previous   11162 non-null  int64 \n",
      " 15  poutcome   11162 non-null  object\n",
      " 16  deposit    11162 non-null  object\n",
      "dtypes: int64(6), object(11)\n",
      "memory usage: 1.4+ MB\n"
     ]
    }
   ],
   "source": [
    "# исследуйте данные на предмет пропусков. Где есть пропущенные значения? Сколько их?\n",
    "# ваш код\n",
    "df.info()"
   ]
  },
  {
   "cell_type": "code",
   "execution_count": 4,
   "id": "f5205574",
   "metadata": {},
   "outputs": [
    {
     "data": {
      "text/plain": [
       "25"
      ]
     },
     "execution_count": 4,
     "metadata": {},
     "output_type": "execute_result"
    }
   ],
   "source": [
    "df['balance'].isnull().sum()"
   ]
  },
  {
   "cell_type": "markdown",
   "id": "6366f059",
   "metadata": {},
   "source": [
    "### Задание 2"
   ]
  },
  {
   "cell_type": "code",
   "execution_count": 5,
   "id": "98ea29d4",
   "metadata": {},
   "outputs": [
    {
     "data": {
      "text/plain": [
       "management       2566\n",
       "blue-collar      1944\n",
       "technician       1823\n",
       "admin.           1334\n",
       "services          923\n",
       "retired           778\n",
       "self-employed     405\n",
       "student           360\n",
       "unemployed        357\n",
       "entrepreneur      328\n",
       "housemaid         274\n",
       "unknown            70\n",
       "Name: job, dtype: int64"
      ]
     },
     "execution_count": 5,
     "metadata": {},
     "output_type": "execute_result"
    }
   ],
   "source": [
    "# есть ли в признаке job пропущенные значения? Возможно, они обозначены каким-то специальным словом?\n",
    "# ваш код\n",
    "df['job'].value_counts()"
   ]
  },
  {
   "cell_type": "markdown",
   "id": "8fcf4fcd",
   "metadata": {},
   "source": [
    "### Задание 3"
   ]
  },
  {
   "cell_type": "code",
   "execution_count": 6,
   "id": "3a01be5e",
   "metadata": {},
   "outputs": [],
   "source": [
    "# преобразуйте признак balance таким образом, чтобы он корректно считывался, как вещественное число (float)\n",
    "def change(row):\n",
    "    row = str(row)\n",
    "    if row != 'unknown':\n",
    "        row = row.replace(',00', '')\n",
    "        row = row.replace('$', '')\n",
    "        row = row.replace(' ', '')\n",
    "        return float(row)\n",
    "    else:\n",
    "        return np.nan\n",
    "df['balance'] = df['balance'].apply(change)\n"
   ]
  },
  {
   "cell_type": "code",
   "execution_count": 7,
   "id": "fe2e2d57",
   "metadata": {},
   "outputs": [
    {
     "data": {
      "text/plain": [
       "1529.129"
      ]
     },
     "execution_count": 7,
     "metadata": {},
     "output_type": "execute_result"
    }
   ],
   "source": [
    "round(df['balance'].mean(), 3)"
   ]
  },
  {
   "cell_type": "markdown",
   "id": "6de63fd7",
   "metadata": {},
   "source": [
    "### Задание 4"
   ]
  },
  {
   "cell_type": "code",
   "execution_count": 8,
   "id": "6a684a63",
   "metadata": {},
   "outputs": [],
   "source": [
    "# обработайте пропуски в признаки balance , заменив их на медианные значения по данному признаку\n",
    "# ваш код\n",
    "df['balance'] = df['balance'].fillna(df['balance'].median())\n"
   ]
  },
  {
   "cell_type": "code",
   "execution_count": 9,
   "id": "ede11b57",
   "metadata": {},
   "outputs": [
    {
     "data": {
      "text/plain": [
       "1526.936"
      ]
     },
     "execution_count": 9,
     "metadata": {},
     "output_type": "execute_result"
    }
   ],
   "source": [
    "round(df['balance'].mean(), 3)"
   ]
  },
  {
   "cell_type": "markdown",
   "id": "1097ec42",
   "metadata": {},
   "source": [
    "### Задание 5"
   ]
  },
  {
   "cell_type": "code",
   "execution_count": 10,
   "id": "0fa070a6",
   "metadata": {},
   "outputs": [
    {
     "data": {
      "text/plain": [
       "management       2566\n",
       "blue-collar      1944\n",
       "technician       1823\n",
       "admin.           1334\n",
       "services          923\n",
       "retired           778\n",
       "self-employed     405\n",
       "student           360\n",
       "unemployed        357\n",
       "entrepreneur      328\n",
       "housemaid         274\n",
       "unknown            70\n",
       "Name: job, dtype: int64"
      ]
     },
     "execution_count": 10,
     "metadata": {},
     "output_type": "execute_result"
    },
    {
     "data": {
      "text/plain": [
       "secondary    5476\n",
       "tertiary     3689\n",
       "primary      1500\n",
       "unknown       497\n",
       "Name: education, dtype: int64"
      ]
     },
     "execution_count": 10,
     "metadata": {},
     "output_type": "execute_result"
    }
   ],
   "source": [
    "# обработайте пропуски в категориальных признаках: job и education, заменив их на модальные значения\n",
    "# ваш код\n",
    "df['job'].value_counts()\n",
    "df['education'].value_counts()"
   ]
  },
  {
   "cell_type": "code",
   "execution_count": 11,
   "id": "9186c8b6",
   "metadata": {},
   "outputs": [],
   "source": [
    "job = df['job'].mode()[0]\n",
    "educat = df['education'].mode()[0]\n",
    "\n",
    "df['job'] = df['job'].apply(lambda x: job if x == 'unknown' else x)\n",
    "df['education'] = df['education'].apply(lambda x: educat if x == 'unknown' else x)"
   ]
  },
  {
   "cell_type": "code",
   "execution_count": 12,
   "id": "65aec519",
   "metadata": {},
   "outputs": [
    {
     "data": {
      "text/plain": [
       "management       2636\n",
       "blue-collar      1944\n",
       "technician       1823\n",
       "admin.           1334\n",
       "services          923\n",
       "retired           778\n",
       "self-employed     405\n",
       "student           360\n",
       "unemployed        357\n",
       "entrepreneur      328\n",
       "housemaid         274\n",
       "Name: job, dtype: int64"
      ]
     },
     "execution_count": 12,
     "metadata": {},
     "output_type": "execute_result"
    },
    {
     "data": {
      "text/plain": [
       "secondary    5973\n",
       "tertiary     3689\n",
       "primary      1500\n",
       "Name: education, dtype: int64"
      ]
     },
     "execution_count": 12,
     "metadata": {},
     "output_type": "execute_result"
    }
   ],
   "source": [
    "df['job'].value_counts()\n",
    "df['education'].value_counts()"
   ]
  },
  {
   "cell_type": "code",
   "execution_count": 13,
   "id": "685a4c9e",
   "metadata": {},
   "outputs": [],
   "source": [
    "# После замены пропусков рассчитайте средний баланс для клиентов\n",
    "# с самой популярной работой и самым популярным уровнем образования \n",
    "# (т. е. для тех, у кого одновременно самая популярная работа и самое популярное образование). \n",
    "# Ответ округлите до трёх знаков после точки-разделителя.\n",
    "\n"
   ]
  },
  {
   "cell_type": "code",
   "execution_count": 14,
   "id": "fab7754f",
   "metadata": {},
   "outputs": [
    {
     "data": {
      "text/plain": [
       "1598.8829787234042"
      ]
     },
     "execution_count": 14,
     "metadata": {},
     "output_type": "execute_result"
    }
   ],
   "source": [
    "df_new = df[(df['job'] == 'management') & (df['education'] == 'secondary')]\n",
    "df_new['balance'].mean()"
   ]
  },
  {
   "cell_type": "code",
   "execution_count": 15,
   "id": "c33dcdac",
   "metadata": {},
   "outputs": [
    {
     "data": {
      "text/html": [
       "<div>\n",
       "<style scoped>\n",
       "    .dataframe tbody tr th:only-of-type {\n",
       "        vertical-align: middle;\n",
       "    }\n",
       "\n",
       "    .dataframe tbody tr th {\n",
       "        vertical-align: top;\n",
       "    }\n",
       "\n",
       "    .dataframe thead th {\n",
       "        text-align: right;\n",
       "    }\n",
       "</style>\n",
       "<table border=\"1\" class=\"dataframe\">\n",
       "  <thead>\n",
       "    <tr style=\"text-align: right;\">\n",
       "      <th></th>\n",
       "      <th>age</th>\n",
       "      <th>job</th>\n",
       "      <th>marital</th>\n",
       "      <th>education</th>\n",
       "      <th>default</th>\n",
       "      <th>balance</th>\n",
       "      <th>housing</th>\n",
       "      <th>loan</th>\n",
       "      <th>contact</th>\n",
       "      <th>day</th>\n",
       "      <th>month</th>\n",
       "      <th>duration</th>\n",
       "      <th>campaign</th>\n",
       "      <th>pdays</th>\n",
       "      <th>previous</th>\n",
       "      <th>poutcome</th>\n",
       "      <th>deposit</th>\n",
       "    </tr>\n",
       "  </thead>\n",
       "  <tbody>\n",
       "    <tr>\n",
       "      <th>37</th>\n",
       "      <td>33</td>\n",
       "      <td>management</td>\n",
       "      <td>divorced</td>\n",
       "      <td>secondary</td>\n",
       "      <td>no</td>\n",
       "      <td>5.0</td>\n",
       "      <td>yes</td>\n",
       "      <td>no</td>\n",
       "      <td>unknown</td>\n",
       "      <td>13</td>\n",
       "      <td>may</td>\n",
       "      <td>1346</td>\n",
       "      <td>1</td>\n",
       "      <td>-1</td>\n",
       "      <td>0</td>\n",
       "      <td>unknown</td>\n",
       "      <td>yes</td>\n",
       "    </tr>\n",
       "    <tr>\n",
       "      <th>44</th>\n",
       "      <td>52</td>\n",
       "      <td>management</td>\n",
       "      <td>married</td>\n",
       "      <td>secondary</td>\n",
       "      <td>no</td>\n",
       "      <td>2240.0</td>\n",
       "      <td>yes</td>\n",
       "      <td>no</td>\n",
       "      <td>unknown</td>\n",
       "      <td>13</td>\n",
       "      <td>may</td>\n",
       "      <td>845</td>\n",
       "      <td>1</td>\n",
       "      <td>-1</td>\n",
       "      <td>0</td>\n",
       "      <td>unknown</td>\n",
       "      <td>yes</td>\n",
       "    </tr>\n",
       "    <tr>\n",
       "      <th>89</th>\n",
       "      <td>37</td>\n",
       "      <td>management</td>\n",
       "      <td>single</td>\n",
       "      <td>secondary</td>\n",
       "      <td>no</td>\n",
       "      <td>792.0</td>\n",
       "      <td>yes</td>\n",
       "      <td>no</td>\n",
       "      <td>unknown</td>\n",
       "      <td>16</td>\n",
       "      <td>may</td>\n",
       "      <td>1187</td>\n",
       "      <td>4</td>\n",
       "      <td>-1</td>\n",
       "      <td>0</td>\n",
       "      <td>unknown</td>\n",
       "      <td>yes</td>\n",
       "    </tr>\n",
       "    <tr>\n",
       "      <th>159</th>\n",
       "      <td>28</td>\n",
       "      <td>management</td>\n",
       "      <td>married</td>\n",
       "      <td>secondary</td>\n",
       "      <td>no</td>\n",
       "      <td>292.0</td>\n",
       "      <td>yes</td>\n",
       "      <td>no</td>\n",
       "      <td>unknown</td>\n",
       "      <td>28</td>\n",
       "      <td>may</td>\n",
       "      <td>507</td>\n",
       "      <td>1</td>\n",
       "      <td>-1</td>\n",
       "      <td>0</td>\n",
       "      <td>unknown</td>\n",
       "      <td>yes</td>\n",
       "    </tr>\n",
       "    <tr>\n",
       "      <th>180</th>\n",
       "      <td>37</td>\n",
       "      <td>management</td>\n",
       "      <td>divorced</td>\n",
       "      <td>secondary</td>\n",
       "      <td>no</td>\n",
       "      <td>16.0</td>\n",
       "      <td>yes</td>\n",
       "      <td>no</td>\n",
       "      <td>unknown</td>\n",
       "      <td>30</td>\n",
       "      <td>may</td>\n",
       "      <td>638</td>\n",
       "      <td>1</td>\n",
       "      <td>-1</td>\n",
       "      <td>0</td>\n",
       "      <td>unknown</td>\n",
       "      <td>yes</td>\n",
       "    </tr>\n",
       "    <tr>\n",
       "      <th>...</th>\n",
       "      <td>...</td>\n",
       "      <td>...</td>\n",
       "      <td>...</td>\n",
       "      <td>...</td>\n",
       "      <td>...</td>\n",
       "      <td>...</td>\n",
       "      <td>...</td>\n",
       "      <td>...</td>\n",
       "      <td>...</td>\n",
       "      <td>...</td>\n",
       "      <td>...</td>\n",
       "      <td>...</td>\n",
       "      <td>...</td>\n",
       "      <td>...</td>\n",
       "      <td>...</td>\n",
       "      <td>...</td>\n",
       "      <td>...</td>\n",
       "    </tr>\n",
       "    <tr>\n",
       "      <th>10909</th>\n",
       "      <td>58</td>\n",
       "      <td>management</td>\n",
       "      <td>married</td>\n",
       "      <td>secondary</td>\n",
       "      <td>no</td>\n",
       "      <td>407.0</td>\n",
       "      <td>yes</td>\n",
       "      <td>no</td>\n",
       "      <td>cellular</td>\n",
       "      <td>29</td>\n",
       "      <td>jul</td>\n",
       "      <td>145</td>\n",
       "      <td>2</td>\n",
       "      <td>-1</td>\n",
       "      <td>0</td>\n",
       "      <td>unknown</td>\n",
       "      <td>no</td>\n",
       "    </tr>\n",
       "    <tr>\n",
       "      <th>10951</th>\n",
       "      <td>57</td>\n",
       "      <td>management</td>\n",
       "      <td>married</td>\n",
       "      <td>secondary</td>\n",
       "      <td>no</td>\n",
       "      <td>0.0</td>\n",
       "      <td>no</td>\n",
       "      <td>no</td>\n",
       "      <td>cellular</td>\n",
       "      <td>28</td>\n",
       "      <td>jan</td>\n",
       "      <td>132</td>\n",
       "      <td>1</td>\n",
       "      <td>-1</td>\n",
       "      <td>0</td>\n",
       "      <td>unknown</td>\n",
       "      <td>no</td>\n",
       "    </tr>\n",
       "    <tr>\n",
       "      <th>10982</th>\n",
       "      <td>40</td>\n",
       "      <td>management</td>\n",
       "      <td>married</td>\n",
       "      <td>secondary</td>\n",
       "      <td>no</td>\n",
       "      <td>8486.0</td>\n",
       "      <td>no</td>\n",
       "      <td>no</td>\n",
       "      <td>unknown</td>\n",
       "      <td>6</td>\n",
       "      <td>may</td>\n",
       "      <td>260</td>\n",
       "      <td>3</td>\n",
       "      <td>-1</td>\n",
       "      <td>0</td>\n",
       "      <td>unknown</td>\n",
       "      <td>no</td>\n",
       "    </tr>\n",
       "    <tr>\n",
       "      <th>11098</th>\n",
       "      <td>46</td>\n",
       "      <td>management</td>\n",
       "      <td>married</td>\n",
       "      <td>secondary</td>\n",
       "      <td>no</td>\n",
       "      <td>21.0</td>\n",
       "      <td>yes</td>\n",
       "      <td>no</td>\n",
       "      <td>cellular</td>\n",
       "      <td>7</td>\n",
       "      <td>may</td>\n",
       "      <td>124</td>\n",
       "      <td>1</td>\n",
       "      <td>338</td>\n",
       "      <td>2</td>\n",
       "      <td>failure</td>\n",
       "      <td>no</td>\n",
       "    </tr>\n",
       "    <tr>\n",
       "      <th>11150</th>\n",
       "      <td>34</td>\n",
       "      <td>management</td>\n",
       "      <td>married</td>\n",
       "      <td>secondary</td>\n",
       "      <td>no</td>\n",
       "      <td>355.0</td>\n",
       "      <td>no</td>\n",
       "      <td>no</td>\n",
       "      <td>cellular</td>\n",
       "      <td>21</td>\n",
       "      <td>aug</td>\n",
       "      <td>314</td>\n",
       "      <td>3</td>\n",
       "      <td>-1</td>\n",
       "      <td>0</td>\n",
       "      <td>unknown</td>\n",
       "      <td>no</td>\n",
       "    </tr>\n",
       "  </tbody>\n",
       "</table>\n",
       "<p>376 rows × 17 columns</p>\n",
       "</div>"
      ],
      "text/plain": [
       "       age         job   marital  education default  balance housing loan  \\\n",
       "37      33  management  divorced  secondary      no      5.0     yes   no   \n",
       "44      52  management   married  secondary      no   2240.0     yes   no   \n",
       "89      37  management    single  secondary      no    792.0     yes   no   \n",
       "159     28  management   married  secondary      no    292.0     yes   no   \n",
       "180     37  management  divorced  secondary      no     16.0     yes   no   \n",
       "...    ...         ...       ...        ...     ...      ...     ...  ...   \n",
       "10909   58  management   married  secondary      no    407.0     yes   no   \n",
       "10951   57  management   married  secondary      no      0.0      no   no   \n",
       "10982   40  management   married  secondary      no   8486.0      no   no   \n",
       "11098   46  management   married  secondary      no     21.0     yes   no   \n",
       "11150   34  management   married  secondary      no    355.0      no   no   \n",
       "\n",
       "        contact  day month  duration  campaign  pdays  previous poutcome  \\\n",
       "37      unknown   13   may      1346         1     -1         0  unknown   \n",
       "44      unknown   13   may       845         1     -1         0  unknown   \n",
       "89      unknown   16   may      1187         4     -1         0  unknown   \n",
       "159     unknown   28   may       507         1     -1         0  unknown   \n",
       "180     unknown   30   may       638         1     -1         0  unknown   \n",
       "...         ...  ...   ...       ...       ...    ...       ...      ...   \n",
       "10909  cellular   29   jul       145         2     -1         0  unknown   \n",
       "10951  cellular   28   jan       132         1     -1         0  unknown   \n",
       "10982   unknown    6   may       260         3     -1         0  unknown   \n",
       "11098  cellular    7   may       124         1    338         2  failure   \n",
       "11150  cellular   21   aug       314         3     -1         0  unknown   \n",
       "\n",
       "      deposit  \n",
       "37        yes  \n",
       "44        yes  \n",
       "89        yes  \n",
       "159       yes  \n",
       "180       yes  \n",
       "...       ...  \n",
       "10909      no  \n",
       "10951      no  \n",
       "10982      no  \n",
       "11098      no  \n",
       "11150      no  \n",
       "\n",
       "[376 rows x 17 columns]"
      ]
     },
     "execution_count": 15,
     "metadata": {},
     "output_type": "execute_result"
    }
   ],
   "source": [
    "df_new"
   ]
  },
  {
   "cell_type": "markdown",
   "id": "02af77c6",
   "metadata": {},
   "source": [
    "### Задание 6"
   ]
  },
  {
   "cell_type": "code",
   "execution_count": 16,
   "id": "3802cdd9",
   "metadata": {},
   "outputs": [],
   "source": [
    "# удалите все выбросы для признака balance\n",
    "# ваш код\n",
    "def remove_outlier(df_in, col_name):\n",
    "    q1 = df_in[col_name].quantile(0.25)\n",
    "    q3 = df_in[col_name].quantile(0.75)\n",
    "    iqr = q3-q1 #Interquartile range\n",
    "    fence_low  = q1-1.5*iqr\n",
    "    fence_high = q3+1.5*iqr\n",
    "    df_out = df_in.loc[(df_in[col_name] >= fence_low) & (df_in[col_name] <= fence_high)]\n",
    "    print('Нижняя граница =', fence_low, 'Верхняя граница =', fence_high)\n",
    "    return df_out"
   ]
  },
  {
   "cell_type": "code",
   "execution_count": 17,
   "id": "80bcca98",
   "metadata": {},
   "outputs": [
    {
     "name": "stdout",
     "output_type": "stream",
     "text": [
      "Нижняя граница = -2241.0 Верхняя граница = 4063.0\n"
     ]
    }
   ],
   "source": [
    "new_df = remove_outlier(df, 'balance') # Создали новый data удалив выбросы"
   ]
  },
  {
   "cell_type": "code",
   "execution_count": 48,
   "id": "81aec0c2",
   "metadata": {},
   "outputs": [
    {
     "data": {
      "text/plain": [
       "(10105, 17)"
      ]
     },
     "execution_count": 48,
     "metadata": {},
     "output_type": "execute_result"
    }
   ],
   "source": [
    "new_df.shape"
   ]
  },
  {
   "cell_type": "code",
   "execution_count": 47,
   "id": "040f2629",
   "metadata": {},
   "outputs": [
    {
     "data": {
      "text/plain": [
       "count    10105.000000\n",
       "mean       807.653538\n",
       "std        994.151966\n",
       "min      -2049.000000\n",
       "25%         95.000000\n",
       "50%        445.000000\n",
       "75%       1227.000000\n",
       "max       4063.000000\n",
       "Name: balance, dtype: float64"
      ]
     },
     "execution_count": 47,
     "metadata": {},
     "output_type": "execute_result"
    }
   ],
   "source": [
    "new_df['balance'].describe()"
   ]
  },
  {
   "cell_type": "markdown",
   "id": "5d22b8cd",
   "metadata": {},
   "source": [
    "## Часть 2:  Разведывательный анализ"
   ]
  },
  {
   "cell_type": "markdown",
   "id": "21e1f083",
   "metadata": {},
   "source": [
    "### Задание 1"
   ]
  },
  {
   "cell_type": "code",
   "execution_count": 50,
   "id": "6d0cd3a8",
   "metadata": {},
   "outputs": [
    {
     "data": {
      "text/plain": [
       "no     5424\n",
       "yes    4681\n",
       "Name: deposit, dtype: int64"
      ]
     },
     "execution_count": 50,
     "metadata": {},
     "output_type": "execute_result"
    }
   ],
   "source": [
    "# изучите соотношение классов в ваших данных на предмет несбалансированности, проиллюстрируйте результат\n",
    "# ваш код\n",
    "df = new_df\n",
    "df['deposit'].value_counts()"
   ]
  },
  {
   "cell_type": "code",
   "execution_count": 60,
   "id": "962230d1",
   "metadata": {},
   "outputs": [
    {
     "data": {
      "image/png": "[encoded data removed]",
      "text/plain": [
       "<Figure size 432x288 with 1 Axes>"
      ]
     },
     "metadata": {
      "needs_background": "light"
     },
     "output_type": "display_data"
    }
   ],
   "source": [
    "import seaborn as sns \n",
    "\n",
    "depos = sns.countplot(df['deposit'])\n",
    "\n",
    "depos.set_title('Данные столбца deposit')\n",
    "depos.set_xlabel('Распределение')\n",
    "depos.set_ylabel('Колличество');"
   ]
  },
  {
   "cell_type": "markdown",
   "id": "426b1d40",
   "metadata": {},
   "source": [
    "### Задания 2 и 3"
   ]
  },
  {
   "cell_type": "code",
   "execution_count": 62,
   "id": "603cdb3c",
   "metadata": {},
   "outputs": [
    {
     "data": {
      "text/html": [
       "<div>\n",
       "<style scoped>\n",
       "    .dataframe tbody tr th:only-of-type {\n",
       "        vertical-align: middle;\n",
       "    }\n",
       "\n",
       "    .dataframe tbody tr th {\n",
       "        vertical-align: top;\n",
       "    }\n",
       "\n",
       "    .dataframe thead th {\n",
       "        text-align: right;\n",
       "    }\n",
       "</style>\n",
       "<table border=\"1\" class=\"dataframe\">\n",
       "  <thead>\n",
       "    <tr style=\"text-align: right;\">\n",
       "      <th></th>\n",
       "      <th>age</th>\n",
       "      <th>balance</th>\n",
       "      <th>day</th>\n",
       "      <th>duration</th>\n",
       "      <th>campaign</th>\n",
       "      <th>pdays</th>\n",
       "      <th>previous</th>\n",
       "    </tr>\n",
       "  </thead>\n",
       "  <tbody>\n",
       "    <tr>\n",
       "      <th>count</th>\n",
       "      <td>10105.000000</td>\n",
       "      <td>10105.000000</td>\n",
       "      <td>10105.000000</td>\n",
       "      <td>10105.000000</td>\n",
       "      <td>10105.000000</td>\n",
       "      <td>10105.000000</td>\n",
       "      <td>10105.000000</td>\n",
       "    </tr>\n",
       "    <tr>\n",
       "      <th>mean</th>\n",
       "      <td>40.895497</td>\n",
       "      <td>807.653538</td>\n",
       "      <td>15.590302</td>\n",
       "      <td>368.742603</td>\n",
       "      <td>2.517170</td>\n",
       "      <td>51.319644</td>\n",
       "      <td>0.816230</td>\n",
       "    </tr>\n",
       "    <tr>\n",
       "      <th>std</th>\n",
       "      <td>11.734931</td>\n",
       "      <td>994.151966</td>\n",
       "      <td>8.441510</td>\n",
       "      <td>346.651524</td>\n",
       "      <td>2.707159</td>\n",
       "      <td>109.644179</td>\n",
       "      <td>2.243795</td>\n",
       "    </tr>\n",
       "    <tr>\n",
       "      <th>min</th>\n",
       "      <td>18.000000</td>\n",
       "      <td>-2049.000000</td>\n",
       "      <td>1.000000</td>\n",
       "      <td>2.000000</td>\n",
       "      <td>1.000000</td>\n",
       "      <td>-1.000000</td>\n",
       "      <td>0.000000</td>\n",
       "    </tr>\n",
       "    <tr>\n",
       "      <th>25%</th>\n",
       "      <td>32.000000</td>\n",
       "      <td>95.000000</td>\n",
       "      <td>8.000000</td>\n",
       "      <td>137.000000</td>\n",
       "      <td>1.000000</td>\n",
       "      <td>-1.000000</td>\n",
       "      <td>0.000000</td>\n",
       "    </tr>\n",
       "    <tr>\n",
       "      <th>50%</th>\n",
       "      <td>38.000000</td>\n",
       "      <td>445.000000</td>\n",
       "      <td>15.000000</td>\n",
       "      <td>252.000000</td>\n",
       "      <td>2.000000</td>\n",
       "      <td>-1.000000</td>\n",
       "      <td>0.000000</td>\n",
       "    </tr>\n",
       "    <tr>\n",
       "      <th>75%</th>\n",
       "      <td>48.000000</td>\n",
       "      <td>1227.000000</td>\n",
       "      <td>22.000000</td>\n",
       "      <td>490.000000</td>\n",
       "      <td>3.000000</td>\n",
       "      <td>2.000000</td>\n",
       "      <td>1.000000</td>\n",
       "    </tr>\n",
       "    <tr>\n",
       "      <th>max</th>\n",
       "      <td>95.000000</td>\n",
       "      <td>4063.000000</td>\n",
       "      <td>31.000000</td>\n",
       "      <td>3881.000000</td>\n",
       "      <td>43.000000</td>\n",
       "      <td>854.000000</td>\n",
       "      <td>58.000000</td>\n",
       "    </tr>\n",
       "  </tbody>\n",
       "</table>\n",
       "</div>"
      ],
      "text/plain": [
       "                age       balance           day      duration      campaign  \\\n",
       "count  10105.000000  10105.000000  10105.000000  10105.000000  10105.000000   \n",
       "mean      40.895497    807.653538     15.590302    368.742603      2.517170   \n",
       "std       11.734931    994.151966      8.441510    346.651524      2.707159   \n",
       "min       18.000000  -2049.000000      1.000000      2.000000      1.000000   \n",
       "25%       32.000000     95.000000      8.000000    137.000000      1.000000   \n",
       "50%       38.000000    445.000000     15.000000    252.000000      2.000000   \n",
       "75%       48.000000   1227.000000     22.000000    490.000000      3.000000   \n",
       "max       95.000000   4063.000000     31.000000   3881.000000     43.000000   \n",
       "\n",
       "              pdays      previous  \n",
       "count  10105.000000  10105.000000  \n",
       "mean      51.319644      0.816230  \n",
       "std      109.644179      2.243795  \n",
       "min       -1.000000      0.000000  \n",
       "25%       -1.000000      0.000000  \n",
       "50%       -1.000000      0.000000  \n",
       "75%        2.000000      1.000000  \n",
       "max      854.000000     58.000000  "
      ]
     },
     "execution_count": 62,
     "metadata": {},
     "output_type": "execute_result"
    }
   ],
   "source": [
    "#рассчитайте описательные статистики для количественных переменных, проинтерпретируйте результат\n",
    "#ваш код\n",
    "df.describe()"
   ]
  },
  {
   "cell_type": "markdown",
   "id": "821dc39e",
   "metadata": {},
   "source": [
    "### Задания 4 и 5"
   ]
  },
  {
   "cell_type": "code",
   "execution_count": 22,
   "id": "bf45afc9",
   "metadata": {},
   "outputs": [],
   "source": [
    "#рассчитайте описательные статистики для категориальных переменных, проинтерпретируйте результат\n",
    "#ваш код\n",
    "#постройте визуализации, иллюстрирующие результаты"
   ]
  },
  {
   "cell_type": "markdown",
   "id": "472cff5b",
   "metadata": {},
   "source": [
    "### Задание 6"
   ]
  },
  {
   "cell_type": "code",
   "execution_count": 23,
   "id": "2d640ce1",
   "metadata": {},
   "outputs": [],
   "source": [
    "# Узнайте, для какого статуса предыдущей маркетинговой кампании успех в текущей превалирует над количеством неудач.\n",
    "# ваш код"
   ]
  },
  {
   "cell_type": "markdown",
   "id": "9c32e3aa",
   "metadata": {},
   "source": [
    "### Задание 7"
   ]
  },
  {
   "cell_type": "code",
   "execution_count": 24,
   "id": "df437ec3",
   "metadata": {},
   "outputs": [],
   "source": [
    "# узнайте, в каком месяце чаще всего отказывались от предложения открыть депозит\n",
    "# ваш код"
   ]
  },
  {
   "cell_type": "markdown",
   "id": "5f20762f",
   "metadata": {},
   "source": [
    "### Задание 8"
   ]
  },
  {
   "cell_type": "code",
   "execution_count": 25,
   "id": "95d56f1b",
   "metadata": {},
   "outputs": [],
   "source": [
    "# создайте возрастные группы и определите, в каких группах более склонны открывать депозит, чем отказываться от предложения"
   ]
  },
  {
   "cell_type": "markdown",
   "id": "0841c685",
   "metadata": {},
   "source": [
    "### Задания 9 и 10"
   ]
  },
  {
   "cell_type": "code",
   "execution_count": 26,
   "id": "0d84a9e1",
   "metadata": {},
   "outputs": [],
   "source": [
    "# постройте визуализации для открывших и неоткрывших депозит в зависимости от семейного статуса"
   ]
  },
  {
   "cell_type": "code",
   "execution_count": 27,
   "id": "16333967",
   "metadata": {},
   "outputs": [],
   "source": [
    "# постройте визуализации для открывших и неоткрывших депозит в зависимости от образования"
   ]
  },
  {
   "cell_type": "code",
   "execution_count": 28,
   "id": "738224f8",
   "metadata": {},
   "outputs": [],
   "source": [
    "# постройте визуализации для открывших и неоткрывших депозит в зависимости от вида профессиональной занятости"
   ]
  },
  {
   "cell_type": "markdown",
   "id": "a521e204",
   "metadata": {},
   "source": [
    "### Задание 11"
   ]
  },
  {
   "cell_type": "code",
   "execution_count": 29,
   "id": "35ab0413",
   "metadata": {},
   "outputs": [],
   "source": [
    "# постройте сводную таблицу, чтобы определить люди с каким образованием и семейным статусом наиболее многочисленны\n",
    "#(если рассматривать тех, кто открыл депозит)"
   ]
  },
  {
   "cell_type": "markdown",
   "id": "dfd805c0",
   "metadata": {},
   "source": [
    "## Часть 3: преобразование данных"
   ]
  },
  {
   "cell_type": "markdown",
   "id": "e44e715b",
   "metadata": {},
   "source": [
    "### Задание 1"
   ]
  },
  {
   "cell_type": "code",
   "execution_count": 30,
   "id": "1e815773",
   "metadata": {},
   "outputs": [],
   "source": [
    "# преобразуйте уровни образования"
   ]
  },
  {
   "cell_type": "markdown",
   "id": "8c93e73d",
   "metadata": {},
   "source": [
    "### Задания 2 и 3"
   ]
  },
  {
   "cell_type": "code",
   "execution_count": 31,
   "id": "626a5762",
   "metadata": {},
   "outputs": [],
   "source": [
    "# преобразуйте бинарные переменные в представление из нулей и единиц"
   ]
  },
  {
   "cell_type": "markdown",
   "id": "c40dc02a",
   "metadata": {},
   "source": [
    "### Задание 4"
   ]
  },
  {
   "cell_type": "code",
   "execution_count": 32,
   "id": "b996883f",
   "metadata": {},
   "outputs": [],
   "source": [
    "# создайте дамми-переменные"
   ]
  },
  {
   "cell_type": "markdown",
   "id": "9a23e318",
   "metadata": {},
   "source": [
    "### Задания 5 и 6"
   ]
  },
  {
   "cell_type": "code",
   "execution_count": 33,
   "id": "1c884c1a",
   "metadata": {},
   "outputs": [],
   "source": [
    "# постройте корреляционную матрицу и оцените данные на предмет наличия мультиколлинеарности"
   ]
  },
  {
   "cell_type": "markdown",
   "id": "b5b4c1a5",
   "metadata": {},
   "source": [
    "### Задания 7 и 8"
   ]
  },
  {
   "cell_type": "code",
   "execution_count": 34,
   "id": "79f3e432",
   "metadata": {},
   "outputs": [],
   "source": [
    "X = df.drop(['deposit'], axis=1)\n",
    "y = df['deposit']\n",
    " \n",
    "X_train, X_test, y_train, y_test = train_test_split(X, y, stratify=y, random_state = 42, test_size = 0.33)"
   ]
  },
  {
   "cell_type": "code",
   "execution_count": 35,
   "id": "e3a097a4",
   "metadata": {},
   "outputs": [],
   "source": [
    "# рассчитайте необходимые показатели"
   ]
  },
  {
   "cell_type": "markdown",
   "id": "2e381a4f",
   "metadata": {},
   "source": [
    "### Задание 9"
   ]
  },
  {
   "cell_type": "code",
   "execution_count": 36,
   "id": "0f6e03e0",
   "metadata": {},
   "outputs": [],
   "source": [
    "# с помощью SelectKBest отберите 15 наиболее подходящих признаков"
   ]
  },
  {
   "cell_type": "markdown",
   "id": "60132ef3",
   "metadata": {},
   "source": [
    "### Задание 10"
   ]
  },
  {
   "cell_type": "code",
   "execution_count": 37,
   "id": "e91b06f3",
   "metadata": {},
   "outputs": [],
   "source": [
    "# нормализуйте данные с помощью minmaxsxaler"
   ]
  },
  {
   "cell_type": "markdown",
   "id": "0894c632",
   "metadata": {},
   "source": [
    "# Часть 4: Решение задачи классификации: логистическая регрессия и решающие деревья"
   ]
  },
  {
   "cell_type": "markdown",
   "id": "41b8ff06",
   "metadata": {},
   "source": [
    "### Задание 1"
   ]
  },
  {
   "cell_type": "code",
   "execution_count": 38,
   "id": "8acc0166",
   "metadata": {},
   "outputs": [],
   "source": [
    "# обучите логистическую регрессию и рассчитайте метрики качества"
   ]
  },
  {
   "cell_type": "markdown",
   "id": "29b7e0ba",
   "metadata": {},
   "source": [
    "### Задания 2,3,4"
   ]
  },
  {
   "cell_type": "code",
   "execution_count": 39,
   "id": "c91a588b",
   "metadata": {},
   "outputs": [],
   "source": [
    "# обучите решающие деревья, настройте максимальную глубину"
   ]
  },
  {
   "cell_type": "markdown",
   "id": "fe823c18",
   "metadata": {},
   "source": [
    "### Задание 5"
   ]
  },
  {
   "cell_type": "code",
   "execution_count": 40,
   "id": "63574943",
   "metadata": {},
   "outputs": [],
   "source": [
    "# подберите оптимальные параметры с помощью gridsearch"
   ]
  },
  {
   "cell_type": "markdown",
   "id": "ed0fc831",
   "metadata": {},
   "source": [
    "# Часть 5: Решение задачи классификации: ансамбли моделей и построение прогноза"
   ]
  },
  {
   "cell_type": "markdown",
   "id": "f9e36ff2",
   "metadata": {},
   "source": [
    "### Задание 1"
   ]
  },
  {
   "cell_type": "code",
   "execution_count": 41,
   "id": "e708e3fe",
   "metadata": {},
   "outputs": [],
   "source": [
    "# обучите на ваших данных случайный лес"
   ]
  },
  {
   "cell_type": "markdown",
   "id": "71d7b13d",
   "metadata": {},
   "source": [
    "### Задания 2 и 3"
   ]
  },
  {
   "cell_type": "code",
   "execution_count": 42,
   "id": "99f12dfe",
   "metadata": {},
   "outputs": [],
   "source": [
    "# используйте для классификации градиентный бустинг и сравните качество со случайным лесом"
   ]
  },
  {
   "cell_type": "markdown",
   "id": "b08718ae",
   "metadata": {},
   "source": [
    "### Задание 4"
   ]
  },
  {
   "cell_type": "code",
   "execution_count": 43,
   "id": "0bd42fb0",
   "metadata": {},
   "outputs": [],
   "source": [
    "# объедините уже известные вам алгоритмы с помощью стекинга "
   ]
  },
  {
   "cell_type": "markdown",
   "id": "6247a5fb",
   "metadata": {},
   "source": [
    "### Задание 5"
   ]
  },
  {
   "cell_type": "code",
   "execution_count": 44,
   "id": "35de769c",
   "metadata": {},
   "outputs": [],
   "source": [
    "# оцените, какие признаки демонстрируют наибольшую  важность в модели градиентного бустинга"
   ]
  },
  {
   "cell_type": "markdown",
   "id": "96974dda",
   "metadata": {},
   "source": [
    "### Задания 6,7,8"
   ]
  },
  {
   "cell_type": "code",
   "execution_count": 45,
   "id": "c48e29e9",
   "metadata": {},
   "outputs": [],
   "source": [
    "# реализуйте оптимизацию гиперпараметров с помощью Optuna"
   ]
  }
 ],
 "metadata": {
  "kernelspec": {
   "display_name": "Python 3",
   "language": "python",
   "name": "python3"
  },
  "language_info": {
   "codemirror_mode": {
    "name": "ipython",
    "version": 3
   },
   "file_extension": ".py",
   "mimetype": "text/x-python",
   "name": "python",
   "nbconvert_exporter": "python",
   "pygments_lexer": "ipython3",
   "version": "3.9.10"
  },
  "vscode": {
   "interpreter": {
    "hash": "aef7f665a0694191b93f381ff9bf3fa49787cf0440ec035fed5813d2b4b57be1"
   }
  }
 },
 "nbformat": 4,
 "nbformat_minor": 5
}
