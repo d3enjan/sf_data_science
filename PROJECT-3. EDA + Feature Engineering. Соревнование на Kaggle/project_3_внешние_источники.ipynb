{
 "cells": [
  {
   "cell_type": "code",
   "execution_count": 1,
   "metadata": {},
   "outputs": [],
   "source": [
    "import numpy as np \n",
    "import pandas as pd \n",
    "import requests\n",
    "from pprint import pprint # Импортируем функцию pprint()\n",
    "\n",
    "from geopy.geocoders import Nominatim\n",
    "from pprint import pprint\n",
    "\n"
   ]
  },
  {
   "cell_type": "code",
   "execution_count": 2,
   "metadata": {},
   "outputs": [],
   "source": [
    "# Подгрузим наши данные из соревнования\n",
    "\n",
    "DATA_DIR = 'C:/Users/d3en/OneDrive/Рабочий стол/dataScience/IDE/PROJECT-3. EDA + Feature Engineering. Соревнование на Kaggle/data_3/kaggle'\n",
    "df_train = pd.read_csv(DATA_DIR+'/hotels_train.csv') # датасет для обучения\n",
    "df_test = pd.read_csv(DATA_DIR+'/hotels_test.csv') # датасет для предсказания\n",
    "sample_submission = pd.read_csv(DATA_DIR+'/submission.csv') # самбмишн"
   ]
  },
  {
   "cell_type": "code",
   "execution_count": 3,
   "metadata": {},
   "outputs": [],
   "source": [
    "hotels = df_test.append(df_train) #, sort=False).reset_index(drop=True)\n"
   ]
  },
  {
   "cell_type": "code",
   "execution_count": 4,
   "metadata": {},
   "outputs": [],
   "source": [
    "h_list = hotels['hotel_name'].value_counts().nlargest(10).index"
   ]
  },
  {
   "cell_type": "code",
   "execution_count": 5,
   "metadata": {},
   "outputs": [
    {
     "data": {
      "text/plain": [
       "Index(['Britannia International Hotel Canary Wharf', 'Strand Palace Hotel',\n",
       "       'Park Plaza Westminster Bridge London',\n",
       "       'Copthorne Tara Hotel London Kensington',\n",
       "       'DoubleTree by Hilton Hotel London Tower of London',\n",
       "       'Grand Royale London Hyde Park', 'Holiday Inn London Kensington',\n",
       "       'Hilton London Metropole', 'Millennium Gloucester Hotel London',\n",
       "       'Intercontinental London The O2'],\n",
       "      dtype='object')"
      ]
     },
     "execution_count": 5,
     "metadata": {},
     "output_type": "execute_result"
    }
   ],
   "source": [
    "h_list"
   ]
  },
  {
   "cell_type": "code",
   "execution_count": 6,
   "metadata": {},
   "outputs": [],
   "source": [
    "url = 'https://www.booking.com/hotel/gb/britannia-londoninternational.ru.html#important_info'\n",
    "response = requests.get(url)"
   ]
  },
  {
   "cell_type": "code",
   "execution_count": 7,
   "metadata": {},
   "outputs": [
    {
     "name": "stdout",
     "output_type": "stream",
     "text": [
      "'51.511076200000005'\n",
      "'-0.12093289913050309'\n"
     ]
    }
   ],
   "source": [
    "nominaltim = Nominatim(user_agent='d3enjan')\n",
    "\n",
    "location = nominaltim.geocode('Strand Palace Hotel').raw\n",
    "\n",
    "pprint(location['lat'])\n",
    "pprint(location['lon'])\n"
   ]
  },
  {
   "cell_type": "code",
   "execution_count": 8,
   "metadata": {},
   "outputs": [
    {
     "data": {
      "text/plain": [
       "'51.511076200000005'"
      ]
     },
     "execution_count": 8,
     "metadata": {},
     "output_type": "execute_result"
    }
   ],
   "source": [
    "location['lat']"
   ]
  },
  {
   "cell_type": "code",
   "execution_count": 9,
   "metadata": {},
   "outputs": [
    {
     "name": "stderr",
     "output_type": "stream",
     "text": [
      "<>:1: SyntaxWarning: \"is\" with a literal. Did you mean \"==\"?\n",
      "<>:1: SyntaxWarning: \"is\" with a literal. Did you mean \"==\"?\n",
      "C:\\Users\\d3en\\AppData\\Local\\Temp\\ipykernel_11724\\326470778.py:1: SyntaxWarning: \"is\" with a literal. Did you mean \"==\"?\n",
      "  hotels['lat'] = hotels['lat'].apply(lambda x:location['lat'] if hotels['hotel_name'] is 'Strand Palace Hotel' else x)\n"
     ]
    }
   ],
   "source": [
    "hotels['lat'] = hotels['lat'].apply(lambda x:location['lat'] if hotels['hotel_name'] is 'Strand Palace Hotel' else x)"
   ]
  },
  {
   "cell_type": "code",
   "execution_count": 7,
   "metadata": {},
   "outputs": [
    {
     "data": {
      "text/html": [
       "<div>\n",
       "<style scoped>\n",
       "    .dataframe tbody tr th:only-of-type {\n",
       "        vertical-align: middle;\n",
       "    }\n",
       "\n",
       "    .dataframe tbody tr th {\n",
       "        vertical-align: top;\n",
       "    }\n",
       "\n",
       "    .dataframe thead th {\n",
       "        text-align: right;\n",
       "    }\n",
       "</style>\n",
       "<table border=\"1\" class=\"dataframe\">\n",
       "  <thead>\n",
       "    <tr style=\"text-align: right;\">\n",
       "      <th></th>\n",
       "      <th>hotel_address</th>\n",
       "      <th>additional_number_of_scoring</th>\n",
       "      <th>review_date</th>\n",
       "      <th>average_score</th>\n",
       "      <th>hotel_name</th>\n",
       "      <th>reviewer_nationality</th>\n",
       "      <th>negative_review</th>\n",
       "      <th>review_total_negative_word_counts</th>\n",
       "      <th>total_number_of_reviews</th>\n",
       "      <th>positive_review</th>\n",
       "      <th>review_total_positive_word_counts</th>\n",
       "      <th>total_number_of_reviews_reviewer_has_given</th>\n",
       "      <th>tags</th>\n",
       "      <th>days_since_review</th>\n",
       "      <th>lat</th>\n",
       "      <th>lng</th>\n",
       "      <th>reviewer_score</th>\n",
       "    </tr>\n",
       "  </thead>\n",
       "  <tbody>\n",
       "    <tr>\n",
       "      <th>386798</th>\n",
       "      <td>9 Knaresborough Place Kensington and Chelsea L...</td>\n",
       "      <td>107</td>\n",
       "      <td>4/19/2017</td>\n",
       "      <td>9.0</td>\n",
       "      <td>Hotel Moonlight</td>\n",
       "      <td>France</td>\n",
       "      <td>No Negative</td>\n",
       "      <td>0</td>\n",
       "      <td>617</td>\n",
       "      <td>Tr s proche du metro Earl s court</td>\n",
       "      <td>10</td>\n",
       "      <td>10</td>\n",
       "      <td>[' Leisure trip ', ' Group ', ' Club Double or...</td>\n",
       "      <td>106 day</td>\n",
       "      <td>51.494028</td>\n",
       "      <td>-0.191050</td>\n",
       "      <td>8.8</td>\n",
       "    </tr>\n",
       "    <tr>\n",
       "      <th>386799</th>\n",
       "      <td>Landstra er Hauptstra e 155 03 Landstra e 1030...</td>\n",
       "      <td>272</td>\n",
       "      <td>2/13/2017</td>\n",
       "      <td>8.4</td>\n",
       "      <td>BEST WESTERN PLUS Amedia Wien</td>\n",
       "      <td>Turkey</td>\n",
       "      <td>No Negative</td>\n",
       "      <td>0</td>\n",
       "      <td>3224</td>\n",
       "      <td>The bed was so comfy I stayed with my boyfrie...</td>\n",
       "      <td>93</td>\n",
       "      <td>1</td>\n",
       "      <td>[' Leisure trip ', ' Couple ', ' Standard Doub...</td>\n",
       "      <td>171 day</td>\n",
       "      <td>48.192379</td>\n",
       "      <td>16.399451</td>\n",
       "      <td>9.2</td>\n",
       "    </tr>\n",
       "    <tr>\n",
       "      <th>386800</th>\n",
       "      <td>29 31 Gower Street Camden London WC1E 6HG Unit...</td>\n",
       "      <td>457</td>\n",
       "      <td>2/7/2016</td>\n",
       "      <td>6.8</td>\n",
       "      <td>Bloomsbury Palace Hotel</td>\n",
       "      <td>Netherlands</td>\n",
       "      <td>room is really small but guess is normal in L...</td>\n",
       "      <td>12</td>\n",
       "      <td>2751</td>\n",
       "      <td>great location simple check in out nice shower</td>\n",
       "      <td>9</td>\n",
       "      <td>21</td>\n",
       "      <td>[' Business trip ', ' Solo traveler ', ' Singl...</td>\n",
       "      <td>543 day</td>\n",
       "      <td>51.520795</td>\n",
       "      <td>-0.131084</td>\n",
       "      <td>8.3</td>\n",
       "    </tr>\n",
       "    <tr>\n",
       "      <th>386801</th>\n",
       "      <td>31 Great Cumberland Place Westminster Borough ...</td>\n",
       "      <td>365</td>\n",
       "      <td>5/21/2017</td>\n",
       "      <td>8.1</td>\n",
       "      <td>The Marble Arch London</td>\n",
       "      <td>United Arab Emirates</td>\n",
       "      <td>No Negative</td>\n",
       "      <td>0</td>\n",
       "      <td>1567</td>\n",
       "      <td>Location and very comfy bed</td>\n",
       "      <td>6</td>\n",
       "      <td>28</td>\n",
       "      <td>[' Leisure trip ', ' Solo traveler ', ' Deluxe...</td>\n",
       "      <td>74 days</td>\n",
       "      <td>51.515125</td>\n",
       "      <td>-0.160066</td>\n",
       "      <td>9.2</td>\n",
       "    </tr>\n",
       "    <tr>\n",
       "      <th>386802</th>\n",
       "      <td>25 Courtfield Gardens Kensington and Chelsea L...</td>\n",
       "      <td>222</td>\n",
       "      <td>8/5/2016</td>\n",
       "      <td>9.0</td>\n",
       "      <td>The Nadler Kensington</td>\n",
       "      <td>Australia</td>\n",
       "      <td>Patio outside could have been cleaned of alga...</td>\n",
       "      <td>20</td>\n",
       "      <td>1209</td>\n",
       "      <td>Beds comfortable Pillows also good Homely fee...</td>\n",
       "      <td>20</td>\n",
       "      <td>2</td>\n",
       "      <td>[' Leisure trip ', ' Couple ', ' Bunk Bed Room...</td>\n",
       "      <td>363 day</td>\n",
       "      <td>51.493109</td>\n",
       "      <td>-0.190208</td>\n",
       "      <td>8.8</td>\n",
       "    </tr>\n",
       "  </tbody>\n",
       "</table>\n",
       "</div>"
      ],
      "text/plain": [
       "                                            hotel_address  \\\n",
       "386798  9 Knaresborough Place Kensington and Chelsea L...   \n",
       "386799  Landstra er Hauptstra e 155 03 Landstra e 1030...   \n",
       "386800  29 31 Gower Street Camden London WC1E 6HG Unit...   \n",
       "386801  31 Great Cumberland Place Westminster Borough ...   \n",
       "386802  25 Courtfield Gardens Kensington and Chelsea L...   \n",
       "\n",
       "        additional_number_of_scoring review_date  average_score  \\\n",
       "386798                           107   4/19/2017            9.0   \n",
       "386799                           272   2/13/2017            8.4   \n",
       "386800                           457    2/7/2016            6.8   \n",
       "386801                           365   5/21/2017            8.1   \n",
       "386802                           222    8/5/2016            9.0   \n",
       "\n",
       "                           hotel_name    reviewer_nationality  \\\n",
       "386798                Hotel Moonlight                 France    \n",
       "386799  BEST WESTERN PLUS Amedia Wien                 Turkey    \n",
       "386800        Bloomsbury Palace Hotel            Netherlands    \n",
       "386801         The Marble Arch London   United Arab Emirates    \n",
       "386802          The Nadler Kensington              Australia    \n",
       "\n",
       "                                          negative_review  \\\n",
       "386798                                        No Negative   \n",
       "386799                                        No Negative   \n",
       "386800   room is really small but guess is normal in L...   \n",
       "386801                                        No Negative   \n",
       "386802   Patio outside could have been cleaned of alga...   \n",
       "\n",
       "        review_total_negative_word_counts  total_number_of_reviews  \\\n",
       "386798                                  0                      617   \n",
       "386799                                  0                     3224   \n",
       "386800                                 12                     2751   \n",
       "386801                                  0                     1567   \n",
       "386802                                 20                     1209   \n",
       "\n",
       "                                          positive_review  \\\n",
       "386798                 Tr s proche du metro Earl s court    \n",
       "386799   The bed was so comfy I stayed with my boyfrie...   \n",
       "386800     great location simple check in out nice shower   \n",
       "386801                        Location and very comfy bed   \n",
       "386802   Beds comfortable Pillows also good Homely fee...   \n",
       "\n",
       "        review_total_positive_word_counts  \\\n",
       "386798                                 10   \n",
       "386799                                 93   \n",
       "386800                                  9   \n",
       "386801                                  6   \n",
       "386802                                 20   \n",
       "\n",
       "        total_number_of_reviews_reviewer_has_given  \\\n",
       "386798                                          10   \n",
       "386799                                           1   \n",
       "386800                                          21   \n",
       "386801                                          28   \n",
       "386802                                           2   \n",
       "\n",
       "                                                     tags days_since_review  \\\n",
       "386798  [' Leisure trip ', ' Group ', ' Club Double or...           106 day   \n",
       "386799  [' Leisure trip ', ' Couple ', ' Standard Doub...           171 day   \n",
       "386800  [' Business trip ', ' Solo traveler ', ' Singl...           543 day   \n",
       "386801  [' Leisure trip ', ' Solo traveler ', ' Deluxe...           74 days   \n",
       "386802  [' Leisure trip ', ' Couple ', ' Bunk Bed Room...           363 day   \n",
       "\n",
       "              lat        lng  reviewer_score  \n",
       "386798  51.494028  -0.191050             8.8  \n",
       "386799  48.192379  16.399451             9.2  \n",
       "386800  51.520795  -0.131084             8.3  \n",
       "386801  51.515125  -0.160066             9.2  \n",
       "386802  51.493109  -0.190208             8.8  "
      ]
     },
     "execution_count": 7,
     "metadata": {},
     "output_type": "execute_result"
    }
   ],
   "source": [
    "hotels.tail()"
   ]
  },
  {
   "cell_type": "code",
   "execution_count": 11,
   "metadata": {},
   "outputs": [],
   "source": [
    "from heapq import nlargest\n",
    "\n",
    "\n",
    "lat = hotels[hotels['lat'].isnull()]\n",
    "no_lat = lat['hotel_address'].value_counts().nlargest()\n",
    "\n",
    "lng = hotels[hotels['lng'].isnull()]\n",
    "no_lng = lng['hotel_address'].value_counts().nlargest()\n"
   ]
  },
  {
   "cell_type": "code",
   "execution_count": 12,
   "metadata": {},
   "outputs": [
    {
     "data": {
      "text/plain": [
       "Josefst dter Stra e 10 12 08 Josefstadt 1080 Vienna Austria    658\n",
       "Taborstra e 8 A 02 Leopoldstadt 1020 Vienna Austria            563\n",
       "W hringer Stra e 33 35 09 Alsergrund 1090 Vienna Austria       389\n",
       "4 rue de la P pini re 8th arr 75008 Paris France               290\n",
       "Landstra er G rtel 5 03 Landstra e 1030 Vienna Austria         245\n",
       "Name: hotel_address, dtype: int64"
      ]
     },
     "metadata": {},
     "output_type": "display_data"
    },
    {
     "data": {
      "text/plain": [
       "Josefst dter Stra e 10 12 08 Josefstadt 1080 Vienna Austria    658\n",
       "Taborstra e 8 A 02 Leopoldstadt 1020 Vienna Austria            563\n",
       "W hringer Stra e 33 35 09 Alsergrund 1090 Vienna Austria       389\n",
       "4 rue de la P pini re 8th arr 75008 Paris France               290\n",
       "Landstra er G rtel 5 03 Landstra e 1030 Vienna Austria         245\n",
       "Name: hotel_address, dtype: int64"
      ]
     },
     "metadata": {},
     "output_type": "display_data"
    }
   ],
   "source": [
    "display(no_lat)\n",
    "display(no_lng)"
   ]
  },
  {
   "cell_type": "code",
   "execution_count": 13,
   "metadata": {},
   "outputs": [
    {
     "name": "stdout",
     "output_type": "stream",
     "text": [
      "'46.603354'\n",
      "'1.8883335'\n"
     ]
    }
   ],
   "source": [
    "nominaltim = Nominatim(user_agent='d3enjan')\n",
    "\n",
    "location_fr = nominaltim.geocode('France').raw\n",
    "\n",
    "pprint(location_fr['lat'])\n",
    "pprint(location_fr['lon'])"
   ]
  },
  {
   "cell_type": "code",
   "execution_count": 4,
   "metadata": {},
   "outputs": [],
   "source": [
    "nominaltim = Nominatim(user_agent='d3enjan')\n",
    "location_fr = nominaltim.geocode('France').raw\n",
    "location_au = nominaltim.geocode('Austria').raw\n",
    "location_It = nominaltim.geocode('Italy').raw\n",
    "location_Am = nominaltim.geocode('Amsterdam').raw\n",
    "location_Sp = nominaltim.geocode('Spain').raw\n",
    "location_ld = nominaltim.geocode('London').raw"
   ]
  },
  {
   "cell_type": "code",
   "execution_count": 5,
   "metadata": {},
   "outputs": [],
   "source": [
    "def latlon(h_li):\n",
    "    # nominaltim = Nominatim(user_agent='d3enjan')\n",
    "    \n",
    "    h_li = h_li.split(' ')\n",
    "    if 'France' in h_li:        \n",
    "        return location_fr['lat']\n",
    "    if  'Austria' in h_li:\n",
    "        return location_au['lat']\n",
    "    if 'Italy' in h_li:\n",
    "        return location_It['lat']\n",
    "    if 'Amsterdam' in h_li:\n",
    "        return location_Am['lat']\n",
    "    if 'Spain' in h_li:\n",
    "        return location_Sp['lat']\n",
    "    if 'London' in h_li:\n",
    "        return location_ld['lat']\n",
    "        \n",
    "        "
   ]
  },
  {
   "cell_type": "code",
   "execution_count": 6,
   "metadata": {},
   "outputs": [],
   "source": [
    "hotels['lat'] = hotels['hotel_address'].apply(latlon)"
   ]
  },
  {
   "cell_type": "code",
   "execution_count": 7,
   "metadata": {},
   "outputs": [
    {
     "data": {
      "text/plain": [
       "0         42.6384261\n",
       "1         52.3727598\n",
       "2         39.3260685\n",
       "3         42.6384261\n",
       "4         52.3727598\n",
       "             ...    \n",
       "386798    51.5073219\n",
       "386799      47.59397\n",
       "386800    51.5073219\n",
       "386801    51.5073219\n",
       "386802    51.5073219\n",
       "Name: lat, Length: 515738, dtype: object"
      ]
     },
     "execution_count": 7,
     "metadata": {},
     "output_type": "execute_result"
    }
   ],
   "source": [
    "hotels['lat'] "
   ]
  },
  {
   "cell_type": "code",
   "execution_count": 8,
   "metadata": {},
   "outputs": [
    {
     "name": "stdout",
     "output_type": "stream",
     "text": [
      "<class 'pandas.core.frame.DataFrame'>\n",
      "Int64Index: 515738 entries, 0 to 386802\n",
      "Data columns (total 17 columns):\n",
      " #   Column                                      Non-Null Count   Dtype  \n",
      "---  ------                                      --------------   -----  \n",
      " 0   hotel_address                               515738 non-null  object \n",
      " 1   additional_number_of_scoring                515738 non-null  int64  \n",
      " 2   review_date                                 515738 non-null  object \n",
      " 3   average_score                               515738 non-null  float64\n",
      " 4   hotel_name                                  515738 non-null  object \n",
      " 5   reviewer_nationality                        515738 non-null  object \n",
      " 6   negative_review                             515738 non-null  object \n",
      " 7   review_total_negative_word_counts           515738 non-null  int64  \n",
      " 8   total_number_of_reviews                     515738 non-null  int64  \n",
      " 9   positive_review                             515738 non-null  object \n",
      " 10  review_total_positive_word_counts           515738 non-null  int64  \n",
      " 11  total_number_of_reviews_reviewer_has_given  515738 non-null  int64  \n",
      " 12  tags                                        515738 non-null  object \n",
      " 13  days_since_review                           515738 non-null  object \n",
      " 14  lat                                         515738 non-null  object \n",
      " 15  lng                                         512470 non-null  float64\n",
      " 16  reviewer_score                              386803 non-null  float64\n",
      "dtypes: float64(3), int64(5), object(9)\n",
      "memory usage: 70.8+ MB\n"
     ]
    }
   ],
   "source": [
    "hotels.info()"
   ]
  },
  {
   "cell_type": "code",
   "execution_count": null,
   "metadata": {},
   "outputs": [],
   "source": [
    "# Заполнить последнее значение, провреить модель"
   ]
  }
 ],
 "metadata": {
  "kernelspec": {
   "display_name": "Python 3.9.10 64-bit",
   "language": "python",
   "name": "python3"
  },
  "language_info": {
   "codemirror_mode": {
    "name": "ipython",
    "version": 3
   },
   "file_extension": ".py",
   "mimetype": "text/x-python",
   "name": "python",
   "nbconvert_exporter": "python",
   "pygments_lexer": "ipython3",
   "version": "3.9.10"
  },
  "orig_nbformat": 4,
  "vscode": {
   "interpreter": {
    "hash": "aef7f665a0694191b93f381ff9bf3fa49787cf0440ec035fed5813d2b4b57be1"
   }
  }
 },
 "nbformat": 4,
 "nbformat_minor": 2
}
