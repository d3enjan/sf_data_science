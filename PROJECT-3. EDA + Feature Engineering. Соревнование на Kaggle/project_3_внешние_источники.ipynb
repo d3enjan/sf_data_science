{
 "cells": [
  {
   "cell_type": "code",
   "execution_count": 1,
   "metadata": {},
   "outputs": [],
   "source": [
    "import numpy as np \n",
    "import pandas as pd \n",
    "import requests\n",
    "from pprint import pprint # Импортируем функцию pprint()\n",
    "\n",
    "from geopy.geocoders import Nominatim\n",
    "from pprint import pprint\n",
    "nominaltim = Nominatim(user_agent='d3enjan')\n",
    "\n"
   ]
  },
  {
   "cell_type": "code",
   "execution_count": 2,
   "metadata": {},
   "outputs": [],
   "source": [
    "# Подгрузим наши данные из соревнования\n",
    "\n",
    "DATA_DIR = 'C:/Users/d3en/OneDrive/Рабочий стол/dataScience/IDE/PROJECT-3. EDA + Feature Engineering. Соревнование на Kaggle/data_3/kaggle'\n",
    "df_train = pd.read_csv(DATA_DIR+'/hotels_train.csv') # датасет для обучения\n",
    "df_test = pd.read_csv(DATA_DIR+'/hotels_test.csv') # датасет для предсказания\n",
    "sample_submission = pd.read_csv(DATA_DIR+'/submission.csv') # самбмишн"
   ]
  },
  {
   "cell_type": "code",
   "execution_count": 3,
   "metadata": {},
   "outputs": [
    {
     "name": "stdout",
     "output_type": "stream",
     "text": [
      "<class 'pandas.core.frame.DataFrame'>\n",
      "Int64Index: 515738 entries, 0 to 386802\n",
      "Data columns (total 17 columns):\n",
      " #   Column                                      Non-Null Count   Dtype  \n",
      "---  ------                                      --------------   -----  \n",
      " 0   hotel_address                               515738 non-null  object \n",
      " 1   additional_number_of_scoring                515738 non-null  int64  \n",
      " 2   review_date                                 515738 non-null  object \n",
      " 3   average_score                               515738 non-null  float64\n",
      " 4   hotel_name                                  515738 non-null  object \n",
      " 5   reviewer_nationality                        515738 non-null  object \n",
      " 6   negative_review                             515738 non-null  object \n",
      " 7   review_total_negative_word_counts           515738 non-null  int64  \n",
      " 8   total_number_of_reviews                     515738 non-null  int64  \n",
      " 9   positive_review                             515738 non-null  object \n",
      " 10  review_total_positive_word_counts           515738 non-null  int64  \n",
      " 11  total_number_of_reviews_reviewer_has_given  515738 non-null  int64  \n",
      " 12  tags                                        515738 non-null  object \n",
      " 13  days_since_review                           515738 non-null  object \n",
      " 14  lat                                         512470 non-null  float64\n",
      " 15  lng                                         512470 non-null  float64\n",
      " 16  reviewer_score                              386803 non-null  float64\n",
      "dtypes: float64(4), int64(5), object(8)\n",
      "memory usage: 70.8+ MB\n"
     ]
    }
   ],
   "source": [
    "hotels = df_test.append(df_train) #, sort=False).reset_index(drop=True)\n",
    "hotels.info()"
   ]
  },
  {
   "cell_type": "code",
   "execution_count": 6,
   "metadata": {},
   "outputs": [],
   "source": [
    "url = 'https://www.booking.com/hotel/gb/britannia-londoninternational.ru.html#important_info'\n",
    "response = requests.get(url)"
   ]
  },
  {
   "cell_type": "code",
   "execution_count": 4,
   "metadata": {},
   "outputs": [],
   "source": [
    "from heapq import nlargest\n",
    "\n",
    "\n",
    "lat = hotels[hotels['lat'].isnull()]\n",
    "no_lat = lat['hotel_address'].value_counts().nlargest()\n",
    "\n",
    "lng = hotels[hotels['lng'].isnull()]\n",
    "no_lng = lng['hotel_address'].value_counts().nlargest()\n"
   ]
  },
  {
   "cell_type": "code",
   "execution_count": 8,
   "metadata": {},
   "outputs": [
    {
     "data": {
      "text/plain": [
       "35        W hringer Stra e 33 35 09 Alsergrund 1090 Vien...\n",
       "293       W hringer Stra e 33 35 09 Alsergrund 1090 Vien...\n",
       "476       Gr nentorgasse 30 09 Alsergrund 1090 Vienna Au...\n",
       "526            23 Rue Damr mont 18th arr 75018 Paris France\n",
       "569       Josefst dter Stra e 10 12 08 Josefstadt 1080 V...\n",
       "                                ...                        \n",
       "386092    Taborstra e 8 A 02 Leopoldstadt 1020 Vienna Au...\n",
       "386465    Taborstra e 8 A 02 Leopoldstadt 1020 Vienna Au...\n",
       "386504     4 rue de la P pini re 8th arr 75008 Paris France\n",
       "386702    Taborstra e 8 A 02 Leopoldstadt 1020 Vienna Au...\n",
       "386764    W hringer Stra e 33 35 09 Alsergrund 1090 Vien...\n",
       "Name: hotel_address, Length: 3268, dtype: object"
      ]
     },
     "execution_count": 8,
     "metadata": {},
     "output_type": "execute_result"
    }
   ],
   "source": [
    "lat['hotel_address']"
   ]
  },
  {
   "cell_type": "code",
   "execution_count": 5,
   "metadata": {},
   "outputs": [],
   "source": [
    "hotels.dropna(subset=['lng'], inplace=True)"
   ]
  },
  {
   "cell_type": "code",
   "execution_count": 6,
   "metadata": {},
   "outputs": [
    {
     "name": "stdout",
     "output_type": "stream",
     "text": [
      "'46.603354'\n",
      "'1.8883335'\n"
     ]
    }
   ],
   "source": [
    "nominaltim = Nominatim(user_agent='d3enjan')\n",
    "location_fr = nominaltim.geocode('France').raw\n",
    "location_au = nominaltim.geocode('Austria').raw\n",
    "location_It = nominaltim.geocode('Italy').raw\n",
    "location_Am = nominaltim.geocode('Amsterdam').raw\n",
    "location_Sp = nominaltim.geocode('Spain').raw\n",
    "location_ld = nominaltim.geocode('London').raw\n",
    "\n",
    "pprint(location_fr['lat'])\n",
    "pprint(location_fr['lon'])"
   ]
  },
  {
   "cell_type": "code",
   "execution_count": 7,
   "metadata": {},
   "outputs": [],
   "source": [
    "def lat_def(l_at):    \n",
    "    l_at = l_at.split(' ')\n",
    "    if 'France' in l_at:     \n",
    "        return location_fr['lat']\n",
    "    if  'Austria' in l_at:\n",
    "        return location_au['lat']\n",
    "    if 'Italy' in l_at:\n",
    "        return location_It['lat']\n",
    "    if 'Amsterdam' in l_at:\n",
    "        return location_Am['lat']\n",
    "    if 'Spain' in l_at:\n",
    "        return location_Sp['lat']\n",
    "    if 'London' in l_at:\n",
    "        return location_ld['lat']\n",
    "\n",
    "def lng_def(l_ng):  \n",
    "    l_ng = l_ng.split(' ')\n",
    "    if 'France' in l_ng:        \n",
    "        return location_fr['lon']\n",
    "    if  'Austria' in l_ng:\n",
    "        return location_au['lon']\n",
    "    if 'Italy' in l_ng:\n",
    "        return location_It['lon']\n",
    "    if 'Amsterdam' in l_ng:\n",
    "        return location_Am['lon']\n",
    "    if 'Spain' in l_ng:\n",
    "        return location_Sp['lon']\n",
    "    if 'London' in l_ng:\n",
    "        return location_ld['lon'] \n"
   ]
  },
  {
   "cell_type": "code",
   "execution_count": 8,
   "metadata": {},
   "outputs": [
    {
     "name": "stderr",
     "output_type": "stream",
     "text": [
      "C:\\Users\\d3en\\AppData\\Local\\Temp\\ipykernel_13888\\362355283.py:1: SettingWithCopyWarning: \n",
      "A value is trying to be set on a copy of a slice from a DataFrame.\n",
      "Try using .loc[row_indexer,col_indexer] = value instead\n",
      "\n",
      "See the caveats in the documentation: https://pandas.pydata.org/pandas-docs/stable/user_guide/indexing.html#returning-a-view-versus-a-copy\n",
      "  lat['lat'] = lat['hotel_address'].apply(lat_def)\n",
      "C:\\Users\\d3en\\AppData\\Local\\Temp\\ipykernel_13888\\362355283.py:2: SettingWithCopyWarning: \n",
      "A value is trying to be set on a copy of a slice from a DataFrame.\n",
      "Try using .loc[row_indexer,col_indexer] = value instead\n",
      "\n",
      "See the caveats in the documentation: https://pandas.pydata.org/pandas-docs/stable/user_guide/indexing.html#returning-a-view-versus-a-copy\n",
      "  lat['lng'] = lat['hotel_address'].apply(lng_def)\n"
     ]
    }
   ],
   "source": [
    "lat['lat'] = lat['hotel_address'].apply(lat_def)\n",
    "lat['lng'] = lat['hotel_address'].apply(lng_def)"
   ]
  },
  {
   "cell_type": "code",
   "execution_count": 11,
   "metadata": {},
   "outputs": [
    {
     "name": "stdout",
     "output_type": "stream",
     "text": [
      "<class 'pandas.core.frame.DataFrame'>\n",
      "Int64Index: 515738 entries, 0 to 386764\n",
      "Data columns (total 17 columns):\n",
      " #   Column                                      Non-Null Count   Dtype  \n",
      "---  ------                                      --------------   -----  \n",
      " 0   hotel_address                               515738 non-null  object \n",
      " 1   additional_number_of_scoring                515738 non-null  int64  \n",
      " 2   review_date                                 515738 non-null  object \n",
      " 3   average_score                               515738 non-null  float64\n",
      " 4   hotel_name                                  515738 non-null  object \n",
      " 5   reviewer_nationality                        515738 non-null  object \n",
      " 6   negative_review                             515738 non-null  object \n",
      " 7   review_total_negative_word_counts           515738 non-null  int64  \n",
      " 8   total_number_of_reviews                     515738 non-null  int64  \n",
      " 9   positive_review                             515738 non-null  object \n",
      " 10  review_total_positive_word_counts           515738 non-null  int64  \n",
      " 11  total_number_of_reviews_reviewer_has_given  515738 non-null  int64  \n",
      " 12  tags                                        515738 non-null  object \n",
      " 13  days_since_review                           515738 non-null  object \n",
      " 14  lat                                         515738 non-null  object \n",
      " 15  lng                                         515738 non-null  object \n",
      " 16  reviewer_score                              386803 non-null  float64\n",
      "dtypes: float64(2), int64(5), object(10)\n",
      "memory usage: 70.8+ MB\n"
     ]
    }
   ],
   "source": [
    "hotels = hotels.append(lat)\n",
    "hotels.info()"
   ]
  },
  {
   "cell_type": "code",
   "execution_count": 12,
   "metadata": {},
   "outputs": [
    {
     "name": "stdout",
     "output_type": "stream",
     "text": [
      "<class 'pandas.core.frame.DataFrame'>\n",
      "Int64Index: 3268 entries, 35 to 386764\n",
      "Data columns (total 17 columns):\n",
      " #   Column                                      Non-Null Count  Dtype  \n",
      "---  ------                                      --------------  -----  \n",
      " 0   hotel_address                               3268 non-null   object \n",
      " 1   additional_number_of_scoring                3268 non-null   int64  \n",
      " 2   review_date                                 3268 non-null   object \n",
      " 3   average_score                               3268 non-null   float64\n",
      " 4   hotel_name                                  3268 non-null   object \n",
      " 5   reviewer_nationality                        3268 non-null   object \n",
      " 6   negative_review                             3268 non-null   object \n",
      " 7   review_total_negative_word_counts           3268 non-null   int64  \n",
      " 8   total_number_of_reviews                     3268 non-null   int64  \n",
      " 9   positive_review                             3268 non-null   object \n",
      " 10  review_total_positive_word_counts           3268 non-null   int64  \n",
      " 11  total_number_of_reviews_reviewer_has_given  3268 non-null   int64  \n",
      " 12  tags                                        3268 non-null   object \n",
      " 13  days_since_review                           3268 non-null   object \n",
      " 14  lat                                         0 non-null      float64\n",
      " 15  lng                                         0 non-null      float64\n",
      " 16  reviewer_score                              2448 non-null   float64\n",
      "dtypes: float64(4), int64(5), object(8)\n",
      "memory usage: 459.6+ KB\n"
     ]
    }
   ],
   "source": []
  },
  {
   "cell_type": "code",
   "execution_count": 9,
   "metadata": {},
   "outputs": [
    {
     "data": {
      "text/plain": [
       "2145"
      ]
     },
     "metadata": {},
     "output_type": "display_data"
    },
    {
     "data": {
      "text/plain": [
       "Josefst dter Stra e 10 12 08 Josefstadt 1080 Vienna Austria    658\n",
       "Taborstra e 8 A 02 Leopoldstadt 1020 Vienna Austria            563\n",
       "W hringer Stra e 33 35 09 Alsergrund 1090 Vienna Austria       389\n",
       "4 rue de la P pini re 8th arr 75008 Paris France               290\n",
       "Landstra er G rtel 5 03 Landstra e 1030 Vienna Austria         245\n",
       "Name: hotel_address, dtype: int64"
      ]
     },
     "metadata": {},
     "output_type": "display_data"
    }
   ],
   "source": [
    "display(no_lat.sum())\n",
    "display(no_lng)"
   ]
  },
  {
   "cell_type": "code",
   "execution_count": 13,
   "metadata": {},
   "outputs": [
    {
     "name": "stdout",
     "output_type": "stream",
     "text": [
      "'46.603354'\n",
      "'1.8883335'\n"
     ]
    }
   ],
   "source": [
    "nominaltim = Nominatim(user_agent='d3enjan')\n",
    "\n",
    "location_fr = nominaltim.geocode('France').raw\n"
   ]
  },
  {
   "cell_type": "code",
   "execution_count": 4,
   "metadata": {},
   "outputs": [],
   "source": []
  },
  {
   "cell_type": "code",
   "execution_count": 6,
   "metadata": {},
   "outputs": [
    {
     "data": {
      "text/plain": [
       "False    512470\n",
       "True       3268\n",
       "Name: lat, dtype: int64"
      ]
     },
     "execution_count": 6,
     "metadata": {},
     "output_type": "execute_result"
    }
   ],
   "source": [
    "hotels['lat'].isnull().value_counts()"
   ]
  },
  {
   "cell_type": "code",
   "execution_count": null,
   "metadata": {},
   "outputs": [],
   "source": [
    "# Заполнить последнее значение, провреить модель"
   ]
  }
 ],
 "metadata": {
  "kernelspec": {
   "display_name": "Python 3.9.10 64-bit",
   "language": "python",
   "name": "python3"
  },
  "language_info": {
   "codemirror_mode": {
    "name": "ipython",
    "version": 3
   },
   "file_extension": ".py",
   "mimetype": "text/x-python",
   "name": "python",
   "nbconvert_exporter": "python",
   "pygments_lexer": "ipython3",
   "version": "3.9.10"
  },
  "orig_nbformat": 4,
  "vscode": {
   "interpreter": {
    "hash": "aef7f665a0694191b93f381ff9bf3fa49787cf0440ec035fed5813d2b4b57be1"
   }
  }
 },
 "nbformat": 4,
 "nbformat_minor": 2
}
