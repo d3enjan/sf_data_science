{
 "cells": [
  {
   "cell_type": "code",
   "execution_count": 1,
   "metadata": {},
   "outputs": [],
   "source": [
    "import numpy as np \n",
    "import pandas as pd \n",
    "import requests\n",
    "from pprint import pprint # Импортируем функцию pprint()\n",
    "\n",
    "from geopy.geocoders import Nominatim\n",
    "nominaltim = Nominatim(user_agent='d3enjan')"
   ]
  },
  {
   "cell_type": "markdown",
   "metadata": {},
   "source": [
    "[Cсылка на дата сет на всякий случай](https://disk.yandex.ru/d/TEXJ7_FiGXlS6w)"
   ]
  },
  {
   "cell_type": "code",
   "execution_count": 2,
   "metadata": {},
   "outputs": [],
   "source": [
    "# Подгрузим наши данные из соревнования\n",
    "\n",
    "DATA_DIR = 'C:/Users/d3en/OneDrive/Рабочий стол/dataScience/IDE/PROJECT-3. EDA + Feature Engineering. Соревнование на Kaggle/data_3/kaggle'\n",
    "df_train = pd.read_csv(DATA_DIR+'/hotels_train.csv') # датасет для обучения\n",
    "df_test = pd.read_csv(DATA_DIR+'/hotels_test.csv') # датасет для предсказания\n",
    "sample_submission = pd.read_csv(DATA_DIR+'/submission.csv') # самбмишн"
   ]
  },
  {
   "cell_type": "code",
   "execution_count": 3,
   "metadata": {},
   "outputs": [
    {
     "name": "stdout",
     "output_type": "stream",
     "text": [
      "<class 'pandas.core.frame.DataFrame'>\n",
      "RangeIndex: 515738 entries, 0 to 515737\n",
      "Data columns (total 17 columns):\n",
      " #   Column                                      Non-Null Count   Dtype  \n",
      "---  ------                                      --------------   -----  \n",
      " 0   hotel_address                               515738 non-null  object \n",
      " 1   additional_number_of_scoring                515738 non-null  int64  \n",
      " 2   review_date                                 515738 non-null  object \n",
      " 3   average_score                               515738 non-null  float64\n",
      " 4   hotel_name                                  515738 non-null  object \n",
      " 5   reviewer_nationality                        515738 non-null  object \n",
      " 6   negative_review                             515738 non-null  object \n",
      " 7   review_total_negative_word_counts           515738 non-null  int64  \n",
      " 8   total_number_of_reviews                     515738 non-null  int64  \n",
      " 9   positive_review                             515738 non-null  object \n",
      " 10  review_total_positive_word_counts           515738 non-null  int64  \n",
      " 11  total_number_of_reviews_reviewer_has_given  515738 non-null  int64  \n",
      " 12  tags                                        515738 non-null  object \n",
      " 13  days_since_review                           515738 non-null  object \n",
      " 14  lat                                         512470 non-null  float64\n",
      " 15  lng                                         512470 non-null  float64\n",
      " 16  reviewer_score                              386803 non-null  float64\n",
      "dtypes: float64(4), int64(5), object(8)\n",
      "memory usage: 66.9+ MB\n"
     ]
    }
   ],
   "source": [
    "hotels = df_test.append(df_train, sort=False).reset_index(drop=True)\n",
    "hotels.info()"
   ]
  },
  {
   "cell_type": "code",
   "execution_count": 4,
   "metadata": {},
   "outputs": [
    {
     "name": "stdout",
     "output_type": "stream",
     "text": [
      "{'boundingbox': ['-50.2187169', '51.3055721', '-178.3873749', '172.3057152'],\n",
      " 'class': 'boundary',\n",
      " 'display_name': 'France',\n",
      " 'icon': 'https://nominatim.openstreetmap.org/ui/mapicons/poi_boundary_administrative.p.20.png',\n",
      " 'importance': 1.0233264437396503,\n",
      " 'lat': '46.603354',\n",
      " 'licence': 'Data © OpenStreetMap contributors, ODbL 1.0. '\n",
      "            'https://osm.org/copyright',\n",
      " 'lon': '1.8883335',\n",
      " 'osm_id': 2202162,\n",
      " 'osm_type': 'relation',\n",
      " 'place_id': 298141959,\n",
      " 'type': 'administrative'}\n",
      "'46.603354'\n",
      "'1.8883335'\n"
     ]
    }
   ],
   "source": [
    "location_fr = nominaltim.geocode('France').raw\n",
    "location_au = nominaltim.geocode('Austria').raw\n",
    "location_It = nominaltim.geocode('Italy').raw\n",
    "location_Am = nominaltim.geocode('Amsterdam').raw\n",
    "location_Sp = nominaltim.geocode('Spain').raw\n",
    "location_ld = nominaltim.geocode('London').raw\n",
    "\n",
    "pprint(location_fr) # Это выдает запрос\n",
    "pprint(location_fr['lat']) #Широта\n",
    "pprint(location_fr['lon']) #Долгота"
   ]
  },
  {
   "cell_type": "code",
   "execution_count": 5,
   "metadata": {},
   "outputs": [],
   "source": [
    "# Функции заменяю значения в ячейках по условию\n",
    "\n",
    "def lat_def(l_at):    \n",
    "    l_at = l_at.split(' ')\n",
    "    if 'France' in l_at:     \n",
    "        return location_fr['lat']\n",
    "    if  'Austria' in l_at:\n",
    "        return location_au['lat']\n",
    "    if 'Italy' in l_at:\n",
    "        return location_It['lat']\n",
    "    if 'Amsterdam' in l_at:\n",
    "        return location_Am['lat']\n",
    "    if 'Spain' in l_at:\n",
    "        return location_Sp['lat']\n",
    "    if 'London' in l_at:\n",
    "        return location_ld['lat']\n",
    "\n",
    "def lng_def(l_ng):  \n",
    "    l_ng = l_ng.split(' ')\n",
    "    if 'France' in l_ng:        \n",
    "        return location_fr['lon']\n",
    "    if  'Austria' in l_ng:\n",
    "        return location_au['lon']\n",
    "    if 'Italy' in l_ng:\n",
    "        return location_It['lon']\n",
    "    if 'Amsterdam' in l_ng:\n",
    "        return location_Am['lon']\n",
    "    if 'Spain' in l_ng:\n",
    "        return location_Sp['lon']\n",
    "    if 'London' in l_ng:\n",
    "        return location_ld['lon'] \n"
   ]
  },
  {
   "cell_type": "code",
   "execution_count": 6,
   "metadata": {},
   "outputs": [
    {
     "data": {
      "text/plain": [
       "False    512470\n",
       "True       3268\n",
       "Name: lat, dtype: int64"
      ]
     },
     "execution_count": 6,
     "metadata": {},
     "output_type": "execute_result"
    }
   ],
   "source": [
    "hotels['lat'].isnull().value_counts()"
   ]
  },
  {
   "cell_type": "code",
   "execution_count": 7,
   "metadata": {},
   "outputs": [],
   "source": [
    "# Тут он заменяет значения в стобце lat и lng согласно функции, \n",
    "# тем самым меняет все значения. А хотелсоь бы поменять 3268 пустых значений, не трогая те которые есть\n",
    "# Пропуски в обоих столбцах одинаковые\n",
    "# Нужно поменять только страны Austria, France \n",
    "hotels['lat'] = hotels['hotel_address'].apply(lat_def)\n",
    "hotels['lng'] = hotels['hotel_address'].apply(lng_def)\n",
    "\n",
    "# И еще вопрос\n",
    "\n",
    "# Как сделать так, чтобы он подставлял в ячейку сразу результат кода nominaltim.geocode('France').raw,\n",
    " \n",
    "# где 'France', после split(' ') это то, что хранится в hotels['hotel_address'] = (Via Senigallia 6 20161 Milan Italy)- например, то есть и это значение ставил автоматически.\n",
    "\n",
    "# Тогда там можно будет искать координаты по названию отеля, это более точно"
   ]
  }
 ],
 "metadata": {
  "kernelspec": {
   "display_name": "Python 3.9.10 64-bit",
   "language": "python",
   "name": "python3"
  },
  "language_info": {
   "codemirror_mode": {
    "name": "ipython",
    "version": 3
   },
   "file_extension": ".py",
   "mimetype": "text/x-python",
   "name": "python",
   "nbconvert_exporter": "python",
   "pygments_lexer": "ipython3",
   "version": "3.9.10"
  },
  "orig_nbformat": 4,
  "vscode": {
   "interpreter": {
    "hash": "aef7f665a0694191b93f381ff9bf3fa49787cf0440ec035fed5813d2b4b57be1"
   }
  }
 },
 "nbformat": 4,
 "nbformat_minor": 2
}
