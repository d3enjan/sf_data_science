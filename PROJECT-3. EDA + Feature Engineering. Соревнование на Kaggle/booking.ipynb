{
 "cells": [
  {
   "cell_type": "code",
   "execution_count": 1,
   "metadata": {},
   "outputs": [],
   "source": [
    "import numpy as np \n",
    "import pandas as pd \n",
    "import requests\n",
    "from pprint import pprint # Импортируем функцию pprint()\n",
    "\n",
    "from geopy.geocoders import Nominatim\n",
    "nominaltim = Nominatim(user_agent='d3enjan')"
   ]
  },
  {
   "cell_type": "markdown",
   "metadata": {},
   "source": [
    "[Cсылка на дата сет на всякий случай](https://disk.yandex.ru/d/TEXJ7_FiGXlS6w)"
   ]
  },
  {
   "cell_type": "code",
   "execution_count": 2,
   "metadata": {},
   "outputs": [],
   "source": [
    "# Подгрузим наши данные из соревнования\n",
    "\n",
    "DATA_DIR = 'C:/Users/d3en/OneDrive/Рабочий стол/dataScience/IDE/PROJECT-3. EDA + Feature Engineering. Соревнование на Kaggle/data_3/kaggle'\n",
    "df_train = pd.read_csv(DATA_DIR+'/hotels_train.csv') # датасет для обучения\n",
    "df_test = pd.read_csv(DATA_DIR+'/hotels_test.csv') # датасет для предсказания\n",
    "sample_submission = pd.read_csv(DATA_DIR+'/submission.csv') # самбмишн"
   ]
  },
  {
   "cell_type": "code",
   "execution_count": 3,
   "metadata": {},
   "outputs": [
    {
     "name": "stdout",
     "output_type": "stream",
     "text": [
      "<class 'pandas.core.frame.DataFrame'>\n",
      "RangeIndex: 515738 entries, 0 to 515737\n",
      "Data columns (total 17 columns):\n",
      " #   Column                                      Non-Null Count   Dtype  \n",
      "---  ------                                      --------------   -----  \n",
      " 0   hotel_address                               515738 non-null  object \n",
      " 1   additional_number_of_scoring                515738 non-null  int64  \n",
      " 2   review_date                                 515738 non-null  object \n",
      " 3   average_score                               515738 non-null  float64\n",
      " 4   hotel_name                                  515738 non-null  object \n",
      " 5   reviewer_nationality                        515738 non-null  object \n",
      " 6   negative_review                             515738 non-null  object \n",
      " 7   review_total_negative_word_counts           515738 non-null  int64  \n",
      " 8   total_number_of_reviews                     515738 non-null  int64  \n",
      " 9   positive_review                             515738 non-null  object \n",
      " 10  review_total_positive_word_counts           515738 non-null  int64  \n",
      " 11  total_number_of_reviews_reviewer_has_given  515738 non-null  int64  \n",
      " 12  tags                                        515738 non-null  object \n",
      " 13  days_since_review                           515738 non-null  object \n",
      " 14  lat                                         512470 non-null  float64\n",
      " 15  lng                                         512470 non-null  float64\n",
      " 16  reviewer_score                              386803 non-null  float64\n",
      "dtypes: float64(4), int64(5), object(8)\n",
      "memory usage: 66.9+ MB\n"
     ]
    }
   ],
   "source": [
    "hotels = df_test.append(df_train, sort=False).reset_index(drop=True)\n",
    "hotels.info()"
   ]
  },
  {
   "cell_type": "code",
   "execution_count": 4,
   "metadata": {},
   "outputs": [
    {
     "name": "stdout",
     "output_type": "stream",
     "text": [
      "{'boundingbox': ['-50.2187169', '51.3055721', '-178.3873749', '172.3057152'],\n",
      " 'class': 'boundary',\n",
      " 'display_name': 'France',\n",
      " 'icon': 'https://nominatim.openstreetmap.org/ui/mapicons/poi_boundary_administrative.p.20.png',\n",
      " 'importance': 1.0233264437396503,\n",
      " 'lat': '46.603354',\n",
      " 'licence': 'Data © OpenStreetMap contributors, ODbL 1.0. '\n",
      "            'https://osm.org/copyright',\n",
      " 'lon': '1.8883335',\n",
      " 'osm_id': 2202162,\n",
      " 'osm_type': 'relation',\n",
      " 'place_id': 298141959,\n",
      " 'type': 'administrative'}\n",
      "'46.603354'\n",
      "'1.8883335'\n"
     ]
    }
   ],
   "source": [
    "location_fr = nominaltim.geocode('France').raw\n",
    "location_au = nominaltim.geocode('Austria').raw\n",
    "location_It = nominaltim.geocode('Italy').raw\n",
    "location_Am = nominaltim.geocode('Amsterdam').raw\n",
    "location_Sp = nominaltim.geocode('Spain').raw\n",
    "location_ld = nominaltim.geocode('London').raw\n",
    "\n",
    "pprint(location_fr) # Это выдает запрос\n",
    "pprint(location_fr['lat']) #Широта\n",
    "pprint(location_fr['lon']) #Долгота"
   ]
  },
  {
   "cell_type": "code",
   "execution_count": 4,
   "metadata": {},
   "outputs": [],
   "source": [
    "lat = hotels[hotels['lat'].isnull()]\n",
    "hotels.dropna(subset=['lat'], inplace=True)"
   ]
  },
  {
   "cell_type": "code",
   "execution_count": 5,
   "metadata": {},
   "outputs": [
    {
     "name": "stdout",
     "output_type": "stream",
     "text": [
      "<class 'pandas.core.frame.DataFrame'>\n",
      "Int64Index: 3268 entries, 35 to 515699\n",
      "Data columns (total 17 columns):\n",
      " #   Column                                      Non-Null Count  Dtype  \n",
      "---  ------                                      --------------  -----  \n",
      " 0   hotel_address                               3268 non-null   object \n",
      " 1   additional_number_of_scoring                3268 non-null   int64  \n",
      " 2   review_date                                 3268 non-null   object \n",
      " 3   average_score                               3268 non-null   float64\n",
      " 4   hotel_name                                  3268 non-null   object \n",
      " 5   reviewer_nationality                        3268 non-null   object \n",
      " 6   negative_review                             3268 non-null   object \n",
      " 7   review_total_negative_word_counts           3268 non-null   int64  \n",
      " 8   total_number_of_reviews                     3268 non-null   int64  \n",
      " 9   positive_review                             3268 non-null   object \n",
      " 10  review_total_positive_word_counts           3268 non-null   int64  \n",
      " 11  total_number_of_reviews_reviewer_has_given  3268 non-null   int64  \n",
      " 12  tags                                        3268 non-null   object \n",
      " 13  days_since_review                           3268 non-null   object \n",
      " 14  lat                                         0 non-null      float64\n",
      " 15  lng                                         0 non-null      float64\n",
      " 16  reviewer_score                              2448 non-null   float64\n",
      "dtypes: float64(4), int64(5), object(8)\n",
      "memory usage: 459.6+ KB\n"
     ]
    }
   ],
   "source": [
    "lat.info()"
   ]
  },
  {
   "cell_type": "code",
   "execution_count": 5,
   "metadata": {},
   "outputs": [
    {
     "data": {
      "text/plain": [
       "45.5331778"
      ]
     },
     "execution_count": 5,
     "metadata": {},
     "output_type": "execute_result"
    }
   ],
   "source": [
    "nominaltim.geocode('Via Senigallia 6 20161 Milan Italy')[1][0]"
   ]
  },
  {
   "cell_type": "code",
   "execution_count": 13,
   "metadata": {},
   "outputs": [],
   "source": [
    "def full_app(coord) -> str:\n",
    "    lat = nominaltim.geocode(coord)[1][0]\n",
    "    return lat\n",
    "    "
   ]
  },
  {
   "cell_type": "code",
   "execution_count": 14,
   "metadata": {},
   "outputs": [
    {
     "data": {
      "text/plain": [
       "55.7504461"
      ]
     },
     "execution_count": 14,
     "metadata": {},
     "output_type": "execute_result"
    }
   ],
   "source": [
    "full_app('moskow russia')"
   ]
  },
  {
   "cell_type": "code",
   "execution_count": 5,
   "metadata": {},
   "outputs": [],
   "source": [
    "# Функции заменяю значения в ячейках по условию\n",
    "\n",
    "def lat_def(l_at):    \n",
    "    l_at = l_at.split(' ')\n",
    "    if 'France' in l_at:     \n",
    "        return location_fr['lat']\n",
    "    if  'Austria' in l_at:\n",
    "        return location_au['lat']\n",
    "    if 'Italy' in l_at:\n",
    "        return location_It['lat']\n",
    "    if 'Amsterdam' in l_at:\n",
    "        return location_Am['lat']\n",
    "    if 'Spain' in l_at:\n",
    "        return location_Sp['lat']\n",
    "    if 'London' in l_at:\n",
    "        return location_ld['lat']\n",
    "\n",
    "def lng_def(l_ng):  \n",
    "    l_ng = l_ng.split(' ')\n",
    "    if 'France' in l_ng:        \n",
    "        return location_fr['lon']\n",
    "    if  'Austria' in l_ng:\n",
    "        return location_au['lon']\n",
    "    if 'Italy' in l_ng:\n",
    "        return location_It['lon']\n",
    "    if 'Amsterdam' in l_ng:\n",
    "        return location_Am['lon']\n",
    "    if 'Spain' in l_ng:\n",
    "        return location_Sp['lon']\n",
    "    if 'London' in l_ng:\n",
    "        return location_ld['lon'] \n"
   ]
  },
  {
   "cell_type": "code",
   "execution_count": 6,
   "metadata": {},
   "outputs": [
    {
     "name": "stdout",
     "output_type": "stream",
     "text": [
      "<class 'pandas.core.frame.DataFrame'>\n",
      "RangeIndex: 515738 entries, 0 to 515737\n",
      "Data columns (total 17 columns):\n",
      " #   Column                                      Non-Null Count   Dtype  \n",
      "---  ------                                      --------------   -----  \n",
      " 0   hotel_address                               515738 non-null  object \n",
      " 1   additional_number_of_scoring                515738 non-null  int64  \n",
      " 2   review_date                                 515738 non-null  object \n",
      " 3   average_score                               515738 non-null  float64\n",
      " 4   hotel_name                                  515738 non-null  object \n",
      " 5   reviewer_nationality                        515738 non-null  object \n",
      " 6   negative_review                             515738 non-null  object \n",
      " 7   review_total_negative_word_counts           515738 non-null  int64  \n",
      " 8   total_number_of_reviews                     515738 non-null  int64  \n",
      " 9   positive_review                             515738 non-null  object \n",
      " 10  review_total_positive_word_counts           515738 non-null  int64  \n",
      " 11  total_number_of_reviews_reviewer_has_given  515738 non-null  int64  \n",
      " 12  tags                                        515738 non-null  object \n",
      " 13  days_since_review                           515738 non-null  object \n",
      " 14  lat                                         512470 non-null  float64\n",
      " 15  lng                                         512470 non-null  float64\n",
      " 16  reviewer_score                              386803 non-null  float64\n",
      "dtypes: float64(4), int64(5), object(8)\n",
      "memory usage: 66.9+ MB\n"
     ]
    }
   ],
   "source": [
    "hotels.info()"
   ]
  },
  {
   "cell_type": "code",
   "execution_count": 19,
   "metadata": {},
   "outputs": [
    {
     "name": "stderr",
     "output_type": "stream",
     "text": [
      "C:\\Users\\d3en\\AppData\\Local\\Temp\\ipykernel_12904\\2058553537.py:1: SettingWithCopyWarning: \n",
      "A value is trying to be set on a copy of a slice from a DataFrame.\n",
      "Try using .loc[row_indexer,col_indexer] = value instead\n",
      "\n",
      "See the caveats in the documentation: https://pandas.pydata.org/pandas-docs/stable/user_guide/indexing.html#returning-a-view-versus-a-copy\n",
      "  lat['lat'] = lat[['hotel_address', 'lat']].apply(lambda x: lat_def(x[0]) if x[1] is not np.NaN else x[1], 1)\n"
     ]
    }
   ],
   "source": [
    "lat['lat'] = lat[['hotel_address', 'lat']].apply(lambda x: lat_def(x[0]) if x[1] is not np.NaN else x[1], 1)"
   ]
  },
  {
   "cell_type": "code",
   "execution_count": 20,
   "metadata": {},
   "outputs": [
    {
     "name": "stdout",
     "output_type": "stream",
     "text": [
      "<class 'pandas.core.frame.DataFrame'>\n",
      "Int64Index: 3268 entries, 35 to 515699\n",
      "Data columns (total 17 columns):\n",
      " #   Column                                      Non-Null Count  Dtype  \n",
      "---  ------                                      --------------  -----  \n",
      " 0   hotel_address                               3268 non-null   object \n",
      " 1   additional_number_of_scoring                3268 non-null   int64  \n",
      " 2   review_date                                 3268 non-null   object \n",
      " 3   average_score                               3268 non-null   float64\n",
      " 4   hotel_name                                  3268 non-null   object \n",
      " 5   reviewer_nationality                        3268 non-null   object \n",
      " 6   negative_review                             3268 non-null   object \n",
      " 7   review_total_negative_word_counts           3268 non-null   int64  \n",
      " 8   total_number_of_reviews                     3268 non-null   int64  \n",
      " 9   positive_review                             3268 non-null   object \n",
      " 10  review_total_positive_word_counts           3268 non-null   int64  \n",
      " 11  total_number_of_reviews_reviewer_has_given  3268 non-null   int64  \n",
      " 12  tags                                        3268 non-null   object \n",
      " 13  days_since_review                           3268 non-null   object \n",
      " 14  lat                                         3268 non-null   object \n",
      " 15  lng                                         0 non-null      float64\n",
      " 16  reviewer_score                              2448 non-null   float64\n",
      "dtypes: float64(3), int64(5), object(9)\n",
      "memory usage: 459.6+ KB\n"
     ]
    }
   ],
   "source": [
    "lat.info()"
   ]
  },
  {
   "cell_type": "code",
   "execution_count": 7,
   "metadata": {},
   "outputs": [],
   "source": [
    "from tarfile import NUL\n",
    "\n",
    "\n",
    "hotels['lat'] = hotels[['hotel_address', 'lat']].apply(lambda x: lat_def((x[0])) if x[1] is not np.NaN else x[1], 1)"
   ]
  },
  {
   "cell_type": "code",
   "execution_count": 10,
   "metadata": {},
   "outputs": [],
   "source": [
    "hotels['lng'] = hotels[['hotel_address', 'lng']].apply(lambda x: lng_def((x[0])) if x[1] is not np.NaN else x[1], 1)"
   ]
  },
  {
   "cell_type": "code",
   "execution_count": 8,
   "metadata": {},
   "outputs": [
    {
     "data": {
      "text/plain": [
       "False    515738\n",
       "Name: lat, dtype: int64"
      ]
     },
     "execution_count": 8,
     "metadata": {},
     "output_type": "execute_result"
    }
   ],
   "source": [
    "hotels['lat'].isnull().value_counts()"
   ]
  },
  {
   "cell_type": "code",
   "execution_count": 11,
   "metadata": {},
   "outputs": [
    {
     "name": "stdout",
     "output_type": "stream",
     "text": [
      "<class 'pandas.core.frame.DataFrame'>\n",
      "RangeIndex: 515738 entries, 0 to 515737\n",
      "Data columns (total 17 columns):\n",
      " #   Column                                      Non-Null Count   Dtype  \n",
      "---  ------                                      --------------   -----  \n",
      " 0   hotel_address                               515738 non-null  object \n",
      " 1   additional_number_of_scoring                515738 non-null  int64  \n",
      " 2   review_date                                 515738 non-null  object \n",
      " 3   average_score                               515738 non-null  float64\n",
      " 4   hotel_name                                  515738 non-null  object \n",
      " 5   reviewer_nationality                        515738 non-null  object \n",
      " 6   negative_review                             515738 non-null  object \n",
      " 7   review_total_negative_word_counts           515738 non-null  int64  \n",
      " 8   total_number_of_reviews                     515738 non-null  int64  \n",
      " 9   positive_review                             515738 non-null  object \n",
      " 10  review_total_positive_word_counts           515738 non-null  int64  \n",
      " 11  total_number_of_reviews_reviewer_has_given  515738 non-null  int64  \n",
      " 12  tags                                        515738 non-null  object \n",
      " 13  days_since_review                           515738 non-null  object \n",
      " 14  lat                                         515738 non-null  object \n",
      " 15  lng                                         515738 non-null  object \n",
      " 16  reviewer_score                              386803 non-null  float64\n",
      "dtypes: float64(2), int64(5), object(10)\n",
      "memory usage: 66.9+ MB\n"
     ]
    }
   ],
   "source": [
    "hotels.info()"
   ]
  },
  {
   "cell_type": "code",
   "execution_count": 46,
   "metadata": {},
   "outputs": [
    {
     "data": {
      "text/html": [
       "<div>\n",
       "<style scoped>\n",
       "    .dataframe tbody tr th:only-of-type {\n",
       "        vertical-align: middle;\n",
       "    }\n",
       "\n",
       "    .dataframe tbody tr th {\n",
       "        vertical-align: top;\n",
       "    }\n",
       "\n",
       "    .dataframe thead th {\n",
       "        text-align: right;\n",
       "    }\n",
       "</style>\n",
       "<table border=\"1\" class=\"dataframe\">\n",
       "  <thead>\n",
       "    <tr style=\"text-align: right;\">\n",
       "      <th></th>\n",
       "      <th>hotel_address</th>\n",
       "      <th>additional_number_of_scoring</th>\n",
       "      <th>review_date</th>\n",
       "      <th>average_score</th>\n",
       "      <th>hotel_name</th>\n",
       "      <th>reviewer_nationality</th>\n",
       "      <th>negative_review</th>\n",
       "      <th>review_total_negative_word_counts</th>\n",
       "      <th>total_number_of_reviews</th>\n",
       "      <th>positive_review</th>\n",
       "      <th>review_total_positive_word_counts</th>\n",
       "      <th>total_number_of_reviews_reviewer_has_given</th>\n",
       "      <th>tags</th>\n",
       "      <th>days_since_review</th>\n",
       "      <th>lat</th>\n",
       "      <th>lng</th>\n",
       "      <th>reviewer_score</th>\n",
       "    </tr>\n",
       "  </thead>\n",
       "  <tbody>\n",
       "    <tr>\n",
       "      <th>0</th>\n",
       "      <td>Via Senigallia 6 20161 Milan Italy</td>\n",
       "      <td>904</td>\n",
       "      <td>7/21/2017</td>\n",
       "      <td>8.1</td>\n",
       "      <td>Hotel Da Vinci</td>\n",
       "      <td>United Kingdom</td>\n",
       "      <td>Would have appreciated a shop in the hotel th...</td>\n",
       "      <td>52</td>\n",
       "      <td>16670</td>\n",
       "      <td>Hotel was great clean friendly staff free bre...</td>\n",
       "      <td>62</td>\n",
       "      <td>1</td>\n",
       "      <td>[' Leisure trip ', ' Couple ', ' Double Room '...</td>\n",
       "      <td>13 days</td>\n",
       "      <td>45.533137</td>\n",
       "      <td>9.171102</td>\n",
       "      <td>NaN</td>\n",
       "    </tr>\n",
       "    <tr>\n",
       "      <th>1</th>\n",
       "      <td>Arlandaweg 10 Westpoort 1043 EW Amsterdam Neth...</td>\n",
       "      <td>612</td>\n",
       "      <td>12/12/2016</td>\n",
       "      <td>8.6</td>\n",
       "      <td>Urban Lodge Hotel</td>\n",
       "      <td>Belgium</td>\n",
       "      <td>No tissue paper box was present at the room</td>\n",
       "      <td>10</td>\n",
       "      <td>5018</td>\n",
       "      <td>No Positive</td>\n",
       "      <td>0</td>\n",
       "      <td>7</td>\n",
       "      <td>[' Leisure trip ', ' Group ', ' Triple Room ',...</td>\n",
       "      <td>234 day</td>\n",
       "      <td>52.385649</td>\n",
       "      <td>4.834443</td>\n",
       "      <td>NaN</td>\n",
       "    </tr>\n",
       "    <tr>\n",
       "      <th>2</th>\n",
       "      <td>Mallorca 251 Eixample 08008 Barcelona Spain</td>\n",
       "      <td>46</td>\n",
       "      <td>11/26/2015</td>\n",
       "      <td>8.3</td>\n",
       "      <td>Alexandra Barcelona A DoubleTree by Hilton</td>\n",
       "      <td>Sweden</td>\n",
       "      <td>Pillows</td>\n",
       "      <td>3</td>\n",
       "      <td>351</td>\n",
       "      <td>Nice welcoming and service</td>\n",
       "      <td>5</td>\n",
       "      <td>15</td>\n",
       "      <td>[' Business trip ', ' Solo traveler ', ' Twin ...</td>\n",
       "      <td>616 day</td>\n",
       "      <td>41.393192</td>\n",
       "      <td>2.161520</td>\n",
       "      <td>NaN</td>\n",
       "    </tr>\n",
       "    <tr>\n",
       "      <th>3</th>\n",
       "      <td>Piazza Della Repubblica 17 Central Station 201...</td>\n",
       "      <td>241</td>\n",
       "      <td>10/17/2015</td>\n",
       "      <td>9.1</td>\n",
       "      <td>Hotel Principe Di Savoia</td>\n",
       "      <td>United States of America</td>\n",
       "      <td>No Negative</td>\n",
       "      <td>0</td>\n",
       "      <td>1543</td>\n",
       "      <td>Everything including the nice upgrade The Hot...</td>\n",
       "      <td>27</td>\n",
       "      <td>9</td>\n",
       "      <td>[' Leisure trip ', ' Couple ', ' Ambassador Ju...</td>\n",
       "      <td>656 day</td>\n",
       "      <td>45.479888</td>\n",
       "      <td>9.196298</td>\n",
       "      <td>NaN</td>\n",
       "    </tr>\n",
       "    <tr>\n",
       "      <th>4</th>\n",
       "      <td>Singel 303 309 Amsterdam City Center 1012 WJ A...</td>\n",
       "      <td>834</td>\n",
       "      <td>5/16/2016</td>\n",
       "      <td>9.1</td>\n",
       "      <td>Hotel Esther a</td>\n",
       "      <td>United Kingdom</td>\n",
       "      <td>No Negative</td>\n",
       "      <td>0</td>\n",
       "      <td>4687</td>\n",
       "      <td>Lovely hotel v welcoming staff</td>\n",
       "      <td>7</td>\n",
       "      <td>2</td>\n",
       "      <td>[' Business trip ', ' Solo traveler ', ' Class...</td>\n",
       "      <td>444 day</td>\n",
       "      <td>52.370545</td>\n",
       "      <td>4.888644</td>\n",
       "      <td>NaN</td>\n",
       "    </tr>\n",
       "    <tr>\n",
       "      <th>...</th>\n",
       "      <td>...</td>\n",
       "      <td>...</td>\n",
       "      <td>...</td>\n",
       "      <td>...</td>\n",
       "      <td>...</td>\n",
       "      <td>...</td>\n",
       "      <td>...</td>\n",
       "      <td>...</td>\n",
       "      <td>...</td>\n",
       "      <td>...</td>\n",
       "      <td>...</td>\n",
       "      <td>...</td>\n",
       "      <td>...</td>\n",
       "      <td>...</td>\n",
       "      <td>...</td>\n",
       "      <td>...</td>\n",
       "      <td>...</td>\n",
       "    </tr>\n",
       "    <tr>\n",
       "      <th>515733</th>\n",
       "      <td>9 Knaresborough Place Kensington and Chelsea L...</td>\n",
       "      <td>107</td>\n",
       "      <td>4/19/2017</td>\n",
       "      <td>9.0</td>\n",
       "      <td>Hotel Moonlight</td>\n",
       "      <td>France</td>\n",
       "      <td>No Negative</td>\n",
       "      <td>0</td>\n",
       "      <td>617</td>\n",
       "      <td>Tr s proche du metro Earl s court</td>\n",
       "      <td>10</td>\n",
       "      <td>10</td>\n",
       "      <td>[' Leisure trip ', ' Group ', ' Club Double or...</td>\n",
       "      <td>106 day</td>\n",
       "      <td>51.494028</td>\n",
       "      <td>-0.191050</td>\n",
       "      <td>8.8</td>\n",
       "    </tr>\n",
       "    <tr>\n",
       "      <th>515734</th>\n",
       "      <td>Landstra er Hauptstra e 155 03 Landstra e 1030...</td>\n",
       "      <td>272</td>\n",
       "      <td>2/13/2017</td>\n",
       "      <td>8.4</td>\n",
       "      <td>BEST WESTERN PLUS Amedia Wien</td>\n",
       "      <td>Turkey</td>\n",
       "      <td>No Negative</td>\n",
       "      <td>0</td>\n",
       "      <td>3224</td>\n",
       "      <td>The bed was so comfy I stayed with my boyfrie...</td>\n",
       "      <td>93</td>\n",
       "      <td>1</td>\n",
       "      <td>[' Leisure trip ', ' Couple ', ' Standard Doub...</td>\n",
       "      <td>171 day</td>\n",
       "      <td>48.192379</td>\n",
       "      <td>16.399451</td>\n",
       "      <td>9.2</td>\n",
       "    </tr>\n",
       "    <tr>\n",
       "      <th>515735</th>\n",
       "      <td>29 31 Gower Street Camden London WC1E 6HG Unit...</td>\n",
       "      <td>457</td>\n",
       "      <td>2/7/2016</td>\n",
       "      <td>6.8</td>\n",
       "      <td>Bloomsbury Palace Hotel</td>\n",
       "      <td>Netherlands</td>\n",
       "      <td>room is really small but guess is normal in L...</td>\n",
       "      <td>12</td>\n",
       "      <td>2751</td>\n",
       "      <td>great location simple check in out nice shower</td>\n",
       "      <td>9</td>\n",
       "      <td>21</td>\n",
       "      <td>[' Business trip ', ' Solo traveler ', ' Singl...</td>\n",
       "      <td>543 day</td>\n",
       "      <td>51.520795</td>\n",
       "      <td>-0.131084</td>\n",
       "      <td>8.3</td>\n",
       "    </tr>\n",
       "    <tr>\n",
       "      <th>515736</th>\n",
       "      <td>31 Great Cumberland Place Westminster Borough ...</td>\n",
       "      <td>365</td>\n",
       "      <td>5/21/2017</td>\n",
       "      <td>8.1</td>\n",
       "      <td>The Marble Arch London</td>\n",
       "      <td>United Arab Emirates</td>\n",
       "      <td>No Negative</td>\n",
       "      <td>0</td>\n",
       "      <td>1567</td>\n",
       "      <td>Location and very comfy bed</td>\n",
       "      <td>6</td>\n",
       "      <td>28</td>\n",
       "      <td>[' Leisure trip ', ' Solo traveler ', ' Deluxe...</td>\n",
       "      <td>74 days</td>\n",
       "      <td>51.515125</td>\n",
       "      <td>-0.160066</td>\n",
       "      <td>9.2</td>\n",
       "    </tr>\n",
       "    <tr>\n",
       "      <th>515737</th>\n",
       "      <td>25 Courtfield Gardens Kensington and Chelsea L...</td>\n",
       "      <td>222</td>\n",
       "      <td>8/5/2016</td>\n",
       "      <td>9.0</td>\n",
       "      <td>The Nadler Kensington</td>\n",
       "      <td>Australia</td>\n",
       "      <td>Patio outside could have been cleaned of alga...</td>\n",
       "      <td>20</td>\n",
       "      <td>1209</td>\n",
       "      <td>Beds comfortable Pillows also good Homely fee...</td>\n",
       "      <td>20</td>\n",
       "      <td>2</td>\n",
       "      <td>[' Leisure trip ', ' Couple ', ' Bunk Bed Room...</td>\n",
       "      <td>363 day</td>\n",
       "      <td>51.493109</td>\n",
       "      <td>-0.190208</td>\n",
       "      <td>8.8</td>\n",
       "    </tr>\n",
       "  </tbody>\n",
       "</table>\n",
       "<p>512470 rows × 17 columns</p>\n",
       "</div>"
      ],
      "text/plain": [
       "                                            hotel_address  \\\n",
       "0                      Via Senigallia 6 20161 Milan Italy   \n",
       "1       Arlandaweg 10 Westpoort 1043 EW Amsterdam Neth...   \n",
       "2             Mallorca 251 Eixample 08008 Barcelona Spain   \n",
       "3       Piazza Della Repubblica 17 Central Station 201...   \n",
       "4       Singel 303 309 Amsterdam City Center 1012 WJ A...   \n",
       "...                                                   ...   \n",
       "515733  9 Knaresborough Place Kensington and Chelsea L...   \n",
       "515734  Landstra er Hauptstra e 155 03 Landstra e 1030...   \n",
       "515735  29 31 Gower Street Camden London WC1E 6HG Unit...   \n",
       "515736  31 Great Cumberland Place Westminster Borough ...   \n",
       "515737  25 Courtfield Gardens Kensington and Chelsea L...   \n",
       "\n",
       "        additional_number_of_scoring review_date  average_score  \\\n",
       "0                                904   7/21/2017            8.1   \n",
       "1                                612  12/12/2016            8.6   \n",
       "2                                 46  11/26/2015            8.3   \n",
       "3                                241  10/17/2015            9.1   \n",
       "4                                834   5/16/2016            9.1   \n",
       "...                              ...         ...            ...   \n",
       "515733                           107   4/19/2017            9.0   \n",
       "515734                           272   2/13/2017            8.4   \n",
       "515735                           457    2/7/2016            6.8   \n",
       "515736                           365   5/21/2017            8.1   \n",
       "515737                           222    8/5/2016            9.0   \n",
       "\n",
       "                                        hotel_name  \\\n",
       "0                                   Hotel Da Vinci   \n",
       "1                                Urban Lodge Hotel   \n",
       "2       Alexandra Barcelona A DoubleTree by Hilton   \n",
       "3                         Hotel Principe Di Savoia   \n",
       "4                                   Hotel Esther a   \n",
       "...                                            ...   \n",
       "515733                             Hotel Moonlight   \n",
       "515734               BEST WESTERN PLUS Amedia Wien   \n",
       "515735                     Bloomsbury Palace Hotel   \n",
       "515736                      The Marble Arch London   \n",
       "515737                       The Nadler Kensington   \n",
       "\n",
       "              reviewer_nationality  \\\n",
       "0                  United Kingdom    \n",
       "1                         Belgium    \n",
       "2                          Sweden    \n",
       "3        United States of America    \n",
       "4                  United Kingdom    \n",
       "...                            ...   \n",
       "515733                     France    \n",
       "515734                     Turkey    \n",
       "515735                Netherlands    \n",
       "515736       United Arab Emirates    \n",
       "515737                  Australia    \n",
       "\n",
       "                                          negative_review  \\\n",
       "0        Would have appreciated a shop in the hotel th...   \n",
       "1             No tissue paper box was present at the room   \n",
       "2                                                Pillows    \n",
       "3                                             No Negative   \n",
       "4                                             No Negative   \n",
       "...                                                   ...   \n",
       "515733                                        No Negative   \n",
       "515734                                        No Negative   \n",
       "515735   room is really small but guess is normal in L...   \n",
       "515736                                        No Negative   \n",
       "515737   Patio outside could have been cleaned of alga...   \n",
       "\n",
       "        review_total_negative_word_counts  total_number_of_reviews  \\\n",
       "0                                      52                    16670   \n",
       "1                                      10                     5018   \n",
       "2                                       3                      351   \n",
       "3                                       0                     1543   \n",
       "4                                       0                     4687   \n",
       "...                                   ...                      ...   \n",
       "515733                                  0                      617   \n",
       "515734                                  0                     3224   \n",
       "515735                                 12                     2751   \n",
       "515736                                  0                     1567   \n",
       "515737                                 20                     1209   \n",
       "\n",
       "                                          positive_review  \\\n",
       "0        Hotel was great clean friendly staff free bre...   \n",
       "1                                             No Positive   \n",
       "2                              Nice welcoming and service   \n",
       "3        Everything including the nice upgrade The Hot...   \n",
       "4                         Lovely hotel v welcoming staff    \n",
       "...                                                   ...   \n",
       "515733                 Tr s proche du metro Earl s court    \n",
       "515734   The bed was so comfy I stayed with my boyfrie...   \n",
       "515735     great location simple check in out nice shower   \n",
       "515736                        Location and very comfy bed   \n",
       "515737   Beds comfortable Pillows also good Homely fee...   \n",
       "\n",
       "        review_total_positive_word_counts  \\\n",
       "0                                      62   \n",
       "1                                       0   \n",
       "2                                       5   \n",
       "3                                      27   \n",
       "4                                       7   \n",
       "...                                   ...   \n",
       "515733                                 10   \n",
       "515734                                 93   \n",
       "515735                                  9   \n",
       "515736                                  6   \n",
       "515737                                 20   \n",
       "\n",
       "        total_number_of_reviews_reviewer_has_given  \\\n",
       "0                                                1   \n",
       "1                                                7   \n",
       "2                                               15   \n",
       "3                                                9   \n",
       "4                                                2   \n",
       "...                                            ...   \n",
       "515733                                          10   \n",
       "515734                                           1   \n",
       "515735                                          21   \n",
       "515736                                          28   \n",
       "515737                                           2   \n",
       "\n",
       "                                                     tags days_since_review  \\\n",
       "0       [' Leisure trip ', ' Couple ', ' Double Room '...           13 days   \n",
       "1       [' Leisure trip ', ' Group ', ' Triple Room ',...           234 day   \n",
       "2       [' Business trip ', ' Solo traveler ', ' Twin ...           616 day   \n",
       "3       [' Leisure trip ', ' Couple ', ' Ambassador Ju...           656 day   \n",
       "4       [' Business trip ', ' Solo traveler ', ' Class...           444 day   \n",
       "...                                                   ...               ...   \n",
       "515733  [' Leisure trip ', ' Group ', ' Club Double or...           106 day   \n",
       "515734  [' Leisure trip ', ' Couple ', ' Standard Doub...           171 day   \n",
       "515735  [' Business trip ', ' Solo traveler ', ' Singl...           543 day   \n",
       "515736  [' Leisure trip ', ' Solo traveler ', ' Deluxe...           74 days   \n",
       "515737  [' Leisure trip ', ' Couple ', ' Bunk Bed Room...           363 day   \n",
       "\n",
       "              lat        lng  reviewer_score  \n",
       "0       45.533137   9.171102             NaN  \n",
       "1       52.385649   4.834443             NaN  \n",
       "2       41.393192   2.161520             NaN  \n",
       "3       45.479888   9.196298             NaN  \n",
       "4       52.370545   4.888644             NaN  \n",
       "...           ...        ...             ...  \n",
       "515733  51.494028  -0.191050             8.8  \n",
       "515734  48.192379  16.399451             9.2  \n",
       "515735  51.520795  -0.131084             8.3  \n",
       "515736  51.515125  -0.160066             9.2  \n",
       "515737  51.493109  -0.190208             8.8  \n",
       "\n",
       "[512470 rows x 17 columns]"
      ]
     },
     "execution_count": 46,
     "metadata": {},
     "output_type": "execute_result"
    }
   ],
   "source": [
    "hotels[hotels['lat'].notnull()] "
   ]
  },
  {
   "cell_type": "code",
   "execution_count": 26,
   "metadata": {},
   "outputs": [
    {
     "name": "stdout",
     "output_type": "stream",
     "text": [
      "<class 'pandas.core.frame.DataFrame'>\n",
      "RangeIndex: 515738 entries, 0 to 515737\n",
      "Data columns (total 17 columns):\n",
      " #   Column                                      Non-Null Count   Dtype  \n",
      "---  ------                                      --------------   -----  \n",
      " 0   hotel_address                               515738 non-null  object \n",
      " 1   additional_number_of_scoring                515738 non-null  int64  \n",
      " 2   review_date                                 515738 non-null  object \n",
      " 3   average_score                               515738 non-null  float64\n",
      " 4   hotel_name                                  515738 non-null  object \n",
      " 5   reviewer_nationality                        515738 non-null  object \n",
      " 6   negative_review                             515738 non-null  object \n",
      " 7   review_total_negative_word_counts           515738 non-null  int64  \n",
      " 8   total_number_of_reviews                     515738 non-null  int64  \n",
      " 9   positive_review                             515738 non-null  object \n",
      " 10  review_total_positive_word_counts           515738 non-null  int64  \n",
      " 11  total_number_of_reviews_reviewer_has_given  515738 non-null  int64  \n",
      " 12  tags                                        515738 non-null  object \n",
      " 13  days_since_review                           515738 non-null  object \n",
      " 14  lat                                         512470 non-null  float64\n",
      " 15  lng                                         512470 non-null  float64\n",
      " 16  reviewer_score                              386803 non-null  float64\n",
      "dtypes: float64(4), int64(5), object(8)\n",
      "memory usage: 66.9+ MB\n"
     ]
    }
   ],
   "source": [
    "hotels.info()"
   ]
  },
  {
   "cell_type": "code",
   "execution_count": 9,
   "metadata": {},
   "outputs": [
    {
     "data": {
      "text/plain": [
       "False    512470\n",
       "True       3268\n",
       "Name: lat, dtype: int64"
      ]
     },
     "execution_count": 9,
     "metadata": {},
     "output_type": "execute_result"
    }
   ],
   "source": [
    "hotels['lat'].isnull().value_counts()"
   ]
  },
  {
   "cell_type": "code",
   "execution_count": 24,
   "metadata": {},
   "outputs": [
    {
     "name": "stderr",
     "output_type": "stream",
     "text": [
      "C:\\Users\\d3en\\AppData\\Local\\Temp\\ipykernel_4192\\2418413579.py:1: SettingWithCopyWarning: \n",
      "A value is trying to be set on a copy of a slice from a DataFrame.\n",
      "Try using .loc[row_indexer,col_indexer] = value instead\n",
      "\n",
      "See the caveats in the documentation: https://pandas.pydata.org/pandas-docs/stable/user_guide/indexing.html#returning-a-view-versus-a-copy\n",
      "  lat['lat'] = lat[['hotel_address', 'lat']].apply(lambda x: x[1] if x[1] else lat_def(x[0]), 1)\n"
     ]
    }
   ],
   "source": [
    "lat['lat'] = lat[['hotel_address', 'lat']].apply(lambda x: x[1] if x[1] else lat_def(x[0]), 1)"
   ]
  },
  {
   "cell_type": "code",
   "execution_count": 25,
   "metadata": {},
   "outputs": [
    {
     "data": {
      "text/plain": [
       "35       NaN\n",
       "293      NaN\n",
       "476      NaN\n",
       "526      NaN\n",
       "569      NaN\n",
       "          ..\n",
       "515027   NaN\n",
       "515400   NaN\n",
       "515439   NaN\n",
       "515637   NaN\n",
       "515699   NaN\n",
       "Name: lat, Length: 3268, dtype: float64"
      ]
     },
     "execution_count": 25,
     "metadata": {},
     "output_type": "execute_result"
    }
   ],
   "source": [
    "lat['lat']"
   ]
  },
  {
   "cell_type": "code",
   "execution_count": null,
   "metadata": {},
   "outputs": [],
   "source": [
    "# Тут он заменяет значения в стобце lat и lng согласно функции, \n",
    "# тем самым меняет все значения. А хотелсоь бы поменять 3268 пустых значений, не трогая те которые есть\n",
    "# Пропуски в обоих столбцах одинаковые\n",
    "# Нужно поменять только страны Austria, France \n",
    "hotels['lat'] = hotels['hotel_address'].apply(lat_def)\n",
    "hotels['lng'] = hotels['hotel_address'].apply(lng_def)\n",
    "\n",
    "# И еще вопрос\n",
    "\n",
    "# Как сделать так, чтобы он подставлял в ячейку сразу результат кода nominaltim.geocode('France').raw,\n",
    " \n",
    "# где 'France', после split(' ') это то, что хранится в hotels['hotel_address'] = (Via Senigallia 6 20161 Milan Italy)- например, то есть и это значение ставил автоматически.\n",
    "\n",
    "# Тогда там можно будет искать координаты по названию отеля, это более точно"
   ]
  },
  {
   "cell_type": "code",
   "execution_count": null,
   "metadata": {},
   "outputs": [],
   "source": []
  }
 ],
 "metadata": {
  "kernelspec": {
   "display_name": "Python 3.9.10 64-bit",
   "language": "python",
   "name": "python3"
  },
  "language_info": {
   "codemirror_mode": {
    "name": "ipython",
    "version": 3
   },
   "file_extension": ".py",
   "mimetype": "text/x-python",
   "name": "python",
   "nbconvert_exporter": "python",
   "pygments_lexer": "ipython3",
   "version": "3.9.10"
  },
  "orig_nbformat": 4,
  "vscode": {
   "interpreter": {
    "hash": "aef7f665a0694191b93f381ff9bf3fa49787cf0440ec035fed5813d2b4b57be1"
   }
  }
 },
 "nbformat": 4,
 "nbformat_minor": 2
}
