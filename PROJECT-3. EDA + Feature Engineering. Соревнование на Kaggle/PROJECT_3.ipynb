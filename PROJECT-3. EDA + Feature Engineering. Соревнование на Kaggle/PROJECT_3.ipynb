{
 "cells": [
  {
   "cell_type": "code",
   "execution_count": 1,
   "metadata": {},
   "outputs": [],
   "source": [
    "import pandas as pd \n",
    "import numpy as np"
   ]
  },
  {
   "cell_type": "code",
   "execution_count": 2,
   "metadata": {},
   "outputs": [
    {
     "data": {
      "text/html": [
       "<div>\n",
       "<style scoped>\n",
       "    .dataframe tbody tr th:only-of-type {\n",
       "        vertical-align: middle;\n",
       "    }\n",
       "\n",
       "    .dataframe tbody tr th {\n",
       "        vertical-align: top;\n",
       "    }\n",
       "\n",
       "    .dataframe thead th {\n",
       "        text-align: right;\n",
       "    }\n",
       "</style>\n",
       "<table border=\"1\" class=\"dataframe\">\n",
       "  <thead>\n",
       "    <tr style=\"text-align: right;\">\n",
       "      <th></th>\n",
       "      <th>hotel_address</th>\n",
       "      <th>additional_number_of_scoring</th>\n",
       "      <th>review_date</th>\n",
       "      <th>average_score</th>\n",
       "      <th>hotel_name</th>\n",
       "      <th>reviewer_nationality</th>\n",
       "      <th>negative_review</th>\n",
       "      <th>review_total_negative_word_counts</th>\n",
       "      <th>total_number_of_reviews</th>\n",
       "      <th>positive_review</th>\n",
       "      <th>review_total_positive_word_counts</th>\n",
       "      <th>total_number_of_reviews_reviewer_has_given</th>\n",
       "      <th>reviewer_score</th>\n",
       "      <th>tags</th>\n",
       "      <th>days_since_review</th>\n",
       "      <th>lat</th>\n",
       "      <th>lng</th>\n",
       "    </tr>\n",
       "  </thead>\n",
       "  <tbody>\n",
       "    <tr>\n",
       "      <th>0</th>\n",
       "      <td>Stratton Street Mayfair Westminster Borough Lo...</td>\n",
       "      <td>581</td>\n",
       "      <td>2/19/2016</td>\n",
       "      <td>8.4</td>\n",
       "      <td>The May Fair Hotel</td>\n",
       "      <td>United Kingdom</td>\n",
       "      <td>Leaving</td>\n",
       "      <td>3</td>\n",
       "      <td>1994</td>\n",
       "      <td>Staff were amazing</td>\n",
       "      <td>4</td>\n",
       "      <td>7</td>\n",
       "      <td>10.0</td>\n",
       "      <td>[' Leisure trip ', ' Couple ', ' Studio Suite ...</td>\n",
       "      <td>531 day</td>\n",
       "      <td>51.507894</td>\n",
       "      <td>-0.143671</td>\n",
       "    </tr>\n",
       "    <tr>\n",
       "      <th>1</th>\n",
       "      <td>130 134 Southampton Row Camden London WC1B 5AF...</td>\n",
       "      <td>299</td>\n",
       "      <td>1/12/2017</td>\n",
       "      <td>8.3</td>\n",
       "      <td>Mercure London Bloomsbury Hotel</td>\n",
       "      <td>United Kingdom</td>\n",
       "      <td>poor breakfast</td>\n",
       "      <td>3</td>\n",
       "      <td>1361</td>\n",
       "      <td>location</td>\n",
       "      <td>2</td>\n",
       "      <td>14</td>\n",
       "      <td>6.3</td>\n",
       "      <td>[' Business trip ', ' Couple ', ' Standard Dou...</td>\n",
       "      <td>203 day</td>\n",
       "      <td>51.521009</td>\n",
       "      <td>-0.123097</td>\n",
       "    </tr>\n",
       "    <tr>\n",
       "      <th>2</th>\n",
       "      <td>151 bis Rue de Rennes 6th arr 75006 Paris France</td>\n",
       "      <td>32</td>\n",
       "      <td>10/18/2016</td>\n",
       "      <td>8.9</td>\n",
       "      <td>Legend Saint Germain by Elegancia</td>\n",
       "      <td>China</td>\n",
       "      <td>No kettle in room</td>\n",
       "      <td>6</td>\n",
       "      <td>406</td>\n",
       "      <td>No Positive</td>\n",
       "      <td>0</td>\n",
       "      <td>14</td>\n",
       "      <td>7.5</td>\n",
       "      <td>[' Leisure trip ', ' Solo traveler ', ' Modern...</td>\n",
       "      <td>289 day</td>\n",
       "      <td>48.845377</td>\n",
       "      <td>2.325643</td>\n",
       "    </tr>\n",
       "    <tr>\n",
       "      <th>3</th>\n",
       "      <td>216 Avenue Jean Jaures 19th arr 75019 Paris Fr...</td>\n",
       "      <td>34</td>\n",
       "      <td>9/22/2015</td>\n",
       "      <td>7.5</td>\n",
       "      <td>Mercure Paris 19 Philharmonie La Villette</td>\n",
       "      <td>United Kingdom</td>\n",
       "      <td>No Negative</td>\n",
       "      <td>0</td>\n",
       "      <td>607</td>\n",
       "      <td>Friendly staff quiet comfortable room spotles...</td>\n",
       "      <td>11</td>\n",
       "      <td>8</td>\n",
       "      <td>10.0</td>\n",
       "      <td>[' Leisure trip ', ' Solo traveler ', ' Standa...</td>\n",
       "      <td>681 day</td>\n",
       "      <td>48.888697</td>\n",
       "      <td>2.394540</td>\n",
       "    </tr>\n",
       "    <tr>\n",
       "      <th>4</th>\n",
       "      <td>Molenwerf 1 1014 AG Amsterdam Netherlands</td>\n",
       "      <td>914</td>\n",
       "      <td>3/5/2016</td>\n",
       "      <td>8.5</td>\n",
       "      <td>Golden Tulip Amsterdam West</td>\n",
       "      <td>Poland</td>\n",
       "      <td>Torn sheets</td>\n",
       "      <td>4</td>\n",
       "      <td>7586</td>\n",
       "      <td>The staff was very friendly and helpful Break...</td>\n",
       "      <td>20</td>\n",
       "      <td>10</td>\n",
       "      <td>9.6</td>\n",
       "      <td>[' Business trip ', ' Couple ', ' Standard Dou...</td>\n",
       "      <td>516 day</td>\n",
       "      <td>52.385601</td>\n",
       "      <td>4.847060</td>\n",
       "    </tr>\n",
       "  </tbody>\n",
       "</table>\n",
       "</div>"
      ],
      "text/plain": [
       "                                       hotel_address  \\\n",
       "0  Stratton Street Mayfair Westminster Borough Lo...   \n",
       "1  130 134 Southampton Row Camden London WC1B 5AF...   \n",
       "2   151 bis Rue de Rennes 6th arr 75006 Paris France   \n",
       "3  216 Avenue Jean Jaures 19th arr 75019 Paris Fr...   \n",
       "4          Molenwerf 1 1014 AG Amsterdam Netherlands   \n",
       "\n",
       "   additional_number_of_scoring review_date  average_score  \\\n",
       "0                           581   2/19/2016            8.4   \n",
       "1                           299   1/12/2017            8.3   \n",
       "2                            32  10/18/2016            8.9   \n",
       "3                            34   9/22/2015            7.5   \n",
       "4                           914    3/5/2016            8.5   \n",
       "\n",
       "                                  hotel_name reviewer_nationality  \\\n",
       "0                         The May Fair Hotel      United Kingdom    \n",
       "1            Mercure London Bloomsbury Hotel      United Kingdom    \n",
       "2          Legend Saint Germain by Elegancia               China    \n",
       "3  Mercure Paris 19 Philharmonie La Villette      United Kingdom    \n",
       "4                Golden Tulip Amsterdam West              Poland    \n",
       "\n",
       "       negative_review  review_total_negative_word_counts  \\\n",
       "0             Leaving                                   3   \n",
       "1       poor breakfast                                  3   \n",
       "2   No kettle in room                                   6   \n",
       "3          No Negative                                  0   \n",
       "4         Torn sheets                                   4   \n",
       "\n",
       "   total_number_of_reviews                                    positive_review  \\\n",
       "0                     1994                                 Staff were amazing   \n",
       "1                     1361                                           location   \n",
       "2                      406                                        No Positive   \n",
       "3                      607   Friendly staff quiet comfortable room spotles...   \n",
       "4                     7586   The staff was very friendly and helpful Break...   \n",
       "\n",
       "   review_total_positive_word_counts  \\\n",
       "0                                  4   \n",
       "1                                  2   \n",
       "2                                  0   \n",
       "3                                 11   \n",
       "4                                 20   \n",
       "\n",
       "   total_number_of_reviews_reviewer_has_given  reviewer_score  \\\n",
       "0                                           7            10.0   \n",
       "1                                          14             6.3   \n",
       "2                                          14             7.5   \n",
       "3                                           8            10.0   \n",
       "4                                          10             9.6   \n",
       "\n",
       "                                                tags days_since_review  \\\n",
       "0  [' Leisure trip ', ' Couple ', ' Studio Suite ...           531 day   \n",
       "1  [' Business trip ', ' Couple ', ' Standard Dou...           203 day   \n",
       "2  [' Leisure trip ', ' Solo traveler ', ' Modern...           289 day   \n",
       "3  [' Leisure trip ', ' Solo traveler ', ' Standa...           681 day   \n",
       "4  [' Business trip ', ' Couple ', ' Standard Dou...           516 day   \n",
       "\n",
       "         lat       lng  \n",
       "0  51.507894 -0.143671  \n",
       "1  51.521009 -0.123097  \n",
       "2  48.845377  2.325643  \n",
       "3  48.888697  2.394540  \n",
       "4  52.385601  4.847060  "
      ]
     },
     "execution_count": 2,
     "metadata": {},
     "output_type": "execute_result"
    }
   ],
   "source": [
    "hotels = pd.read_csv('data_3/hotels.csv')\n",
    "hotels.head()"
   ]
  },
  {
   "cell_type": "code",
   "execution_count": 5,
   "metadata": {},
   "outputs": [
    {
     "name": "stdout",
     "output_type": "stream",
     "text": [
      "<class 'pandas.core.frame.DataFrame'>\n",
      "RangeIndex: 386803 entries, 0 to 386802\n",
      "Data columns (total 17 columns):\n",
      " #   Column                                      Non-Null Count   Dtype  \n",
      "---  ------                                      --------------   -----  \n",
      " 0   hotel_address                               386803 non-null  object \n",
      " 1   additional_number_of_scoring                386803 non-null  int64  \n",
      " 2   review_date                                 386803 non-null  object \n",
      " 3   average_score                               386803 non-null  float64\n",
      " 4   hotel_name                                  386803 non-null  object \n",
      " 5   reviewer_nationality                        386803 non-null  object \n",
      " 6   negative_review                             386803 non-null  object \n",
      " 7   review_total_negative_word_counts           386803 non-null  int64  \n",
      " 8   total_number_of_reviews                     386803 non-null  int64  \n",
      " 9   positive_review                             386803 non-null  object \n",
      " 10  review_total_positive_word_counts           386803 non-null  int64  \n",
      " 11  total_number_of_reviews_reviewer_has_given  386803 non-null  int64  \n",
      " 12  reviewer_score                              386803 non-null  float64\n",
      " 13  tags                                        386803 non-null  object \n",
      " 14  days_since_review                           386803 non-null  object \n",
      " 15  lat                                         384355 non-null  float64\n",
      " 16  lng                                         384355 non-null  float64\n",
      "dtypes: float64(4), int64(5), object(8)\n",
      "memory usage: 50.2+ MB\n"
     ]
    }
   ],
   "source": [
    "hotels.info()"
   ]
  },
  {
   "cell_type": "code",
   "execution_count": 3,
   "metadata": {},
   "outputs": [],
   "source": [
    "hotels['review_date'] = pd.to_datetime(hotels['review_date'])"
   ]
  },
  {
   "cell_type": "code",
   "execution_count": 4,
   "metadata": {},
   "outputs": [
    {
     "data": {
      "text/plain": [
       "(386803, 17)"
      ]
     },
     "execution_count": 4,
     "metadata": {},
     "output_type": "execute_result"
    }
   ],
   "source": [
    "hotels.shape"
   ]
  },
  {
   "cell_type": "code",
   "execution_count": 5,
   "metadata": {},
   "outputs": [
    {
     "data": {
      "text/plain": [
       "(515738, 17)"
      ]
     },
     "execution_count": 5,
     "metadata": {},
     "output_type": "execute_result"
    }
   ],
   "source": [
    "Hotel_Reviews = pd.read_csv('data_3/Hotel_Reviews.csv')\n",
    "Hotel_Reviews.shape"
   ]
  },
  {
   "cell_type": "code",
   "execution_count": 7,
   "metadata": {},
   "outputs": [
    {
     "data": {
      "text/html": [
       "<div>\n",
       "<style scoped>\n",
       "    .dataframe tbody tr th:only-of-type {\n",
       "        vertical-align: middle;\n",
       "    }\n",
       "\n",
       "    .dataframe tbody tr th {\n",
       "        vertical-align: top;\n",
       "    }\n",
       "\n",
       "    .dataframe thead th {\n",
       "        text-align: right;\n",
       "    }\n",
       "</style>\n",
       "<table border=\"1\" class=\"dataframe\">\n",
       "  <thead>\n",
       "    <tr style=\"text-align: right;\">\n",
       "      <th></th>\n",
       "      <th>Hotel_Address</th>\n",
       "      <th>Additional_Number_of_Scoring</th>\n",
       "      <th>Review_Date</th>\n",
       "      <th>Average_Score</th>\n",
       "      <th>Hotel_Name</th>\n",
       "      <th>Reviewer_Nationality</th>\n",
       "      <th>Negative_Review</th>\n",
       "      <th>Review_Total_Negative_Word_Counts</th>\n",
       "      <th>Total_Number_of_Reviews</th>\n",
       "      <th>Positive_Review</th>\n",
       "      <th>Review_Total_Positive_Word_Counts</th>\n",
       "      <th>Total_Number_of_Reviews_Reviewer_Has_Given</th>\n",
       "      <th>Reviewer_Score</th>\n",
       "      <th>Tags</th>\n",
       "      <th>days_since_review</th>\n",
       "      <th>lat</th>\n",
       "      <th>lng</th>\n",
       "    </tr>\n",
       "  </thead>\n",
       "  <tbody>\n",
       "    <tr>\n",
       "      <th>0</th>\n",
       "      <td>s Gravesandestraat 55 Oost 1092 AA Amsterdam ...</td>\n",
       "      <td>194</td>\n",
       "      <td>8/3/2017</td>\n",
       "      <td>7.7</td>\n",
       "      <td>Hotel Arena</td>\n",
       "      <td>Russia</td>\n",
       "      <td>I am so angry that i made this post available...</td>\n",
       "      <td>397</td>\n",
       "      <td>1403</td>\n",
       "      <td>Only the park outside of the hotel was beauti...</td>\n",
       "      <td>11</td>\n",
       "      <td>7</td>\n",
       "      <td>2.9</td>\n",
       "      <td>[' Leisure trip ', ' Couple ', ' Duplex Double...</td>\n",
       "      <td>0 days</td>\n",
       "      <td>52.360576</td>\n",
       "      <td>4.915968</td>\n",
       "    </tr>\n",
       "  </tbody>\n",
       "</table>\n",
       "</div>"
      ],
      "text/plain": [
       "                                       Hotel_Address  \\\n",
       "0   s Gravesandestraat 55 Oost 1092 AA Amsterdam ...   \n",
       "\n",
       "   Additional_Number_of_Scoring Review_Date  Average_Score   Hotel_Name  \\\n",
       "0                           194    8/3/2017            7.7  Hotel Arena   \n",
       "\n",
       "  Reviewer_Nationality                                    Negative_Review  \\\n",
       "0              Russia    I am so angry that i made this post available...   \n",
       "\n",
       "   Review_Total_Negative_Word_Counts  Total_Number_of_Reviews  \\\n",
       "0                                397                     1403   \n",
       "\n",
       "                                     Positive_Review  \\\n",
       "0   Only the park outside of the hotel was beauti...   \n",
       "\n",
       "   Review_Total_Positive_Word_Counts  \\\n",
       "0                                 11   \n",
       "\n",
       "   Total_Number_of_Reviews_Reviewer_Has_Given  Reviewer_Score  \\\n",
       "0                                           7             2.9   \n",
       "\n",
       "                                                Tags days_since_review  \\\n",
       "0  [' Leisure trip ', ' Couple ', ' Duplex Double...            0 days   \n",
       "\n",
       "         lat       lng  \n",
       "0  52.360576  4.915968  "
      ]
     },
     "execution_count": 7,
     "metadata": {},
     "output_type": "execute_result"
    }
   ],
   "source": [
    "Hotel_Reviews.head(1)"
   ]
  },
  {
   "cell_type": "code",
   "execution_count": 42,
   "metadata": {},
   "outputs": [
    {
     "data": {
      "text/plain": [
       "Hotel_Address                                   1493\n",
       "Additional_Number_of_Scoring                     480\n",
       "Review_Date                                      731\n",
       "Average_Score                                     34\n",
       "Hotel_Name                                      1492\n",
       "Reviewer_Nationality                             227\n",
       "Negative_Review                               330011\n",
       "Review_Total_Negative_Word_Counts                402\n",
       "Total_Number_of_Reviews                         1142\n",
       "Positive_Review                               412601\n",
       "Review_Total_Positive_Word_Counts                365\n",
       "Total_Number_of_Reviews_Reviewer_Has_Given       198\n",
       "Reviewer_Score                                    37\n",
       "Tags                                           55242\n",
       "days_since_review                                731\n",
       "lat                                             1472\n",
       "lng                                             1472\n",
       "dtype: int64"
      ]
     },
     "execution_count": 42,
     "metadata": {},
     "output_type": "execute_result"
    }
   ],
   "source": [
    "Hotel_Reviews.nunique()"
   ]
  },
  {
   "cell_type": "code",
   "execution_count": 65,
   "metadata": {},
   "outputs": [
    {
     "name": "stdout",
     "output_type": "stream",
     "text": [
      "2427\n"
     ]
    }
   ],
   "source": [
    "# Удалем все знаки в строке, что бы сравнить строку на однообразие\n",
    "tags = set()\n",
    "for index, value in Hotel_Reviews['Tags'].items():\n",
    "    pre_tags = value\n",
    "    pre_tags = pre_tags.replace('[', '').replace(']', '').replace(\"'\", '').replace(' ', '')\n",
    "    pre_tags = pre_tags.split(',')\n",
    "    for i in pre_tags:\n",
    "        tags.add(i)\n",
    "print(len(tags))"
   ]
  },
  {
   "cell_type": "code",
   "execution_count": 8,
   "metadata": {},
   "outputs": [],
   "source": [
    "# Разделяем все коментарии, и считаем колличество уникальных\n",
    "\n",
    "def rev_func(num_tags):\n",
    "    num_tags = num_tags[2:-2]\n",
    "    res = num_tags.strip().split(' \\', \\' ')\n",
    "    return res\n",
    "\n",
    "Hotel_Reviews['tags_n'] = Hotel_Reviews['Tags'].apply(rev_func)\n",
    "df = Hotel_Reviews.explode('tags_n')\n",
    "#len(df['tags_n'].unique())\n",
    "res = df['tags_n'].value_counts()"
   ]
  },
  {
   "cell_type": "code",
   "execution_count": 9,
   "metadata": {},
   "outputs": [
    {
     "data": {
      "text/plain": [
       "Leisure trip                                             417778\n",
       "Submitted from a mobile device                           307640\n",
       "Couple                                                   252294\n",
       "Stayed 1 night                                           193645\n",
       "Stayed 2 nights                                          133937\n",
       "                                                          ...  \n",
       "Suite with Spa Access 4 Adults                                1\n",
       "Deluxe One Bedroom Suite with River View                      1\n",
       "Urban Queen Room with Spa access                              1\n",
       "Penthouse Plaza Suite with Access to Executive Lounge         1\n",
       "Deluxe Double Room 3 Adult                                    1\n",
       "Name: tags_n, Length: 2428, dtype: int64"
      ]
     },
     "execution_count": 9,
     "metadata": {},
     "output_type": "execute_result"
    }
   ],
   "source": [
    "res"
   ]
  },
  {
   "cell_type": "code",
   "execution_count": null,
   "metadata": {},
   "outputs": [],
   "source": [
    "def re_func(num_tags):\n",
    "    found = re.findall(\"'[^\\'](.+?)[^\\']'\", num_tags)\n",
    "    return found\n",
    "print(hotels['tags'].apply(re_func).explode().nunique())\n",
    "# 2368"
   ]
  },
  {
   "cell_type": "code",
   "execution_count": 64,
   "metadata": {},
   "outputs": [
    {
     "data": {
      "text/plain": [
       "2248"
      ]
     },
     "execution_count": 64,
     "metadata": {},
     "output_type": "execute_result"
    }
   ],
   "source": [
    "len(tuple(tags))"
   ]
  },
  {
   "cell_type": "code",
   "execution_count": null,
   "metadata": {},
   "outputs": [],
   "source": []
  }
 ],
 "metadata": {
  "kernelspec": {
   "display_name": "Python 3.9.10 64-bit",
   "language": "python",
   "name": "python3"
  },
  "language_info": {
   "codemirror_mode": {
    "name": "ipython",
    "version": 3
   },
   "file_extension": ".py",
   "mimetype": "text/x-python",
   "name": "python",
   "nbconvert_exporter": "python",
   "pygments_lexer": "ipython3",
   "version": "3.9.10"
  },
  "orig_nbformat": 4,
  "vscode": {
   "interpreter": {
    "hash": "aef7f665a0694191b93f381ff9bf3fa49787cf0440ec035fed5813d2b4b57be1"
   }
  }
 },
 "nbformat": 4,
 "nbformat_minor": 2
}
