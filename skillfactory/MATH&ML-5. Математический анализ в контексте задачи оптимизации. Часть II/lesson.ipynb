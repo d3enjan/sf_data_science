{
 "cells": [
  {
   "cell_type": "code",
   "execution_count": 13,
   "metadata": {},
   "outputs": [
    {
     "data": {
      "text/plain": [
       "0.5500000000000004"
      ]
     },
     "execution_count": 13,
     "metadata": {},
     "output_type": "execute_result"
    }
   ],
   "source": [
    "import numpy as np\n",
    "import pandas as pd\n",
    "from sklearn import metrics\n",
    "x = np.array([6.4,7.1,5.9,4.2,5.2,6.2,7.5])\n",
    "y = np.array([6,7,6,4,5,6,8])\n",
    "l2_loss = sum((y-x)**2)\n",
    "l2_loss"
   ]
  },
  {
   "cell_type": "code",
   "execution_count": 3,
   "metadata": {},
   "outputs": [],
   "source": [
    "import sympy\n",
    "from sympy import diff, sin, exp, log, Symbol, solve, symbols"
   ]
  },
  {
   "cell_type": "code",
   "execution_count": null,
   "metadata": {},
   "outputs": [],
   "source": [
    "# Например, попробуем найти производную для функции  по переменной a : \n",
    "\n",
    "from sympy import symbols, cos, diff\n",
    "\n",
    "a, b, c = symbols('a b c', real=True)\n",
    "f = 5*a*b - a*cos(c) + a**2 + c**8*b\n",
    "\n",
    "print(diff(f, a))"
   ]
  },
  {
   "cell_type": "code",
   "execution_count": null,
   "metadata": {},
   "outputs": [],
   "source": [
    "# Задание 2.2\n",
    "\n",
    "a, b, x =symbols('a b x', real=True)\n",
    "f = 2*a*x+b**2\n",
    "\n",
    "print(diff(f, a, 2))"
   ]
  },
  {
   "cell_type": "code",
   "execution_count": null,
   "metadata": {},
   "outputs": [],
   "source": [
    "# Звдвние 2.4\n",
    "\n",
    "a, b=symbols('a b', real=True)\n",
    "f = (5-a-2*b)**2\n",
    "\n",
    "print(diff(f, a))\n",
    "print(diff(f, b))"
   ]
  },
  {
   "cell_type": "code",
   "execution_count": 5,
   "metadata": {},
   "outputs": [
    {
     "name": "stdout",
     "output_type": "stream",
     "text": [
      "2*x + 3*y\n",
      "3*x + 8*y\n"
     ]
    },
    {
     "data": {
      "text/latex": [
       "$\\displaystyle 5$"
      ],
      "text/plain": [
       "5"
      ]
     },
     "execution_count": 5,
     "metadata": {},
     "output_type": "execute_result"
    },
    {
     "data": {
      "text/latex": [
       "$\\displaystyle 11$"
      ],
      "text/plain": [
       "11"
      ]
     },
     "execution_count": 5,
     "metadata": {},
     "output_type": "execute_result"
    }
   ],
   "source": [
    "# 2.5 Вычислите частные производные для функции \n",
    "\n",
    "x, y=symbols('x y', real=True)\n",
    "f = x**2+3*x*y+4*y**2\n",
    "# x=1\n",
    "# y=1\n",
    "print(diff(f,x))\n",
    "print(diff(f,y))\n",
    "diff(f,x).subs(x, 1).subs(y, 1)\n",
    "diff(f,y).subs(x, 1).subs(y, 1)\n",
    "\n"
   ]
  },
  {
   "cell_type": "code",
   "execution_count": 9,
   "metadata": {},
   "outputs": [
    {
     "name": "stdout",
     "output_type": "stream",
     "text": [
      "sin(x) + cos(y)\n"
     ]
    }
   ],
   "source": [
    "# 2.6\n",
    "x, y=symbols('x y', real=True)\n",
    "f = y*sin(x)+sin(y)\n",
    "print(diff(f, y))\n"
   ]
  },
  {
   "cell_type": "code",
   "execution_count": 11,
   "metadata": {},
   "outputs": [
    {
     "name": "stdout",
     "output_type": "stream",
     "text": [
      "2*y - 12\n"
     ]
    }
   ],
   "source": [
    "x, y=symbols('x y', real=True)\n",
    "f = x**2-10*x+y**2-12*y+71\n",
    "print(diff(f, y))"
   ]
  },
  {
   "cell_type": "code",
   "execution_count": 12,
   "metadata": {},
   "outputs": [
    {
     "data": {
      "text/latex": [
       "$\\displaystyle \\left\\{-2, 1\\right\\}$"
      ],
      "text/plain": [
       "{-2, 1}"
      ]
     },
     "execution_count": 12,
     "metadata": {},
     "output_type": "execute_result"
    }
   ],
   "source": [
    "# 3.1\n",
    "from sympy import solveset, Eq\n",
    "f = -2*x**3-3*x**2+12*x-4\n",
    "y = f.diff(x)\n",
    "solveset(Eq(y, 0), x)\n"
   ]
  },
  {
   "cell_type": "code",
   "execution_count": 29,
   "metadata": {},
   "outputs": [
    {
     "data": {
      "text/latex": [
       "$\\displaystyle 5 y^{3} + z^{x} \\log{\\left(z \\right)}$"
      ],
      "text/plain": [
       "5*y**3 + z**x*log(z)"
      ]
     },
     "execution_count": 29,
     "metadata": {},
     "output_type": "execute_result"
    },
    {
     "data": {
      "text/latex": [
       "$\\displaystyle 15 x y^{2}$"
      ],
      "text/plain": [
       "15*x*y**2"
      ]
     },
     "execution_count": 29,
     "metadata": {},
     "output_type": "execute_result"
    },
    {
     "data": {
      "text/latex": [
       "$\\displaystyle z^{x} \\log{\\left(z \\right)}^{2}$"
      ],
      "text/plain": [
       "z**x*log(z)**2"
      ]
     },
     "execution_count": 29,
     "metadata": {},
     "output_type": "execute_result"
    },
    {
     "data": {
      "text/latex": [
       "$\\displaystyle 15 y^{2}$"
      ],
      "text/plain": [
       "15*y**2"
      ]
     },
     "execution_count": 29,
     "metadata": {},
     "output_type": "execute_result"
    },
    {
     "data": {
      "text/latex": [
       "$\\displaystyle 15 y^{2}$"
      ],
      "text/plain": [
       "15*y**2"
      ]
     },
     "execution_count": 29,
     "metadata": {},
     "output_type": "execute_result"
    },
    {
     "data": {
      "text/latex": [
       "$\\displaystyle 30 x y$"
      ],
      "text/plain": [
       "30*x*y"
      ]
     },
     "execution_count": 29,
     "metadata": {},
     "output_type": "execute_result"
    }
   ],
   "source": [
    "# 3.2\n",
    "import math\n",
    "z, x, y = symbols('z x y', real=True)\n",
    "f = z**x+5*y**3*x\n",
    "x1 = diff(f, x)\n",
    "x1\n",
    "y1 = diff(f, y)\n",
    "y1\n",
    "diff(x1, x)\n",
    "diff(x1,y)\n",
    "diff(y1, x)\n",
    "diff(y1,y)\n"
   ]
  },
  {
   "cell_type": "code",
   "execution_count": 31,
   "metadata": {},
   "outputs": [
    {
     "data": {
      "text/plain": [
       "[(-2, -1), (-1, -2), (1, 2), (2, 1)]"
      ]
     },
     "execution_count": 31,
     "metadata": {},
     "output_type": "execute_result"
    }
   ],
   "source": [
    "# Пример\n",
    "# решение уравнения\n",
    "from sympy import *\n",
    " \n",
    "x, y = symbols('x, y')\n",
    "eq1 = Eq(3*x**2+3*y**2-15,0)\n",
    "eq2 = Eq(6*x*y-12, 0)\n",
    " \n",
    "sol = solve([eq1, eq2], [x, y])\n",
    "sol\n",
    "# Перемножаем на главной диагонали и вычитаем произведение чиссел на побочной диагонали"
   ]
  },
  {
   "cell_type": "code",
   "execution_count": 61,
   "metadata": {},
   "outputs": [
    {
     "name": "stdout",
     "output_type": "stream",
     "text": [
      "8\n",
      "10\n",
      "-6\n",
      "-6\n",
      "Производнгя по Х 8*x - 6*y - 34 Производная по Y -6*x + 10*y + 42\n"
     ]
    },
    {
     "data": {
      "text/plain": [
       "{x: 2, y: -3}"
      ]
     },
     "execution_count": 61,
     "metadata": {},
     "output_type": "execute_result"
    }
   ],
   "source": [
    "# 3.4 Найдите экстремумы функции\n",
    "x, y =symbols('x y')\n",
    "f = 4*x**2-6*x*y-34*x+5*y**2+42*y+7\n",
    "print(diff(f,x, 2)) # Вторая производная по х\n",
    "print(diff(f,y, 2)) # Вторая производная по y\n",
    "y1 = (diff(f,y)) \n",
    "print(diff(y1, x))\n",
    "x1 = (diff(f,x))\n",
    "print(diff(x1, y))\n",
    "print('Производнгя по Х',x1,'Производная по Y',y1)\n",
    "sol = solve([x1, y1], [x, y]) # решаем уравнения, прировняв их к 0\n",
    "sol"
   ]
  },
  {
   "cell_type": "code",
   "execution_count": 69,
   "metadata": {},
   "outputs": [
    {
     "name": "stdout",
     "output_type": "stream",
     "text": [
      "6\n",
      "-480\n",
      "-2\n"
     ]
    },
    {
     "data": {
      "text/plain": [
       "-2884.0000000000014"
      ]
     },
     "execution_count": 69,
     "metadata": {},
     "output_type": "execute_result"
    }
   ],
   "source": [
    "# 3.5\n",
    "\n",
    "f = x**3-2*x*y-y**6\n",
    "print(diff(f,x, 2).subs(x, 1)) # Вторая производная по х\n",
    "print(diff(f,y, 2).subs(y, 2))# Вторая производная по y\n",
    "x1 = (diff(f,x))\n",
    "print(diff(x1, y)) # Производная от xy\n",
    "\n",
    "a = np.array([[6, -2], [-2, -480]]) #Создаем матрицу\n",
    "np.linalg.det(a) # Вычисляем определитель\n"
   ]
  },
  {
   "cell_type": "code",
   "execution_count": 68,
   "metadata": {},
   "outputs": [
    {
     "data": {
      "text/plain": [
       "-2884.0000000000014"
      ]
     },
     "execution_count": 68,
     "metadata": {},
     "output_type": "execute_result"
    }
   ],
   "source": [
    "a = np.array([[6, -2], [-2, -480]])\n",
    "np.linalg.det(a)"
   ]
  },
  {
   "cell_type": "code",
   "execution_count": 75,
   "metadata": {},
   "outputs": [
    {
     "name": "stdout",
     "output_type": "stream",
     "text": [
      "-3\n",
      "-3\n"
     ]
    },
    {
     "data": {
      "text/latex": [
       "$\\displaystyle 6 x$"
      ],
      "text/plain": [
       "6*x"
      ]
     },
     "execution_count": 75,
     "metadata": {},
     "output_type": "execute_result"
    },
    {
     "data": {
      "text/latex": [
       "$\\displaystyle 6 y$"
      ],
      "text/plain": [
       "6*y"
      ]
     },
     "execution_count": 75,
     "metadata": {},
     "output_type": "execute_result"
    },
    {
     "data": {
      "text/latex": [
       "$\\displaystyle 3 x^{2} - 3 y$"
      ],
      "text/plain": [
       "3*x**2 - 3*y"
      ]
     },
     "execution_count": 75,
     "metadata": {},
     "output_type": "execute_result"
    },
    {
     "data": {
      "text/latex": [
       "$\\displaystyle - 3 x + 3 y^{2}$"
      ],
      "text/plain": [
       "-3*x + 3*y**2"
      ]
     },
     "execution_count": 75,
     "metadata": {},
     "output_type": "execute_result"
    },
    {
     "data": {
      "text/plain": [
       "[(0, 0),\n",
       " (1, 1),\n",
       " ((-1/2 - sqrt(3)*I/2)**2, -1/2 - sqrt(3)*I/2),\n",
       " ((-1/2 + sqrt(3)*I/2)**2, -1/2 + sqrt(3)*I/2)]"
      ]
     },
     "execution_count": 75,
     "metadata": {},
     "output_type": "execute_result"
    },
    {
     "data": {
      "text/plain": [
       "array([[6*x, -3],\n",
       "       [-3, 6*y]], dtype=object)"
      ]
     },
     "execution_count": 75,
     "metadata": {},
     "output_type": "execute_result"
    }
   ],
   "source": [
    "# 3.9\n",
    "\n",
    "f = x**3+y**3-3*x*y\n",
    "y1 = (diff(f,y)) \n",
    "print(diff(y1, x))\n",
    "x1 = (diff(f,x))\n",
    "print(diff(x1, y))\n",
    "(diff(f,x,2))\n",
    "(diff(f,y,2))\n",
    "x1\n",
    "y1\n",
    "sol = solve([x1, y1], [x, y]) # решаем уравнения, прировняв их к 0\n",
    "sol\n",
    "\n",
    "\n",
    "np.array([[6*x, -3],[-3, 6*y]])"
   ]
  }
 ],
 "metadata": {
  "kernelspec": {
   "display_name": "Python 3",
   "language": "python",
   "name": "python3"
  },
  "language_info": {
   "codemirror_mode": {
    "name": "ipython",
    "version": 3
   },
   "file_extension": ".py",
   "mimetype": "text/x-python",
   "name": "python",
   "nbconvert_exporter": "python",
   "pygments_lexer": "ipython3",
   "version": "3.9.10"
  },
  "orig_nbformat": 4
 },
 "nbformat": 4,
 "nbformat_minor": 2
}
