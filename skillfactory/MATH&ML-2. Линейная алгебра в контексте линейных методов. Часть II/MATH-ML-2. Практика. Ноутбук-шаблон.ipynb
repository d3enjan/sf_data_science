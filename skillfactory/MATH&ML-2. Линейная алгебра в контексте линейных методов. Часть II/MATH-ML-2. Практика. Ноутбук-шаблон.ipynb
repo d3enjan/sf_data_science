{
  "cells": [
    {
      "cell_type": "markdown",
      "id": "b054bd88",
      "metadata": {
        "id": "b054bd88"
      },
      "source": [
        "# <center> Линейная алгебра в контексте линейных методов. Практика.\n",
        "\n",
        "## <center> Прогнозирование выработки газа на скважинах."
      ]
    },
    {
      "cell_type": "markdown",
      "id": "325bc80b",
      "metadata": {
        "id": "325bc80b"
      },
      "source": [
        "## Постановка задачи"
      ]
    },
    {
      "cell_type": "markdown",
      "id": "8247bd54",
      "metadata": {
        "id": "8247bd54"
      },
      "source": [
        "У Василия, основателя компании «Газ-Таз-Ваз-Нефть», дела идут в гору: у него уже функционирует 200 скважин для добычи газа. В этом году он открывает 30 новых скважин. Однако в целях оптимизации расходов и повышения дохода Василию необходимо оценить, сколько денег будет приносить ему каждая из скважин, а также понять, какие факторы (параметры скважин) потенциально сильнее всего повлияют на объём добычи газа. Для этого Василий решил нанять вас как специалиста в области Data Science.\n",
        "\n",
        "Василий представляет вам набор данных о добыче газа на своих скважинах. Файл с данными вы можете скачать на платформе.\n",
        "\n",
        "**Признаки в данных:**\n",
        "\n",
        "* Well — идентификатор скважины;\n",
        "* Por — пористость скважины (%);\n",
        "* Perm — проницаемость скважины;\n",
        "* AI — акустический импеданс ($кг/м^2 * 10^6$);\n",
        "* Brittle — коэффициент хрупкости скважины (%);\n",
        "* TOC — общий органический углерод (%);\n",
        "* VR — коэффициент отражения витринита (%);\n",
        "* Prod — добыча газа в сутки (млн. кубических футов).\n",
        "\n",
        "**Ваша задача** — построить регрессионную модель, которая прогнозирует выработку газа на скважине (целевой признак — Prod) на основе остальных характеристик скважины, и проинтерпретировать результаты вашей модели.\n",
        "\n",
        "Разделим задачу на две части:\n",
        "* В первой мы построим простейшую модель линейной регрессии, проанализируем результаты её работы и выберем наиболее значимые факторы для прогнозирования.\n",
        "* Во второй мы займёмся построением модели полиномиальной регрессии с регуляризацией и посмотрим на итоговые результаты моделирования.\n"
      ]
    },
    {
      "cell_type": "markdown",
      "id": "d67d069e",
      "metadata": {
        "id": "d67d069e"
      },
      "source": [
        "Импортируем необходимые библиотеки:"
      ]
    },
    {
      "cell_type": "code",
      "execution_count": 1,
      "id": "83a555bc-8dff-4b7e-bba1-cd4f4a9e69b2",
      "metadata": {
        "id": "83a555bc-8dff-4b7e-bba1-cd4f4a9e69b2"
      },
      "outputs": [],
      "source": [
        "# Импорт библиотек\n",
        "import numpy as np # для работы с массивами\n",
        "import pandas as pd # для работы с DataFrame \n",
        "import seaborn as sns # библиотека для визуализации статистических данных\n",
        "import matplotlib.pyplot as plt # для построения графиков\n",
        "from sklearn import metrics\n",
        "\n",
        "%matplotlib inline"
      ]
    },
    {
      "cell_type": "markdown",
      "id": "e689ddaf",
      "metadata": {
        "id": "e689ddaf"
      },
      "source": [
        "Прочитаем исходные данные:"
      ]
    },
    {
      "cell_type": "markdown",
      "id": "a90535b8",
      "metadata": {
        "id": "a90535b8"
      },
      "source": [
        "Для начала построим простейшую модель линейной регрессии, проанализируем результаты её работы и выберем наиболее значимые факторы для прогнозирования.\n",
        "\n",
        "В первой части вам предстоит выполнить задания 5.0–5.6. Максимальное количество баллов, которое можно получить, — 9."
      ]
    },
    {
      "cell_type": "code",
      "execution_count": 2,
      "id": "b7b5cd9b-703f-4dbc-a6e3-61d583eafcac",
      "metadata": {
        "colab": {
          "base_uri": "https://localhost:8080/",
          "height": 206
        },
        "id": "b7b5cd9b-703f-4dbc-a6e3-61d583eafcac",
        "outputId": "d4e99a48-2a0d-4edd-f86c-617c44bf36d2"
      },
      "outputs": [
        {
          "data": {
            "text/html": [
              "<div>\n",
              "<style scoped>\n",
              "    .dataframe tbody tr th:only-of-type {\n",
              "        vertical-align: middle;\n",
              "    }\n",
              "\n",
              "    .dataframe tbody tr th {\n",
              "        vertical-align: top;\n",
              "    }\n",
              "\n",
              "    .dataframe thead th {\n",
              "        text-align: right;\n",
              "    }\n",
              "</style>\n",
              "<table border=\"1\" class=\"dataframe\">\n",
              "  <thead>\n",
              "    <tr style=\"text-align: right;\">\n",
              "      <th></th>\n",
              "      <th>Well</th>\n",
              "      <th>Por</th>\n",
              "      <th>Perm</th>\n",
              "      <th>AI</th>\n",
              "      <th>Brittle</th>\n",
              "      <th>TOC</th>\n",
              "      <th>VR</th>\n",
              "      <th>Prod</th>\n",
              "    </tr>\n",
              "  </thead>\n",
              "  <tbody>\n",
              "    <tr>\n",
              "      <th>0</th>\n",
              "      <td>1</td>\n",
              "      <td>12.08</td>\n",
              "      <td>2.92</td>\n",
              "      <td>2.80</td>\n",
              "      <td>81.40</td>\n",
              "      <td>1.16</td>\n",
              "      <td>2.31</td>\n",
              "      <td>4165.196191</td>\n",
              "    </tr>\n",
              "    <tr>\n",
              "      <th>1</th>\n",
              "      <td>2</td>\n",
              "      <td>12.38</td>\n",
              "      <td>3.53</td>\n",
              "      <td>3.22</td>\n",
              "      <td>46.17</td>\n",
              "      <td>0.89</td>\n",
              "      <td>1.88</td>\n",
              "      <td>3561.146205</td>\n",
              "    </tr>\n",
              "    <tr>\n",
              "      <th>2</th>\n",
              "      <td>3</td>\n",
              "      <td>14.02</td>\n",
              "      <td>2.59</td>\n",
              "      <td>4.01</td>\n",
              "      <td>72.80</td>\n",
              "      <td>0.89</td>\n",
              "      <td>2.72</td>\n",
              "      <td>4284.348574</td>\n",
              "    </tr>\n",
              "    <tr>\n",
              "      <th>3</th>\n",
              "      <td>4</td>\n",
              "      <td>17.67</td>\n",
              "      <td>6.75</td>\n",
              "      <td>2.63</td>\n",
              "      <td>39.81</td>\n",
              "      <td>1.08</td>\n",
              "      <td>1.88</td>\n",
              "      <td>5098.680869</td>\n",
              "    </tr>\n",
              "    <tr>\n",
              "      <th>4</th>\n",
              "      <td>5</td>\n",
              "      <td>17.52</td>\n",
              "      <td>4.57</td>\n",
              "      <td>3.18</td>\n",
              "      <td>10.94</td>\n",
              "      <td>1.51</td>\n",
              "      <td>1.90</td>\n",
              "      <td>3406.132832</td>\n",
              "    </tr>\n",
              "  </tbody>\n",
              "</table>\n",
              "</div>"
            ],
            "text/plain": [
              "   Well    Por  Perm    AI  Brittle   TOC    VR         Prod\n",
              "0     1  12.08  2.92  2.80    81.40  1.16  2.31  4165.196191\n",
              "1     2  12.38  3.53  3.22    46.17  0.89  1.88  3561.146205\n",
              "2     3  14.02  2.59  4.01    72.80  0.89  2.72  4284.348574\n",
              "3     4  17.67  6.75  2.63    39.81  1.08  1.88  5098.680869\n",
              "4     5  17.52  4.57  3.18    10.94  1.51  1.90  3406.132832"
            ]
          },
          "execution_count": 2,
          "metadata": {},
          "output_type": "execute_result"
        }
      ],
      "source": [
        "data = pd.read_csv('data/unconv.csv')\n",
        "data.head()"
      ]
    },
    {
      "attachments": {},
      "cell_type": "markdown",
      "id": "58639b40",
      "metadata": {
        "id": "58639b40"
      },
      "source": [
        "                       ### Практика: линейная регрессия по методу наименьших квадратов"
      ]
    },
    {
      "cell_type": "markdown",
      "id": "4061b706",
      "metadata": {
        "id": "4061b706"
      },
      "source": [
        "### Задание 5.0. (не оценивается)\n",
        "\n",
        "Проведите небольшой разведывательный анализ, чтобы поближе познакомиться с исходными данными. Постройте несколько визуализаций, которые помогут вам понять, как устроены исходные признаки, а также смогут продемонстрировать взаимосвязь факторов. \n",
        "\n",
        "Сделайте промежуточные выводы из проведённого разведывательного анализа."
      ]
    },
    {
      "cell_type": "code",
      "execution_count": 3,
      "id": "daf1ccc7",
      "metadata": {
        "id": "daf1ccc7"
      },
      "outputs": [
        {
          "name": "stdout",
          "output_type": "stream",
          "text": [
            "<class 'pandas.core.frame.DataFrame'>\n",
            "RangeIndex: 200 entries, 0 to 199\n",
            "Data columns (total 8 columns):\n",
            " #   Column   Non-Null Count  Dtype  \n",
            "---  ------   --------------  -----  \n",
            " 0   Well     200 non-null    int64  \n",
            " 1   Por      200 non-null    float64\n",
            " 2   Perm     200 non-null    float64\n",
            " 3   AI       200 non-null    float64\n",
            " 4   Brittle  200 non-null    float64\n",
            " 5   TOC      200 non-null    float64\n",
            " 6   VR       200 non-null    float64\n",
            " 7   Prod     200 non-null    float64\n",
            "dtypes: float64(7), int64(1)\n",
            "memory usage: 12.6 KB\n"
          ]
        }
      ],
      "source": [
        "# Ваш код здесь\n",
        "data.info()"
      ]
    },
    {
      "cell_type": "markdown",
      "id": "d11cb44f",
      "metadata": {
        "id": "d11cb44f"
      },
      "source": [
        "### Задание 5.1. (2 балла)\n",
        "\n",
        "Постройте корреляционную матрицу факторов, включив в неё целевой признак. \n",
        "\n",
        "Для наглядности визуализируйте полученную матрицу с помощью тепловой карты. \n",
        "\n",
        "**Примечание.** *Для визуализации вы можете использовать любую из знакомых вам библиотек.*\n",
        "\n",
        "На основе построенной корреляционной матрицы ответьте на следующий вопрос:\n",
        "\n",
        "* Какие факторы сильнее всего коррелируют с целевой переменной?\n",
        "\n",
        "Вычислите ранг и определитель полученной матрицы корреляций и приведите развёрнутые ответы на следующие вопросы:\n",
        "* Является ли корреляционная матрица плохо обусловенной (близок ли её опредитель к нулю)?\n",
        "* Что вы можете сказать о наличии коллинераности/мультиколлинеарности в данных? \n",
        "* Применима ли в данном случае модель классической линейной регрессии по методу наименьших квадратов и почему? "
      ]
    },
    {
      "cell_type": "markdown",
      "id": "57OjUl5e2oiL",
      "metadata": {
        "id": "57OjUl5e2oiL"
      },
      "source": [
        "**Критерии оценивания:**\n",
        "- Задание выполнено верно, учтены все условия (**2 балла**): \n",
        "    * приведён код для расчёта корреляционной матрицы;\n",
        "    * приведён код для визуализации корреляционной матрицы в виде тепловой карты;\n",
        "    * рассчитаны ранг и определитель корреляционной матрицы;\n",
        "    * предоставлены обоснованные ответы на все поставленные вопросы. \n",
        "\n",
        "- Задание выполнено верно, но не учтено одно условие (**1 балл**).\n",
        "- Задание выполнено неверно, не учтено несколько условий (**0 баллов**)."
      ]
    },
    {
      "cell_type": "code",
      "execution_count": 4,
      "id": "af00a5a0",
      "metadata": {
        "id": "af00a5a0"
      },
      "outputs": [
        {
          "name": "stdout",
          "output_type": "stream",
          "text": [
            "             Well       Por      Perm        AI   Brittle       TOC        VR  \\\n",
            "Well     1.000000  0.068927  0.077928  0.041483 -0.079252  0.022624 -0.007279   \n",
            "Por      0.068927  1.000000  0.760546 -0.461549 -0.218570  0.711831  0.111860   \n",
            "Perm     0.077928  0.760546  1.000000 -0.239636 -0.124017  0.471746  0.051023   \n",
            "AI       0.041483 -0.461549 -0.239636  1.000000  0.127599 -0.531864  0.499143   \n",
            "Brittle -0.079252 -0.218570 -0.124017  0.127599  1.000000 -0.214282  0.317929   \n",
            "TOC      0.022624  0.711831  0.471746 -0.531864 -0.214282  1.000000  0.299483   \n",
            "VR      -0.007279  0.111860  0.051023  0.499143  0.317929  0.299483  1.000000   \n",
            "Prod     0.026817  0.861910  0.727426 -0.390835  0.237155  0.654445  0.323182   \n",
            "\n",
            "             Prod  \n",
            "Well     0.026817  \n",
            "Por      0.861910  \n",
            "Perm     0.727426  \n",
            "AI      -0.390835  \n",
            "Brittle  0.237155  \n",
            "TOC      0.654445  \n",
            "VR       0.323182  \n",
            "Prod     1.000000  \n",
            "Rank матрицы: 8\n",
            "Отпределитель матрицы: 0.0007\n"
          ]
        },
        {
          "data": {
            "image/png": "[encoded data removed]",
            "text/plain": [
              "<Figure size 432x288 with 2 Axes>"
            ]
          },
          "metadata": {
            "needs_background": "light"
          },
          "output_type": "display_data"
        }
      ],
      "source": [
        "# Ваш код здесь\n",
        "print(data.corr())  #Матрица корреляций\n",
        "\n",
        "print('Rank матрицы: {:.0f}'.format(np.linalg.matrix_rank(data.corr())))\n",
        "print('Отпределитель матрицы: {:.4f}'.format(np.linalg.det(data.corr())))\n",
        "\n",
        "sns.heatmap(data.corr()); #Тепловая карта\n"
      ]
    },
    {
      "attachments": {},
      "cell_type": "markdown",
      "id": "2429945f",
      "metadata": {},
      "source": [
        "Сильнее всего коррелируют с целевой переменной факторы(признаки):\n",
        "\n",
        "* Por — пористость скважины (%);\n",
        "* Perm — проницаемость скважины;\n",
        "* TOC — общий органический углерод (%);\n",
        "\n",
        "Корреляционная матрица является плохо обусловленной так как ее определитель близок к нулю.\n",
        "\n",
        "Признаки:\n",
        "\n",
        "* Por — пористость скважины (%);\n",
        "* Perm — проницаемость скважины;\n",
        "* TOC — общий органический углерод (%);\n",
        "\n",
        "Имеют сильную связь между собою, так же, как и с целевой переменной по отдельности. Можно предположить, что в матрице присутствует \n",
        "мультиколлинеарность, так как она практически вырожденная (определитель близок к нулю)\n",
        "\n",
        "Хорошего решения у классического метода наименьших квадратов не получится, так как матрица является плохо обусловленной.\n"
      ]
    },
    {
      "cell_type": "markdown",
      "id": "43fd91c4",
      "metadata": {
        "id": "43fd91c4"
      },
      "source": [
        "### Задание 5.2. (2 балла)\n",
        "\n",
        "Создайте матрицу наблюдений `X` и вектор правильных ответов `y`. В качестве факторов для матрицы наблюдений возьмите все имеющиеся в данных признаки. \n",
        "\n",
        "Постройте модель линейной регрессии по методу наименьших квадратов. Для этого воспользуйтесь матричной формулой МНК и инструментарием библиотеки numpy. \n",
        "\n",
        "Выведите на экран полученные оценки коэффициентов модели, округлённые до целого.\n",
        "\n",
        "Приведите подробные выводы по полученным результатам, ответив на следующие вопросы:\n",
        "* Есть ли в ваших данных признаки, которые, согласно модели, можно назвать неинформативными, то есть они не оказывают влияния на целевую переменную или оказывают шумовое влияние?\n",
        "* Приведите интерпретацию нескольких (двух или трёх) коэффициентов полученной модели линейной регрессии.\n"
      ]
    },
    {
      "cell_type": "markdown",
      "id": "QtNtTUzI4Cpq",
      "metadata": {
        "id": "QtNtTUzI4Cpq"
      },
      "source": [
        "**Критерии оценивания:**\n",
        "- Задание выполнено верно, учтены все условия (**2 балла**): \n",
        "    * приведён код для нахождения параметров модели линейной регрессии с помощью матричной формулы МНК;\n",
        "    * на основе полученных параметров даны верные ответы на поставленные вопросы;\n",
        "    * приведена корректная интерпретация нескольких коэффициентов полученной модели линейной регрессии.\n",
        "\n",
        "- Задание выполнено верно, но не учтено одно из условий (**1 балл**).\n",
        "- Задание выполнено неверно, не учтено несколько условий (**0 баллов**)."
      ]
    },
    {
      "cell_type": "code",
      "execution_count": 5,
      "id": "2d7a3b03",
      "metadata": {},
      "outputs": [
        {
          "name": "stdout",
          "output_type": "stream",
          "text": [
            "w_0: -1232\n",
            "w_will: 0\n",
            "w_por: 230\n",
            "w_perm: 116\n"
          ]
        }
      ],
      "source": [
        "# Ваш код здесь\n",
        "X = data.drop(['Prod'], axis=1) # отделяем целевую переменную\n",
        "X = np.column_stack((np.ones(200), X)) # в матрицу Х добавляем столбец из единиц\n",
        "y = data['Prod'] # целевая переменная\n",
        "coef = np.linalg.lstsq(X, y, rcond=None) # строим модель линейной регрессии по МНК\n",
        "# запишем в отдельные переменную коэффициенты линейной регрессии\n",
        "w_0 = round(coef[0][0],0)\n",
        "w_wll = round(coef[0][1],0)\n",
        "w_por = round(coef[0][2],0)\n",
        "w_perm = round(coef[0][3],0)\n",
        "# выводим на экран результат\n",
        "print('w_0: {:.0f}'.format(w_0))\n",
        "print('w_will: {:.0f}'.format(w_wll))\n",
        "print('w_por: {:.0f}'.format(w_por))\n",
        "print('w_perm: {:.0f}'.format(w_perm))"
      ]
    },
    {
      "attachments": {},
      "cell_type": "markdown",
      "id": "bab9ee21",
      "metadata": {
        "id": "bab9ee21"
      },
      "source": [
        "Признак Well — идентификатор скважины, не информативен он не оказывает никакого влияния на целевую переменную.\n",
        "\n",
        "При увеличении Por — пористость скважины (%) на 1 единицу, добыча газа в сутки увеличится на 230 (млн. кубических футов)\n",
        "\n",
        "Соответсвенно при увеличении Perm — проницаемость скважин, на 1 единицу, добыча газа в сутки увеличится на 116 (млн. кубических футов)\n"
      ]
    },
    {
      "cell_type": "markdown",
      "id": "4a05a4ac",
      "metadata": {
        "id": "4a05a4ac"
      },
      "source": [
        "### Задание 5.3. (1 балл)\n",
        "\n",
        "Теперь потренируемся строить предсказание для наблюдений целевой переменной. \n",
        "\n",
        "**а)** Постройте прогноз выработки газа для скважины со следующими параметрами:\n",
        "\n",
        "```python\n",
        "{\n",
        "    'Well': 106.0,\n",
        "    'Por': 15.32,\n",
        "    'Perm': 3.71,\n",
        "    'AI': 3.29,\n",
        "    'Brittle': 55.99,\n",
        "    'TOC': 1.35,\n",
        "    'VR': 2.42\n",
        " }\n",
        "```\n",
        "\n",
        "Рассчитайте абсолютную ошибку построенного вами прогноза для предложенной скважины (в миллионах кубических футов в день), если известно, что на этой скважине производится `4748.315024` миллионов кубических футов газа в день. \n",
        "\n",
        "**б)** Постройте прогноз выработки газа для всех скважин из обучающего набора данных. Выберите метрику, по которой вы будете оценивать качество регрессионных моделей и сравнивать их между собой (можно использовать несколько метрик, но не более двух).\n",
        "\n",
        "Рассчитайте значение выбранной метрики для вашей модели. Приведите интерпретацию полученного результата. "
      ]
    },
    {
      "cell_type": "markdown",
      "id": "qUDcep5Q5GWU",
      "metadata": {
        "id": "qUDcep5Q5GWU"
      },
      "source": [
        "**Критерии оценивания:**\n",
        "- Задание выполнено верно, учтены все условия (**1 балл**): \n",
        "    * приведён код для построения прогноза выработки газа на указанной скважине и рассчитана абсолютная ошибка прогноза для этой скважины;\n",
        "    * выбрана корректная для поставленной задачи метрика (или метрики) оценки качества модели и приведён код для расчёта этой метрики на всём обучающем наборе данных;\n",
        "    * приведена корректная интерпретация полученного результата.\n",
        "\n",
        "- Задание выполнено верно, но не учтено одно из условий, или задание выполнено неверно (**0 баллов**)."
      ]
    },
    {
      "cell_type": "code",
      "execution_count": 33,
      "id": "720069eb",
      "metadata": {},
      "outputs": [
        {
          "name": "stdout",
          "output_type": "stream",
          "text": [
            "Абсолютная ошибка: 25 миллионов кубических футов газа в на скважине 106, день.\n",
            "\n",
            "\n",
            "MAPE score: 3.6 %\n",
            "R2 score: 0.96\n"
          ]
        }
      ],
      "source": [
        "# Ваш код здесь\n",
        "X_new = np.array([1, 106, 15.32,3.71,3.29,55.99,1.35,2.42])\n",
        "Y_new= np.array([4748.315024])\n",
        "error = abs(coef[0]@X_new-Y_new) # Из значения производительности в построенной модели вычитаем реальное значение производительности в сутки\n",
        "\n",
        "print('Абсолютная ошибка: {:.0f} миллионов кубических футов газа в на скважине 106, день.'.format(float(error)))\n",
        "print('\\n')\n",
        "\n",
        "y_pred = coef[0]@X.T # Вектор прогноза для всех скважин\n",
        "\n",
        "print('MAPE score: {:.1f} %'.format(metrics.mean_absolute_percentage_error(y, y_pred)*100))\n",
        "print('R2 score: {:.2}'.format(metrics.r2_score(y, y_pred)))\n"
      ]
    },
    {
      "attachments": {},
      "cell_type": "markdown",
      "id": "c9bee4bc",
      "metadata": {
        "id": "c9bee4bc"
      },
      "source": [
        "Метрика MAPE показывет что построенная модель ошибается в среднем на 3.6 %. \n",
        "По метрике R2 видно что 0.96 % разнообразия (дисперсии) смогла уловить модель в данных. По этой метрике я бы оценивал качество моделей."
      ]
    },
    {
      "cell_type": "markdown",
      "id": "0c25c3aa",
      "metadata": {
        "id": "0c25c3aa"
      },
      "source": [
        "### Задание 5.4. (1 балл)\n",
        "\n",
        "Настало время анализа построенной модели. Посмотрите на коэффициенты и сравните их знаки со значениями выборочных корреляций между целевым признаком и факторами, которые вы нашли ранее.\n",
        "\n",
        "Дайте развёрнутые ответы на следующие вопросы:\n",
        "\n",
        "* Есть ли в вашей модели фактор, при котором коэффициент в модели линейной регрессии противоречит соответствующему коэффициенту корреляции? Например, корреляция говорит, что зависимость между фактором и целевой переменной прямая, а модель говорит обратное. Если таких факторов несколько, укажите их все.\n",
        "* Как вы считаете, с чем связано полученное противоречие результатов?"
      ]
    },
    {
      "cell_type": "markdown",
      "id": "ngJ3UdYb6Ll6",
      "metadata": {
        "id": "ngJ3UdYb6Ll6"
      },
      "source": [
        "**Критерии оценивания:**\n",
        "\n",
        "- Задание выполнено верно, даны корректные развёрнутые ответы на все поставленные в задании вопросы (**1 балл**). \n",
        "\n",
        "- Задание выполнено неверно, даны некорректные ответы на один или несколько поставленных в задании вопросов (**0 баллов**)."
      ]
    },
    {
      "cell_type": "code",
      "execution_count": 10,
      "id": "v-zIxRPY9wK7",
      "metadata": {
        "id": "v-zIxRPY9wK7"
      },
      "outputs": [],
      "source": [
        "# Ваш код здесь"
      ]
    },
    {
      "cell_type": "markdown",
      "id": "qeowwIp99yBf",
      "metadata": {
        "id": "qeowwIp99yBf"
      },
      "source": [
        "> *Ваши выводы здесь*"
      ]
    },
    {
      "cell_type": "markdown",
      "id": "9cea9195",
      "metadata": {
        "id": "9cea9195"
      },
      "source": [
        "### Задание 5.5. (2 балла)\n",
        "\n",
        "* Исключите из данных сильно коррелированные между собой факторы. Под сильной корреляцией в данной задаче будем понимать значения выше `0.7`.\n",
        "\n",
        "Выбирая, какой из коррелированных факторов оставить, руководствуйтесь коэффициентом корреляции с целевой переменной: оставляйте тот фактор, который больше всего коррелирует с целевой переменной (объёмом добычи газа).\n",
        "\n",
        "* Также исключите из данных факторы, для которых корреляция с целевой переменной меньше `0.05`.\n",
        "\n",
        "Постройте модель линейной регрессии на обновлённых после удаления факторов данных по методу наименьших квадратов. Для этого используйте матричную формулу и библиотеку numpy. Выведите значение полученных коэффициентов, округлённых до целого.\n",
        "\n",
        "Сделайте прогноз для всего обучающего набора данных и рассчитайте выбранную вами ранее метрику (или метрики). \n",
        "\n",
        "Дайте подробные ответы на следующие вопросы:\n",
        "\n",
        "* Приведите интерпретацию нескольких полученных коэффициентов (двух или трёх). Сравните их значения с полученными ранее.\n",
        "* Приведите интерпретацию полученных значений метрик. Сравните их значения с полученными ранее. \n",
        "* Удалось ли вам побороть противоречие коэффициентов линейной регрессии и коэффициентов корреляции?"
      ]
    },
    {
      "cell_type": "markdown",
      "id": "vlUYVjJP6oXN",
      "metadata": {
        "id": "vlUYVjJP6oXN"
      },
      "source": [
        "**Критерии оценивания:**\n",
        "- Задание выполнено верно, учтены все условия (**2 балла**): \n",
        "    * отобраны верные факторы;\n",
        "    * на основе отобранных факторов построена модель линейной регрессии с помощью матричной формулы МНК и найдены параметры модели, соответствующие каждому из факторов;\n",
        "    * построен прогноз для всего обучающего набора данных и рассчитано значение метрики (метрика должна быть выбрана корректно);\n",
        "    * даны ответы на все поставленные в задании вопросы.\n",
        "\n",
        "- Задание выполнено верно, но не учтено одно из условий (**1 балл**).\n",
        "- Задание выполнено верно, не учтено несколько из условий (**0 баллов**)."
      ]
    },
    {
      "cell_type": "code",
      "execution_count": 11,
      "id": "5d5ZJ0lX_UHe",
      "metadata": {
        "id": "5d5ZJ0lX_UHe"
      },
      "outputs": [],
      "source": [
        "# Ваш код здесь"
      ]
    },
    {
      "cell_type": "markdown",
      "id": "KxbYvMDo_WLe",
      "metadata": {
        "id": "KxbYvMDo_WLe"
      },
      "source": [
        "> *Ваши выводы здесь*"
      ]
    },
    {
      "cell_type": "markdown",
      "id": "7d50db12",
      "metadata": {
        "id": "7d50db12"
      },
      "source": [
        "### Задание 5.6. (1 балл)\n",
        "\n",
        "Наконец, давайте построим модель линейной регрессии из библиотеки `scikit-learn (sklearn)` и сравним результаты её работы с теми, что нам удалось получить вручную. \n",
        "\n",
        "Постройте модель линейной регрессии на обновлённых после удаления факторов данных по методу наименьших квадратов. Для этого воспользуйтесь классом `LinearRegression` из библиотеки `sklearn`. Выведите значения полученных коэффициентов, округлённые до целого.\n",
        "\n",
        "Сделайте прогноз для всего обучающего набора данных и рассчитайте значение выбранной вами метрики (или метрик).\n",
        "\n",
        "Сравните результаты библиотечной реализации с тем, что вы получили ранее. "
      ]
    },
    {
      "cell_type": "markdown",
      "id": "emu5D3w278JP",
      "metadata": {
        "id": "emu5D3w278JP"
      },
      "source": [
        "**Критерии оценивания:**\n",
        "\n",
        "- Задание выполнено верно, учтены все условия (**1 балл**): \n",
        "    * на основе отобранных факторов построена модель линейной регрессии из библиотеки sklearn и найдены параметры модели, соответствующие каждому из факторов;\n",
        "    * построен прогноз для всего обучающего набора данных и рассчитано значение метрики (метрика должна быть выбрана корректно);\n",
        "    * приведён вывод о соответствии результатов, полученных вручную и с помощью библиотеки.\n",
        "- Задание выполнено неверно, не учтено одно или несколько условий (**0 баллов**)."
      ]
    },
    {
      "cell_type": "code",
      "execution_count": 12,
      "id": "Gpdpfq59AKGu",
      "metadata": {
        "id": "Gpdpfq59AKGu"
      },
      "outputs": [],
      "source": [
        "# Ваш код здесь"
      ]
    },
    {
      "cell_type": "markdown",
      "id": "WT9cdHAbAMG7",
      "metadata": {
        "id": "WT9cdHAbAMG7"
      },
      "source": [
        "> *Ваши выводы здесь*"
      ]
    },
    {
      "cell_type": "markdown",
      "id": "5346338e",
      "metadata": {
        "id": "5346338e"
      },
      "source": [
        "## Практика: полиномиальная регрессия и регуляризация"
      ]
    },
    {
      "cell_type": "markdown",
      "id": "aad9e3a6",
      "metadata": {
        "id": "aad9e3a6"
      },
      "source": [
        "Мы продолжаем работать над задачей от владельца компании «Газ-Таз-Ваз-Нефть» Василия.\n",
        "\n",
        "Ранее мы построили модель линейной регрессии, которая прогнозирует выработку газа на скважине. Для этого мы с помощью матрицы корреляций и рассуждений отобрали некоррелированные, значимые для предсказания признаки. **Далее мы будем использовать именно их (см. задание 5.5).**\n",
        "\n",
        "Мы хотим улучшить результат — уменьшить ошибку прогноза. Для этого мы воспользуемся моделью полиномиальной регрессии третьей степени. Однако теперь мы знаем, что полиномиальным моделям очень легко переобучиться под исходную выборку. Так как данных у нас не так много (всего 200 скважин), то для контроля качества модели мы будем использовать кросс-валидацию. \n",
        "\n",
        "Приступим! Выполните задания 8.1–8.5:\n"
      ]
    },
    {
      "cell_type": "code",
      "execution_count": 13,
      "id": "18506d1b",
      "metadata": {
        "id": "18506d1b"
      },
      "outputs": [],
      "source": [
        "from sklearn.preprocessing import PolynomialFeatures, StandardScaler\n",
        "from sklearn.linear_model import LinearRegression, Lasso, Ridge, ElasticNet\n",
        "from sklearn.model_selection import GridSearchCV\n",
        "from sklearn.model_selection import cross_validate"
      ]
    },
    {
      "cell_type": "markdown",
      "id": "bfbfea8d",
      "metadata": {
        "id": "bfbfea8d"
      },
      "source": [
        "### Задание 8.1. (1 балл)\n",
        "\n",
        "Стандаризируйте признаки с помощью `StandartScaler` из библиотеки `sklearn`. \n",
        "\n",
        "Затем сгенерируйте полиномиальные признаки третьего порядка на факторах, которые вы выбрали для обучения моделей. Для этого воспользуйтесь генератором полиномов `PolynomialFeatures` из библиотеки `sklearn`. Параметр `include_bias` установите в значение `False`.\n",
        "\n",
        "Выведите на экран, сколько факторов у вас получилось после генерации полиномиальных признаков.\n",
        "\n",
        "**Важно:** стандартизацию необходимо произвести до генерации полиномиальных факторов!\n",
        "\n",
        "Обучите модель линейной регрессии из библиотеки `sklearn` (`LinearRegression`) на полученных полиномиальных факторах.\n",
        "\n",
        "Используя кросс-валидацию оцените среднее значение выбранной вами метрики (или метрик) на тренировочных и валидационных фолдах.\n",
        "\n",
        "Проинтерпретируйте полученные результаты."
      ]
    },
    {
      "cell_type": "markdown",
      "id": "Y8oAhQkr8gV-",
      "metadata": {
        "id": "Y8oAhQkr8gV-"
      },
      "source": [
        "**Критерии оценивания:**\n",
        "\n",
        "- Задание выполнено верно, учтены все условия (**1 балл**): \n",
        "    * на основе отобранных факторов сгенерированы полиномиальные признаки третьего порядка;\n",
        "    * построена модель полиномиальной регрессии (линейной регрессии на полиномиальных признаках);\n",
        "    * с помощью кросс-валидации оценено среднее значение выбранной студентом метрики (или метрик) на тренировочных и валидационных фолдах (метрика должна быть выбрана корректно).\n",
        "- Задание выполнено неверно, не учтено одно или несколько из условий (**0 баллов**)."
      ]
    },
    {
      "cell_type": "code",
      "execution_count": 14,
      "id": "-ln3bx8NFNRw",
      "metadata": {
        "id": "-ln3bx8NFNRw"
      },
      "outputs": [],
      "source": [
        "# Ваш код здесь"
      ]
    },
    {
      "cell_type": "markdown",
      "id": "9DkuuLLtFPPy",
      "metadata": {
        "id": "9DkuuLLtFPPy"
      },
      "source": [
        "> *Ваши выводы здесь*"
      ]
    },
    {
      "cell_type": "markdown",
      "id": "63d06013",
      "metadata": {
        "id": "63d06013"
      },
      "source": [
        "### Задание 8.2. (2 балла)\n",
        "\n",
        "Теперь попробуем воспользоваться линейной регрессией с регуляризацией. Для начала возьмём $L_1$-регуляризацию.\n",
        "\n",
        "Обучите модель `Lasso` из библиотеки `sklearn` на полученных полиномиальных факторах, предварительно стандартизировав факторы. \n",
        "\n",
        "Коэффициент регуляризации (`alpha`) подберите самостоятельно с помощью любого известного вам метода подбора гиперпаметров.\n",
        "\n",
        "Используя кросс-валидацию, оцените среднее значение выбранной вами метрики (или метрик) на тренировочных и валидационных фолдах.\n",
        "\n",
        "Проинтерпретируйте полученные результаты."
      ]
    },
    {
      "cell_type": "markdown",
      "id": "z24YUfuA9rUq",
      "metadata": {
        "id": "z24YUfuA9rUq"
      },
      "source": [
        "**Критерии оценивания:**\n",
        "\n",
        "- Задание выполнено верно, учтены все условия (**2 балла**): \n",
        "    * правильно построена модель полиномиальной регрессии (линейной регрессии на полиномиальных признаках) с регуляризацией (Lasso), учтены условия необходимости масштабирования факторов для построения модели;\n",
        "    * приведён код для подбора параметра регуляризации (вручную или с помощью библиотечных инструментов);\n",
        "    * с помощью кросс-валидации оценено среднее значение выбранной студентом метрики (или метрик) на тренировочных и валидационных фолдах (метрика должна быть выбрана корректно).\n",
        "\n",
        "- Задание выполнено верно, но не учтено одно из условий (**1 балл**).\n",
        "- Задание выполнено неверно, не учтено несколько условий (**0 баллов**)."
      ]
    },
    {
      "cell_type": "code",
      "execution_count": 15,
      "id": "IJ5b5G8qFz-r",
      "metadata": {
        "id": "IJ5b5G8qFz-r"
      },
      "outputs": [],
      "source": [
        "# Ваш код здесь"
      ]
    },
    {
      "cell_type": "markdown",
      "id": "Se0OGR8UF2Td",
      "metadata": {
        "id": "Se0OGR8UF2Td"
      },
      "source": [
        "> *Ваши выводы здесь*"
      ]
    },
    {
      "cell_type": "markdown",
      "id": "2975ae60",
      "metadata": {
        "id": "2975ae60"
      },
      "source": [
        "### Задание 8.3. (2 балла)\n",
        "\n",
        "Проделаем то же самое с $L_2$-регуляризацией.\n",
        "\n",
        "Обучите модель `Ridge` из библиотеки `sklearn` на полученных полиномиальных факторах, предварительно стандартизировав факторы. \n",
        "\n",
        "Коэффициент регуляризации (`alpha`) подберите самостоятельно с помощью любого известного вам метода подбора гиперпаметров.\n",
        "\n",
        "Используя кросс-валидацию оцените среднее значение выбранной вами метрики (или метрик) на тренировочных и валидационных фолдах.\n",
        "\n",
        "Проинтерпретируйте полученные результаты."
      ]
    },
    {
      "cell_type": "code",
      "execution_count": 16,
      "id": "UfPGyNsjGGS8",
      "metadata": {
        "id": "UfPGyNsjGGS8"
      },
      "outputs": [],
      "source": [
        "# Ваш код здесь"
      ]
    },
    {
      "cell_type": "markdown",
      "id": "dQBd7ny_GIi1",
      "metadata": {
        "id": "dQBd7ny_GIi1"
      },
      "source": [
        "> *Ваши выводы здесь*"
      ]
    },
    {
      "cell_type": "markdown",
      "id": "86pXnWE7-5ch",
      "metadata": {
        "id": "86pXnWE7-5ch"
      },
      "source": [
        "**Критерии оценивания:**\n",
        "\n",
        "- Задание выполнено верно, учтены все условия (**2 балла**): \n",
        "    * правильно построена модель полиномиальной регрессии (линейной регрессии на полиномиальных признаках) с регуляризацией (Ridge), учтены условия необходимости масштабирования факторов для построения модели;\n",
        "    * приведён код для подбора параметра регуляризации (вручную или с помощью библиотечных инструментов);\n",
        "    * с помощью кросс-валидации оценено среднее значение выбранной студентом метрики (или метрик) на тренировочных и валидационных фолдах (метрика должна быть выбрана корректно).\n",
        "\n",
        "- Задание выполнено верно, но не учтено одно из условий (**1 балл**).\n",
        "- Задание выполнено неверно, не учтено несколько условий (**0 баллов**)."
      ]
    },
    {
      "cell_type": "markdown",
      "id": "7ad85b78",
      "metadata": {
        "id": "7ad85b78"
      },
      "source": [
        "### Задание 8.4. (2 балла)\n",
        "\n",
        "Наконец, настало время комбинировать $L_1$ и $L_2$ -регуляризации.\n",
        "\n",
        "Обучите модель `ElasticNet` из библиотеки `sklearn` на полученных полиномиальных факторах, предварительно стандартизировав факторы. \n",
        "\n",
        "Коэффициенты регуляризации (`alpha` и `l1-ratio`) подберите самостоятельно с помощью любого известного вам метода подбора гиперпаметров.\n",
        "\n",
        "Используя кросс-валидацию, оцените среднее значение метрики MAPE на тренировочных и валидационных фолдах.\n",
        "\n",
        "Проинтерпретируйте полученные результаты."
      ]
    },
    {
      "cell_type": "markdown",
      "id": "sy8ESceQ-__u",
      "metadata": {
        "id": "sy8ESceQ-__u"
      },
      "source": [
        "**Критерии оценивания:**\n",
        "\n",
        "- Задание выполнено верно, учтены все условия (**2 балла**): \n",
        "    * правильно построена модель полиномиальной регрессии (линейной регрессии на полиномиальных признаках) с регуляризацией (ElasticNet), учтены условия необходимости масштабирования факторов для построения модели;\n",
        "    * приведён код для подбора параметра регуляризации (вручную или с помощью библиотечных инструментов);\n",
        "    * с помощью кросс-валидации оценено среднее значение выбранной студентом метрики (или метрик) на тренировочных и валидационных фолдах (метрика должна быть выбрана корректно).\n",
        "\n",
        "- Задание выполнено верно, но не учтено одно из условий (**1 балл**).\n",
        "- Задание выполнено неверно, не учтено несколько условий (**0 баллов**)."
      ]
    },
    {
      "cell_type": "code",
      "execution_count": 17,
      "id": "-Yi3P20hQnLS",
      "metadata": {
        "id": "-Yi3P20hQnLS"
      },
      "outputs": [],
      "source": [
        "# Ваш код здесь"
      ]
    },
    {
      "cell_type": "markdown",
      "id": "er2lAiE9QpAb",
      "metadata": {
        "id": "er2lAiE9QpAb"
      },
      "source": [
        "> *Ваши выводы здесь*"
      ]
    },
    {
      "cell_type": "markdown",
      "id": "91c6e1d1",
      "metadata": {
        "id": "91c6e1d1"
      },
      "source": [
        "### Задание 8.5. (1 балл)\n",
        "\n",
        "Завершением вашей работы будет сводная таблица результатов, которую вы представите на презентации заказчику Василию.\n",
        "\n",
        "Составьте таблицу (DataFrame) со следующими столбцами (имена столбцов выберите самостоятельно):\n",
        "* Наименование модели.\n",
        "* Гиперпараметры (коэффициенты регуляризации, если таковые имеются), если нет — оставьте ячейку пустой.\n",
        "* Использовались ли полиномиальные признаки при построении модели (Да/Нет или True/False).\n",
        "* Значение выбранной метрики на тренировочных фолдах при кросс-валидации модели.\n",
        "* Значение выбранной метрики на валидационных фолдах при кросс-валидации модели.\n",
        "\n",
        "Сделайте финальный вывод по проделанной работе. Какая линейная модель из тех, что мы рассмотрели, показала наилучший результат с точки зрения качества на валидационных фолдах, а также с точки зрения переобученности?"
      ]
    },
    {
      "cell_type": "markdown",
      "id": "OsFRaKkF_nLq",
      "metadata": {
        "id": "OsFRaKkF_nLq"
      },
      "source": [
        "**Критерии оценивания:**\n",
        "\n",
        "- Задание выполнено верно, учтены все условия (**1 балл**): \n",
        "    * верно составлена сводная таблица итоговых результатов построенных ранее моделей с указанными в задании столбцами;\n",
        "    * приведены итоговые выводы по проделанной работе, указано, какая из рассмотренных моделей показала наилучший результат.\n",
        "\n",
        "- Задание выполнено неверно, не учтено одно или несколько условий (**0 баллов**)."
      ]
    },
    {
      "cell_type": "code",
      "execution_count": 18,
      "id": "wRiys8lKQuqW",
      "metadata": {
        "id": "wRiys8lKQuqW"
      },
      "outputs": [],
      "source": [
        "# Ваш код здесь"
      ]
    },
    {
      "cell_type": "markdown",
      "id": "UP7_LSoEQsrA",
      "metadata": {
        "id": "UP7_LSoEQsrA"
      },
      "source": [
        "> *Ваши выводы здесь*"
      ]
    },
    {
      "cell_type": "code",
      "execution_count": null,
      "id": "752d4445-6a85-4cfb-b520-7b7b0f9a5b20",
      "metadata": {
        "id": "752d4445-6a85-4cfb-b520-7b7b0f9a5b20"
      },
      "outputs": [],
      "source": []
    }
  ],
  "metadata": {
    "colab": {
      "provenance": []
    },
    "kernelspec": {
      "display_name": "Python 3.10.8 ('base')",
      "language": "python",
      "name": "python3"
    },
    "language_info": {
      "codemirror_mode": {
        "name": "ipython",
        "version": 3
      },
      "file_extension": ".py",
      "mimetype": "text/x-python",
      "name": "python",
      "nbconvert_exporter": "python",
      "pygments_lexer": "ipython3",
      "version": "3.9.10"
    },
    "vscode": {
      "interpreter": {
        "hash": "86c56a74836ad344b00594bf6f38fa6a676a207ceefe20d101fbc465800ccb8d"
      }
    }
  },
  "nbformat": 4,
  "nbformat_minor": 5
}
