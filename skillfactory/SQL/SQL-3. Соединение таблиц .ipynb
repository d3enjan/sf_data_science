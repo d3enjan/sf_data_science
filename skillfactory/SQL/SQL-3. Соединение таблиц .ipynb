{
 "cells": [
  {
   "cell_type": "markdown",
   "metadata": {},
   "source": [
    "##  <center> Соединение таблиц по ключу"
   ]
  },
  {
   "cell_type": "markdown",
   "metadata": {},
   "source": [
    "### <center> ОБЪЕДИНЯЕМ ТАБЛИЦЫ БЕЗ ОПЕРАТОРОВ"
   ]
  },
  {
   "cell_type": "markdown",
   "metadata": {},
   "source": [
    "*Чтобы соединить две таблицы между собой, достаточно записать названия таблиц через запятую в разделе from. Что произойдёт в таком случае?*"
   ]
  },
  {
   "cell_type": "code",
   "execution_count": null,
   "metadata": {},
   "outputs": [],
   "source": [
    "# SELECT *\n",
    "# FROM\n",
    "#     sql.teams,\n",
    "#     sql.matches"
   ]
  },
  {
   "cell_type": "markdown",
   "metadata": {},
   "source": [
    "Давайте исправим это. В таблице teams есть столбец api_id, а таблица matches содержит столбцы home_team_api_id и away_team_api_id — это ключи таблиц, по которым они соединяются."
   ]
  },
  {
   "cell_type": "markdown",
   "metadata": {},
   "source": [
    "*Ключ — это поле (столбец) в таблице, которое позволяет однозначно идентифицировать запись (строку).*"
   ]
  },
  {
   "cell_type": "markdown",
   "metadata": {},
   "source": [
    "Чтобы соединить таблицы и получить данные о домашней команде по каждому матчу, добавим условие\n",
    "where home_team_api_id = api_id."
   ]
  },
  {
   "cell_type": "code",
   "execution_count": 1,
   "metadata": {},
   "outputs": [],
   "source": [
    "# SELECT *\n",
    "# FROM\n",
    "#     sql.teams,\n",
    "#     sql.matches\n",
    "# WHERE home_team_api_id = api_id"
   ]
  },
  {
   "cell_type": "markdown",
   "metadata": {},
   "source": [
    "Ключи бывают двух основных типов:\n",
    "\n",
    "Primary — первичный ключ — служит для идентификации текущей таблицы и, как правило, идёт первым в списке столбцов. Всегда уникален: повторяющихся значений в основной таблице быть не может.\n",
    "Foreign — внешний ключ — представляет собой ссылку на другую таблицу."
   ]
  },
  {
   "cell_type": "markdown",
   "metadata": {},
   "source": [
    "Напишите запрос, который выведет таблицу с результатами матчей, содержащую:\n",
    "\n",
    "*названия гостевых команд (long_name)*;\n",
    "\n",
    "количество забитых мячей домашней команды (home_team_goals);\n",
    "\n",
    "количество забитых мячей гостевой команды (away_team_goals)."
   ]
  },
  {
   "cell_type": "code",
   "execution_count": null,
   "metadata": {},
   "outputs": [],
   "source": [
    "# SELECT \n",
    "#     long_name, \n",
    "#     home_team_goals,\n",
    "#     away_team_goals\n",
    "# FROM\n",
    "#     sql.teams,\n",
    "#     sql.matches\n",
    "# WHERE away_team_api_id = api_id"
   ]
  },
  {
   "cell_type": "markdown",
   "metadata": {},
   "source": [
    "# <center> Знакомимся с JOIN"
   ]
  },
  {
   "cell_type": "markdown",
   "metadata": {},
   "source": [
    "JOIN — это оператор SQL, который позволяет соединять таблицы по условию."
   ]
  },
  {
   "cell_type": "code",
   "execution_count": null,
   "metadata": {},
   "outputs": [],
   "source": [
    "# В качестве примера используем запрос из предыдущего юнита.\n",
    "# SELECT \n",
    "#     long_name,\n",
    "#     home_team_goals,\n",
    "#     away_team_goals\n",
    "# FROM    \n",
    "#     sql.teams\n",
    "# JOIN sql.matches on home_team_api_id = api_id\n"
   ]
  },
  {
   "cell_type": "markdown",
   "metadata": {},
   "source": [
    "### <center> СИНТАКСИС"
   ]
  },
  {
   "cell_type": "code",
   "execution_count": null,
   "metadata": {},
   "outputs": [],
   "source": [
    "# SELECT\n",
    "#         столбец1,\n",
    "# \tстолбец2,\n",
    "# \t...\n",
    "# FROM\n",
    "# \tтаблица1\n",
    "# JOIN таблица2 ON условие"
   ]
  },
  {
   "cell_type": "markdown",
   "metadata": {},
   "source": [
    "С помощью JOIN можно соединить и более двух таблиц."
   ]
  },
  {
   "cell_type": "code",
   "execution_count": null,
   "metadata": {},
   "outputs": [],
   "source": [
    "# SELECT\n",
    "#         столбец1,\n",
    "# \tстолбец2,\n",
    "# \t...\n",
    "# FROM\n",
    "# \tтаблица1\n",
    "# JOIN таблица2 ON условие\n",
    "# JOIN таблица3 ON условие"
   ]
  },
  {
   "cell_type": "markdown",
   "metadata": {},
   "source": [
    " К примеру, столбец id есть и в таблице matches, и в таблице teams. Такой запрос не будет обработан."
   ]
  },
  {
   "cell_type": "markdown",
   "metadata": {},
   "source": [
    "?\n",
    "Что же делать в таком случае?\n",
    "\n",
    "Можно указать, откуда мы хотим запросить данные, записав название таблицы перед столбцом через точку."
   ]
  },
  {
   "cell_type": "code",
   "execution_count": 2,
   "metadata": {},
   "outputs": [],
   "source": [
    "# SELECT\n",
    "#     teams.id\n",
    "# FROM \n",
    "#     sql.teams\n",
    "# JOIN sql.matches ON home_team_api_id = api_id"
   ]
  },
  {
   "cell_type": "markdown",
   "metadata": {},
   "source": [
    "Упростить обращение к различным таблицам можно, присвоив им сокращённые названия — алиасы (от англ. alias)."
   ]
  },
  {
   "cell_type": "code",
   "execution_count": 3,
   "metadata": {},
   "outputs": [],
   "source": [
    "# SELECT\n",
    "#         столбец1,\n",
    "# \tстолбец2,\n",
    "# \t...\n",
    "# FROM\n",
    "# \tтаблица1 AS короткое_название_1\n",
    "# JOIN таблица2 AS короткое_название_2 ON условие"
   ]
  },
  {
   "cell_type": "markdown",
   "metadata": {},
   "source": [
    "Важно! Обращаться по такому алиасу придётся также с помощью кавычек.\n"
   ]
  },
  {
   "cell_type": "code",
   "execution_count": 4,
   "metadata": {},
   "outputs": [],
   "source": [
    "# SELECT\n",
    "# \t\"таблица1\".столбец1,\n",
    "# \t\"table 2\".столбец2,\n",
    "# \t...\n",
    "# FROM\n",
    "# \tтаблица1 AS \"таблица1\"\n",
    "# \tJOIN таблица2 AS \"table 2\" ON условие"
   ]
  },
  {
   "cell_type": "code",
   "execution_count": null,
   "metadata": {},
   "outputs": [],
   "source": [
    "# Напишите запрос, который выведет два столбца: id матча (match_id) и id домашней команды (team_id), — а затем отсортируйте по id матча в порядке возрастания значений.\n",
    "# SELECT \n",
    "# m.id match_id,\n",
    "# t.id team_id\n",
    "# FROM\n",
    "#     sql.teams t\n",
    "# join\n",
    "#     sql.matches m on m.home_team_api_id = api_id\n",
    "# order by match_id\n",
    "\n"
   ]
  },
  {
   "cell_type": "markdown",
   "metadata": {},
   "source": [
    "Давайте с помощью запроса SQL получим таблицу, содержащую:\n",
    "\n",
    "название домашней команды;\n",
    "\n",
    "количество забитых домашней командой голов;\n",
    "\n",
    "количество забитых гостевой командой голов;\n",
    "\n",
    "название гостевой команды."
   ]
  },
  {
   "cell_type": "code",
   "execution_count": null,
   "metadata": {},
   "outputs": [],
   "source": [
    "# SELECT\n",
    "#     h.long_name \"домашняя команда\",\n",
    "#     m.home_team_goals \"голы домашней команды\",\n",
    "#     m.away_team_goals \"голы гостевой команды\",\n",
    "#     a.long_name \"гостевая команда\" \n",
    "# FROM\n",
    "#     sql.matches m\n",
    "#     JOIN sql.teams h ON m.home_team_api_id = h.api_id\n",
    "#     JOIN sql.teams a ON m.away_team_api_id = a.api_id"
   ]
  },
  {
   "cell_type": "markdown",
   "metadata": {},
   "source": [
    "## <center> Фильтрация и агрегатные функции"
   ]
  },
  {
   "cell_type": "markdown",
   "metadata": {},
   "source": [
    "### <center>РАБОТА С ОБЪЕДИНЁННЫМИ ТАБЛИЦАМИ"
   ]
  },
  {
   "cell_type": "code",
   "execution_count": 5,
   "metadata": {},
   "outputs": [],
   "source": [
    "# ринцип построения запроса и порядок операторов такой же, как и с обычной таблицей.\n",
    "\n",
    "# Вспомним его:\n",
    "\n",
    "# SELECT... \n",
    "# FROM... \n",
    "# WHERE... \n",
    "# GROUP BY... \n",
    "# ORDER BY... \n",
    "# LIMIT..."
   ]
  },
  {
   "cell_type": "markdown",
   "metadata": {},
   "source": [
    "ФИЛЬТРАЦИЯ ДАННЫХ\n",
    "\n",
    "К соединённым таблицам применимы функции фильтрации данных.\n",
    "\n",
    "Например, можно вывести id матчей, в которых команда Arsenal была гостевой."
   ]
  },
  {
   "cell_type": "code",
   "execution_count": 6,
   "metadata": {},
   "outputs": [],
   "source": [
    "# SELECT \n",
    "#     m.id\n",
    "# FROM\n",
    "#     sql.teams t\n",
    "#     JOIN sql.matches m ON m.away_team_api_id = t.api_id\n",
    "# WHERE long_name = 'Arsenal'"
   ]
  },
  {
   "cell_type": "markdown",
   "metadata": {},
   "source": [
    "Например, можно оставить только записи, в которых короткое название домашней команды GEN и матчи сезона 2008/2009.\n",
    "\n"
   ]
  },
  {
   "cell_type": "code",
   "execution_count": null,
   "metadata": {},
   "outputs": [],
   "source": [
    "# SELECT *\n",
    "# FROM    \n",
    "#     sql.matches m\n",
    "#     JOIN sql.teams t on t.api_id = m.home_team_api_id\n",
    "# WHERE\n",
    "#     t.short_name = 'GEN'\n",
    "#     AND m.season = '2008/2009'"
   ]
  },
  {
   "cell_type": "markdown",
   "metadata": {},
   "source": [
    "Напишите запрос, чтобы вывести id матчей, короткое название домашней команды (home_short), короткое название гостевой команды (away_short) для матчей сезона 2011/2012, в которых участвовала команда с названием Liverpool.\n",
    "Отсортируйте по id матча в порядке возрастания."
   ]
  },
  {
   "cell_type": "code",
   "execution_count": null,
   "metadata": {},
   "outputs": [],
   "source": [
    "# SELECT\n",
    "#     m.id,\n",
    "#     t.short_name home_short,\n",
    "#     t1.short_name away_short\n",
    "# FROM\n",
    "#     sql.matches m\n",
    "# JOIN sql.teams t ON m.home_team_api_id = t.api_id\n",
    "# JOIN sql.teams t1 ON m.away_team_api_id = t1.api_id\n",
    "# WHERE\n",
    "#     m.season = '2011/2012'\n",
    "#     and (t.long_name = 'Liverpool' or t1.long_name = 'Liverpool')\n",
    "# ORDER BY m.id"
   ]
  },
  {
   "cell_type": "markdown",
   "metadata": {},
   "source": [
    "*что выводим то и присоединяем*"
   ]
  },
  {
   "cell_type": "markdown",
   "metadata": {},
   "source": [
    "# <CENTER> АГРЕГАЦИЯ ДАННЫХ"
   ]
  },
  {
   "cell_type": "code",
   "execution_count": 7,
   "metadata": {},
   "outputs": [],
   "source": [
    "# SELECT\n",
    "#     t.long_name, /*столбец long_name таблицы t*/\n",
    "#     SUM(m.home_team_goals) + SUM(m.away_team_goals) match_goals /*функция суммирования; столбец home_team_goals таблицы m; функция суммирования; столбец away_team_goals таблицы m; новое название столбца*/\n",
    "# FROM\n",
    "#     sql.matches m /*таблица matches с алиасом m*/\n",
    "#     JOIN sql.teams t ON m.away_team_api_id = t.api_id /*оператор соединения таблиц; таблица teams с алиасом t; условие: away_team_api_id таблицы m равен api_id таблицы t*/\n",
    "# GROUP BY t.id /*группировка по столбцу id таблицы t*/"
   ]
  },
  {
   "cell_type": "markdown",
   "metadata": {},
   "source": [
    "Обратите внимание! В данном запросе была использована группировка по столбцу id таблицы teams, хотя этот столбец не выводится в запросе. Это необходимо для того, чтобы команды с одинаковым названием, если такие найдутся, не группировались между собой. Группировка по названию команды в данном запросе будет неверной, так как есть несколько команд с одинаковым полным названием — мы говорили об этом в начале модуля."
   ]
  },
  {
   "cell_type": "markdown",
   "metadata": {},
   "source": [
    "Напишите запрос, с помощью которого можно вывести список полных названий команд, сыгравших в гостях 150 и более матчей.\n",
    "Отсортируйте список по названию команды."
   ]
  },
  {
   "cell_type": "code",
   "execution_count": null,
   "metadata": {},
   "outputs": [],
   "source": [
    "# SELECT\n",
    "#     t.long_name\n",
    "# FROM\n",
    "#     sql.matches m\n",
    "# JOIN sql.teams t ON m.away_team_api_id = t.api_id\n",
    "# GROUP BY t.id\n",
    "# HAVING COUNT(*) >= 150\n",
    "# ORDER BY 1"
   ]
  },
  {
   "cell_type": "markdown",
   "metadata": {},
   "source": [
    "### <center>  Способы соединения таблиц"
   ]
  },
  {
   "cell_type": "markdown",
   "metadata": {},
   "source": [
    "### <center> ОПЕРАТОРЫ"
   ]
  },
  {
   "cell_type": "markdown",
   "metadata": {},
   "source": [
    "Для INNER JOIN работает следующее правило: присоединяются только те строки таблиц, которые удовлетворяют условию соединения. Если в любой из соединяемых таблиц находятся такие строки, которые не удовлетворяют заявленному условию, — они отбрасываются."
   ]
  },
  {
   "cell_type": "code",
   "execution_count": null,
   "metadata": {},
   "outputs": [],
   "source": [
    "# SELECT \n",
    "# COUNT(DISTINCT t.id) \n",
    "# FROM \n",
    "# sql.teams t\n",
    "# JOIN sql.matches m ON t.api_id = m.home_team_api_id OR t.api_id = m.away_team_api_id"
   ]
  },
  {
   "cell_type": "markdown",
   "metadata": {},
   "source": [
    "И в таблице останется уже не 299 команд, а только 292.\n",
    "\n",
    "?\n",
    "Почему?\n",
    "\n",
    "Дело в том, что таблица sql.matches по какой-то причине не содержит информацию о командах Lierse SK, KVC Westerlo, KAS Eupen, Club Brugge KV, KV Oostende, RSC Anderlecht и Hull City, зато они есть в таблице sql.teams. Возможно, эти команды не участвовали ни в одном матче или записи по этим матчам были удалены."
   ]
  },
  {
   "cell_type": "markdown",
   "metadata": {},
   "source": [
    "Для LEFT JOIN работает следующее правило: из левой (относительно оператора) таблицы сохраняются все строки, а из правой добавляются только те, которые соответствуют условию соединения. Если в правой таблице не находится соответствия, то значения строк второй таблицы будут иметь значение NULL."
   ]
  },
  {
   "cell_type": "markdown",
   "metadata": {},
   "source": [
    "LEFT JOIN может быть полезен, когда соответствующих записей во второй таблице может не быть, но важно сохранить записи из первой таблицы."
   ]
  },
  {
   "cell_type": "code",
   "execution_count": 1,
   "metadata": {},
   "outputs": [],
   "source": [
    "# SELECT\n",
    "#     t.long_name,\n",
    "#     m.id\n",
    "# FROM sql.teams t\n",
    "# LEFT JOIN sql.matches m ON t.api_id = m.home_team_api_id OR t.api_id = m.away_team_api_id\n",
    "# ORDER BY m.id DESC"
   ]
  },
  {
   "cell_type": "markdown",
   "metadata": {},
   "source": [
    "Вывод: в таблице teams сохранились все записи, а в таблице matches есть пустые строки."
   ]
  },
  {
   "cell_type": "markdown",
   "metadata": {},
   "source": [
    "Теперь, чтобы выбрать такие команды, которые не принимали участия в матчах, достаточно добавить условие where m.id is null (или любое другое поле таблицы matches)."
   ]
  },
  {
   "cell_type": "code",
   "execution_count": 2,
   "metadata": {},
   "outputs": [],
   "source": [
    "# SELECT\n",
    "#     t.long_name\n",
    "# FROM \n",
    "#     sql.teams t\n",
    "# LEFT JOIN sql.matches m ON t.api_id = m.home_team_api_id OR t.api_id = m.away_team_api_id\n",
    "# WHERE m.id IS NULL"
   ]
  },
  {
   "cell_type": "markdown",
   "metadata": {},
   "source": [
    "Обратите внимание! Если мы добавим какой-либо фильтр по значению для таблицы matches, то LEFT JOIN превратится в INNER JOIN, поскольку для второй таблицы станет необходимым присутствие значения в строке."
   ]
  },
  {
   "cell_type": "markdown",
   "metadata": {},
   "source": [
    "С LEFT JOIN также работают агрегатные функции, что позволяет не потерять значения из левой таблицы. Например, мы можем вывести сумму голов команд по гостевым матчам."
   ]
  },
  {
   "cell_type": "code",
   "execution_count": null,
   "metadata": {},
   "outputs": [],
   "source": [
    "# SELECT\n",
    "#     t.long_name,\n",
    "#     SUM(m.away_team_goals) total_goals\n",
    "# FROM   \n",
    "#     sql.teams t\n",
    "# LEFT JOIN sql.matches m ON t.api_id = m.away_team_api_id\n",
    "# GROUP BY t.id\n",
    "# ORDER BY 2 DESC"
   ]
  },
  {
   "cell_type": "markdown",
   "metadata": {},
   "source": [
    "Обратите внимание! При применении функций SUM, MIN, MAX, AVG к полям со значением NULL в результате получится NULL, а не 0. А при использовании функции COUNT, наоборот, получится 0."
   ]
  },
  {
   "cell_type": "markdown",
   "metadata": {},
   "source": [
    "Задание 5.1\n",
    "\n",
    "Используя LEFT JOIN, выведите список уникальных названий команд, содержащихся в таблице matches. Отсортируйте список в алфавитном порядке.\n",
    "В поле ниже введите запрос, с помощью которого вы решили задание."
   ]
  },
  {
   "cell_type": "code",
   "execution_count": null,
   "metadata": {},
   "outputs": [],
   "source": [
    "# SELECT\n",
    "#   DISTINCT t.long_name\n",
    "# FROM\n",
    "#   sql.teams t\n",
    "# LEFT JOIN sql.matches m ON t.api_id = m.home_team_api_id or t.api_id = m.away_team_api_id\n",
    "# WHERE m.id is not null\n",
    "# ORDER BY 1"
   ]
  },
  {
   "cell_type": "markdown",
   "metadata": {},
   "source": [
    "Обратите внимание! При применении функций SUM, MIN, MAX, AVG к полям со значением NULL в результате получится NULL, а не 0. А при использовании функции COUNT, наоборот, получится 0."
   ]
  },
  {
   "cell_type": "markdown",
   "metadata": {},
   "source": [
    "Задание 5.2\n",
    "\n",
    "Используя LEFT JOIN, напишите запрос, который выведет полное название команды (long_name), количество матчей, в которых участвовала команда, — домашних и гостевых (matches_cnt).\n",
    "Отсортируйте по количеству матчей в порядке возрастания, затем по названию команды в алфавитном порядке."
   ]
  },
  {
   "cell_type": "code",
   "execution_count": null,
   "metadata": {},
   "outputs": [],
   "source": [
    "# select\n",
    "# t.long_name,\n",
    "# count(m.id)\n",
    "# from\n",
    "# sql.teams t\n",
    "# left join sql.matches m on t.api_id = m.home_team_api_id or t.api_id = m.away_team_api_id\n",
    "# group by t.id\n",
    "# order by 2, 1"
   ]
  },
  {
   "cell_type": "markdown",
   "metadata": {},
   "source": [
    "При использовании RIGHT JOIN сохраняется та же логика, что и для LEFT JOIN, только за основу берётся правая таблица.\n",
    "\n",
    "Чтобы из LEFT JOIN получить RIGHT JOIN, нужно просто поменять порядок соединения таблиц."
   ]
  },
  {
   "cell_type": "markdown",
   "metadata": {},
   "source": [
    "Оператор FULL OUTER JOIN объединяет в себе LEFT и RIGHT JOIN и позволяет сохранить кортежи обеих таблиц. Даже если не будет соответствий, мы сохраним все записи из обеих таблиц."
   ]
  },
  {
   "cell_type": "markdown",
   "metadata": {},
   "source": [
    "CROSS JOIN соединяет таблицы так, что каждая запись в первой таблице присоединяется к каждой записи во второй таблице, иначе говоря, даёт декартово произведение."
   ]
  },
  {
   "cell_type": "markdown",
   "metadata": {},
   "source": [
    "Обратите внимание! Условие для CROSS JOIN, в отличие от других операторов, не требуется.\n",
    "\n",
    "В начале модуля вы использовали этот оператор, записывая таблицы через запятую."
   ]
  },
  {
   "cell_type": "markdown",
   "metadata": {},
   "source": [
    "Например, с помощью такого запроса мы можем получить все возможные комбинации полных названий команд в матчах."
   ]
  },
  {
   "cell_type": "code",
   "execution_count": null,
   "metadata": {},
   "outputs": [],
   "source": [
    "# SELECT\n",
    "#     DISTINCT\n",
    "#     t1.long_name home_team, \n",
    "#     t2.long_name away_team\n",
    "# FROM\n",
    "#     sql.teams t1\n",
    "#     CROSS JOIN sql.teams t2"
   ]
  },
  {
   "cell_type": "markdown",
   "metadata": {},
   "source": [
    "Задание 5.3\n",
    "\n",
    "Напишите запрос, который выведет все возможные уникальные комбинации коротких названий домашней команды (home_team) и коротких названий гостевой команды (away_team).\n",
    "Отсортируйте запрос по первому и второму столбцам."
   ]
  },
  {
   "cell_type": "code",
   "execution_count": null,
   "metadata": {},
   "outputs": [],
   "source": [
    "# select distinct\n",
    "#     h.short_name \"Короткое название домашней команды\",\n",
    "#     a.short_name \"Короткое название гостевой команды\"\n",
    "# from sql.teams h\n",
    "#     join sql.teams a on true\n",
    "# order by 1,2"
   ]
  },
  {
   "cell_type": "markdown",
   "metadata": {},
   "source": [
    "*Например, для ответа на вопрос: «Какая команда сыграла больше всех матчей в сезоне 2010/2011?» в качестве центральной лучше выбрать таблицу с командами.*\n",
    "\n",
    "*А для ответа на вопрос: «В каком сезоне участвовало больше всего команд?» — таблицу с матчами.*"
   ]
  },
  {
   "cell_type": "markdown",
   "metadata": {},
   "source": [
    "Задание 6.3\n",
    "\n",
    "Напишите запрос, который выведет столбцы с основным типом покемона и общим количеством покемонов этого типа.\n",
    "\n",
    "Учитывайте только тех покемонов, у которых или показатель атаки, или показатель защиты принимает значение между 50 и 100 включительно.\n",
    "\n",
    "Оставьте только те типы покемонов, у которых максимальный показатель здоровья не больше 125.\n",
    "\n",
    "Выведите только тот тип, который находится на пятом месте по количеству покемонов.\n",
    "\n"
   ]
  },
  {
   "cell_type": "code",
   "execution_count": 3,
   "metadata": {},
   "outputs": [],
   "source": [
    "# SELECT\n",
    "#     type1,\n",
    "#     count(*)\n",
    "# FROM sql.pokemon\n",
    "# where (attack between 50 and 100) or (defense between 50 and 100) \n",
    "# group by type1\n",
    "# HAVING MAX(hp) <= 125\n",
    "# order by 2 desc\n",
    "# offset 4 \n",
    "# limit 1 "
   ]
  },
  {
   "cell_type": "markdown",
   "metadata": {},
   "source": [
    "Задание 6.3\n",
    "\n",
    "Напишите запрос, который выведет ТОП-10 команд (long_name) по суммарному количеству забитых голов в гостевых матчах. Во втором столбце запроса выведите суммарное количество голов в гостевых матчах (total_goals)."
   ]
  },
  {
   "cell_type": "code",
   "execution_count": 4,
   "metadata": {},
   "outputs": [],
   "source": [
    "# select \n",
    "#     t.long_name \"ТОП-10 команд по голам в гостях\",\n",
    "#     sum(a.away_team_goals) \"total_goals_away\"\n",
    "# from sql.teams t\n",
    "#     --join sql.matches h on t.api_id = h.home_team_api_id\n",
    "#     join sql.matches a on t.api_id = a.away_team_api_id\n",
    "#     --where t.long_name = 'Inter'\n",
    "#     group by t.long_name\n",
    "#     order by 2 desc\n",
    "#     limit 10"
   ]
  },
  {
   "cell_type": "markdown",
   "metadata": {},
   "source": [
    "Задание 6.4\n",
    "\n",
    "Выведите количество матчей между командами Real Madrid CF и FC Barcelona.\n",
    "В поле ниже введите запрос, с помощью которого вы решили задание."
   ]
  },
  {
   "cell_type": "code",
   "execution_count": 5,
   "metadata": {},
   "outputs": [],
   "source": [
    "# SELECT\n",
    "#     COUNT (*)\n",
    "# FROM\n",
    "#     sql.matches m\n",
    "#     JOIN sql.teams h ON h.api_id = m.home_team_api_id \n",
    "#     JOIN sql.teams a ON a.api_id = m.away_team_api_id\n",
    "# WHERE\n",
    "#     (h.long_name = 'Real Madrid CF' and a.long_name = 'FC Barcelona')\n",
    "#     or (a.long_name = 'Real Madrid CF' and h.long_name = 'FC Barcelona')"
   ]
  },
  {
   "cell_type": "markdown",
   "metadata": {},
   "source": [
    "Задание 6.5\n",
    "\n",
    "Напишите запрос, который выведет название команды (long_name), сезон (season) и суммарное количество забитых голов в домашних матчах (total_goals).\n",
    "Оставьте только те строки, в которых суммарное количество голов менее десяти.\n",
    "Отсортируйте запрос по названию команды, а затем — по сезону."
   ]
  },
  {
   "cell_type": "code",
   "execution_count": 6,
   "metadata": {},
   "outputs": [],
   "source": [
    "# SELECT t.long_name \"Название команды\",\n",
    "#         m.season \"Сезон\",\n",
    "#         sum(m.home_team_goals) \"total_goals\"\n",
    "# FROM\n",
    "#     sql.teams t\n",
    "#     JOIN sql.matches m on t.api_id = m.home_team_api_id \n",
    "# group by t.long_name, m.season\n",
    "# having sum(m.home_team_goals) < 10\n",
    "# order by 1, 2"
   ]
  }
 ],
 "metadata": {
  "interpreter": {
   "hash": "aef7f665a0694191b93f381ff9bf3fa49787cf0440ec035fed5813d2b4b57be1"
  },
  "kernelspec": {
   "display_name": "Python 3.9.10 64-bit",
   "language": "python",
   "name": "python3"
  },
  "language_info": {
   "codemirror_mode": {
    "name": "ipython",
    "version": 3
   },
   "file_extension": ".py",
   "mimetype": "text/x-python",
   "name": "python",
   "nbconvert_exporter": "python",
   "pygments_lexer": "ipython3",
   "version": "3.9.10"
  },
  "orig_nbformat": 4
 },
 "nbformat": 4,
 "nbformat_minor": 2
}
