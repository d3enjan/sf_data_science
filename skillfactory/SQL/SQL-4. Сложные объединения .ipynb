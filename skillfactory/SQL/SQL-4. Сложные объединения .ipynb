{
 "cells": [
  {
   "cell_type": "markdown",
   "metadata": {},
   "source": [
    "### <center> Знакомимся с данными"
   ]
  },
  {
   "cell_type": "markdown",
   "metadata": {},
   "source": [
    "city, customer, driver, shipment, truck\n",
    "https://lms.skillfactory.ru/courses/course-v1:SkillFactory+DSPR-2.0+14JULY2021/courseware/aa7f767d15ec41758e7d65753e3ecf42/6e9db0de12c5455baaabc67f856e5a9e/?child=first"
   ]
  },
  {
   "cell_type": "code",
   "execution_count": 1,
   "metadata": {},
   "outputs": [],
   "source": [
    "# → Укажите название города с максимальным весом единичной доставки.\n",
    "\n",
    "# select \n",
    "#     max(s.weight),\n",
    "#     c.city_name\n",
    "\n",
    "\n",
    "# from sql.city c\n",
    "#     join sql.shipment s on s.city_id = c.city_id\n",
    "#     group by c.city_name\n",
    "#     order by 1 desc\n",
    "\n",
    "#Green Bay"
   ]
  },
  {
   "cell_type": "code",
   "execution_count": null,
   "metadata": {},
   "outputs": [],
   "source": [
    "# → Сколько различных производителей грузовиков перечислено в таблице truck?\n",
    "# select count(distinct make)\n",
    "\n",
    "# from sql.truck\n",
    "\n"
   ]
  },
  {
   "cell_type": "code",
   "execution_count": null,
   "metadata": {},
   "outputs": [],
   "source": [
    "# # → Как зовут водителя (first_name), который совершил наибольшее количество доставок одному клиенту?\n",
    "\n",
    "# select \n",
    "#     d.first_name,\n",
    "#     count(cu.cust_name) as count_cust\n",
    "# from  sql.shipment s\n",
    "#     join sql.driver d on s.driver_id = d.driver_id\n",
    "#     join sql.customer cu on cu.cust_id = s.cust_id\n",
    "# group by d.first_name, cu.cust_name\n",
    "\n",
    "# order by count_cust desc\n"
   ]
  },
  {
   "cell_type": "code",
   "execution_count": null,
   "metadata": {},
   "outputs": [],
   "source": [
    "# # Укажите даты первой и последней по времени доставок в таблице shipment.\n",
    "# # Ответ введите в формате ДД.ММ.ГГГГ.\n",
    "\n",
    "# select \n",
    "#     min(s.ship_date),\n",
    "#     max(s.ship_date)\n",
    "# from  sql.shipment s"
   ]
  },
  {
   "cell_type": "code",
   "execution_count": null,
   "metadata": {},
   "outputs": [],
   "source": [
    "# Укажите имя клиента, получившего наибольшее количество доставок за 2017 год.\n",
    "\n",
    "# select \n",
    "#     cu.cust_name,\n",
    "#     count(cu.cust_name)\n",
    "\n",
    "# from sql.shipment s\n",
    "#     join sql.customer cu on cu.cust_id = s.cust_id\n",
    "# where s.ship_date  between '2017-01-01' and '2017-12-31'\n",
    "#     group by cu.cust_name\n",
    "\n",
    "#     order by 2 desc"
   ]
  },
  {
   "cell_type": "markdown",
   "metadata": {},
   "source": [
    "### <center> ВИДЫ UNION"
   ]
  },
  {
   "cell_type": "markdown",
   "metadata": {},
   "source": [
    "UNION выводит только уникальные записи;\n",
    "UNION ALL присоединяет все строки последующих таблиц к предыдущим, без ограничений по уникальности."
   ]
  },
  {
   "cell_type": "markdown",
   "metadata": {},
   "source": [
    "### <center> СИНТАКСИС"
   ]
  },
  {
   "cell_type": "code",
   "execution_count": null,
   "metadata": {},
   "outputs": [],
   "source": [
    "# SELECT\n",
    "#          n columns\n",
    "# FROM \n",
    "#          table_1\n",
    "\n",
    "# UNION ALL\n",
    "\n",
    "# SELECT \n",
    "#          n columns\n",
    "# FROM \n",
    "#          table_2\n",
    "# ...\n",
    "\n",
    "# UNION ALL\n",
    "\n",
    "# SELECT \n",
    "#          n columns\n",
    "# FROM \n",
    "#          table_n"
   ]
  },
  {
   "cell_type": "markdown",
   "metadata": {},
   "source": [
    "Важно! Названия итоговых колонок в выводе будут такие же, как в первом блоке SELECT, даже если они отличаются в других блоках подзапросов."
   ]
  },
  {
   "cell_type": "markdown",
   "metadata": {},
   "source": [
    "Вместо результата получим сообщение о синтаксической ошибке: \"...syntax error at or near \"UNION\"...\" Очевидно, этот фокус не удался.\n",
    "\n",
    "Не стоит огорчаться, ведь проблему можно решить одним (ну, почти) движением руки — просто добавив скобки вокруг каждой из частей запроса."
   ]
  },
  {
   "cell_type": "markdown",
   "metadata": {},
   "source": [
    "Напишите запрос, который создаёт уникальный алфавитный справочник всех городов, штатов, имён водителей и производителей грузовиков.\n",
    "Результатом запроса должны быть два столбца: название и тип объекта (city, state, driver, truck).\n",
    "Отсортируйте список по названию объекта, а затем — по типу."
   ]
  },
  {
   "cell_type": "code",
   "execution_count": null,
   "metadata": {},
   "outputs": [],
   "source": [
    "# SELECT c.city_name \"название\", 'city' \"тип объекта\"\n",
    "# FROM sql.city c\n",
    "# UNION\n",
    "# SELECT c.state, 'state'\n",
    "# FROM sql.city c\n",
    "# UNION\n",
    "# SELECT d.first_name, 'driver'\n",
    "# FROM sql.driver d\n",
    "# UNION\n",
    "# SELECT t.make, 'truck'\n",
    "# FROM sql.truck t\n",
    "# ORDER BY 1,2"
   ]
  },
  {
   "cell_type": "markdown",
   "metadata": {},
   "source": [
    "Напишите запрос, который соберёт имена всех упомянутых городов и штатов с таблицы city.\n",
    "Результатом запроса должен быть один столбец object_name, отсортированный в алфавитном порядке."
   ]
  },
  {
   "cell_type": "code",
   "execution_count": null,
   "metadata": {},
   "outputs": [],
   "source": [
    "# SELECT c.city_name object_name\n",
    "# FROM sql.city c\n",
    "# UNION ALL(все города и штаты), есил убрать all то будут только уникальные\n",
    "# SELECT c.state\n",
    "# FROM sql.city c\n",
    "# ORDER BY 1"
   ]
  },
  {
   "cell_type": "markdown",
   "metadata": {},
   "source": [
    "### <center>  UNION и ограничение типов данных"
   ]
  },
  {
   "cell_type": "markdown",
   "metadata": {},
   "source": [
    "Если мы всё же хотим *соединить столбци с разными типами данных*, придётся привести оба столбца к одному типу данных. Не каждый текст может быть приведён к числу, зато каждое число может быть представлено в текстовом формате."
   ]
  },
  {
   "cell_type": "markdown",
   "metadata": {},
   "source": [
    "Важно! Любой тип данных может быть приведён к текстовому формату — эту возможность целесообразно использовать для соединения разнородных сущностей. Главное — помнить, что сортировка текста отличается от сортировки чисел и дат."
   ]
  },
  {
   "cell_type": "markdown",
   "metadata": {},
   "source": [
    "Задание 3.1\n",
    "\n",
    "Напишите запрос, который объединит в себе все почтовые индексы водителей и их телефоны в единый столбец-справочник. Также добавьте столбец с именем водителя и столбец с типом контакта (phone или zip в зависимости от типа). Столбцы к выводу: contact, first_name, contact_type.\n",
    "Отсортируйте список по столбцу с контактными данными в порядке возрастания, а затем — по имени водителя."
   ]
  },
  {
   "cell_type": "code",
   "execution_count": null,
   "metadata": {},
   "outputs": [],
   "source": [
    "# SELECT\n",
    "#     d.zip_code::text contact,\n",
    "#     d.first_name first_name,\n",
    "#     'zip' contact_type\n",
    "# FROM\n",
    "#     sql.driver d\n",
    "# UNION\n",
    "# SELECT\n",
    "#     dd.phone contact,\n",
    "#     dd.first_name first_name,\n",
    "#     'phone' contact_type\n",
    "# FROM\n",
    "#     sql.driver dd\n",
    "# ORDER BY 1,2"
   ]
  },
  {
   "cell_type": "markdown",
   "metadata": {},
   "source": [
    "### <center> ВОЗМОЖНОСТИ UNION"
   ]
  },
  {
   "cell_type": "markdown",
   "metadata": {},
   "source": [
    "Напишите запрос, который выводит общее число доставок total_shipments, а также количество доставок в каждый день. Необходимые столбцы: date_period, cnt_shipping.\n",
    "Не забывайте о единой типизации.\n",
    "Упорядочьте по убыванию столбца date_period."
   ]
  },
  {
   "cell_type": "code",
   "execution_count": 1,
   "metadata": {},
   "outputs": [],
   "source": [
    "# SELECT s.ship_date::text date_period, COUNT(*) cnt_shipment\n",
    "# FROM sql.shipment s \n",
    "# GROUP BY 1\n",
    "# UNION ALL\n",
    "# SELECT 'total_shipments', COUNT(*)\n",
    "# FROM sql.shipment s\n",
    "# ORDER BY 1 desc"
   ]
  },
  {
   "cell_type": "markdown",
   "metadata": {},
   "source": [
    "Задание 5.1\n",
    "\n",
    "Напишите запрос, который выведет все города и штаты, в которых они расположены, а также информацию о том, была ли осуществлена доставка в этот город:\n",
    "\n",
    "если в город была осуществлена доставка, то выводим 'доставка осуществлялась';\n",
    "если нет — выводим 'доставка не осуществлялась'.\n",
    "Столбцы к выводу: city_name, state, shipping_status.\n",
    "\n",
    "Отсортируйте в алфавитном порядке по городу, а затем — по штату."
   ]
  },
  {
   "cell_type": "code",
   "execution_count": 2,
   "metadata": {},
   "outputs": [],
   "source": [
    "# SELECT \n",
    "#      c.city_name AS city_name,\n",
    "#      c.state AS state,\n",
    "#     'доставка осуществлялась' AS shipping_status\n",
    "# FROM \n",
    "#     sql.city c\n",
    "#     LEFT JOIN sql.shipment s ON c.city_id=s.city_id\n",
    "# WHERE s.city_id IS NOT NULL\n",
    "# UNION\n",
    "# SELECT \n",
    "#      c.city_name AS city_name,\n",
    "#      c.state AS state,\n",
    "#     'доставка не осуществлялась' AS shipping_status\n",
    "# FROM \n",
    "#     sql.city c\n",
    "#     LEFT JOIN sql.shipment s ON c.city_id=s.city_id\n",
    "# WHERE s.city_id IS NULL\n",
    "# ORDER BY 1, 2"
   ]
  },
  {
   "cell_type": "markdown",
   "metadata": {},
   "source": [
    "Задание 5.2\n",
    "\n",
    "Напишите запрос, который выводит два столбца: city_name и shippings_fake. Выведите города, куда совершались доставки.\n",
    "\n",
    "Пусть первый столбец содержит название города, а второй формируется так:\n",
    "\n",
    "если в городе было более десяти доставок, вывести количество доставок в этот город как есть;\n",
    "иначе — вывести количество доставок, увеличенное на пять.\n",
    "Отсортируйте по убыванию получившегося «нечестного» количества доставок, а затем — по имени в алфавитном порядке."
   ]
  },
  {
   "cell_type": "code",
   "execution_count": 3,
   "metadata": {},
   "outputs": [],
   "source": [
    "# SELECT\n",
    "#     c.city_name AS city_name,\n",
    "#     COUNT(s.ship_id) shippings_fake\n",
    "# FROM\n",
    "#     sql.city c\n",
    "#     JOIN sql.shipment s ON c.city_id=s.city_id\n",
    "# GROUP BY\n",
    "#     c.city_name\n",
    "# HAVING\n",
    "#      COUNT(s.ship_id) > 10\n",
    "# UNION\n",
    "# SELECT\n",
    "#     c.city_name AS city_name,\n",
    "#     COUNT(s.ship_id)+5 shippings_fake\n",
    "# FROM\n",
    "#     sql.city c\n",
    "#     JOIN sql.shipment s ON c.city_id=s.city_id\n",
    "# GROUP BY\n",
    "#     c.city_name\n",
    "# HAVING\n",
    "#      COUNT(s.ship_id) <= 10\n",
    "# ORDER BY\n",
    "#     shippings_fake desc,\n",
    "#     city_name asc"
   ]
  },
  {
   "cell_type": "markdown",
   "metadata": {},
   "source": [
    "### <center> UNION и ручная генерация"
   ]
  },
  {
   "cell_type": "markdown",
   "metadata": {},
   "source": [
    "✍ UNION можно использовать для создания справочников прямо в коде запроса. К примеру, если мы хотим вручную ввести какие-то значения и произвести с ними некоторые манипуляции или дополнить существующую выдачу своими значениями."
   ]
  },
  {
   "cell_type": "markdown",
   "metadata": {},
   "source": [
    "Напишите запрос, который выберет наибольшее из значений:\n",
    "\n",
    "1000000;\n",
    "541;\n",
    "-500;\n",
    "100."
   ]
  },
  {
   "cell_type": "code",
   "execution_count": 4,
   "metadata": {},
   "outputs": [],
   "source": [
    "# SELECT  1000000\n",
    "# UNION ALL\n",
    "# SELECT  541\n",
    "# UNION ALL\n",
    "# SELECT  -500\n",
    "# UNION ALL\n",
    "# SELECT  100\n",
    "# ORDER BY 1 DESC \n",
    "# LIMIT 1"
   ]
  },
  {
   "cell_type": "markdown",
   "metadata": {},
   "source": [
    "В виде текста по другому сортируется"
   ]
  },
  {
   "cell_type": "code",
   "execution_count": 5,
   "metadata": {},
   "outputs": [],
   "source": [
    "# SELECT  '1000000'\n",
    "# UNION ALL\n",
    "# SELECT  '541' \n",
    "# UNION ALL\n",
    "# SELECT  '-500'\n",
    "# UNION ALL\n",
    "# SELECT  '100'\n",
    "# ORDER BY 1 DESC \n",
    "# LIMIT 1"
   ]
  },
  {
   "cell_type": "markdown",
   "metadata": {},
   "source": [
    "### <center> 7. EXCEPT\n",
    "ИСКЛЮЧАЕМ ПОВТОРЯЮЩИЕСЯ ДАННЫЕ"
   ]
  },
  {
   "cell_type": "markdown",
   "metadata": {},
   "source": [
    "Мы уже знаем, как решить такую задачу с использованием LEFT JOIN. Вариант с EXCEPT будет полезен в тех случаях, когда у вас много столбцов и вам не хочется прописывать их равенство в условии для JOIN."
   ]
  },
  {
   "cell_type": "markdown",
   "metadata": {},
   "source": [
    "Задание 7.1\n",
    "\n",
    "Выведите список zip-кодов, которые есть в таблице sql.driver, но отсутствуют в таблице sql.customer. Отсортируйте по возрастанию, столбец к выводу — zip.\n",
    "В поле ниже введите запрос, с помощью которого вы решили эту задачу."
   ]
  },
  {
   "cell_type": "code",
   "execution_count": 6,
   "metadata": {},
   "outputs": [],
   "source": [
    "# SELECT zip_code AS zip\n",
    "# FROM sql.driver\n",
    "# EXCEPT \n",
    "# SELECT zip \n",
    "# FROM sql.customer\n",
    "# ORDER BY 1"
   ]
  },
  {
   "cell_type": "markdown",
   "metadata": {},
   "source": [
    "### <center> 8. INTERSECT\n",
    "ВЫБИРАЕМ ОБЩИЕ ДАННЫЕ"
   ]
  },
  {
   "cell_type": "markdown",
   "metadata": {},
   "source": [
    "Напишите запрос, который выведет список id городов, в которых есть и клиенты, и доставки, и водители."
   ]
  },
  {
   "cell_type": "code",
   "execution_count": null,
   "metadata": {},
   "outputs": [],
   "source": [
    "# SELECT s.city_id\n",
    "# FROM sql.shipment s \n",
    "# INTERSECT\n",
    "# SELECT c.city_id\n",
    "# FROM sql.customer c\n",
    "# INTERSECT\n",
    "# SELECT d.city_id\n",
    "# FROM sql.driver d"
   ]
  },
  {
   "cell_type": "markdown",
   "metadata": {},
   "source": [
    "Как EXCEPT, так и INTERSECT убирают дубликаты, если они имеются."
   ]
  },
  {
   "cell_type": "markdown",
   "metadata": {},
   "source": [
    "Задание 8.2\n",
    "\n",
    "Выведите zip-код, который есть как в таблице с клиентами, так и в таблице с водителями."
   ]
  },
  {
   "cell_type": "code",
   "execution_count": null,
   "metadata": {},
   "outputs": [],
   "source": [
    "# SELECT\n",
    "#     d.zip_code\n",
    "# FROM \n",
    "#     sql.driver d\n",
    "# INTERSECT\n",
    "# SELECT\n",
    "#     c.zip\n",
    "# FROM \n",
    "#     sql.customer c"
   ]
  },
  {
   "cell_type": "markdown",
   "metadata": {},
   "source": [
    "Задание 9.1\n",
    "\n",
    "Выведите города с максимальным и минимальным весом единичной доставки.\n",
    "Столбцы к выводу — city_name, weight."
   ]
  },
  {
   "cell_type": "code",
   "execution_count": 7,
   "metadata": {},
   "outputs": [],
   "source": [
    "# (select c.city_name,\n",
    "#     sh.weight\n",
    "     \n",
    "# from sql.shipment sh \n",
    "#     join sql.city c on c.city_id = sh.city_id\n",
    "    \n",
    "# group by sh.weight,\n",
    "#      c.city_name\n",
    "# order by 2 desc\n",
    "# limit 1) \n",
    "# union \n",
    "# (select\n",
    "#     c.city_name,\n",
    "#     sh.weight\n",
    "     \n",
    "# from sql.shipment sh \n",
    "#     join sql.city c on c.city_id = sh.city_id\n",
    "    \n",
    "# group by sh.weight,\n",
    "#      c.city_name\n",
    "# order by 2 \n",
    "# limit 1) \n",
    "\n"
   ]
  },
  {
   "cell_type": "markdown",
   "metadata": {},
   "source": [
    "Задание 9.2\n",
    "\n",
    "Выведите идентификационные номера клиентов (cust_id), которые совпадают с идентификационными номерами доставок (ship_id).\n",
    "Столбец к выводу — mutual_id.\n",
    "Отсортируйте по возрастанию."
   ]
  },
  {
   "cell_type": "code",
   "execution_count": null,
   "metadata": {},
   "outputs": [],
   "source": [
    "# select \n",
    "#     cu.cust_id mutual_id\n",
    "\n",
    "# from \n",
    "#     sql.customer cu \n",
    "# intersect\n",
    "# select\n",
    "#     sh.ship_id\n",
    "# from\n",
    "#     sql.shipment sh\n",
    "# order by 1 \n"
   ]
  },
  {
   "cell_type": "markdown",
   "metadata": {},
   "source": [
    "Задание 9.3\n",
    "\n",
    "Создайте справочник, содержащий уникальные имена клиентов, которые являются производителями (cust_type='manufacturer'), и производителей грузовиков, а также описание объекта — 'КЛИЕНТ' или 'ГРУЗОВИК'.\n",
    "Столбцы к выводу — object_name, object_description.\n",
    "Отсортируйте по названию в алфавитном порядке."
   ]
  },
  {
   "cell_type": "code",
   "execution_count": null,
   "metadata": {},
   "outputs": [],
   "source": [
    "# SELECT cust_name object_name, 'КЛИЕНТ' object_description\n",
    "# FROM sql.customer\n",
    "# WHERE cust_type='manufacturer'\n",
    "# UNION\n",
    "# SELECT make, 'ГРУЗОВИК'\n",
    "# FROM sql.truck\n",
    "# ORDER BY 1"
   ]
  }
 ],
 "metadata": {
  "interpreter": {
   "hash": "aef7f665a0694191b93f381ff9bf3fa49787cf0440ec035fed5813d2b4b57be1"
  },
  "kernelspec": {
   "display_name": "Python 3.9.10 64-bit",
   "language": "python",
   "name": "python3"
  },
  "language_info": {
   "codemirror_mode": {
    "name": "ipython",
    "version": 3
   },
   "file_extension": ".py",
   "mimetype": "text/x-python",
   "name": "python",
   "nbconvert_exporter": "python",
   "pygments_lexer": "ipython3",
   "version": "3.9.10"
  },
  "orig_nbformat": 4
 },
 "nbformat": 4,
 "nbformat_minor": 2
}
