{
 "cells": [
  {
   "cell_type": "markdown",
   "metadata": {},
   "source": [
    "*Задание 3.2*\n",
    "\n",
    "Предположим, у нас есть дата и время какого-то события и мы хотим посмотреть, к какой дате оно относится для Москвы и для UTC.\n",
    "\n",
    "Используйте подзапрос\n",
    "\n",
    "with x as \n",
    "(\n",
    "select '2018-12-31 21:00:00+00'::timestamp with time zone ts\n",
    ")\n",
    "и выведите дату в ts в Московском часовом поясе и в поясе UTC.\n",
    "\n",
    "Столбцы в выдаче: dt_msk (дата в московском часовом поясе), dt_utc (дата в UTC)."
   ]
  },
  {
   "cell_type": "code",
   "execution_count": null,
   "metadata": {},
   "outputs": [],
   "source": [
    "# WITH x AS \n",
    "# (\n",
    "# SELECT '2018-12-31 21:00:00+00'::timestamp WITH time zone ts\n",
    "# )\n",
    "# SELECT \n",
    "#         (ts at time zone 'Europe/Moscow')::date dt_msk,\n",
    "#         (ts)::date dt_utc\n",
    "# FROM x"
   ]
  },
  {
   "cell_type": "markdown",
   "metadata": {},
   "source": [
    "\n",
    "### <center> ФУНКЦИЯ EXTRACT()\n",
    "\n",
    "Функция extract() получает из значений даты/времени такие поля, как год или час."
   ]
  },
  {
   "cell_type": "code",
   "execution_count": null,
   "metadata": {},
   "outputs": [],
   "source": [
    "# SELECT EXTRACT(DAY FROM TIMESTAMP '2001-02-16 20:38:40')\n",
    "# SELECT EXTRACT(DAY FROM INTERVAL '40 days 1 minute')\n",
    "# SELECT EXTRACT(HOUR FROM TIMESTAMP '2001-02-16 20:38:40')\n",
    "# SELECT EXTRAaCT(MONTH FROM TIMESTAMP '2001-02-16 20:38:40');\n",
    "# SELECT EXTRACT(YEAR FROM TIMESTAMP '2001-02-16 20:38:40');\n"
   ]
  },
  {
   "cell_type": "code",
   "execution_count": null,
   "metadata": {},
   "outputs": [],
   "source": [
    "# SOYEAR\n",
    "\n",
    "# Год по недельному календарю ISO 8601, в который попадает дата (не применимо к интервалам).\n",
    "\n",
    "# SELECT EXTRACT(ISOYEAR FROM DATE '2006-01-01');\n",
    "# Результат: 2005\n",
    "# *Год по недельному календарю ISO начинается с понедельника недели, в которой оказывается 4 января,\n",
    "# так что в начале января или в конце декабря год по ISO может отличаться от года по григорианскому календарю. Подробнее об этом рассказывается в описании поля week.*\n"
   ]
  },
  {
   "cell_type": "code",
   "execution_count": null,
   "metadata": {},
   "outputs": [],
   "source": [
    "# WEEK\n",
    "\n",
    "# Номер недели в году по недельному календарю ISO 8601. По определению, недели ISO 8601 начинаются с понедельника, а первая неделя года включает 4 января этого года. Другими словами, первый четверг года всегда оказывается в первой неделе этого года.\n",
    "\n",
    "# В системе нумерации недель ISO первые числа января могут относиться к 52-й или 53-й неделе предыдущего года, а последние числа декабря — к первой неделе следующего года.\n",
    "\n",
    "# Например, 2005-01-01 относится к 53-й неделе 2004 г., а 2006-01-01 — к 52-й неделе 2005 г., тогда как 2012-12-31 включается в первую неделю 2013 г.\n",
    "\n",
    "# Поэтому для получения согласованных результатов рекомендуется использовать поле isoyear в паре с week.\n",
    "\n",
    "# SELECT EXTRACT(WEEK FROM TIMESTAMP '2001-02-16 20:38:40');\n",
    "# Результат: 7"
   ]
  },
  {
   "cell_type": "code",
   "execution_count": null,
   "metadata": {},
   "outputs": [],
   "source": [
    "# CENTURY\n",
    "\n",
    "# SELECT EXTRACT(CENTURY FROM TIMESTAMP '2000-12-16 12:21:13');\n",
    "# Результат: 20\n",
    "\n",
    "# SELECT EXTRACT(CENTURY FROM TIMESTAMP '2001-02-16 20:38:40');\n",
    "# Результат: 21\n",
    "\n",
    "# Первый век начался 0001-01-01 00:00:00, хотя люди в то время так и не считали. Это определение распространяется на все страны с григорианским календарём.\n",
    "\n",
    "# Века с номером 0 не было; считается, что 1 наступил после -1.\n",
    "\n",
    "# Если такое положение вещей вас не устраивает, направляйте жалобы по адресу: Ватикан, Собор Святого Петра, Папе Римскому, лично в руки :)"
   ]
  },
  {
   "cell_type": "markdown",
   "metadata": {},
   "source": [
    "[Документация](https://lms.skillfactory.ru/courses/course-v1:SkillFactory+DSPR-2.0+14JULY2021/courseware/aa7f767d15ec41758e7d65753e3ecf42/88ba2de9f99b4636a7b488b4a188bfac/?child=first])"
   ]
  },
  {
   "cell_type": "markdown",
   "metadata": {},
   "source": [
    "Задание 4.1\n",
    "\n",
    "Давайте посчитаем помесячную статистику по доставкам, используя функцию extract().\n",
    "\n",
    "Напишите запрос, который выведет год, месяц и количество доставок.\n",
    "Отсортируйте по году и по месяцу в порядке возрастания.\n",
    "Столбцы в выдаче: year_n (номер года), month_n (номер месяца), qty (количество доставок)."
   ]
  },
  {
   "cell_type": "code",
   "execution_count": null,
   "metadata": {},
   "outputs": [],
   "source": [
    "# select\n",
    "#     extract(year from sh.ship_date) year_n ,\n",
    "#     extract(month from sh.ship_date) month_n,\n",
    "#     count(sh.ship_id) qty\n",
    "    \n",
    "    \n",
    "# from\n",
    "#     sql.shipment sh \n",
    "# group by 1,2\n",
    "# order by 1,2"
   ]
  },
  {
   "cell_type": "markdown",
   "metadata": {},
   "source": [
    "### <center> ФУНКЦИЯ TO_CHAR()"
   ]
  },
  {
   "cell_type": "markdown",
   "metadata": {},
   "source": [
    "Функция to_char() нужна для форматирования даты времени и интервалов в нужный текст."
   ]
  },
  {
   "cell_type": "markdown",
   "metadata": {},
   "source": [
    "Полный перечень вы можете посмотреть в [подсказке по кодам форматирования](https://postgrespro.ru/docs/postgrespro/9.5/functions-formatting)"
   ]
  },
  {
   "cell_type": "markdown",
   "metadata": {},
   "source": [
    "Любой текст, который относится к кодам форматирования, будет сохранён как есть. Чтобы оставлять какие-то подсказки и использовать обычные буквы, которые не встречаются в таблице выше, необходимо заключить текст, который нужно оставить без изменений, в двойные кавычки."
   ]
  },
  {
   "cell_type": "markdown",
   "metadata": {},
   "source": [
    "Задание 4.2\n",
    "\n",
    "Напишите запрос, который выводит текст \"Точное время x часов y минут z секунд\" (текст в кавычки заключать не нужно), где x, y, z — часы, минуты и секунды соответственно, при условии, что сообщение нужно вывести для московского часового пояса.\n",
    "Время введите в 24-часовом формате.\n",
    "Столбцы в выдаче: msg (сообщение)."
   ]
  },
  {
   "cell_type": "code",
   "execution_count": null,
   "metadata": {},
   "outputs": [],
   "source": [
    "# SELECT to_char(now() at time zone 'Europe/Moscow','Точное время hh24 часов mi минут ss секунд') msg"
   ]
  },
  {
   "cell_type": "markdown",
   "metadata": {},
   "source": [
    "### <center> ФУНКЦИЯ DATE_TRUNC()"
   ]
  },
  {
   "cell_type": "markdown",
   "metadata": {},
   "source": [
    "Функция date_trunc() позволяет отсечь заданное время, дату или дату со временем до нужной точности."
   ]
  },
  {
   "cell_type": "markdown",
   "metadata": {},
   "source": [
    "Например, если мы хотим округлить текущее время-дату до минут, то можно вызвать"
   ]
  },
  {
   "cell_type": "code",
   "execution_count": null,
   "metadata": {},
   "outputs": [],
   "source": [
    "#  select date_trunc('minute',now())"
   ]
  },
  {
   "cell_type": "markdown",
   "metadata": {},
   "source": [
    "Для получения разной степени точности вместо minute можно использовать следующие параметры:\n",
    "\n",
    "microseconds;\n",
    "milliseconds;\n",
    "second;\n",
    "minute;\n",
    "hour;\n",
    "day;\n",
    "week;\n",
    "month;\n",
    "quarter;\n",
    "year;\n",
    "decade;\n",
    "century;\n",
    "millennium."
   ]
  },
  {
   "cell_type": "markdown",
   "metadata": {},
   "source": [
    "Задание 4.3\n",
    "\n",
    "Давайте подготовим данные для квартальной отчётности компании.\n",
    "\n",
    "Напишите запрос, который выведет дату доставки, округлённую до квартала, и общую массу доставок.\n",
    "Отсортируйте по кварталу в порядке возрастания.\n",
    "Столбцы в выдаче: q (начало квартала, тип date), total_weight (сумма масс доставок за квартал)."
   ]
  },
  {
   "cell_type": "code",
   "execution_count": 1,
   "metadata": {},
   "outputs": [],
   "source": [
    "# SELECT\n",
    "# \tdate_trunc('quarter',s.ship_date)::date y,\n",
    "# \tsum(s.weight) w\n",
    "# FROM\n",
    "# \tshipping.shipment s\n",
    "# GROUP BY 1\n",
    "# ORDER BY 1"
   ]
  },
  {
   "cell_type": "markdown",
   "metadata": {},
   "source": [
    "### <center> МАТЕМАТИЧЕСКИЕ ОПЕРАТОРЫ"
   ]
  },
  {
   "cell_type": "markdown",
   "metadata": {},
   "source": [
    "К любой дате можно прибавить (и вычесть из неё) целое число X и получить другую дату, которая больше (меньше) изначальной."
   ]
  },
  {
   "cell_type": "code",
   "execution_count": null,
   "metadata": {},
   "outputs": [],
   "source": [
    "# select '2019-01-01'::date + 10"
   ]
  },
  {
   "cell_type": "markdown",
   "metadata": {},
   "source": [
    "Результат: '2019-01-11'"
   ]
  },
  {
   "cell_type": "code",
   "execution_count": null,
   "metadata": {},
   "outputs": [],
   "source": [
    "# select '2019-01-01'::date + 500"
   ]
  },
  {
   "cell_type": "markdown",
   "metadata": {},
   "source": [
    "Результат: '2020-05-15'"
   ]
  },
  {
   "cell_type": "code",
   "execution_count": null,
   "metadata": {},
   "outputs": [],
   "source": [
    "# select '2019-02-10'::date - '2017-03-01'::date"
   ]
  },
  {
   "cell_type": "markdown",
   "metadata": {},
   "source": [
    "Результат: 711"
   ]
  },
  {
   "cell_type": "markdown",
   "metadata": {},
   "source": [
    "Задание 4.4\n",
    "\n",
    "Давайте оценим, в каком интервале совершались доставки в разных городах.\n",
    "\n",
    "Напишите запрос, который выведет разницу между последним и первым днём доставки по каждому городу.\n",
    "Отсортируйте по первому и второму столбцам.\n",
    "Столбцы в выдаче: city_name (название города) и days_active (время от первой до последней доставки в днях)."
   ]
  },
  {
   "cell_type": "code",
   "execution_count": 2,
   "metadata": {},
   "outputs": [],
   "source": [
    "# SELECT\n",
    "# \tc.city_name,\n",
    "# \tmax(s.ship_date) - min(s.ship_date) days_active\n",
    "# FROM\n",
    "# \tsql.shipment s\n",
    "# \tjoin sql.city c on c.city_id = s.city_id\n",
    "# \tgroup by c.city_name\n",
    "# ORDER BY 1, 2"
   ]
  },
  {
   "cell_type": "markdown",
   "metadata": {},
   "source": [
    "### <center> Строковые данные: основные типы"
   ]
  },
  {
   "cell_type": "markdown",
   "metadata": {},
   "source": [
    "В Postgres есть три основных типа данных для работы со строками: character(Длина не меняется),\n",
    "\n",
    " character varying(Длина не может быть больше, а если меньше то там пробелы)\n",
    " \n",
    "  и text(Любая длина)."
   ]
  },
  {
   "cell_type": "markdown",
   "metadata": {},
   "source": [
    "### <center>  Функции и операторы для работы со строками"
   ]
  },
  {
   "cell_type": "markdown",
   "metadata": {},
   "source": [
    "Конструкции с оператором соединения строк записываются следующим образом:\n",
    "\n",
    "строка1 || строка2 || ... || строкаN"
   ]
  },
  {
   "cell_type": "markdown",
   "metadata": {},
   "source": [
    "Важно! Если вы соединяете любую строку и NULL, то результатом будет NULL. Поэтому, если вы формируете какой-то текст на основе поля, в котором присутствует NULL, используйте оператор coalesce."
   ]
  },
  {
   "cell_type": "markdown",
   "metadata": {},
   "source": [
    "Задание 6.1\n",
    "\n",
    "Составим текстовый шаблон сообщения о доставке по конкретному водителю для наших клиентов.\n",
    "\n",
    "Напишите SQL-запрос, который выведет следующее сообщение для каждого водителя по форме:\n",
    "Ваш заказ доставит водитель #Имя Фамилия#. Его контактный номер: #Номер#, где #Имя Фамилия# и #Номер# взяты из справочника водителей.\n",
    "Если номер не указан, то выведите прочерк (-). Для номеров рекомендуем использовать coalesce.\n",
    "\n",
    "Пример из таблицы для наглядности:\n",
    "Ваш заказ доставит водитель Adel Al-Alawi. Его контактный номер: (901) 947-4433\n",
    "\n",
    "Столбец к выдаче — msg (текст сообщения)."
   ]
  },
  {
   "cell_type": "code",
   "execution_count": null,
   "metadata": {},
   "outputs": [],
   "source": [
    "# SELECT \n",
    "#         'Ваш заказ доставит водитель '||d.first_name||' '||d.last_name||'. '||'Его контактный номер: '||coalesce(d.phone,'-') msg\n",
    "# FROM shipping.driver d"
   ]
  },
  {
   "cell_type": "markdown",
   "metadata": {},
   "source": [
    "### <center> ФУНКЦИИ"
   ]
  },
  {
   "cell_type": "markdown",
   "metadata": {},
   "source": [
    "UPPER() И LOWER()\n",
    "\n",
    "Функции upper(your_text) и lower(your_text) переводят каждый символ вашего текста в верхний и нижний регистр соответственно."
   ]
  },
  {
   "cell_type": "code",
   "execution_count": 3,
   "metadata": {},
   "outputs": [],
   "source": [
    "# select upper('Abc') s1 ,lower('xYz') s2"
   ]
  },
  {
   "cell_type": "markdown",
   "metadata": {},
   "source": [
    "Задание 6.2\n",
    "\n",
    "Cоставим справочник названий клиентов, у которых более десяти доставок. Данные сохраним в нижнем регистре, чтобы передавать их в другие системы (например, для обзвона), которые не чувствительны к регистру.\n",
    "\n",
    "Напишите запрос, который выводит все id названий клиентов, у которых более десяти доставок, в нижнем регистре. Отсортируйте результат по cust_id в порядке возрастания.\n",
    "Столбцы в выдаче: cust_id (id клиента) и cust_name (название клиента в нижнем регистре)."
   ]
  },
  {
   "cell_type": "code",
   "execution_count": null,
   "metadata": {},
   "outputs": [],
   "source": [
    "# SELECT \n",
    "#         c.cust_id,lower(cust_name) cust_name\n",
    "# FROM shipping.customer c\n",
    "# JOIN shipping.shipment s ON c.cust_id = s.cust_id\n",
    "# GROUP BY 1,2\n",
    "# HAVING COUNT(distinct s.ship_id)>10\n",
    "# ORDER BY 1"
   ]
  },
  {
   "cell_type": "markdown",
   "metadata": {},
   "source": [
    "### <center> REPLACE()"
   ]
  },
  {
   "cell_type": "markdown",
   "metadata": {},
   "source": [
    "Запись строится следующим образом:\n",
    "\n",
    "replace(string text, from text, to text)"
   ]
  },
  {
   "cell_type": "code",
   "execution_count": null,
   "metadata": {},
   "outputs": [],
   "source": [
    "# select replace('малако','а','о')"
   ]
  },
  {
   "cell_type": "markdown",
   "metadata": {},
   "source": [
    "Задание 6.3\n",
    "\n",
    "Составим справочник utm-меток, для того чтобы передавать город и штат прямо в адресной строке. (Если вы не знаете, что такое utm-метка, почитайте статью на Вики. К программе курса это не относится, но знать полезно.)\n",
    "\n",
    "Напишите SQL-запрос, который выведет список сочетаний из справочника следующего вида: название_штата__название_города, где названия штата и города взяты из справочника городов и переведены в нижний регистр.\n",
    "Столбец к выдаче — utm (форматированный штат-город).\n",
    "Отсортируйте полученный справочник по алфавиту.\n",
    "\n",
    "Обратите внимание! Все пробелы в названиях городов и штатов замените символом '_' (одно нижнее подчёркивание), а для разделения названий города и штата используйте '__' (два последовательных нижних подчёркивания).\n",
    "\n",
    "Пример из таблицы для наглядности: new_jersey__union_city"
   ]
  },
  {
   "cell_type": "code",
   "execution_count": null,
   "metadata": {},
   "outputs": [],
   "source": [
    "# SELECT \n",
    "#         lower(replace(state||'__'||city_name,' ','_')) utm\n",
    "# FROM shipping.city\n",
    "# ORDER BY 1"
   ]
  },
  {
   "cell_type": "markdown",
   "metadata": {},
   "source": [
    "LEFT() И RIGHT()"
   ]
  },
  {
   "cell_type": "markdown",
   "metadata": {},
   "source": [
    "Функции left(string,n) и right(string,n) отрезают(оставляют) n левых или правых символов от строки, поданной на вход. Давайте разобьём строку 'Один два три' на слова, используя эти функции."
   ]
  },
  {
   "cell_type": "markdown",
   "metadata": {},
   "source": [
    "Задание 6.4\n",
    "\n",
    "Представим, что к вам пришёл разработчик, который хочет сократить поле state в таблице city до четырёх символов, и попросил проверить, останутся ли значения в нём уникальными.\n",
    "\n",
    "Чтобы ответить на этот вопрос, напишите SQL-запрос, который выведет первые четыре символа названия штата, и количество уникальных названий штатов, которому они соответствуют. Оставьте только те, которые относятся к двум и более штатам.\n",
    "Добавьте сортировку по первому столбцу.\n",
    "Столбцы в выдаче: code (четыре первых буквы штата), qty (количество уникальных названий штата, начинаюшихся на эти буквы)."
   ]
  },
  {
   "cell_type": "code",
   "execution_count": null,
   "metadata": {},
   "outputs": [],
   "source": [
    "# SELECT\n",
    "#                 LEFT(state,4) code, \n",
    "#                 COUNT(distinct state) qty\n",
    "#         FROM shipping.city\n",
    "#         GROUP BY 1\n",
    "#     HAVING COUNT(distinct state)>1\n",
    "# ORDER BY code"
   ]
  },
  {
   "cell_type": "markdown",
   "metadata": {},
   "source": [
    "### <center> FORMAT()"
   ]
  },
  {
   "cell_type": "markdown",
   "metadata": {},
   "source": [
    "Функция format() используется для составления форматированного текста с подстановками. То же самое можно сделать через конкатенацию строк, но это неудобно и громоздко.\n",
    "\n"
   ]
  },
  {
   "cell_type": "code",
   "execution_count": null,
   "metadata": {},
   "outputs": [],
   "source": [
    "# select format('Hello, %s!', d.first_name) from shipping.driver d"
   ]
  },
  {
   "cell_type": "markdown",
   "metadata": {},
   "source": [
    "Комбинация символов %s обозначает, что вместо них будет подставлен один из аргументов, причём в том же порядке, что и в исходном столбце."
   ]
  },
  {
   "cell_type": "markdown",
   "metadata": {},
   "source": [
    "Задание 6.5\n",
    "\n",
    "Давайте подготовим географическую сводку для каждого города.\n",
    "\n",
    "Напишите SQL-запрос, который выведет описание региона в следующем формате: [city_name] is located in [state]. There's [population] people living there. Its area is [area] (обратите внимание, точку в конце ставить не нужно).\n",
    "Отсортируйте по названию города в алфавитном порядке.\n",
    "Столбец к выдаче — str (сводка).\n",
    "\n",
    "Пример: Abilene is located in Texas. There's 115930 people living there. Its area is 105.10"
   ]
  },
  {
   "cell_type": "code",
   "execution_count": null,
   "metadata": {},
   "outputs": [],
   "source": [
    "# SELECT\n",
    "# format(\n",
    "# $$%s is located in %s. There's %s people living there. Its area is %s$$,c.city_name,c.state,c.population,c.area) str\n",
    "# FROM shipping.city c\n",
    "# ORDER BY city_name"
   ]
  }
 ],
 "metadata": {
  "interpreter": {
   "hash": "aef7f665a0694191b93f381ff9bf3fa49787cf0440ec035fed5813d2b4b57be1"
  },
  "kernelspec": {
   "display_name": "Python 3.9.10 64-bit",
   "language": "python",
   "name": "python3"
  },
  "language_info": {
   "codemirror_mode": {
    "name": "ipython",
    "version": 3
   },
   "file_extension": ".py",
   "mimetype": "text/x-python",
   "name": "python",
   "nbconvert_exporter": "python",
   "pygments_lexer": "ipython3",
   "version": "3.9.10"
  },
  "orig_nbformat": 4
 },
 "nbformat": 4,
 "nbformat_minor": 2
}
