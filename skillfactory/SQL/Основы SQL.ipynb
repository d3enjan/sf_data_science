{
 "cells": [
  {
   "cell_type": "code",
   "execution_count": null,
   "metadata": {},
   "outputs": [],
   "source": [
    "# SELECT DISTINCT(Выводиту уникальные значения, если два столбца то выведет не одинаковое сочетание строк в столбце)\n",
    "# Обратите внимание! DISTINCT пишется только один раз, в начале списка получаемых столбцов.\n",
    "#     столбец1 AS новое_название,\n",
    "#     столбец2,\n",
    "#     столбец3\n",
    "# FROM таблица\n",
    "# WHERE (условие1 OR условие2)\n",
    "#     AND условие3\n",
    "# ORDER BY сортировка1, сортировка2\n",
    "# OFFSET 1 LIMIT 2"
   ]
  },
  {
   "cell_type": "markdown",
   "metadata": {},
   "source": [
    " SELECT \n",
    " \n",
    " DISTINCT(Выводиту никальные значения, если два столбца то выведет не одинаковое сочетание строк в столбце)\n",
    "\n",
    " *Обратите внимание! DISTINCT пишется только один раз, в начале списка получаемых столбцов.*\n",
    "\n",
    " \n",
    "     столбец1 AS новое_название,\n",
    "     столбец2,\n",
    "     столбец3\n",
    " FROM таблица\n",
    "\n",
    " WHERE (условие1 OR условие2)\n",
    "     AND условие3\n",
    "\n",
    " ORDER BY сортировка1, сортировка2\n",
    " \n",
    " OFFSET 1 LIMIT 2(С какой строки выводить, и лимт(сколько строк выводить))"
   ]
  },
  {
   "cell_type": "markdown",
   "metadata": {},
   "source": [
    "# <center>IN"
   ]
  },
  {
   "cell_type": "markdown",
   "metadata": {},
   "source": [
    "Ещё один полезный оператор для фильтрации строк — IN.\n",
    "\n",
    "Конструкции с IN имеют следующий вид:\n",
    "\n",
    "column IN (value1, value2, value3)"
   ]
  },
  {
   "cell_type": "markdown",
   "metadata": {},
   "source": [
    "# <center> LIKE"
   ]
  },
  {
   "cell_type": "markdown",
   "metadata": {},
   "source": [
    "\n",
    "Предположим, мы не знаем точно, какое текстовое значение ищем.\n",
    "\n",
    "В таком случае нам поможет оператор LIKE."
   ]
  },
  {
   "cell_type": "code",
   "execution_count": null,
   "metadata": {},
   "outputs": [],
   "source": [
    "# SELECT *\n",
    "# FROM sql.kinopoisk\n",
    "# WHERE movie_title LIKE 'А%'"
   ]
  },
  {
   "cell_type": "markdown",
   "metadata": {},
   "source": [
    "Знак процента (%) в примере показывает, что после A встречается ноль и более символов. Вы можете использовать % в любом месте внутри строки.\n",
    "\n",
    "Например, movie_title LIKE '%а%б%' выведет все фильмы, в названии которых встречается строчная буква а, а где-то после неё — б.\n",
    "\n",
    "Также в текстовых строках используется знак подчёркивания (_) — он заменяет ровно один любой символ."
   ]
  },
  {
   "cell_type": "markdown",
   "metadata": {},
   "source": [
    "### <center> 3. Агрегатные функции"
   ]
  },
  {
   "cell_type": "markdown",
   "metadata": {},
   "source": [
    "SELECT\n",
    "    COUNT(*)\n",
    "FROM sql.pokemon\n",
    "\n",
    "COUNT считает строки, а звёздочка (*) в аргументе функции означает, что считаются все строки, которые возвращает запрос\n",
    "\n",
    "*Если в аргументе функции указать название столбца, функция обработает только строки с непустым значением.*"
   ]
  },
  {
   "cell_type": "code",
   "execution_count": null,
   "metadata": {},
   "outputs": [],
   "source": [
    "# SELECT\n",
    "#     COUNT(*)\n",
    "# FROM sql.pokemon"
   ]
  },
  {
   "cell_type": "markdown",
   "metadata": {},
   "source": [
    "Внутри функции COUNT мы можем также применять DISTINCT, чтобы вычислить количество уникальных значений."
   ]
  },
  {
   "cell_type": "code",
   "execution_count": null,
   "metadata": {},
   "outputs": [],
   "source": [
    "# SELECT\n",
    "#     COUNT(DISTINCT type1)\n",
    "# FROM sql.pokemon"
   ]
  },
  {
   "cell_type": "markdown",
   "metadata": {},
   "source": [
    "COUNT — вычисляет число непустых строк;\n",
    "\n",
    "SUM — вычисляет сумму;\n",
    "\n",
    "AVG — вычисляет среднее;\n",
    "\n",
    "MAX — вычисляет максимум;\n",
    "\n",
    "MIN — вычисляет минимум."
   ]
  },
  {
   "cell_type": "markdown",
   "metadata": {},
   "source": [
    "Разумеется, вы можете использовать в запросе фильтрацию строк с помощью WHERE, чтобы получить агрегированное значение только для отдельных строк."
   ]
  },
  {
   "cell_type": "code",
   "execution_count": 1,
   "metadata": {},
   "outputs": [],
   "source": [
    "# SELECT\n",
    "#     COUNT(*) AS \"всего травяных покемонов\",\n",
    "#     COUNT(type2) AS \"покемонов с дополнительным типом\",\n",
    "#     AVG(attack) AS \"средняя атака\",\n",
    "#     AVG(defense) AS \"средняя защита\"\n",
    "# FROM sql.pokemon\n",
    "# WHERE type1 = 'Grass'"
   ]
  },
  {
   "cell_type": "markdown",
   "metadata": {},
   "source": [
    "Напишите запрос, который выведет:\n",
    "\n",
    "количество покемонов (столбец pokemon_count);\n",
    "\n",
    "среднюю скорость (столбец avg_speed);\n",
    "\n",
    "максимальное и минимальное число очков здоровья (столбцы max_hp и min_hp)\n",
    "\n",
    "для электрических (Electric) покемонов, имеющих дополнительный тип(type2 не пустой) и \n",
    "показатели атаки или защиты больше 50."
   ]
  },
  {
   "cell_type": "code",
   "execution_count": null,
   "metadata": {},
   "outputs": [],
   "source": [
    "# SELECT \n",
    "#     count(name) \"pokemon_count\",\n",
    "#     avg(speed) \"avg_speed\",\n",
    "#     max(hp) \"max_hp\",\n",
    "#     min(hp) \"min_hp\"\n",
    "# FROM sql.pokemon\n",
    "# WHERE type1 = 'Electric'\n",
    "# and type2 is not null \n",
    "# and (attack > 50 or defense > 50)"
   ]
  },
  {
   "cell_type": "markdown",
   "metadata": {},
   "source": [
    "## <center> Группировка"
   ]
  },
  {
   "cell_type": "markdown",
   "metadata": {},
   "source": [
    "GROUP BY используется для определения групп выходных строк, к которым могут применяться агрегатные функции."
   ]
  },
  {
   "cell_type": "code",
   "execution_count": null,
   "metadata": {},
   "outputs": [],
   "source": [
    "# SELECT\n",
    "#     type1 AS pokemon_type,\n",
    "#     COUNT(*) AS pokemon_count\n",
    "# FROM sql.pokemon\n",
    "# GROUP BY type1\n",
    "# ORDER BY type1"
   ]
  },
  {
   "cell_type": "markdown",
   "metadata": {},
   "source": [
    "Вывод, конечно же, можно сортировать по столбцу с агрегированием."
   ]
  },
  {
   "cell_type": "code",
   "execution_count": null,
   "metadata": {},
   "outputs": [],
   "source": [
    "# SELECT\n",
    "#     type1 AS pokemon_type,\n",
    "#     COUNT(*) AS pokemon_count\n",
    "# FROM sql.pokemon\n",
    "# GROUP BY pokemon_type\n",
    "# ORDER BY COUNT(*) DESC"
   ]
  },
  {
   "cell_type": "markdown",
   "metadata": {},
   "source": [
    "GROUP BY можно использовать и без агрегатных функций. Тогда его действие будет равносильно действию DISTINCT.\n",
    "\n",
    "***Способ вывести уникальные значения. А с помошью count в другом столбце посчитать их.***"
   ]
  },
  {
   "cell_type": "code",
   "execution_count": null,
   "metadata": {},
   "outputs": [],
   "source": [
    "# SELECT\n",
    "#    type1,\n",
    "#    count(*)\n",
    "#  from sql.pokemon\n",
    "#  group by type1\n",
    "#  order by 2 desc(сортируем по второму стобцу(лучьше писать его название а не порядковый номер) и по убыванию(desc))"
   ]
  },
  {
   "cell_type": "markdown",
   "metadata": {},
   "source": [
    "Обратите внимание! Мы использовали в группировке не название столбца, а его алиас."
   ]
  },
  {
   "cell_type": "markdown",
   "metadata": {},
   "source": [
    "*Задание 4.1*\n",
    "Напишите запрос, который выведет:\n",
    "\n",
    "число различных дополнительных типов (столбец additional_types_count);\n",
    "\n",
    "среднее число очков здоровья (столбец avg_hp);\n",
    "\n",
    "сумму показателей атаки (столбец attack_sum) в разбивке по основным типам (столбец primary_type).(В разбивке значит group)\n",
    "Отсортируйте результат по числу дополнительных типов в порядке убывания, при равенстве — по основному типу в алфавитном порядке.\n",
    "\n",
    "Столбцы к выводу (обратите внимание на порядок!): primary_type, additional_types_count, avg_hp, attack_sum."
   ]
  },
  {
   "cell_type": "code",
   "execution_count": 3,
   "metadata": {},
   "outputs": [],
   "source": [
    "# SELECT\n",
    "#    type1 primary_type,\n",
    "#    count(DISTINCT type2) additional_types_count,\n",
    "#    AVG(hp) avg_hp,\n",
    "#    SUM(attack) attack_sum\n",
    "# FROM sql.pokemon\n",
    "# GROUP BY primary_type\n",
    "# ORDER BY 2 DESC, 1"
   ]
  },
  {
   "cell_type": "markdown",
   "metadata": {},
   "source": [
    "Мы можем осуществлять группировку по нескольким столбцам."
   ]
  },
  {
   "cell_type": "code",
   "execution_count": null,
   "metadata": {},
   "outputs": [],
   "source": [
    "# SELECT\n",
    "#     type1 AS primary_type,\n",
    "#     type2 AS additional_type,\n",
    "#     COUNT(*) AS pokemon_count\n",
    "# FROM sql.pokemon\n",
    "# GROUP BY 1, 2\n",
    "# ORDER BY 1, 2 NULLS FIRST"
   ]
  },
  {
   "cell_type": "markdown",
   "metadata": {},
   "source": [
    "## <center> Фильтрация агрегированных строк"
   ]
  },
  {
   "cell_type": "markdown",
   "metadata": {},
   "source": [
    "✍ Если ключевое слово WHERE определяет фильтрацию строк до агрегирования, то для фильтрации уже агрегированных данных применяется ключевое слово HAVING."
   ]
  },
  {
   "cell_type": "markdown",
   "metadata": {},
   "source": [
    "*Важно! HAVING обязательно пишется после GROUP BY.*"
   ]
  },
  {
   "cell_type": "markdown",
   "metadata": {},
   "source": [
    "Выведем типы покемонов и их средний показатель атаки, при этом оставим только тех, у кого средняя атака больше 90."
   ]
  },
  {
   "cell_type": "code",
   "execution_count": null,
   "metadata": {},
   "outputs": [],
   "source": [
    "# SELECT\n",
    "#     type1 AS primary_type,\n",
    "#     AVG(attack) AS avg_attack\n",
    "# FROM sql.pokemon\n",
    "# GROUP BY primary_type \n",
    "# HAVING AVG(attack) > 90"
   ]
  },
  {
   "cell_type": "markdown",
   "metadata": {},
   "source": [
    "В HAVING вы можете использовать все те же условия, что и в WHERE."
   ]
  },
  {
   "cell_type": "markdown",
   "metadata": {},
   "source": [
    "### <center>  ВМЕСТО РЕЗЮМЕ"
   ]
  },
  {
   "cell_type": "code",
   "execution_count": null,
   "metadata": {},
   "outputs": [],
   "source": [
    "# SELECT [ALL | DISTINCT] список_столбцов|*\n",
    "# FROM список_имён_таблиц\n",
    "# [WHERE условие_поиска]\n",
    "# [GROUP BY список_имён_столбцов]\n",
    "# [HAVING условие_поиска]\n",
    "# [ORDER BY имя_столбца [ASC | DESC],…]"
   ]
  },
  {
   "cell_type": "markdown",
   "metadata": {},
   "source": [
    "Обратите внимание! В квадратных скобках указаны необязательные предложения: они могут отсутствовать в операторе SELECT."
   ]
  },
  {
   "cell_type": "markdown",
   "metadata": {},
   "source": [
    "# <center> 6. Итоги"
   ]
  },
  {
   "cell_type": "code",
   "execution_count": 5,
   "metadata": {},
   "outputs": [],
   "source": [
    "# SELECT\n",
    "#     столбец1 AS новое_название,\n",
    "#     столбец2,\n",
    "#     АГРЕГАТ(столбец3)\n",
    "# FROM таблица\n",
    "# WHERE (условие1 OR условие2)\n",
    "#     AND условие3\n",
    "# GROUP BY столбец1, столбец2\n",
    "# HAVING АГРЕГАТ(столбец3) > 5\n",
    "# ORDER BY сортировка1, сортировка2\n",
    "# OFFSET 1 LIMIT 2"
   ]
  },
  {
   "cell_type": "markdown",
   "metadata": {},
   "source": [
    "Сколько различных значений показателей атаки есть у покемонов с типом Water (основным или дополнительным)?"
   ]
  },
  {
   "cell_type": "code",
   "execution_count": null,
   "metadata": {},
   "outputs": [],
   "source": [
    "# SELECT\n",
    "#     count(distinct attack)\n",
    "# FROM sql.pokemon\n",
    "# WHERE type1 ='Water' \n",
    "# or type2 = 'Water'"
   ]
  },
  {
   "cell_type": "markdown",
   "metadata": {},
   "source": [
    "Задание 6.2\n",
    "Напишите запрос, который выведет основной и дополнительный типы покемонов и средние значения по каждому показателю (столбцы avg_hp, avg_attack, avg_defense, avg_speed).\n",
    "Оставьте только те пары типов, у которых сумма этих четырёх показателей более 400."
   ]
  },
  {
   "cell_type": "code",
   "execution_count": null,
   "metadata": {},
   "outputs": [],
   "source": [
    "# SELECT\n",
    "#     type1,\n",
    "#     type2,\n",
    "#     avg(hp) avg_hp,\n",
    "#     avg(attack) avg_attack,\n",
    "#     avg(defense) avg_defense,\n",
    "#     avg(speed) avg_speed\n",
    "# FROM sql.pokemon\n",
    "\n",
    "# group by type1, type2\n",
    "# having (avg(hp) + avg(attack) + avg(defense) + avg(speed)) > 400\n",
    "\n",
    "\n"
   ]
  }
 ],
 "metadata": {
  "interpreter": {
   "hash": "aef7f665a0694191b93f381ff9bf3fa49787cf0440ec035fed5813d2b4b57be1"
  },
  "kernelspec": {
   "display_name": "Python 3.9.10 64-bit",
   "language": "python",
   "name": "python3"
  },
  "language_info": {
   "codemirror_mode": {
    "name": "ipython",
    "version": 3
   },
   "file_extension": ".py",
   "mimetype": "text/x-python",
   "name": "python",
   "nbconvert_exporter": "python",
   "pygments_lexer": "ipython3",
   "version": "3.9.10"
  },
  "orig_nbformat": 4
 },
 "nbformat": 4,
 "nbformat_minor": 2
}
