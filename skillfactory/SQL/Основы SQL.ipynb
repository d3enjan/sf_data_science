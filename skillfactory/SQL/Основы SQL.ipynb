{
 "cells": [
  {
   "cell_type": "code",
   "execution_count": null,
   "metadata": {},
   "outputs": [],
   "source": [
    "# SELECT\n",
    "#     столбец1 AS новое_название,\n",
    "#     столбец2,\n",
    "#     столбец3\n",
    "# FROM таблица\n",
    "# WHERE (условие1 OR условие2)\n",
    "#     AND условие3\n",
    "# ORDER BY сортировка1, сортировка2\n",
    "# OFFSET 1 LIMIT 2"
   ]
  }
 ],
 "metadata": {
  "language_info": {
   "name": "python"
  },
  "orig_nbformat": 4
 },
 "nbformat": 4,
 "nbformat_minor": 2
}
