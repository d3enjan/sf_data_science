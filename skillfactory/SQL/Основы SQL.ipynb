{
 "cells": [
  {
   "cell_type": "code",
   "execution_count": null,
   "metadata": {},
   "outputs": [],
   "source": [
    "# SELECT DISTINCT(Выводиту никальные значения, если два столбца то выведет не одинаковое сочетание строк в столбце)\n",
    "# Обратите внимание! DISTINCT пишется только один раз, в начале списка получаемых столбцов.\n",
    "#     столбец1 AS новое_название,\n",
    "#     столбец2,\n",
    "#     столбец3\n",
    "# FROM таблица\n",
    "# WHERE (условие1 OR условие2)\n",
    "#     AND условие3\n",
    "# ORDER BY сортировка1, сортировка2\n",
    "# OFFSET 1 LIMIT 2"
   ]
  },
  {
   "cell_type": "markdown",
   "metadata": {},
   "source": [
    " SELECT \n",
    " \n",
    " DISTINCT(Выводиту никальные значения, если два столбца то выведет не одинаковое сочетание строк в столбце)\n",
    "\n",
    " *Обратите внимание! DISTINCT пишется только один раз, в начале списка получаемых столбцов.*\n",
    "\n",
    " \n",
    "     столбец1 AS новое_название,\n",
    "     столбец2,\n",
    "     столбец3\n",
    " FROM таблица\n",
    "\n",
    " WHERE (условие1 OR условие2)\n",
    "     AND условие3\n",
    "\n",
    " ORDER BY сортировка1, сортировка2\n",
    " \n",
    " OFFSET 1 LIMIT 2(С какой строки выводить, и лимт(сколько строк выводить))"
   ]
  },
  {
   "cell_type": "markdown",
   "metadata": {},
   "source": [
    "### <center> 3. Агрегатные функции"
   ]
  },
  {
   "cell_type": "markdown",
   "metadata": {},
   "source": [
    "SELECT\n",
    "    COUNT(*)\n",
    "FROM sql.pokemon\n",
    "\n",
    "COUNT считает строки, а звёздочка (*) в аргументе функции означает, что считаются все строки, которые возвращает запрос\n",
    "\n",
    "*Если в аргументе функции указать название столбца, функция обработает только строки с непустым значением.*"
   ]
  },
  {
   "cell_type": "code",
   "execution_count": null,
   "metadata": {},
   "outputs": [],
   "source": [
    "# SELECT\n",
    "#     COUNT(*)\n",
    "# FROM sql.pokemon"
   ]
  },
  {
   "cell_type": "markdown",
   "metadata": {},
   "source": [
    "Внутри функции COUNT мы можем также применять DISTINCT, чтобы вычислить количество уникальных значений."
   ]
  },
  {
   "cell_type": "code",
   "execution_count": null,
   "metadata": {},
   "outputs": [],
   "source": [
    "# SELECT\n",
    "#     COUNT(DISTINCT type1)\n",
    "# FROM sql.pokemon"
   ]
  },
  {
   "cell_type": "markdown",
   "metadata": {},
   "source": [
    "COUNT — вычисляет число непустых строк;\n",
    "\n",
    "SUM — вычисляет сумму;\n",
    "\n",
    "AVG — вычисляет среднее;\n",
    "\n",
    "MAX — вычисляет максимум;\n",
    "\n",
    "MIN — вычисляет минимум."
   ]
  },
  {
   "cell_type": "markdown",
   "metadata": {},
   "source": [
    "Разумеется, вы можете использовать в запросе фильтрацию строк с помощью WHERE, чтобы получить агрегированное значение только для отдельных строк."
   ]
  },
  {
   "cell_type": "markdown",
   "metadata": {},
   "source": []
  },
  {
   "cell_type": "code",
   "execution_count": 1,
   "metadata": {},
   "outputs": [],
   "source": [
    "# SELECT\n",
    "#     COUNT(*) AS \"всего травяных покемонов\",\n",
    "#     COUNT(type2) AS \"покемонов с дополнительным типом\",\n",
    "#     AVG(attack) AS \"средняя атака\",\n",
    "#     AVG(defense) AS \"средняя защита\"\n",
    "# FROM sql.pokemon\n",
    "# WHERE type1 = 'Grass'"
   ]
  },
  {
   "cell_type": "markdown",
   "metadata": {},
   "source": [
    "Напишите запрос, который выведет:\n",
    "\n",
    "количество покемонов (столбец pokemon_count);\n",
    "\n",
    "среднюю скорость (столбец avg_speed);\n",
    "\n",
    "максимальное и минимальное число очков здоровья (столбцы max_hp и min_hp)\n",
    "\n",
    "для электрических (Electric) покемонов, имеющих дополнительный тип(type2 не пустой) и \n",
    "показатели атаки или защиты больше 50."
   ]
  },
  {
   "cell_type": "code",
   "execution_count": null,
   "metadata": {},
   "outputs": [],
   "source": [
    "# SELECT \n",
    "#     count(name) \"pokemon_count\",\n",
    "#     avg(speed) \"avg_speed\",\n",
    "#     max(hp) \"max_hp\",\n",
    "#     min(hp) \"min_hp\"\n",
    "# FROM sql.pokemon\n",
    "# WHERE type1 = 'Electric'\n",
    "# and type2 is not null \n",
    "# and (attack > 50 or defense > 50)"
   ]
  }
 ],
 "metadata": {
  "interpreter": {
   "hash": "71eded3e21535385c70289f2bd5a8f1b7d1988946ade5d80a0803a092df95cf4"
  },
  "kernelspec": {
   "display_name": "Python 3.9.10 64-bit",
   "language": "python",
   "name": "python3"
  },
  "language_info": {
   "codemirror_mode": {
    "name": "ipython",
    "version": 3
   },
   "file_extension": ".py",
   "mimetype": "text/x-python",
   "name": "python",
   "nbconvert_exporter": "python",
   "pygments_lexer": "ipython3",
   "version": "3.9.10"
  },
  "orig_nbformat": 4
 },
 "nbformat": 4,
 "nbformat_minor": 2
}
