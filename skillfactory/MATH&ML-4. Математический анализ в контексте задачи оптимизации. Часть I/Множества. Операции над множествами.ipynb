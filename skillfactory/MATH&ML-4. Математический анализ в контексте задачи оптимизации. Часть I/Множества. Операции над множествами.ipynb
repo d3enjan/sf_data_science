{
 "cells": [
  {
   "cell_type": "code",
   "execution_count": 1,
   "metadata": {},
   "outputs": [],
   "source": [
    "A = {'ID453', 'ID312', 'ID41', 'ID3', 'ID500', 'ID920', 'ID36', 'ID27'}\n",
    "B = {'ID41', 'ID36', 'ID27', 'ID124', 'ID7', 'ID501', 'ID91' }"
   ]
  },
  {
   "cell_type": "code",
   "execution_count": 17,
   "metadata": {},
   "outputs": [
    {
     "name": "stdout",
     "output_type": "stream",
     "text": [
      "{'ID3', 'ID312', 'ID920', 'ID27', 'ID41', 'ID501', 'ID7', 'ID500', 'ID453', 'ID91', 'ID36', 'ID124'}\n",
      "{'ID3', 'ID312', 'ID920', 'ID27', 'ID41', 'ID501', 'ID7', 'ID500', 'ID453', 'ID91', 'ID36', 'ID124'}\n"
     ]
    }
   ],
   "source": [
    "# ОБЪЕДИНЕНИЕ МНОЖЕСТВ \n",
    "# Метод union() можно заменить простой вертикальной чертой:\n",
    "\n",
    "union_AB = A.union(B)\n",
    "union_AB = A | B\n",
    "print(union_AB)\n",
    "print(union_AB)"
   ]
  },
  {
   "cell_type": "code",
   "execution_count": 18,
   "metadata": {},
   "outputs": [
    {
     "name": "stdout",
     "output_type": "stream",
     "text": [
      "{'ID36', 'ID27', 'ID41'}\n",
      "{'ID36', 'ID27', 'ID41'}\n"
     ]
    }
   ],
   "source": [
    "# ПЕРЕСЕЧЕНИЕ МНОЖЕСТВ\n",
    "\n",
    "inter_AB = A.intersection(B)\n",
    "inter_AB = A & B\n",
    "print(inter_AB)\n",
    "print(inter_AB)"
   ]
  },
  {
   "cell_type": "code",
   "execution_count": 24,
   "metadata": {},
   "outputs": [
    {
     "name": "stdout",
     "output_type": "stream",
     "text": [
      "{'ID3', 'ID312', 'ID920', 'ID453', 'ID500'}\n",
      "{'ID3', 'ID312', 'ID920', 'ID453', 'ID500'}\n"
     ]
    }
   ],
   "source": [
    "# РАЗНОСТЬ МНОЖЕСТВ\n",
    "\n",
    "diff_AB = A.difference(B)\n",
    "diff_AB = A - B\n",
    "print(diff_AB)\n",
    "print(diff_AB)"
   ]
  },
  {
   "cell_type": "code",
   "execution_count": 25,
   "metadata": {},
   "outputs": [
    {
     "name": "stdout",
     "output_type": "stream",
     "text": [
      "{'ID7', 'ID501', 'ID124', 'ID91'}\n"
     ]
    }
   ],
   "source": [
    "# Важно отметить, что если поменять два множества местами при выполнении операции разности, \n",
    "# результат изменится. В нашем примере результатом будут клиенты, которые пользуются только домашним интернетом:\n",
    "\n",
    "diff_BA = B - A\n",
    "print(diff_BA)"
   ]
  },
  {
   "cell_type": "code",
   "execution_count": 26,
   "metadata": {},
   "outputs": [
    {
     "name": "stdout",
     "output_type": "stream",
     "text": [
      "{'ID501', 'ID500', 'ID453', 'ID124', 'ID3', 'ID312', 'ID920', 'ID7', 'ID91'}\n",
      "{'ID501', 'ID500', 'ID453', 'ID124', 'ID3', 'ID312', 'ID920', 'ID7', 'ID91'}\n"
     ]
    }
   ],
   "source": [
    "# СИММЕТРИЧЕСКАЯ РАЗНОСТЬ\n",
    "\n",
    "symmAB = A.symmetric_difference(B)\n",
    "symmAB = A ^ B\n",
    "print(symmAB)\n",
    "print(symmAB)\n"
   ]
  },
  {
   "cell_type": "code",
   "execution_count": 50,
   "metadata": {},
   "outputs": [
    {
     "data": {
      "text/plain": [
       "{22, 23, 24, 25, 26}"
      ]
     },
     "execution_count": 50,
     "metadata": {},
     "output_type": "execute_result"
    },
    {
     "data": {
      "text/plain": [
       "5"
      ]
     },
     "execution_count": 50,
     "metadata": {},
     "output_type": "execute_result"
    }
   ],
   "source": [
    "n = {22,23,24,25}\n",
    "k = {24,25,26}\n",
    "s = n | k\n",
    "s\n",
    "len(s)"
   ]
  },
  {
   "cell_type": "code",
   "execution_count": 41,
   "metadata": {},
   "outputs": [
    {
     "data": {
      "text/latex": [
       "$\\displaystyle \\left\\{1, 3, 7, 9, 10\\right\\}$"
      ],
      "text/plain": [
       "{1, 3, 7, 9, 10}"
      ]
     },
     "execution_count": 41,
     "metadata": {},
     "output_type": "execute_result"
    }
   ],
   "source": [
    "import sympy\n",
    "from sympy import FiniteSet, Union\n",
    "l1 = [1, 3, 7, 10] \n",
    "l2 = [9, 7, 1] \n"
   ]
  },
  {
   "cell_type": "code",
   "execution_count": 45,
   "metadata": {},
   "outputs": [
    {
     "data": {
      "text/latex": [
       "$\\displaystyle \\left\\{3, 9, 10\\right\\}$"
      ],
      "text/plain": [
       "{3, 9, 10}"
      ]
     },
     "execution_count": 45,
     "metadata": {},
     "output_type": "execute_result"
    }
   ],
   "source": [
    "a = FiniteSet(*l1) \n",
    "b = FiniteSet(*l2) \n",
    "a ^ b"
   ]
  },
  {
   "cell_type": "code",
   "execution_count": 3,
   "metadata": {},
   "outputs": [],
   "source": [
    "groupA = {'bennet@xyz.com',\n",
    "'darcy@abc.com',\n",
    "'margaret@xyz.com',\n",
    "'pa@hhh.com',\n",
    "'marimari@xyz.com',\n",
    "'mallika@yahoo.com',\n",
    "'abc@xyz.com',\n",
    "'0071235@gmail.ru'}\n",
    "\n",
    "groupB = {'marimari@xyz.com',\n",
    "'darcy@abc.com',\n",
    "'0071235@gmail.ru',\n",
    "'darcy@abc.com',\n",
    "'petr44@xyz.com',\n",
    "'katrin@ya.com'}"
   ]
  },
  {
   "cell_type": "code",
   "execution_count": 10,
   "metadata": {},
   "outputs": [
    {
     "data": {
      "text/plain": [
       "7"
      ]
     },
     "execution_count": 10,
     "metadata": {},
     "output_type": "execute_result"
    }
   ],
   "source": [
    "len(groupA ^ groupB)"
   ]
  },
  {
   "cell_type": "code",
   "execution_count": 18,
   "metadata": {},
   "outputs": [
    {
     "data": {
      "text/plain": [
       "9.820569140064718"
      ]
     },
     "execution_count": 18,
     "metadata": {},
     "output_type": "execute_result"
    }
   ],
   "source": [
    "2.7**2.3"
   ]
  },
  {
   "cell_type": "code",
   "execution_count": 23,
   "metadata": {},
   "outputs": [
    {
     "data": {
      "text/plain": [
       "2.302585092994046"
      ]
     },
     "execution_count": 23,
     "metadata": {},
     "output_type": "execute_result"
    }
   ],
   "source": [
    "import math\n",
    "math.log(10)"
   ]
  },
  {
   "cell_type": "code",
   "execution_count": 31,
   "metadata": {},
   "outputs": [
    {
     "data": {
      "text/plain": [
       "0.6931471805599453"
      ]
     },
     "execution_count": 31,
     "metadata": {},
     "output_type": "execute_result"
    }
   ],
   "source": [
    "math.log(2)"
   ]
  },
  {
   "cell_type": "code",
   "execution_count": 43,
   "metadata": {},
   "outputs": [
    {
     "data": {
      "text/plain": [
       "6220932.405998316"
      ]
     },
     "execution_count": 43,
     "metadata": {},
     "output_type": "execute_result"
    }
   ],
   "source": [
    "((1+0.075)**0.5)*6000000"
   ]
  },
  {
   "cell_type": "code",
   "execution_count": 44,
   "metadata": {},
   "outputs": [
    {
     "data": {
      "text/plain": [
       "187500.0"
      ]
     },
     "execution_count": 44,
     "metadata": {},
     "output_type": "execute_result"
    }
   ],
   "source": [
    "(6000000*(0.075/12))+(6000000*(0.075/12))+(6000000*(0.075/12))+(6000000*(0.075/12))+(6000000*(0.075/12))"
   ]
  },
  {
   "cell_type": "code",
   "execution_count": 60,
   "metadata": {},
   "outputs": [
    {
     "name": "stdout",
     "output_type": "stream",
     "text": [
      "400000\n",
      "400000\n"
     ]
    }
   ],
   "source": [
    "x = float(input()) #вкладываемые деньги\n",
    "x1 = x\n",
    "y = float(input()) #проценты\n",
    "z = int(input()) #лет вклада\n",
    " \n",
    "for i in range (z):\n",
    "    s = x / 100 * y #проценты на вложенную сумму\n",
    "    x += s #общая сумма\n",
    "    \n",
    "print(int(x*1000))\n",
    "print(int(x1*pow((1+y/100), z)*1000))\n",
    "      \n",
    "      "
   ]
  },
  {
   "cell_type": "code",
   "execution_count": 149,
   "metadata": {},
   "outputs": [
    {
     "data": {
      "text/plain": [
       "2000"
      ]
     },
     "execution_count": 149,
     "metadata": {},
     "output_type": "execute_result"
    },
    {
     "data": {
      "text/plain": [
       "4000"
      ]
     },
     "execution_count": 149,
     "metadata": {},
     "output_type": "execute_result"
    }
   ],
   "source": [
    "start = 1000\n",
    "end = start*10\n",
    "coeff = (1)\n",
    "\n",
    "zero = start*coeff+start\n",
    "one = zero*coeff+zero\n",
    "zero\n",
    "one"
   ]
  },
  {
   "cell_type": "code",
   "execution_count": 158,
   "metadata": {},
   "outputs": [
    {
     "data": {
      "text/plain": [
       "1600"
      ]
     },
     "execution_count": 158,
     "metadata": {},
     "output_type": "execute_result"
    }
   ],
   "source": [
    "def bank(a,years):\n",
    "     for _ in range(years):\n",
    "        a=a*2\n",
    "     return a\n",
    "bank(100,4)"
   ]
  },
  {
   "cell_type": "code",
   "execution_count": 153,
   "metadata": {},
   "outputs": [
    {
     "name": "stdout",
     "output_type": "stream",
     "text": [
      "Total return value after completion of given time period:  6498.019170849885\n",
      "Compound interest gained on given amount is 5498.019170849885\n"
     ]
    }
   ],
   "source": [
    "def compound_rate(PV, CRate, tp): \n",
    "    # Using CI formula \n",
    "    TotalAmount = PV *(pow((1 + CRate / 100), tp)) \n",
    "    # Calculating CI \n",
    "    CInterest = TotalAmount - PV \n",
    "    # Printing CI as result in output \n",
    "    print(\"Total return value after completion of given time period: \", TotalAmount) \n",
    "    print(\"Compound interest gained on given amount is\", CInterest) \n",
    " \n",
    "# Taking principal amount value from the user \n",
    "PV = float(input(\"Enter the principal amount: \")) \n",
    "CRate = float(input(\"Enter the rate for compound interest: \")) # taking interest rate value \n",
    "tp = float(input(\"Enter the time period for which principal is invested: \")) # taking time period value \n",
    " \n",
    "# Calling out CI function \n",
    "compound_rate(PV, CRate, tp) \n",
    "# Источник: https://pythonpip.ru/examples/programma-na-python-dlya-poiska-slozhnyh-protsentov"
   ]
  },
  {
   "cell_type": "code",
   "execution_count": 129,
   "metadata": {},
   "outputs": [
    {
     "data": {
      "text/plain": [
       "8.370767908983336"
      ]
     },
     "execution_count": 129,
     "metadata": {},
     "output_type": "execute_result"
    }
   ],
   "source": [
    "start*coeff"
   ]
  },
  {
   "cell_type": "code",
   "execution_count": 150,
   "metadata": {},
   "outputs": [
    {
     "name": "stdout",
     "output_type": "stream",
     "text": [
      "2000\n",
      "4000\n",
      "8000\n",
      "16000\n",
      "4\n"
     ]
    }
   ],
   "source": [
    "i =0\n",
    "while start < end:\n",
    "     \n",
    "      start = start*coeff+start\n",
    "      print(start)\n",
    "      i+=1\n",
    "print(i)"
   ]
  },
  {
   "cell_type": "code",
   "execution_count": 132,
   "metadata": {},
   "outputs": [
    {
     "name": "stdout",
     "output_type": "stream",
     "text": [
      "Compound Amount:  6450000.0\n",
      "Compound interest is 450000.0\n"
     ]
    }
   ],
   "source": [
    "def compound_interest(p,r,t):   \n",
    "    amt = p * (math.pow((1 + (r/100)),t))\n",
    "    print(\"Compound Amount: \",amt)\n",
    "    CI = amt - p\n",
    "    return CI\n",
    "\n",
    "p=float(input(\"Enter Principal Amount: \"))\n",
    "r=float(input(\"Enter Rate of Interest: \"))\n",
    "t=float(input(\"Enter Time Period in years: \"))\n",
    "\n",
    "print(\"Compound interest is\",compound_interest(p,r,t))"
   ]
  },
  {
   "cell_type": "code",
   "execution_count": 166,
   "metadata": {},
   "outputs": [
    {
     "data": {
      "text/latex": [
       "$\\displaystyle \\mathbb{R}$"
      ],
      "text/plain": [
       "Reals"
      ]
     },
     "execution_count": 166,
     "metadata": {},
     "output_type": "execute_result"
    }
   ],
   "source": [
    "from sympy import Symbol, S #импортируем нужные функции для обозначения переменных\n",
    "from sympy.calculus.util import function_range #импортируем функцию для поиска области значения\n",
    "from sympy.calculus.util import continuous_domain #импортируем функцию для поиска области определения\n",
    "x = Symbol(\"x\") #определяем нашу переменную\n",
    "f = x**2+1 #определяем нашу функцию\n",
    "continuous_domain(f, x, S.Reals) #вычисляем область определения"
   ]
  },
  {
   "cell_type": "code",
   "execution_count": 165,
   "metadata": {},
   "outputs": [
    {
     "data": {
      "text/latex": [
       "$\\displaystyle 1$"
      ],
      "text/plain": [
       "1"
      ]
     },
     "execution_count": 165,
     "metadata": {},
     "output_type": "execute_result"
    }
   ],
   "source": [
    "x = Symbol(\"x\")\n",
    "f = (x**2+1)\n",
    "f.subs(x, 0)"
   ]
  },
  {
   "cell_type": "code",
   "execution_count": 167,
   "metadata": {},
   "outputs": [
    {
     "data": {
      "text/latex": [
       "$\\displaystyle \\left\\{-4, 2\\right\\}$"
      ],
      "text/plain": [
       "{-4, 2}"
      ]
     },
     "execution_count": 167,
     "metadata": {},
     "output_type": "execute_result"
    }
   ],
   "source": [
    "from sympy import solveset, Eq\n",
    "solveset(Eq(x*x+2*x-8, 0), x)\n"
   ]
  },
  {
   "cell_type": "code",
   "execution_count": 1,
   "metadata": {},
   "outputs": [
    {
     "data": {
      "text/latex": [
       "$\\displaystyle \\left(-\\infty, - \\frac{3}{10}\\right] \\cup \\left(0, \\infty\\right)$"
      ],
      "text/plain": [
       "Union(Interval(-oo, -3/10), Interval.open(0, oo))"
      ]
     },
     "execution_count": 1,
     "metadata": {},
     "output_type": "execute_result"
    }
   ],
   "source": [
    "from sympy import Symbol, S #импортируем нужные функции для обозначения переменных\n",
    "from sympy.calculus.util import function_range #импортируем функцию для поиска области значений\n",
    "from sympy import exp #добавляем функцию для вычисления экспоненциальной функции\n",
    "x = Symbol(\"x\")\n",
    "f = (3)/(x**2-10)\n",
    "function_range(f, x, S.Reals)"
   ]
  },
  {
   "cell_type": "code",
   "execution_count": 16,
   "metadata": {},
   "outputs": [
    {
     "data": {
      "text/plain": [
       "1.0"
      ]
     },
     "execution_count": 16,
     "metadata": {},
     "output_type": "execute_result"
    },
    {
     "data": {
      "text/plain": [
       "1.0"
      ]
     },
     "execution_count": 16,
     "metadata": {},
     "output_type": "execute_result"
    }
   ],
   "source": [
    "#расстояние\n",
    "x=15\n",
    "#время\n",
    "h=24\n",
    "\n",
    "(15+24-15)/24"
   ]
  },
  {
   "cell_type": "code",
   "execution_count": 53,
   "metadata": {},
   "outputs": [],
   "source": [
    "def calculate_time(principal, interest, rate):\n",
    "      final_amount = principal * (1 + interest/100) ** rate\n",
    "      time = 0\n",
    "      while principal < final_amount:\n",
    "            principal *= (1 + interest/100)\n",
    "            time += 1\n",
    "      return float(time)"
   ]
  },
  {
   "cell_type": "code",
   "execution_count": 57,
   "metadata": {},
   "outputs": [
    {
     "name": "stdout",
     "output_type": "stream",
     "text": [
      "6.0\n"
     ]
    }
   ],
   "source": [
    "print(calculate_time(6000000, 7.5, 10))"
   ]
  },
  {
   "cell_type": "code",
   "execution_count": 61,
   "metadata": {},
   "outputs": [
    {
     "data": {
      "text/latex": [
       "$\\displaystyle 4 x^{3} + 9 x^{2} + 8 x$"
      ],
      "text/plain": [
       "4*x**3 + 9*x**2 + 8*x"
      ]
     },
     "execution_count": 61,
     "metadata": {},
     "output_type": "execute_result"
    }
   ],
   "source": [
    "import sympy\n",
    "x = sympy.Symbol(\"x\")\n",
    "expr = x**4 + 3*x**3 + 4*x**2 + 8\n",
    "expr.diff(x)"
   ]
  },
  {
   "cell_type": "code",
   "execution_count": 17,
   "metadata": {},
   "outputs": [
    {
     "data": {
      "text/latex": [
       "$\\displaystyle \\frac{3 x^{2}}{4} - 3$"
      ],
      "text/plain": [
       "3*x**2/4 - 3"
      ]
     },
     "execution_count": 17,
     "metadata": {},
     "output_type": "execute_result"
    },
    {
     "data": {
      "text/latex": [
       "$\\displaystyle 4$"
      ],
      "text/plain": [
       "4"
      ]
     },
     "execution_count": 17,
     "metadata": {},
     "output_type": "execute_result"
    }
   ],
   "source": [
    "import sympy\n",
    "from sympy import diff, sin, exp, log, Symbol, solve\n",
    "x = sympy.Symbol('x')\n",
    "expr =x**3/4-3*x\n",
    "expr.diff(x)\n",
    "expr.subs(x,4)\n"
   ]
  },
  {
   "cell_type": "code",
   "execution_count": 37,
   "metadata": {},
   "outputs": [
    {
     "data": {
      "text/latex": [
       "$\\displaystyle 4$"
      ],
      "text/plain": [
       "4"
      ]
     },
     "execution_count": 37,
     "metadata": {},
     "output_type": "execute_result"
    },
    {
     "data": {
      "text/latex": [
       "$\\displaystyle \\frac{3 x^{2}}{4} - 3$"
      ],
      "text/plain": [
       "3*x**2/4 - 3"
      ]
     },
     "execution_count": 37,
     "metadata": {},
     "output_type": "execute_result"
    }
   ],
   "source": [
    "from sympy.abc import x, a \n",
    "\n",
    "x = sympy.Symbol('x')\n",
    "expr =(x**3/4)-3*x\n",
    "\n",
    "expr.subs(x, 4)\n",
    "apr = expr.diff(x)\n"
   ]
  },
  {
   "cell_type": "code",
   "execution_count": 2,
   "metadata": {},
   "outputs": [
    {
     "name": "stdout",
     "output_type": "stream",
     "text": [
      "Вторая производная ровна :\n"
     ]
    },
    {
     "data": {
      "text/latex": [
       "$\\displaystyle \\frac{3 x}{2}$"
      ],
      "text/plain": [
       "3*x/2"
      ]
     },
     "execution_count": 2,
     "metadata": {},
     "output_type": "execute_result"
    },
    {
     "name": "stdout",
     "output_type": "stream",
     "text": [
      "В точке 4 :\n"
     ]
    },
    {
     "data": {
      "text/latex": [
       "$\\displaystyle 6$"
      ],
      "text/plain": [
       "6"
      ]
     },
     "execution_count": 2,
     "metadata": {},
     "output_type": "execute_result"
    }
   ],
   "source": [
    "# from sympy.abc import x, a \n",
    "import sympy\n",
    "from sympy import diff, sin, exp, log, Symbol, solve\n",
    "\n",
    "x = sympy.Symbol('x')\n",
    "asd = (x**3/4)-3*x\n",
    "apr = asd.diff(x, 2)\n",
    "print('Вторая производная ровна :')\n",
    "apr\n",
    "print('В точке 4 :')\n",
    "apr.subs(x, 4)"
   ]
  },
  {
   "cell_type": "code",
   "execution_count": 5,
   "metadata": {},
   "outputs": [
    {
     "data": {
      "text/plain": [
       "2.302585092994046"
      ]
     },
     "execution_count": 5,
     "metadata": {},
     "output_type": "execute_result"
    }
   ],
   "source": [
    "import math\n"
   ]
  },
  {
   "cell_type": "code",
   "execution_count": 13,
   "metadata": {},
   "outputs": [
    {
     "ename": "ValueError",
     "evalue": "math domain error",
     "output_type": "error",
     "traceback": [
      "\u001b[1;31m---------------------------------------------------------------------------\u001b[0m",
      "\u001b[1;31mValueError\u001b[0m                                Traceback (most recent call last)",
      "\u001b[1;32mc:\\Users\\d3en\\OneDrive\\Рабочий стол\\dataScience\\IDE\\skillfactory\\MATH&ML-4. Математический анализ в контексте задачи оптимизации. Часть I\\Множества. Операции над множествами.ipynb Cell 36\u001b[0m in \u001b[0;36m<module>\u001b[1;34m\u001b[0m\n\u001b[1;32m----> <a href='vscode-notebook-cell:/c%3A/Users/d3en/OneDrive/%D0%A0%D0%B0%D0%B1%D0%BE%D1%87%D0%B8%D0%B9%20%D1%81%D1%82%D0%BE%D0%BB/dataScience/IDE/skillfactory/MATH%26ML-4.%20%D0%9C%D0%B0%D1%82%D0%B5%D0%BC%D0%B0%D1%82%D0%B8%D1%87%D0%B5%D1%81%D0%BA%D0%B8%D0%B9%20%D0%B0%D0%BD%D0%B0%D0%BB%D0%B8%D0%B7%20%D0%B2%20%D0%BA%D0%BE%D0%BD%D1%82%D0%B5%D0%BA%D1%81%D1%82%D0%B5%20%D0%B7%D0%B0%D0%B4%D0%B0%D1%87%D0%B8%20%D0%BE%D0%BF%D1%82%D0%B8%D0%BC%D0%B8%D0%B7%D0%B0%D1%86%D0%B8%D0%B8.%20%D0%A7%D0%B0%D1%81%D1%82%D1%8C%20I/%D0%9C%D0%BD%D0%BE%D0%B6%D0%B5%D1%81%D1%82%D0%B2%D0%B0.%20%D0%9E%D0%BF%D0%B5%D1%80%D0%B0%D1%86%D0%B8%D0%B8%20%D0%BD%D0%B0%D0%B4%20%D0%BC%D0%BD%D0%BE%D0%B6%D0%B5%D1%81%D1%82%D0%B2%D0%B0%D0%BC%D0%B8.ipynb#X52sZmlsZQ%3D%3D?line=0'>1</a>\u001b[0m math\u001b[39m.\u001b[39;49msqrt(\u001b[39m-\u001b[39;49m\u001b[39m3\u001b[39;49m)\n",
      "\u001b[1;31mValueError\u001b[0m: math domain error"
     ]
    }
   ],
   "source": [
    "math.sqrt(-3)"
   ]
  },
  {
   "cell_type": "code",
   "execution_count": 11,
   "metadata": {},
   "outputs": [
    {
     "ename": "TypeError",
     "evalue": "Cannot convert expression to float",
     "output_type": "error",
     "traceback": [
      "\u001b[1;31m---------------------------------------------------------------------------\u001b[0m",
      "\u001b[1;31mTypeError\u001b[0m                                 Traceback (most recent call last)",
      "\u001b[1;32mc:\\Users\\d3en\\OneDrive\\Рабочий стол\\dataScience\\IDE\\skillfactory\\MATH&ML-4. Математический анализ в контексте задачи оптимизации. Часть I\\Множества. Операции над множествами.ipynb Cell 34\u001b[0m in \u001b[0;36m<module>\u001b[1;34m\u001b[0m\n\u001b[0;32m      <a href='vscode-notebook-cell:/c%3A/Users/d3en/OneDrive/%D0%A0%D0%B0%D0%B1%D0%BE%D1%87%D0%B8%D0%B9%20%D1%81%D1%82%D0%BE%D0%BB/dataScience/IDE/skillfactory/MATH%26ML-4.%20%D0%9C%D0%B0%D1%82%D0%B5%D0%BC%D0%B0%D1%82%D0%B8%D1%87%D0%B5%D1%81%D0%BA%D0%B8%D0%B9%20%D0%B0%D0%BD%D0%B0%D0%BB%D0%B8%D0%B7%20%D0%B2%20%D0%BA%D0%BE%D0%BD%D1%82%D0%B5%D0%BA%D1%81%D1%82%D0%B5%20%D0%B7%D0%B0%D0%B4%D0%B0%D1%87%D0%B8%20%D0%BE%D0%BF%D1%82%D0%B8%D0%BC%D0%B8%D0%B7%D0%B0%D1%86%D0%B8%D0%B8.%20%D0%A7%D0%B0%D1%81%D1%82%D1%8C%20I/%D0%9C%D0%BD%D0%BE%D0%B6%D0%B5%D1%81%D1%82%D0%B2%D0%B0.%20%D0%9E%D0%BF%D0%B5%D1%80%D0%B0%D1%86%D0%B8%D0%B8%20%D0%BD%D0%B0%D0%B4%20%D0%BC%D0%BD%D0%BE%D0%B6%D0%B5%D1%81%D1%82%D0%B2%D0%B0%D0%BC%D0%B8.ipynb#X45sZmlsZQ%3D%3D?line=0'>1</a>\u001b[0m \u001b[39mimport\u001b[39;00m \u001b[39mmath\u001b[39;00m\n\u001b[0;32m      <a href='vscode-notebook-cell:/c%3A/Users/d3en/OneDrive/%D0%A0%D0%B0%D0%B1%D0%BE%D1%87%D0%B8%D0%B9%20%D1%81%D1%82%D0%BE%D0%BB/dataScience/IDE/skillfactory/MATH%26ML-4.%20%D0%9C%D0%B0%D1%82%D0%B5%D0%BC%D0%B0%D1%82%D0%B8%D1%87%D0%B5%D1%81%D0%BA%D0%B8%D0%B9%20%D0%B0%D0%BD%D0%B0%D0%BB%D0%B8%D0%B7%20%D0%B2%20%D0%BA%D0%BE%D0%BD%D1%82%D0%B5%D0%BA%D1%81%D1%82%D0%B5%20%D0%B7%D0%B0%D0%B4%D0%B0%D1%87%D0%B8%20%D0%BE%D0%BF%D1%82%D0%B8%D0%BC%D0%B8%D0%B7%D0%B0%D1%86%D0%B8%D0%B8.%20%D0%A7%D0%B0%D1%81%D1%82%D1%8C%20I/%D0%9C%D0%BD%D0%BE%D0%B6%D0%B5%D1%81%D1%82%D0%B2%D0%B0.%20%D0%9E%D0%BF%D0%B5%D1%80%D0%B0%D1%86%D0%B8%D0%B8%20%D0%BD%D0%B0%D0%B4%20%D0%BC%D0%BD%D0%BE%D0%B6%D0%B5%D1%81%D1%82%D0%B2%D0%B0%D0%BC%D0%B8.ipynb#X45sZmlsZQ%3D%3D?line=1'>2</a>\u001b[0m x \u001b[39m=\u001b[39m sympy\u001b[39m.\u001b[39mSymbol(\u001b[39m\"\u001b[39m\u001b[39mx\u001b[39m\u001b[39m\"\u001b[39m)\n\u001b[1;32m----> <a href='vscode-notebook-cell:/c%3A/Users/d3en/OneDrive/%D0%A0%D0%B0%D0%B1%D0%BE%D1%87%D0%B8%D0%B9%20%D1%81%D1%82%D0%BE%D0%BB/dataScience/IDE/skillfactory/MATH%26ML-4.%20%D0%9C%D0%B0%D1%82%D0%B5%D0%BC%D0%B0%D1%82%D0%B8%D1%87%D0%B5%D1%81%D0%BA%D0%B8%D0%B9%20%D0%B0%D0%BD%D0%B0%D0%BB%D0%B8%D0%B7%20%D0%B2%20%D0%BA%D0%BE%D0%BD%D1%82%D0%B5%D0%BA%D1%81%D1%82%D0%B5%20%D0%B7%D0%B0%D0%B4%D0%B0%D1%87%D0%B8%20%D0%BE%D0%BF%D1%82%D0%B8%D0%BC%D0%B8%D0%B7%D0%B0%D1%86%D0%B8%D0%B8.%20%D0%A7%D0%B0%D1%81%D1%82%D1%8C%20I/%D0%9C%D0%BD%D0%BE%D0%B6%D0%B5%D1%81%D1%82%D0%B2%D0%B0.%20%D0%9E%D0%BF%D0%B5%D1%80%D0%B0%D1%86%D0%B8%D0%B8%20%D0%BD%D0%B0%D0%B4%20%D0%BC%D0%BD%D0%BE%D0%B6%D0%B5%D1%81%D1%82%D0%B2%D0%B0%D0%BC%D0%B8.ipynb#X45sZmlsZQ%3D%3D?line=2'>3</a>\u001b[0m expe \u001b[39m=\u001b[39m math\u001b[39m.\u001b[39;49msqrt(\u001b[39m1\u001b[39;49m\u001b[39m+\u001b[39;49mx\u001b[39m*\u001b[39;49m\u001b[39m*\u001b[39;49m\u001b[39m2\u001b[39;49m)\n\u001b[0;32m      <a href='vscode-notebook-cell:/c%3A/Users/d3en/OneDrive/%D0%A0%D0%B0%D0%B1%D0%BE%D1%87%D0%B8%D0%B9%20%D1%81%D1%82%D0%BE%D0%BB/dataScience/IDE/skillfactory/MATH%26ML-4.%20%D0%9C%D0%B0%D1%82%D0%B5%D0%BC%D0%B0%D1%82%D0%B8%D1%87%D0%B5%D1%81%D0%BA%D0%B8%D0%B9%20%D0%B0%D0%BD%D0%B0%D0%BB%D0%B8%D0%B7%20%D0%B2%20%D0%BA%D0%BE%D0%BD%D1%82%D0%B5%D0%BA%D1%81%D1%82%D0%B5%20%D0%B7%D0%B0%D0%B4%D0%B0%D1%87%D0%B8%20%D0%BE%D0%BF%D1%82%D0%B8%D0%BC%D0%B8%D0%B7%D0%B0%D1%86%D0%B8%D0%B8.%20%D0%A7%D0%B0%D1%81%D1%82%D1%8C%20I/%D0%9C%D0%BD%D0%BE%D0%B6%D0%B5%D1%81%D1%82%D0%B2%D0%B0.%20%D0%9E%D0%BF%D0%B5%D1%80%D0%B0%D1%86%D0%B8%D0%B8%20%D0%BD%D0%B0%D0%B4%20%D0%BC%D0%BD%D0%BE%D0%B6%D0%B5%D1%81%D1%82%D0%B2%D0%B0%D0%BC%D0%B8.ipynb#X45sZmlsZQ%3D%3D?line=3'>4</a>\u001b[0m expe\u001b[39m.\u001b[39mdiff(x)\n",
      "File \u001b[1;32mc:\\Users\\d3en\\AppData\\Local\\Programs\\Python\\Python39\\lib\\site-packages\\sympy\\core\\expr.py:351\u001b[0m, in \u001b[0;36mExpr.__float__\u001b[1;34m(self)\u001b[0m\n\u001b[0;32m    349\u001b[0m \u001b[39mif\u001b[39;00m result\u001b[39m.\u001b[39mis_number \u001b[39mand\u001b[39;00m result\u001b[39m.\u001b[39mas_real_imag()[\u001b[39m1\u001b[39m]:\n\u001b[0;32m    350\u001b[0m     \u001b[39mraise\u001b[39;00m \u001b[39mTypeError\u001b[39;00m(\u001b[39m\"\u001b[39m\u001b[39mCannot convert complex to float\u001b[39m\u001b[39m\"\u001b[39m)\n\u001b[1;32m--> 351\u001b[0m \u001b[39mraise\u001b[39;00m \u001b[39mTypeError\u001b[39;00m(\u001b[39m\"\u001b[39m\u001b[39mCannot convert expression to float\u001b[39m\u001b[39m\"\u001b[39m)\n",
      "\u001b[1;31mTypeError\u001b[0m: Cannot convert expression to float"
     ]
    }
   ],
   "source": [
    "import math\n",
    "x = sympy.Symbol(\"x\")\n",
    "expe = math.sqrt(1+x**2)\n",
    "expe.diff(x)\n"
   ]
  },
  {
   "cell_type": "code",
   "execution_count": 5,
   "metadata": {},
   "outputs": [
    {
     "data": {
      "text/plain": [
       "2.0"
      ]
     },
     "execution_count": 5,
     "metadata": {},
     "output_type": "execute_result"
    }
   ],
   "source": [
    "3*x**2-6=0\n",
    "3x**2=6\n"
   ]
  }
 ],
 "metadata": {
  "kernelspec": {
   "display_name": "Python 3",
   "language": "python",
   "name": "python3"
  },
  "language_info": {
   "codemirror_mode": {
    "name": "ipython",
    "version": 3
   },
   "file_extension": ".py",
   "mimetype": "text/x-python",
   "name": "python",
   "nbconvert_exporter": "python",
   "pygments_lexer": "ipython3",
   "version": "3.9.10"
  },
  "orig_nbformat": 4
 },
 "nbformat": 4,
 "nbformat_minor": 2
}
