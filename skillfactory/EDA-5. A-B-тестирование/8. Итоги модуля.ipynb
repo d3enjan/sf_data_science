{
 "cells": [
  {
   "cell_type": "markdown",
   "metadata": {},
   "source": [
    "### <center> ДОПОЛНИТЕЛЬНЫЕ МАТЕРИАЛЫ\n",
    "\n",
    "[«Вредные советы» от экспертов о том, как правильно проводить A/B-тестирование](https://nplus1.ru/material/2020/03/27/course-data-science-chapter-8)\n",
    "\n",
    "[Ещё один пример анализа результатов A/B-тестирования](https://towardsdatascience.com/ab-testing-with-python-e5964dd66143)\n",
    "\n",
    "[Статья о A/B-тестировании от экспертов-аналитиков \n",
    "SkillFactory](https://blog.skillfactory.ru/glossary/a-b-testirovanie/)"
   ]
  },
  {
   "cell_type": "code",
   "execution_count": null,
   "metadata": {},
   "outputs": [],
   "source": []
  }
 ],
 "metadata": {
  "kernelspec": {
   "display_name": "Python 3.9.10 64-bit",
   "language": "python",
   "name": "python3"
  },
  "language_info": {
   "name": "python",
   "version": "3.9.10"
  },
  "orig_nbformat": 4,
  "vscode": {
   "interpreter": {
    "hash": "aef7f665a0694191b93f381ff9bf3fa49787cf0440ec035fed5813d2b4b57be1"
   }
  }
 },
 "nbformat": 4,
 "nbformat_minor": 2
}
