{
 "cells": [
  {
   "cell_type": "markdown",
   "metadata": {},
   "source": [
    "### <center>  ИЕРАРХИЧЕСКАЯ КЛАСТЕРИЗАЦИЯ\n",
    "\n",
    "Принцип иерархической кластеризации основан на построении дерева (иерархии) вложенных кластеров."
   ]
  },
  {
   "cell_type": "markdown",
   "metadata": {},
   "source": [
    "При иерархической кластеризации строится **дендрограмма**. Её можно сравнить с древом языков мира, на котором языки объединяются в различные семьи, укрупняясь и образуя всё более обширные языковые ветви:\n",
    "\n",
    "![alt](https://lms.skillfactory.ru/assets/courseware/v1/79e2f856b8817691a6b1fe50b416921e/asset-v1:SkillFactory+DSPR-2.0+14JULY2021+type@asset+block/dst3-ml4-3_1.png)\n",
    "\n",
    "**Дендрограмма**  — это древовидная диаграмма, которая содержит  уровней. Каждый уровень — это шаг укрупнения кластеров."
   ]
  },
  {
   "cell_type": "markdown",
   "metadata": {},
   "source": [
    "Чем больше схожесть между двумя объектами на дендрограмме, тем ниже высота внутренней ветки, которая идёт из объекта или кластера:\n",
    "\n",
    "![alt](https://lms.skillfactory.ru/assets/courseware/v1/96d8fa2d5f36508e5915fe258158d2e3/asset-v1:SkillFactory+DSPR-2.0+14JULY2021+type@asset+block/dst3-ml4-3_3.png)"
   ]
  },
  {
   "cell_type": "markdown",
   "metadata": {},
   "source": [
    "При иерархической кластеризации выделяют два подхода: **агломеративный и дивизионный**. В первом случае кластеры образуются снизу вверх, т. е. при объединении кластеров, а во втором — сверху вниз, в ходе деления крупных кластеров:\n",
    "\n",
    "![alt](https://lms.skillfactory.ru/assets/courseware/v1/17a3629f5ac5b30b3873f06d5c394a00/asset-v1:SkillFactory+DSPR-2.0+14JULY2021+type@asset+block/dst3-ml4-3_5.png)"
   ]
  },
  {
   "cell_type": "markdown",
   "metadata": {},
   "source": [
    "Агломеративный метод (agglomerative)\n",
    "\n",
    "Новые кластеры создаются в ходе объединения более мелких кластеров:\n",
    "\n",
    "![alt](https://lms.skillfactory.ru/assets/courseware/v1/3842c4df18dcf25f0d83a6a39d0ee736/asset-v1:SkillFactory+DSPR-2.0+14JULY2021+type@asset+block/dst3-ml4-3_6.png)\n",
    "\n",
    "Дивизионный (дивизивный) метод (divisive)\n",
    "\n",
    "Кластеры создаются при делении крупных кластеров:\n",
    "\n",
    "![alt](https://lms.skillfactory.ru/assets/courseware/v1/25433f8dd0456eab40b9870130c9c4f4/asset-v1:SkillFactory+DSPR-2.0+14JULY2021+type@asset+block/dst3-ml4-3_7.png)"
   ]
  },
  {
   "cell_type": "markdown",
   "metadata": {},
   "source": [
    "Для того чтобы построить дендрограмму, нужна матрица сходства, построенная на основе расстояний между кластерами.\n",
    "\n",
    "В общем виде матрица сходства выглядит следующим образом:\n",
    "\n",
    "![img](https://lms.skillfactory.ru/assets/courseware/v1/b08ac8eb355c8baf180eec10e4834c5d/asset-v1:SkillFactory+DSPR-2.0+14JULY2021+type@asset+block/dst3-ml4-3_8.png)\n",
    "\n",
    "$K$ — это мера сходства между двумя кластерами. По диагонали в матрице записаны единицы, так как объекты максимально похожи на самих себя.\n",
    "\n",
    "Чтобы рассчитать данную матрицу, нужно знать расстояния между двумя кластерами. Существуют разные подходы его вычисления, и выбранный подход влияет на результат кластеризации."
   ]
  },
  {
   "cell_type": "markdown",
   "metadata": {},
   "source": [
    "**Метод одиночной связи** (single linkage)\tПоиск минимального расстояния между объектами из разных кластеров.\n",
    "\n",
    "**Метод полной связи** (complete (maximum) linkage)\tПоиск максимального расстояния между объектами из разных кластеров.\n",
    "\n",
    "**Метод средней связи** (pair group method using arithmetic mean)\tРасстояние между двумя кластерами считается как среднее от расстояния между двумя элементами этих кластеров.\n",
    "\n",
    "**Центроидный метод** (centroid)\tРасстояния между кластерами рассчитываются как расстояния между центроидами этих кластеров."
   ]
  },
  {
   "cell_type": "markdown",
   "metadata": {},
   "source": [
    "На картинке ниже рассматривается иерархическая кластеризация при использовании разных подходов для подсчёта расстояния ↓\n",
    "\n",
    "![alt](https://lms.skillfactory.ru/assets/courseware/v1/f7a927787a5afbbcf0395609a1e8a2f4/asset-v1:SkillFactory+DSPR-2.0+14JULY2021+type@asset+block/dst3-ml4-3_13.png)\n",
    "\n",
    "В первом столбце представлено использование метода одиночной связи, во втором — метода средней связи, в третьем — метода полной связи.\n",
    "\n",
    "Использование методов **средней связи и полной связи** приносит хорошие результаты только при условии, что данные имеют высокую плотность и не пересекаются, или же для однородно распределённых данных. В остальных случаях они отрабатывают плохо."
   ]
  },
  {
   "cell_type": "markdown",
   "metadata": {},
   "source": [
    "### ДЛЯ КАКИХ ЗАДАЧ ИСПОЛЬЗУЕТСЯ ИЕРАРХИЧЕСКАЯ КЛАСТЕРИЗАЦИЯ?"
   ]
  },
  {
   "cell_type": "markdown",
   "metadata": {},
   "source": [
    "Для построения филогенетического дерева.\n",
    "\n",
    "Например, если известна ДНК-последовательность, можно построить филогенетическое дерево.\n",
    "\n",
    "Для анализа текстов."
   ]
  },
  {
   "cell_type": "markdown",
   "metadata": {},
   "source": [
    "Подробно в ноутбуке pokemon"
   ]
  },
  {
   "cell_type": "code",
   "execution_count": null,
   "metadata": {},
   "outputs": [],
   "source": [
    "from sklearn.cluster import AgglomerativeClustering\n",
    "\n",
    "agglomerative_clustering = AgglomerativeClustering(n_clusters=2)\n",
    "agglomerative_clustering.fit(X)\n",
    "agglomerative_clustering.labels_"
   ]
  },
  {
   "cell_type": "markdown",
   "metadata": {},
   "source": [
    "### ПРЕИМУЩЕСТВА И НЕДОСТАТКИ ИЕРАРХИЧЕСКОЙ КЛАСТЕРИЗАЦИИ\n",
    "Преимущества\n",
    "\n",
    "Можно построить дендрограмму и понять, как устроены данные.\n",
    "\n",
    "Работает на небольшом датасете.\n",
    "\n",
    "Недостатки\n",
    "\n",
    "Необходимость выбора оптимального количества кластеров.\n",
    "\n",
    "Если данных много, дендрограмма становится большой и сложной для понимания.\n",
    "\n",
    "Может неравномерно разделять данные на кластеры.\n"
   ]
  },
  {
   "cell_type": "markdown",
   "metadata": {},
   "source": []
  },
  {
   "cell_type": "code",
   "execution_count": null,
   "metadata": {},
   "outputs": [],
   "source": []
  }
 ],
 "metadata": {
  "kernelspec": {
   "display_name": "Python 3.9.10 64-bit",
   "language": "python",
   "name": "python3"
  },
  "language_info": {
   "name": "python",
   "version": "3.9.10"
  },
  "orig_nbformat": 4,
  "vscode": {
   "interpreter": {
    "hash": "aef7f665a0694191b93f381ff9bf3fa49787cf0440ec035fed5813d2b4b57be1"
   }
  }
 },
 "nbformat": 4,
 "nbformat_minor": 2
}
