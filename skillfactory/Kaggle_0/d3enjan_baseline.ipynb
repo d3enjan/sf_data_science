{
 "cells": [
  {
   "cell_type": "code",
   "execution_count": null,
   "metadata": {},
   "outputs": [],
   "source": [
    "import pandas as pd \n",
    "import numpy as np \n",
    "from sklearn.metrics import mean_absolute_error\n",
    "from sklearn.model_selection import train_test_split"
   ]
  },
  {
   "cell_type": "code",
   "execution_count": 2,
   "metadata": {},
   "outputs": [
    {
     "data": {
      "text/html": [
       "<div>\n",
       "<style scoped>\n",
       "    .dataframe tbody tr th:only-of-type {\n",
       "        vertical-align: middle;\n",
       "    }\n",
       "\n",
       "    .dataframe tbody tr th {\n",
       "        vertical-align: top;\n",
       "    }\n",
       "\n",
       "    .dataframe thead th {\n",
       "        text-align: right;\n",
       "    }\n",
       "</style>\n",
       "<table border=\"1\" class=\"dataframe\">\n",
       "  <thead>\n",
       "    <tr style=\"text-align: right;\">\n",
       "      <th></th>\n",
       "      <th>row_ID</th>\n",
       "      <th>vehicle_manufacturer</th>\n",
       "      <th>vehicle_model</th>\n",
       "      <th>vehicle_category</th>\n",
       "      <th>current_mileage</th>\n",
       "      <th>vehicle_year</th>\n",
       "      <th>vehicle_gearbox_type</th>\n",
       "      <th>doors_cnt</th>\n",
       "      <th>wheels</th>\n",
       "      <th>vehicle_color</th>\n",
       "      <th>vehicle_interior_color</th>\n",
       "      <th>car_vin</th>\n",
       "      <th>car_leather_interior</th>\n",
       "      <th>deal_type</th>\n",
       "      <th>final_price</th>\n",
       "    </tr>\n",
       "  </thead>\n",
       "  <tbody>\n",
       "    <tr>\n",
       "      <th>0</th>\n",
       "      <td>0</td>\n",
       "      <td>TOYOTA</td>\n",
       "      <td>Aqua s</td>\n",
       "      <td>Sedan</td>\n",
       "      <td>133000</td>\n",
       "      <td>2014</td>\n",
       "      <td>Automatic</td>\n",
       "      <td>4/5</td>\n",
       "      <td>Right-hand drive</td>\n",
       "      <td>Silver</td>\n",
       "      <td>Black</td>\n",
       "      <td>NaN</td>\n",
       "      <td>0</td>\n",
       "      <td>For Sale</td>\n",
       "      <td>3650.0</td>\n",
       "    </tr>\n",
       "    <tr>\n",
       "      <th>1</th>\n",
       "      <td>1</td>\n",
       "      <td>MERCEDES-BENZ</td>\n",
       "      <td>C 220</td>\n",
       "      <td>Sedan</td>\n",
       "      <td>24500</td>\n",
       "      <td>2010</td>\n",
       "      <td>Manual</td>\n",
       "      <td>4/5</td>\n",
       "      <td>Left wheel</td>\n",
       "      <td>Silver</td>\n",
       "      <td>Black</td>\n",
       "      <td>NaN</td>\n",
       "      <td>0</td>\n",
       "      <td>For Sale</td>\n",
       "      <td>6800.0</td>\n",
       "    </tr>\n",
       "    <tr>\n",
       "      <th>2</th>\n",
       "      <td>2</td>\n",
       "      <td>HYUNDAI</td>\n",
       "      <td>Veloster</td>\n",
       "      <td>Hatchback</td>\n",
       "      <td>31000</td>\n",
       "      <td>2016</td>\n",
       "      <td>Tiptronic</td>\n",
       "      <td>2/3</td>\n",
       "      <td>Left wheel</td>\n",
       "      <td>Silver</td>\n",
       "      <td>Black</td>\n",
       "      <td>KMHTC6AE3GU293912</td>\n",
       "      <td>1</td>\n",
       "      <td>For Sale</td>\n",
       "      <td>6300.0</td>\n",
       "    </tr>\n",
       "    <tr>\n",
       "      <th>3</th>\n",
       "      <td>3</td>\n",
       "      <td>HYUNDAI</td>\n",
       "      <td>Santa FE</td>\n",
       "      <td>Jeep</td>\n",
       "      <td>115459</td>\n",
       "      <td>2015</td>\n",
       "      <td>Automatic</td>\n",
       "      <td>4/5</td>\n",
       "      <td>Left wheel</td>\n",
       "      <td>Blue</td>\n",
       "      <td>Black</td>\n",
       "      <td>NaN</td>\n",
       "      <td>1</td>\n",
       "      <td>For Sale</td>\n",
       "      <td>14488.0</td>\n",
       "    </tr>\n",
       "    <tr>\n",
       "      <th>4</th>\n",
       "      <td>4</td>\n",
       "      <td>TOYOTA</td>\n",
       "      <td>CHR</td>\n",
       "      <td>Jeep</td>\n",
       "      <td>18950</td>\n",
       "      <td>2019</td>\n",
       "      <td>Automatic</td>\n",
       "      <td>4/5</td>\n",
       "      <td>Left wheel</td>\n",
       "      <td>Black</td>\n",
       "      <td>NaN</td>\n",
       "      <td>JTNKHMBX7K1030253</td>\n",
       "      <td>1</td>\n",
       "      <td>For Sale</td>\n",
       "      <td>5000.0</td>\n",
       "    </tr>\n",
       "  </tbody>\n",
       "</table>\n",
       "</div>"
      ],
      "text/plain": [
       "   row_ID vehicle_manufacturer vehicle_model vehicle_category  \\\n",
       "0       0               TOYOTA        Aqua s            Sedan   \n",
       "1       1        MERCEDES-BENZ         C 220            Sedan   \n",
       "2       2              HYUNDAI      Veloster        Hatchback   \n",
       "3       3              HYUNDAI      Santa FE             Jeep   \n",
       "4       4               TOYOTA           CHR             Jeep   \n",
       "\n",
       "   current_mileage  vehicle_year vehicle_gearbox_type doors_cnt  \\\n",
       "0           133000          2014            Automatic       4/5   \n",
       "1            24500          2010               Manual       4/5   \n",
       "2            31000          2016            Tiptronic       2/3   \n",
       "3           115459          2015            Automatic       4/5   \n",
       "4            18950          2019            Automatic       4/5   \n",
       "\n",
       "                  wheels vehicle_color vehicle_interior_color  \\\n",
       "0    Right-hand drive          Silver                  Black    \n",
       "1           Left wheel         Silver                  Black    \n",
       "2           Left wheel         Silver                  Black    \n",
       "3           Left wheel           Blue                  Black    \n",
       "4           Left wheel          Black                     NaN   \n",
       "\n",
       "               car_vin  car_leather_interior deal_type  final_price  \n",
       "0                  NaN                     0  For Sale       3650.0  \n",
       "1                  NaN                     0  For Sale       6800.0  \n",
       "2   KMHTC6AE3GU293912                      1  For Sale       6300.0  \n",
       "3                  NaN                     1  For Sale      14488.0  \n",
       "4   JTNKHMBX7K1030253                      1  For Sale       5000.0  "
      ]
     },
     "execution_count": 2,
     "metadata": {},
     "output_type": "execute_result"
    }
   ],
   "source": [
    "train_data = pd.read_csv('data/train_data.csv')\n",
    "train_data.head()"
   ]
  },
  {
   "cell_type": "code",
   "execution_count": 3,
   "metadata": {},
   "outputs": [],
   "source": [
    "train_data['car_vin'] = train_data['car_vin'].apply(lambda x: 0 if x == np.nan else 1)"
   ]
  },
  {
   "cell_type": "code",
   "execution_count": 7,
   "metadata": {},
   "outputs": [
    {
     "data": {
      "text/plain": [
       "count    3.500000e+04\n",
       "mean     1.969224e+06\n",
       "std      5.682401e+07\n",
       "min      0.000000e+00\n",
       "25%      7.145400e+04\n",
       "50%      1.290000e+05\n",
       "75%      1.900000e+05\n",
       "max      2.147484e+09\n",
       "Name: current_mileage, dtype: float64"
      ]
     },
     "execution_count": 7,
     "metadata": {},
     "output_type": "execute_result"
    }
   ],
   "source": [
    "train_data['current_mileage'].describe()"
   ]
  },
  {
   "cell_type": "code",
   "execution_count": 8,
   "metadata": {},
   "outputs": [],
   "source": [
    "def current(mileage):\n",
    "    if mileage > 1000000:\n",
    "        return train_data['current_mileage'].mean()\n",
    "    else:\n",
    "        return mileage\n",
    "    \n",
    "train_data['current_mileage'] = train_data['current_mileage'].apply(current)     "
   ]
  },
  {
   "cell_type": "code",
   "execution_count": null,
   "metadata": {},
   "outputs": [],
   "source": [
    "../input/sf-dst-predict-car-price/sample_submission.csv"
   ]
  },
  {
   "cell_type": "code",
   "execution_count": 9,
   "metadata": {},
   "outputs": [
    {
     "data": {
      "text/plain": [
       "1969223.6746285714"
      ]
     },
     "execution_count": 9,
     "metadata": {},
     "output_type": "execute_result"
    }
   ],
   "source": [
    "train_data['current_mileage'].max()"
   ]
  },
  {
   "cell_type": "code",
   "execution_count": 22,
   "metadata": {},
   "outputs": [
    {
     "data": {
      "text/plain": [
       "1969223.6746285714"
      ]
     },
     "execution_count": 22,
     "metadata": {},
     "output_type": "execute_result"
    }
   ],
   "source": [
    "train_data['current_mileage'].mean()"
   ]
  },
  {
   "cell_type": "code",
   "execution_count": 4,
   "metadata": {},
   "outputs": [],
   "source": [
    "RANDOM_STATE = 42\n",
    "TEST_SIZE = 0.2"
   ]
  },
  {
   "cell_type": "code",
   "execution_count": 5,
   "metadata": {},
   "outputs": [
    {
     "name": "stdout",
     "output_type": "stream",
     "text": [
      "Data splitted. Parts sizes: tr_data = (28000, 15), te_data = (7000, 15)\n"
     ]
    },
    {
     "data": {
      "text/html": [
       "<div>\n",
       "<style scoped>\n",
       "    .dataframe tbody tr th:only-of-type {\n",
       "        vertical-align: middle;\n",
       "    }\n",
       "\n",
       "    .dataframe tbody tr th {\n",
       "        vertical-align: top;\n",
       "    }\n",
       "\n",
       "    .dataframe thead th {\n",
       "        text-align: right;\n",
       "    }\n",
       "</style>\n",
       "<table border=\"1\" class=\"dataframe\">\n",
       "  <thead>\n",
       "    <tr style=\"text-align: right;\">\n",
       "      <th></th>\n",
       "      <th>row_ID</th>\n",
       "      <th>vehicle_manufacturer</th>\n",
       "      <th>vehicle_model</th>\n",
       "      <th>vehicle_category</th>\n",
       "      <th>current_mileage</th>\n",
       "      <th>vehicle_year</th>\n",
       "      <th>vehicle_gearbox_type</th>\n",
       "      <th>doors_cnt</th>\n",
       "      <th>wheels</th>\n",
       "      <th>vehicle_color</th>\n",
       "      <th>vehicle_interior_color</th>\n",
       "      <th>car_vin</th>\n",
       "      <th>car_leather_interior</th>\n",
       "      <th>deal_type</th>\n",
       "      <th>final_price</th>\n",
       "    </tr>\n",
       "  </thead>\n",
       "  <tbody>\n",
       "    <tr>\n",
       "      <th>18788</th>\n",
       "      <td>18788</td>\n",
       "      <td>HYUNDAI</td>\n",
       "      <td>Santa FE</td>\n",
       "      <td>Jeep</td>\n",
       "      <td>177719</td>\n",
       "      <td>2010</td>\n",
       "      <td>Automatic</td>\n",
       "      <td>4/5</td>\n",
       "      <td>Left wheel</td>\n",
       "      <td>Silver</td>\n",
       "      <td>Black</td>\n",
       "      <td>1</td>\n",
       "      <td>1</td>\n",
       "      <td>For Sale</td>\n",
       "      <td>7464.0</td>\n",
       "    </tr>\n",
       "    <tr>\n",
       "      <th>776</th>\n",
       "      <td>776</td>\n",
       "      <td>HYUNDAI</td>\n",
       "      <td>Santa FE</td>\n",
       "      <td>Jeep</td>\n",
       "      <td>143166</td>\n",
       "      <td>2011</td>\n",
       "      <td>Automatic</td>\n",
       "      <td>4/5</td>\n",
       "      <td>Left wheel</td>\n",
       "      <td>Grey</td>\n",
       "      <td>Black</td>\n",
       "      <td>1</td>\n",
       "      <td>1</td>\n",
       "      <td>For Sale</td>\n",
       "      <td>5959.0</td>\n",
       "    </tr>\n",
       "    <tr>\n",
       "      <th>480</th>\n",
       "      <td>480</td>\n",
       "      <td>BMW</td>\n",
       "      <td>X5 XDRIVE35 D</td>\n",
       "      <td>Jeep</td>\n",
       "      <td>149000</td>\n",
       "      <td>2015</td>\n",
       "      <td>Tiptronic</td>\n",
       "      <td>4/5</td>\n",
       "      <td>Left wheel</td>\n",
       "      <td>Black</td>\n",
       "      <td>Black</td>\n",
       "      <td>1</td>\n",
       "      <td>1</td>\n",
       "      <td>For Sale</td>\n",
       "      <td>23900.0</td>\n",
       "    </tr>\n",
       "    <tr>\n",
       "      <th>30078</th>\n",
       "      <td>30078</td>\n",
       "      <td>CHRYSLER</td>\n",
       "      <td>300</td>\n",
       "      <td>Sedan</td>\n",
       "      <td>133904</td>\n",
       "      <td>2014</td>\n",
       "      <td>Automatic</td>\n",
       "      <td>4/5</td>\n",
       "      <td>Left wheel</td>\n",
       "      <td>Silver</td>\n",
       "      <td>Black</td>\n",
       "      <td>1</td>\n",
       "      <td>1</td>\n",
       "      <td>For Sale</td>\n",
       "      <td>1750.0</td>\n",
       "    </tr>\n",
       "    <tr>\n",
       "      <th>29115</th>\n",
       "      <td>29115</td>\n",
       "      <td>TOYOTA</td>\n",
       "      <td>4Runner</td>\n",
       "      <td>Jeep</td>\n",
       "      <td>0</td>\n",
       "      <td>2018</td>\n",
       "      <td>Automatic</td>\n",
       "      <td>4/5</td>\n",
       "      <td>Left wheel</td>\n",
       "      <td>Black</td>\n",
       "      <td>Black</td>\n",
       "      <td>1</td>\n",
       "      <td>1</td>\n",
       "      <td>For Sale</td>\n",
       "      <td>100.0</td>\n",
       "    </tr>\n",
       "  </tbody>\n",
       "</table>\n",
       "</div>"
      ],
      "text/plain": [
       "       row_ID vehicle_manufacturer   vehicle_model vehicle_category  \\\n",
       "18788   18788              HYUNDAI        Santa FE             Jeep   \n",
       "776       776              HYUNDAI        Santa FE             Jeep   \n",
       "480       480                  BMW  X5 XDRIVE35 D              Jeep   \n",
       "30078   30078             CHRYSLER             300            Sedan   \n",
       "29115   29115               TOYOTA         4Runner             Jeep   \n",
       "\n",
       "       current_mileage  vehicle_year vehicle_gearbox_type doors_cnt  \\\n",
       "18788           177719          2010            Automatic       4/5   \n",
       "776             143166          2011            Automatic       4/5   \n",
       "480             149000          2015            Tiptronic       4/5   \n",
       "30078           133904          2014            Automatic       4/5   \n",
       "29115                0          2018            Automatic       4/5   \n",
       "\n",
       "               wheels vehicle_color vehicle_interior_color  car_vin  \\\n",
       "18788    Left wheel         Silver                  Black         1   \n",
       "776      Left wheel           Grey                  Black         1   \n",
       "480      Left wheel          Black                  Black         1   \n",
       "30078    Left wheel         Silver                  Black         1   \n",
       "29115    Left wheel          Black                  Black         1   \n",
       "\n",
       "       car_leather_interior deal_type  final_price  \n",
       "18788                     1  For Sale       7464.0  \n",
       "776                       1  For Sale       5959.0  \n",
       "480                       1  For Sale      23900.0  \n",
       "30078                     1  For Sale       1750.0  \n",
       "29115                     1  For Sale        100.0  "
      ]
     },
     "execution_count": 5,
     "metadata": {},
     "output_type": "execute_result"
    }
   ],
   "source": [
    "tr_data, te_data = train_test_split(\n",
    "    train_data, \n",
    "    test_size=TEST_SIZE, \n",
    "    random_state=RANDOM_STATE\n",
    ")\n",
    "\n",
    "print(f'Data splitted. Parts sizes: tr_data = {tr_data.shape}, te_data = {te_data.shape}')\n",
    "\n",
    "tr_data.head()"
   ]
  },
  {
   "cell_type": "code",
   "execution_count": 6,
   "metadata": {},
   "outputs": [
    {
     "name": "stdout",
     "output_type": "stream",
     "text": [
      "<class 'pandas.core.frame.DataFrame'>\n",
      "Int64Index: 7000 entries, 17813 to 20318\n",
      "Data columns (total 15 columns):\n",
      " #   Column                  Non-Null Count  Dtype  \n",
      "---  ------                  --------------  -----  \n",
      " 0   row_ID                  7000 non-null   int64  \n",
      " 1   vehicle_manufacturer    7000 non-null   object \n",
      " 2   vehicle_model           6999 non-null   object \n",
      " 3   vehicle_category        7000 non-null   object \n",
      " 4   current_mileage         7000 non-null   int64  \n",
      " 5   vehicle_year            7000 non-null   int64  \n",
      " 6   vehicle_gearbox_type    7000 non-null   object \n",
      " 7   doors_cnt               6840 non-null   object \n",
      " 8   wheels                  7000 non-null   object \n",
      " 9   vehicle_color           6921 non-null   object \n",
      " 10  vehicle_interior_color  5643 non-null   object \n",
      " 11  car_vin                 7000 non-null   int64  \n",
      " 12  car_leather_interior    7000 non-null   int64  \n",
      " 13  deal_type               7000 non-null   object \n",
      " 14  final_price             7000 non-null   float64\n",
      "dtypes: float64(1), int64(5), object(9)\n",
      "memory usage: 875.0+ KB\n"
     ]
    }
   ],
   "source": [
    "te_data.info()"
   ]
  },
  {
   "cell_type": "code",
   "execution_count": 7,
   "metadata": {},
   "outputs": [
    {
     "name": "stdout",
     "output_type": "stream",
     "text": [
      "<class 'pandas.core.frame.DataFrame'>\n",
      "Int64Index: 28000 entries, 18788 to 15795\n",
      "Data columns (total 15 columns):\n",
      " #   Column                  Non-Null Count  Dtype  \n",
      "---  ------                  --------------  -----  \n",
      " 0   row_ID                  28000 non-null  int64  \n",
      " 1   vehicle_manufacturer    27999 non-null  object \n",
      " 2   vehicle_model           27994 non-null  object \n",
      " 3   vehicle_category        27999 non-null  object \n",
      " 4   current_mileage         28000 non-null  int64  \n",
      " 5   vehicle_year            28000 non-null  int64  \n",
      " 6   vehicle_gearbox_type    27999 non-null  object \n",
      " 7   doors_cnt               27415 non-null  object \n",
      " 8   wheels                  27999 non-null  object \n",
      " 9   vehicle_color           27678 non-null  object \n",
      " 10  vehicle_interior_color  22639 non-null  object \n",
      " 11  car_vin                 28000 non-null  int64  \n",
      " 12  car_leather_interior    28000 non-null  int64  \n",
      " 13  deal_type               28000 non-null  object \n",
      " 14  final_price             28000 non-null  float64\n",
      "dtypes: float64(1), int64(5), object(9)\n",
      "memory usage: 3.4+ MB\n"
     ]
    }
   ],
   "source": [
    "tr_data.info()"
   ]
  },
  {
   "cell_type": "code",
   "execution_count": null,
   "metadata": {},
   "outputs": [],
   "source": []
  }
 ],
 "metadata": {
  "kernelspec": {
   "display_name": "Python 3.9.10 64-bit",
   "language": "python",
   "name": "python3"
  },
  "language_info": {
   "codemirror_mode": {
    "name": "ipython",
    "version": 3
   },
   "file_extension": ".py",
   "mimetype": "text/x-python",
   "name": "python",
   "nbconvert_exporter": "python",
   "pygments_lexer": "ipython3",
   "version": "3.9.10"
  },
  "orig_nbformat": 4,
  "vscode": {
   "interpreter": {
    "hash": "aef7f665a0694191b93f381ff9bf3fa49787cf0440ec035fed5813d2b4b57be1"
   }
  }
 },
 "nbformat": 4,
 "nbformat_minor": 2
}
