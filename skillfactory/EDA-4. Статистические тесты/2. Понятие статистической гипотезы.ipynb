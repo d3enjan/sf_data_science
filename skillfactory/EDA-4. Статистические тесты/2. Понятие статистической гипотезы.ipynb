{
 "cells": [
  {
   "cell_type": "markdown",
   "metadata": {},
   "source": [
    "**Статистической** называют гипотезу о распределении вероятностей, лежащем в основе наблюдаемой выборки данных. Важно переформулировать статистическую гипотезу как нулевую (H_0) и альтернативную (H_1) гипотезы, чтобы иметь возможность проверить её математически."
   ]
  },
  {
   "cell_type": "markdown",
   "metadata": {},
   "source": [
    "Альтернативная гипотеза (H_1) — это, как правило, ваша исходная гипотеза, предсказывающая взаимосвязь между переменными. В преобладающем большинстве случаев нулевая гипотеза (H_0) — это предсказание отсутствия связи между интересующими вас переменными (хотя иногда нулевая гипотеза может звучать другим образом)."
   ]
  },
  {
   "cell_type": "markdown",
   "metadata": {},
   "source": [
    "H_0: Нулевая гипотеза — статистическая гипотеза, подлежащая проверке.\n",
    "\n",
    "H_1: Альтернативная гипотеза — альтернатива нулевой гипотезе."
   ]
  },
  {
   "cell_type": "code",
   "execution_count": null,
   "metadata": {},
   "outputs": [],
   "source": []
  }
 ],
 "metadata": {
  "kernelspec": {
   "display_name": "Python 3.9.10 64-bit",
   "language": "python",
   "name": "python3"
  },
  "language_info": {
   "codemirror_mode": {
    "name": "ipython",
    "version": 3
   },
   "file_extension": ".py",
   "mimetype": "text/x-python",
   "name": "python",
   "nbconvert_exporter": "python",
   "pygments_lexer": "ipython3",
   "version": "3.9.10"
  },
  "orig_nbformat": 4,
  "vscode": {
   "interpreter": {
    "hash": "aef7f665a0694191b93f381ff9bf3fa49787cf0440ec035fed5813d2b4b57be1"
   }
  }
 },
 "nbformat": 4,
 "nbformat_minor": 2
}
