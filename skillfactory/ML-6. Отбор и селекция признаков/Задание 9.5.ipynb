{
 "cells": [
  {
   "cell_type": "markdown",
   "metadata": {},
   "source": [
    "### <center>  Задание 9.5"
   ]
  },
  {
   "cell_type": "code",
   "execution_count": 1,
   "metadata": {},
   "outputs": [],
   "source": [
    "import pandas as pd\n",
    "import numpy as np \n",
    "from sklearn.model_selection import train_test_split\n",
    "from sklearn.linear_model import LinearRegression\n",
    "from sklearn.feature_selection import RFE\n",
    "from sklearn.feature_selection import SelectKBest, f_regression\n",
    "from sklearn.metrics import mean_absolute_error\n",
    "from sklearn.metrics import r2_score\n",
    "from sklearn.metrics import f1_score"
   ]
  },
  {
   "cell_type": "code",
   "execution_count": 2,
   "metadata": {},
   "outputs": [],
   "source": [
    "data = pd.read_excel('data/data_ford_price.xlsx', engine='openpyxl') "
   ]
  },
  {
   "cell_type": "code",
   "execution_count": 3,
   "metadata": {},
   "outputs": [],
   "source": [
    "data = data[['price','year', 'cylinders', 'odometer', 'lat', 'long', 'weather']]\n",
    "data.dropna(inplace = True)\n",
    "\n",
    "y = data['price']\n",
    "x = data.drop(columns='price')\n",
    "\n",
    "X_train, X_test, y_train, y_test = train_test_split(x, y, test_size=0.3, random_state=40)"
   ]
  },
  {
   "cell_type": "code",
   "execution_count": 4,
   "metadata": {},
   "outputs": [
    {
     "data": {
      "text/plain": [
       "array(['year', 'cylinders', 'lat'], dtype=object)"
      ]
     },
     "execution_count": 4,
     "metadata": {},
     "output_type": "execute_result"
    }
   ],
   "source": [
    "estimator = LinearRegression()\n",
    "selector = RFE(estimator, n_features_to_select=3, step=1)\n",
    "selector = selector.fit(X_train, y_train)\n",
    " \n",
    "selector.get_feature_names_out()"
   ]
  },
  {
   "cell_type": "code",
   "execution_count": 5,
   "metadata": {},
   "outputs": [
    {
     "name": "stdout",
     "output_type": "stream",
     "text": [
      "MAE: 5096.570\n"
     ]
    }
   ],
   "source": [
    "y_predict = selector.predict(X_test)\n",
    "mae = mean_absolute_error(y_test, y_predict)\n",
    "print('MAE: %.3f' % mae)\n"
   ]
  },
  {
   "cell_type": "code",
   "execution_count": 6,
   "metadata": {},
   "outputs": [
    {
     "name": "stdout",
     "output_type": "stream",
     "text": [
      "Train R^2: 0.480\n",
      "Test R^2: 0.576\n"
     ]
    }
   ],
   "source": [
    "y_train_predict = selector.predict(X_train)\n",
    "y_test_predict = selector.predict(X_test)\n",
    "print('Train R^2: {:.3f}'.format(r2_score(y_train, y_train_predict)))\n",
    "print('Test R^2: {:.3f}'.format(r2_score(y_test, y_test_predict)))"
   ]
  },
  {
   "cell_type": "markdown",
   "metadata": {},
   "source": [
    "SelectKBest"
   ]
  },
  {
   "cell_type": "code",
   "execution_count": 7,
   "metadata": {},
   "outputs": [],
   "source": [
    "# X_train, X_test, y_train, y_test = train_test_split(x, y, test_size=0.3, random_state=40)\n",
    "\n",
    "# selectorKB = SelectKBest(f_regression, k=3)\n",
    "# selectorKB.fit_transform(X_train, y_train)\n",
    "# selectorKB.get_feature_names_out\n",
    "\n",
    "# y_train_transforn_KB = selectorKB.transform(X_train)\n",
    "\n",
    "# print('Train R^2: {:.3f}'.format(r2_score(y_train, y_train_transforn_KB)))\n"
   ]
  },
  {
   "cell_type": "code",
   "execution_count": 8,
   "metadata": {},
   "outputs": [],
   "source": [
    "selectorKB = SelectKBest(f_regression, k=3)\n",
    "\n",
    " \n",
    "# selectorKB.shape"
   ]
  },
  {
   "cell_type": "code",
   "execution_count": 9,
   "metadata": {},
   "outputs": [],
   "source": [
    "KB = selectorKB.fit(X_train, y_train)"
   ]
  },
  {
   "cell_type": "code",
   "execution_count": 10,
   "metadata": {},
   "outputs": [
    {
     "data": {
      "text/plain": [
       "array(['year', 'cylinders', 'odometer'], dtype=object)"
      ]
     },
     "execution_count": 10,
     "metadata": {},
     "output_type": "execute_result"
    }
   ],
   "source": [
    "KB.get_feature_names_out()"
   ]
  },
  {
   "cell_type": "code",
   "execution_count": 11,
   "metadata": {},
   "outputs": [],
   "source": [
    "y_train_transforn_KB = KB.transform(X_train)"
   ]
  },
  {
   "cell_type": "code",
   "execution_count": 12,
   "metadata": {},
   "outputs": [
    {
     "data": {
      "text/plain": [
       "array([[2.01100e+03, 6.00000e+00, 1.22882e+05],\n",
       "       [2.01000e+03, 8.00000e+00, 1.44570e+05],\n",
       "       [2.00800e+03, 8.00000e+00, 1.36124e+05],\n",
       "       ...,\n",
       "       [2.01000e+03, 8.00000e+00, 1.60000e+05],\n",
       "       [1.98900e+03, 6.00000e+00, 1.20000e+05],\n",
       "       [2.01200e+03, 8.00000e+00, 1.25874e+05]])"
      ]
     },
     "execution_count": 12,
     "metadata": {},
     "output_type": "execute_result"
    }
   ],
   "source": [
    "y_train_transforn_KB"
   ]
  },
  {
   "cell_type": "code",
   "execution_count": 13,
   "metadata": {},
   "outputs": [
    {
     "name": "stdout",
     "output_type": "stream",
     "text": [
      "Train R^2: -1.214\n"
     ]
    }
   ],
   "source": [
    "# y_train_transforn_KB = selectorKB.transform(X_train)\n",
    "# y_test_transform_KB = selectorKB.transform(X_test)\n",
    "# maeKB = mean_absolute_error(y_test, y_transform_KB)\n",
    "# print('MAE: {:.3f}'.format(maeKB))\n",
    "# maeKB\n",
    "print('Train R^2: {:.3f}'.format((r2_score(y_train, y_train_transforn_KB[:, 0]))))\n",
    "# print(\"Test R^2: {:.3f}\".format(r2_score(y_test, y_test_transform_KB)))"
   ]
  },
  {
   "cell_type": "code",
   "execution_count": 14,
   "metadata": {},
   "outputs": [
    {
     "name": "stdout",
     "output_type": "stream",
     "text": [
      "-1.2143198575166667\n",
      "-1.625052340800535\n",
      "-152.2781271737323\n"
     ]
    }
   ],
   "source": [
    "for i in range(y_train_transforn_KB.shape[1]):\n",
    "    print(r2_score(y_train, y_train_transforn_KB[:, i]))"
   ]
  },
  {
   "cell_type": "code",
   "execution_count": 15,
   "metadata": {},
   "outputs": [
    {
     "data": {
      "text/plain": [
       "array([122882., 144570., 136124., ..., 160000., 120000., 125874.])"
      ]
     },
     "execution_count": 15,
     "metadata": {},
     "output_type": "execute_result"
    }
   ],
   "source": [
    "y_train_transforn_KB[:, 2]"
   ]
  },
  {
   "cell_type": "code",
   "execution_count": 16,
   "metadata": {},
   "outputs": [
    {
     "name": "stdout",
     "output_type": "stream",
     "text": [
      "MAE: 108263.338\n"
     ]
    }
   ],
   "source": [
    "maeKB = mean_absolute_error(y_train, y_train_transforn_KB[:, 2])\n",
    "print('MAE: {:.3f}'.format(maeKB))\n"
   ]
  },
  {
   "cell_type": "code",
   "execution_count": 17,
   "metadata": {},
   "outputs": [
    {
     "name": "stdout",
     "output_type": "stream",
     "text": [
      "12905.671264367817\n",
      "14789.200626959248\n",
      "108263.33772204806\n"
     ]
    }
   ],
   "source": [
    "for i in range(y_train_transforn_KB.shape[1]):\n",
    "    print(mean_absolute_error(y_train, y_train_transforn_KB[:, i]))"
   ]
  },
  {
   "cell_type": "code",
   "execution_count": 18,
   "metadata": {},
   "outputs": [
    {
     "ename": "ValueError",
     "evalue": "y_true and y_pred have different number of output (1!=3)",
     "output_type": "error",
     "traceback": [
      "\u001b[1;31m---------------------------------------------------------------------------\u001b[0m",
      "\u001b[1;31mValueError\u001b[0m                                Traceback (most recent call last)",
      "\u001b[1;32mc:\\Users\\d3en\\OneDrive\\Рабочий стол\\dataScience\\IDE\\skillfactory\\ML-6. Отбор и селекция признаков\\Задание 9.5.ipynb Cell 20\u001b[0m in \u001b[0;36m<module>\u001b[1;34m\u001b[0m\n\u001b[0;32m      <a href='vscode-notebook-cell:/c%3A/Users/d3en/OneDrive/%D0%A0%D0%B0%D0%B1%D0%BE%D1%87%D0%B8%D0%B9%20%D1%81%D1%82%D0%BE%D0%BB/dataScience/IDE/skillfactory/ML-6.%20%D0%9E%D1%82%D0%B1%D0%BE%D1%80%20%D0%B8%20%D1%81%D0%B5%D0%BB%D0%B5%D0%BA%D1%86%D0%B8%D1%8F%20%D0%BF%D1%80%D0%B8%D0%B7%D0%BD%D0%B0%D0%BA%D0%BE%D0%B2/%D0%97%D0%B0%D0%B4%D0%B0%D0%BD%D0%B8%D0%B5%209.5.ipynb#X24sZmlsZQ%3D%3D?line=0'>1</a>\u001b[0m y_train_transform \u001b[39m=\u001b[39m selector\u001b[39m.\u001b[39mtransform(X_train) \u001b[39m# Делаем предсказание для тренировочной выборки\u001b[39;00m\n\u001b[0;32m      <a href='vscode-notebook-cell:/c%3A/Users/d3en/OneDrive/%D0%A0%D0%B0%D0%B1%D0%BE%D1%87%D0%B8%D0%B9%20%D1%81%D1%82%D0%BE%D0%BB/dataScience/IDE/skillfactory/ML-6.%20%D0%9E%D1%82%D0%B1%D0%BE%D1%80%20%D0%B8%20%D1%81%D0%B5%D0%BB%D0%B5%D0%BA%D1%86%D0%B8%D1%8F%20%D0%BF%D1%80%D0%B8%D0%B7%D0%BD%D0%B0%D0%BA%D0%BE%D0%B2/%D0%97%D0%B0%D0%B4%D0%B0%D0%BD%D0%B8%D0%B5%209.5.ipynb#X24sZmlsZQ%3D%3D?line=1'>2</a>\u001b[0m y_test_transform \u001b[39m=\u001b[39m selector\u001b[39m.\u001b[39mtransform(X_test) \u001b[39m# Делаем предсказание для тестовой выборки\u001b[39;00m\n\u001b[1;32m----> <a href='vscode-notebook-cell:/c%3A/Users/d3en/OneDrive/%D0%A0%D0%B0%D0%B1%D0%BE%D1%87%D0%B8%D0%B9%20%D1%81%D1%82%D0%BE%D0%BB/dataScience/IDE/skillfactory/ML-6.%20%D0%9E%D1%82%D0%B1%D0%BE%D1%80%20%D0%B8%20%D1%81%D0%B5%D0%BB%D0%B5%D0%BA%D1%86%D0%B8%D1%8F%20%D0%BF%D1%80%D0%B8%D0%B7%D0%BD%D0%B0%D0%BA%D0%BE%D0%B2/%D0%97%D0%B0%D0%B4%D0%B0%D0%BD%D0%B8%D0%B5%209.5.ipynb#X24sZmlsZQ%3D%3D?line=2'>3</a>\u001b[0m \u001b[39mprint\u001b[39m(\u001b[39m\"\u001b[39m\u001b[39mTrain R^2: \u001b[39m\u001b[39m{:.3f}\u001b[39;00m\u001b[39m\"\u001b[39m\u001b[39m.\u001b[39mformat(r2_score(y_train, y_train_transform)))\n\u001b[0;32m      <a href='vscode-notebook-cell:/c%3A/Users/d3en/OneDrive/%D0%A0%D0%B0%D0%B1%D0%BE%D1%87%D0%B8%D0%B9%20%D1%81%D1%82%D0%BE%D0%BB/dataScience/IDE/skillfactory/ML-6.%20%D0%9E%D1%82%D0%B1%D0%BE%D1%80%20%D0%B8%20%D1%81%D0%B5%D0%BB%D0%B5%D0%BA%D1%86%D0%B8%D1%8F%20%D0%BF%D1%80%D0%B8%D0%B7%D0%BD%D0%B0%D0%BA%D0%BE%D0%B2/%D0%97%D0%B0%D0%B4%D0%B0%D0%BD%D0%B8%D0%B5%209.5.ipynb#X24sZmlsZQ%3D%3D?line=3'>4</a>\u001b[0m \u001b[39mprint\u001b[39m(\u001b[39m\"\u001b[39m\u001b[39mTest R^2: \u001b[39m\u001b[39m{:.3f}\u001b[39;00m\u001b[39m\"\u001b[39m\u001b[39m.\u001b[39mformat(r2_score(y_test, y_test_transform)))\n",
      "File \u001b[1;32mc:\\Users\\d3en\\AppData\\Local\\Programs\\Python\\Python39\\lib\\site-packages\\sklearn\\metrics\\_regression.py:911\u001b[0m, in \u001b[0;36mr2_score\u001b[1;34m(y_true, y_pred, sample_weight, multioutput, force_finite)\u001b[0m\n\u001b[0;32m    784\u001b[0m \u001b[39mdef\u001b[39;00m \u001b[39mr2_score\u001b[39m(\n\u001b[0;32m    785\u001b[0m     y_true,\n\u001b[0;32m    786\u001b[0m     y_pred,\n\u001b[1;32m   (...)\u001b[0m\n\u001b[0;32m    790\u001b[0m     force_finite\u001b[39m=\u001b[39m\u001b[39mTrue\u001b[39;00m,\n\u001b[0;32m    791\u001b[0m ):\n\u001b[0;32m    792\u001b[0m     \u001b[39m\"\"\":math:`R^2` (coefficient of determination) regression score function.\u001b[39;00m\n\u001b[0;32m    793\u001b[0m \n\u001b[0;32m    794\u001b[0m \u001b[39m    Best possible score is 1.0 and it can be negative (because the\u001b[39;00m\n\u001b[1;32m   (...)\u001b[0m\n\u001b[0;32m    909\u001b[0m \u001b[39m    -inf\u001b[39;00m\n\u001b[0;32m    910\u001b[0m \u001b[39m    \"\"\"\u001b[39;00m\n\u001b[1;32m--> 911\u001b[0m     y_type, y_true, y_pred, multioutput \u001b[39m=\u001b[39m _check_reg_targets(\n\u001b[0;32m    912\u001b[0m         y_true, y_pred, multioutput\n\u001b[0;32m    913\u001b[0m     )\n\u001b[0;32m    914\u001b[0m     check_consistent_length(y_true, y_pred, sample_weight)\n\u001b[0;32m    916\u001b[0m     \u001b[39mif\u001b[39;00m _num_samples(y_pred) \u001b[39m<\u001b[39m \u001b[39m2\u001b[39m:\n",
      "File \u001b[1;32mc:\\Users\\d3en\\AppData\\Local\\Programs\\Python\\Python39\\lib\\site-packages\\sklearn\\metrics\\_regression.py:111\u001b[0m, in \u001b[0;36m_check_reg_targets\u001b[1;34m(y_true, y_pred, multioutput, dtype)\u001b[0m\n\u001b[0;32m    108\u001b[0m     y_pred \u001b[39m=\u001b[39m y_pred\u001b[39m.\u001b[39mreshape((\u001b[39m-\u001b[39m\u001b[39m1\u001b[39m, \u001b[39m1\u001b[39m))\n\u001b[0;32m    110\u001b[0m \u001b[39mif\u001b[39;00m y_true\u001b[39m.\u001b[39mshape[\u001b[39m1\u001b[39m] \u001b[39m!=\u001b[39m y_pred\u001b[39m.\u001b[39mshape[\u001b[39m1\u001b[39m]:\n\u001b[1;32m--> 111\u001b[0m     \u001b[39mraise\u001b[39;00m \u001b[39mValueError\u001b[39;00m(\n\u001b[0;32m    112\u001b[0m         \u001b[39m\"\u001b[39m\u001b[39my_true and y_pred have different number of output (\u001b[39m\u001b[39m{0}\u001b[39;00m\u001b[39m!=\u001b[39m\u001b[39m{1}\u001b[39;00m\u001b[39m)\u001b[39m\u001b[39m\"\u001b[39m\u001b[39m.\u001b[39mformat(\n\u001b[0;32m    113\u001b[0m             y_true\u001b[39m.\u001b[39mshape[\u001b[39m1\u001b[39m], y_pred\u001b[39m.\u001b[39mshape[\u001b[39m1\u001b[39m]\n\u001b[0;32m    114\u001b[0m         )\n\u001b[0;32m    115\u001b[0m     )\n\u001b[0;32m    117\u001b[0m n_outputs \u001b[39m=\u001b[39m y_true\u001b[39m.\u001b[39mshape[\u001b[39m1\u001b[39m]\n\u001b[0;32m    118\u001b[0m allowed_multioutput_str \u001b[39m=\u001b[39m (\u001b[39m\"\u001b[39m\u001b[39mraw_values\u001b[39m\u001b[39m\"\u001b[39m, \u001b[39m\"\u001b[39m\u001b[39muniform_average\u001b[39m\u001b[39m\"\u001b[39m, \u001b[39m\"\u001b[39m\u001b[39mvariance_weighted\u001b[39m\u001b[39m\"\u001b[39m)\n",
      "\u001b[1;31mValueError\u001b[0m: y_true and y_pred have different number of output (1!=3)"
     ]
    }
   ],
   "source": [
    "y_train_transform = selector.transform(X_train) # Делаем предсказание для тренировочной выборки\n",
    "y_test_transform = selector.transform(X_test) # Делаем предсказание для тестовой выборки\n",
    "print(\"Train R^2: {:.3f}\".format(r2_score(y_train, y_train_transform)))\n",
    "print(\"Test R^2: {:.3f}\".format(r2_score(y_test, y_test_transform)))"
   ]
  },
  {
   "cell_type": "code",
   "execution_count": null,
   "metadata": {},
   "outputs": [
    {
     "data": {
      "text/plain": [
       "(4785, 3)"
      ]
     },
     "execution_count": 12,
     "metadata": {},
     "output_type": "execute_result"
    }
   ],
   "source": [
    "y_train_transforn_KB.shape"
   ]
  }
 ],
 "metadata": {
  "kernelspec": {
   "display_name": "Python 3.9.10 64-bit",
   "language": "python",
   "name": "python3"
  },
  "language_info": {
   "codemirror_mode": {
    "name": "ipython",
    "version": 3
   },
   "file_extension": ".py",
   "mimetype": "text/x-python",
   "name": "python",
   "nbconvert_exporter": "python",
   "pygments_lexer": "ipython3",
   "version": "3.9.10"
  },
  "orig_nbformat": 4,
  "vscode": {
   "interpreter": {
    "hash": "aef7f665a0694191b93f381ff9bf3fa49787cf0440ec035fed5813d2b4b57be1"
   }
  }
 },
 "nbformat": 4,
 "nbformat_minor": 2
}
